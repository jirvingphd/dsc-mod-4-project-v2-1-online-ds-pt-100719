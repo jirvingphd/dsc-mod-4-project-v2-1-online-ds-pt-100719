{
 "cells": [
  {
   "cell_type": "markdown",
   "metadata": {},
   "source": [
    "# Mod 4 Project Office Hours "
   ]
  },
  {
   "cell_type": "markdown",
   "metadata": {},
   "source": [
    "- 06/09/20"
   ]
  },
  {
   "cell_type": "markdown",
   "metadata": {},
   "source": [
    "## Questions"
   ]
  },
  {
   "cell_type": "markdown",
   "metadata": {},
   "source": [
    "- Explaining what words were important for a Neural Network\n",
    "    - Look into classification from Lime, Yellowbrick, Eli5, \n",
    "    \n",
    "- EDA/Visuals:\n",
    "    - Word clouds - https://www.datacamp.com/community/tutorials/wordcloud-python\n",
    "    - Bigrams - Looking for mutual information pmi.\n",
    "    - Sentiment Analysis with Vader from NLTK\n",
    "    - [Scattertext](https://github.com/JasonKessler/scattertext)\n",
    "    \n",
    "- Overlapping Multi-Class Classification Task (multi y-columns)\n",
    "    - Loop through the columns in the training and test data to pull out each one and then run separate sklearn classification_report/confusion matrices\n",
    "    - Since predictions form ANNs are probabilities, you will need to round each column to 0 or 1 before running through sklearn"
   ]
  },
  {
   "cell_type": "markdown",
   "metadata": {},
   "source": [
    "## Data "
   ]
  },
  {
   "cell_type": "code",
   "execution_count": null,
   "metadata": {
    "ExecuteTime": {
     "end_time": "2020-06-10T00:58:26.863769Z",
     "start_time": "2020-06-10T00:58:23.630388Z"
    }
   },
   "outputs": [],
   "source": [
    "# !pip install -U seaborn"
   ]
  },
  {
   "cell_type": "code",
   "execution_count": 1,
   "metadata": {
    "ExecuteTime": {
     "end_time": "2020-06-10T01:06:13.899454Z",
     "start_time": "2020-06-10T01:06:00.155115Z"
    }
   },
   "outputs": [
    {
     "name": "stdout",
     "output_type": "stream",
     "text": [
      "fsds_1007219  v0.7.22 loaded.  Read the docs: https://fsds.readthedocs.io/en/latest/ \n"
     ]
    },
    {
     "data": {
      "text/html": [
       "<style  type=\"text/css\" >\n",
       "</style><table id=\"T_93f1f21c_aab6_11ea_a0f2_acde48001122\" ><caption>Loaded Packages and Handles</caption><thead>    <tr>        <th class=\"col_heading level0 col0\" >Handle</th>        <th class=\"col_heading level0 col1\" >Package</th>        <th class=\"col_heading level0 col2\" >Description</th>    </tr></thead><tbody>\n",
       "                <tr>\n",
       "                                <td id=\"T_93f1f21c_aab6_11ea_a0f2_acde48001122row0_col0\" class=\"data row0 col0\" >dp</td>\n",
       "                        <td id=\"T_93f1f21c_aab6_11ea_a0f2_acde48001122row0_col1\" class=\"data row0 col1\" >IPython.display</td>\n",
       "                        <td id=\"T_93f1f21c_aab6_11ea_a0f2_acde48001122row0_col2\" class=\"data row0 col2\" >Display modules with helpful display and clearing commands.</td>\n",
       "            </tr>\n",
       "            <tr>\n",
       "                                <td id=\"T_93f1f21c_aab6_11ea_a0f2_acde48001122row1_col0\" class=\"data row1 col0\" >fs</td>\n",
       "                        <td id=\"T_93f1f21c_aab6_11ea_a0f2_acde48001122row1_col1\" class=\"data row1 col1\" >fsds_100719</td>\n",
       "                        <td id=\"T_93f1f21c_aab6_11ea_a0f2_acde48001122row1_col2\" class=\"data row1 col2\" >Custom data science bootcamp student package</td>\n",
       "            </tr>\n",
       "            <tr>\n",
       "                                <td id=\"T_93f1f21c_aab6_11ea_a0f2_acde48001122row2_col0\" class=\"data row2 col0\" >mpl</td>\n",
       "                        <td id=\"T_93f1f21c_aab6_11ea_a0f2_acde48001122row2_col1\" class=\"data row2 col1\" >matplotlib</td>\n",
       "                        <td id=\"T_93f1f21c_aab6_11ea_a0f2_acde48001122row2_col2\" class=\"data row2 col2\" >Matplotlib's base OOP module with formatting artists</td>\n",
       "            </tr>\n",
       "            <tr>\n",
       "                                <td id=\"T_93f1f21c_aab6_11ea_a0f2_acde48001122row3_col0\" class=\"data row3 col0\" >plt</td>\n",
       "                        <td id=\"T_93f1f21c_aab6_11ea_a0f2_acde48001122row3_col1\" class=\"data row3 col1\" >matplotlib.pyplot</td>\n",
       "                        <td id=\"T_93f1f21c_aab6_11ea_a0f2_acde48001122row3_col2\" class=\"data row3 col2\" >Matplotlib's matlab-like plotting module</td>\n",
       "            </tr>\n",
       "            <tr>\n",
       "                                <td id=\"T_93f1f21c_aab6_11ea_a0f2_acde48001122row4_col0\" class=\"data row4 col0\" >np</td>\n",
       "                        <td id=\"T_93f1f21c_aab6_11ea_a0f2_acde48001122row4_col1\" class=\"data row4 col1\" >numpy</td>\n",
       "                        <td id=\"T_93f1f21c_aab6_11ea_a0f2_acde48001122row4_col2\" class=\"data row4 col2\" >scientific computing with Python</td>\n",
       "            </tr>\n",
       "            <tr>\n",
       "                                <td id=\"T_93f1f21c_aab6_11ea_a0f2_acde48001122row5_col0\" class=\"data row5 col0\" >pd</td>\n",
       "                        <td id=\"T_93f1f21c_aab6_11ea_a0f2_acde48001122row5_col1\" class=\"data row5 col1\" >pandas</td>\n",
       "                        <td id=\"T_93f1f21c_aab6_11ea_a0f2_acde48001122row5_col2\" class=\"data row5 col2\" >High performance data structures and tools</td>\n",
       "            </tr>\n",
       "            <tr>\n",
       "                                <td id=\"T_93f1f21c_aab6_11ea_a0f2_acde48001122row6_col0\" class=\"data row6 col0\" >sns</td>\n",
       "                        <td id=\"T_93f1f21c_aab6_11ea_a0f2_acde48001122row6_col1\" class=\"data row6 col1\" >seaborn</td>\n",
       "                        <td id=\"T_93f1f21c_aab6_11ea_a0f2_acde48001122row6_col2\" class=\"data row6 col2\" >High-level data visualization library based on matplotlib</td>\n",
       "            </tr>\n",
       "    </tbody></table>"
      ],
      "text/plain": [
       "<pandas.io.formats.style.Styler at 0x1c26c3eda0>"
      ]
     },
     "metadata": {},
     "output_type": "display_data"
    },
    {
     "data": {
      "text/html": [
       "        <script type=\"text/javascript\">\n",
       "        window.PlotlyConfig = {MathJaxConfig: 'local'};\n",
       "        if (window.MathJax) {MathJax.Hub.Config({SVG: {font: \"STIX-Web\"}});}\n",
       "        if (typeof require !== 'undefined') {\n",
       "        require.undef(\"plotly\");\n",
       "        requirejs.config({\n",
       "            paths: {\n",
       "                'plotly': ['https://cdn.plot.ly/plotly-latest.min']\n",
       "            }\n",
       "        });\n",
       "        require(['plotly'], function(Plotly) {\n",
       "            window._Plotly = Plotly;\n",
       "        });\n",
       "        }\n",
       "        </script>\n",
       "        "
      ]
     },
     "metadata": {},
     "output_type": "display_data"
    },
    {
     "name": "stdout",
     "output_type": "stream",
     "text": [
      "[i] Pandas .iplot() method activated.\n"
     ]
    }
   ],
   "source": [
    "!pip install -U fsds_100719\n",
    "from fsds_100719.imports import *"
   ]
  },
  {
   "cell_type": "code",
   "execution_count": 2,
   "metadata": {
    "ExecuteTime": {
     "end_time": "2020-06-10T01:06:13.903091Z",
     "start_time": "2020-06-10T01:06:13.900736Z"
    }
   },
   "outputs": [],
   "source": [
    "# %conda uninstall matplotlib"
   ]
  },
  {
   "cell_type": "code",
   "execution_count": null,
   "metadata": {
    "ExecuteTime": {
     "end_time": "2020-06-10T00:58:34.913241Z",
     "start_time": "2020-06-10T00:58:34.910709Z"
    }
   },
   "outputs": [],
   "source": [
    "# %conda install -c conda-forge matplotlib\n"
   ]
  },
  {
   "cell_type": "code",
   "execution_count": 3,
   "metadata": {
    "ExecuteTime": {
     "end_time": "2020-06-10T01:06:17.613845Z",
     "start_time": "2020-06-10T01:06:17.610245Z"
    }
   },
   "outputs": [
    {
     "data": {
      "text/plain": [
       "'3.2.1'"
      ]
     },
     "execution_count": 3,
     "metadata": {},
     "output_type": "execute_result"
    }
   ],
   "source": [
    "mpl.__version__"
   ]
  },
  {
   "cell_type": "code",
   "execution_count": 4,
   "metadata": {
    "ExecuteTime": {
     "end_time": "2020-06-10T01:06:19.104910Z",
     "start_time": "2020-06-10T01:06:19.102522Z"
    }
   },
   "outputs": [],
   "source": [
    "import matplotlib"
   ]
  },
  {
   "cell_type": "code",
   "execution_count": 5,
   "metadata": {
    "ExecuteTime": {
     "end_time": "2020-06-10T01:06:19.416793Z",
     "start_time": "2020-06-10T01:06:19.412650Z"
    }
   },
   "outputs": [
    {
     "data": {
      "text/plain": [
       "'3.2.1'"
      ]
     },
     "execution_count": 5,
     "metadata": {},
     "output_type": "execute_result"
    }
   ],
   "source": [
    "matplotlib.__version__"
   ]
  },
  {
   "cell_type": "code",
   "execution_count": 6,
   "metadata": {
    "ExecuteTime": {
     "end_time": "2020-06-10T01:06:19.831951Z",
     "start_time": "2020-06-10T01:06:19.706519Z"
    }
   },
   "outputs": [
    {
     "name": "stdout",
     "output_type": "stream",
     "text": [
      "Python 3.6.9 :: Anaconda, Inc.\r\n"
     ]
    }
   ],
   "source": [
    "!python --version"
   ]
  },
  {
   "cell_type": "code",
   "execution_count": 7,
   "metadata": {
    "ExecuteTime": {
     "end_time": "2020-06-10T01:06:19.947016Z",
     "start_time": "2020-06-10T01:06:19.943249Z"
    }
   },
   "outputs": [
    {
     "data": {
      "text/plain": [
       "'/Users/jamesirving/.matplotlib'"
      ]
     },
     "execution_count": 7,
     "metadata": {},
     "output_type": "execute_result"
    }
   ],
   "source": [
    "# import matplotlib as mpl\n",
    "matplotlib.get_configdir()"
   ]
  },
  {
   "cell_type": "code",
   "execution_count": 8,
   "metadata": {
    "ExecuteTime": {
     "end_time": "2020-06-10T01:06:20.086601Z",
     "start_time": "2020-06-10T01:06:20.082966Z"
    }
   },
   "outputs": [
    {
     "data": {
      "text/plain": [
       "'/opt/anaconda3/envs/learn-env/lib/python3.6/site-packages/matplotlib/__init__.py'"
      ]
     },
     "execution_count": 8,
     "metadata": {},
     "output_type": "execute_result"
    }
   ],
   "source": [
    "matplotlib.__file__"
   ]
  },
  {
   "cell_type": "code",
   "execution_count": 9,
   "metadata": {
    "ExecuteTime": {
     "end_time": "2020-06-10T01:06:20.204440Z",
     "start_time": "2020-06-10T01:06:20.202315Z"
    }
   },
   "outputs": [],
   "source": [
    "import os,shutil,glob\n",
    "# search_dir=\"/Users/jamesirving/Downloads/\""
   ]
  },
  {
   "cell_type": "code",
   "execution_count": 10,
   "metadata": {
    "ExecuteTime": {
     "end_time": "2020-06-10T01:06:20.457446Z",
     "start_time": "2020-06-10T01:06:20.454957Z"
    },
    "scrolled": true
   },
   "outputs": [],
   "source": [
    "# with open('README.md') as f:\n",
    "#     dp.display(dp.Markdown(f.read()))"
   ]
  },
  {
   "cell_type": "markdown",
   "metadata": {},
   "source": [
    "<div style=\"display:block;border-left: 3px solid black;padding:2em;\">  Build a model that can rate the sentiment of a Tweet based on its content.\n",
    "\n",
    "</div>"
   ]
  },
  {
   "cell_type": "code",
   "execution_count": 11,
   "metadata": {
    "ExecuteTime": {
     "end_time": "2020-06-10T01:06:20.788865Z",
     "start_time": "2020-06-10T01:06:20.786549Z"
    }
   },
   "outputs": [],
   "source": [
    "# os.listdir(search_dir)"
   ]
  },
  {
   "cell_type": "code",
   "execution_count": 12,
   "metadata": {
    "ExecuteTime": {
     "end_time": "2020-06-10T01:06:20.924595Z",
     "start_time": "2020-06-10T01:06:20.922380Z"
    }
   },
   "outputs": [],
   "source": [
    "# files = list(filter(os.path.isfile, glob.glob(search_dir + \"*\")))\n",
    "# files.sort(key=lambda x: os.path.getmtime(x))\n"
   ]
  },
  {
   "cell_type": "code",
   "execution_count": 13,
   "metadata": {
    "ExecuteTime": {
     "end_time": "2020-06-10T01:06:21.059479Z",
     "start_time": "2020-06-10T01:06:21.055747Z"
    }
   },
   "outputs": [
    {
     "data": {
      "text/plain": [
       "['student-NLP.ipynb',\n",
       " 'judge-1377884607_tweet_product_company.csv',\n",
       " 'time-series',\n",
       " 'LICENSE.md',\n",
       " 'student-recommendation.ipynb',\n",
       " 'images',\n",
       " 'ml-latest-small',\n",
       " 'Models',\n",
       " 'student-pneumonia.ipynb',\n",
       " 'README.md',\n",
       " '.gitignore',\n",
       " 'CONTRIBUTING.md',\n",
       " '.ipynb_checkpoints',\n",
       " '.learn',\n",
       " '.git']"
      ]
     },
     "execution_count": 13,
     "metadata": {},
     "output_type": "execute_result"
    }
   ],
   "source": [
    "os.listdir()"
   ]
  },
  {
   "cell_type": "code",
   "execution_count": 14,
   "metadata": {
    "ExecuteTime": {
     "end_time": "2020-06-10T01:06:21.316865Z",
     "start_time": "2020-06-10T01:06:21.187908Z"
    }
   },
   "outputs": [
    {
     "data": {
      "text/html": [
       "<div>\n",
       "<style scoped>\n",
       "    .dataframe tbody tr th:only-of-type {\n",
       "        vertical-align: middle;\n",
       "    }\n",
       "\n",
       "    .dataframe tbody tr th {\n",
       "        vertical-align: top;\n",
       "    }\n",
       "\n",
       "    .dataframe thead th {\n",
       "        text-align: right;\n",
       "    }\n",
       "</style>\n",
       "<table border=\"1\" class=\"dataframe\">\n",
       "  <thead>\n",
       "    <tr style=\"text-align: right;\">\n",
       "      <th></th>\n",
       "      <th>tweet_text</th>\n",
       "      <th>is_there_an_emotion_directed_at_a_brand_or_product</th>\n",
       "    </tr>\n",
       "  </thead>\n",
       "  <tbody>\n",
       "    <tr>\n",
       "      <td>0</td>\n",
       "      <td>.@wesley83 I have a 3G iPhone. After 3 hrs twe...</td>\n",
       "      <td>Negative emotion</td>\n",
       "    </tr>\n",
       "    <tr>\n",
       "      <td>1</td>\n",
       "      <td>@jessedee Know about @fludapp ? Awesome iPad/i...</td>\n",
       "      <td>Positive emotion</td>\n",
       "    </tr>\n",
       "    <tr>\n",
       "      <td>2</td>\n",
       "      <td>@swonderlin Can not wait for #iPad 2 also. The...</td>\n",
       "      <td>Positive emotion</td>\n",
       "    </tr>\n",
       "    <tr>\n",
       "      <td>3</td>\n",
       "      <td>@sxsw I hope this year's festival isn't as cra...</td>\n",
       "      <td>Negative emotion</td>\n",
       "    </tr>\n",
       "    <tr>\n",
       "      <td>4</td>\n",
       "      <td>@sxtxstate great stuff on Fri #SXSW: Marissa M...</td>\n",
       "      <td>Positive emotion</td>\n",
       "    </tr>\n",
       "  </tbody>\n",
       "</table>\n",
       "</div>"
      ],
      "text/plain": [
       "                                          tweet_text  \\\n",
       "0  .@wesley83 I have a 3G iPhone. After 3 hrs twe...   \n",
       "1  @jessedee Know about @fludapp ? Awesome iPad/i...   \n",
       "2  @swonderlin Can not wait for #iPad 2 also. The...   \n",
       "3  @sxsw I hope this year's festival isn't as cra...   \n",
       "4  @sxtxstate great stuff on Fri #SXSW: Marissa M...   \n",
       "\n",
       "  is_there_an_emotion_directed_at_a_brand_or_product  \n",
       "0                                   Negative emotion  \n",
       "1                                   Positive emotion  \n",
       "2                                   Positive emotion  \n",
       "3                                   Negative emotion  \n",
       "4                                   Positive emotion  "
      ]
     },
     "execution_count": 14,
     "metadata": {},
     "output_type": "execute_result"
    }
   ],
   "source": [
    "df = pd.read_csv('judge-1377884607_tweet_product_company.csv',encoding='latin-1')\n",
    "df = df[~(df['is_there_an_emotion_directed_at_a_brand_or_product']==\"I can't tell\")]\n",
    "df = df.drop(columns=['emotion_in_tweet_is_directed_at'])\n",
    "df.head()"
   ]
  },
  {
   "cell_type": "code",
   "execution_count": 15,
   "metadata": {
    "ExecuteTime": {
     "end_time": "2020-06-10T01:06:21.362981Z",
     "start_time": "2020-06-10T01:06:21.353282Z"
    }
   },
   "outputs": [
    {
     "name": "stdout",
     "output_type": "stream",
     "text": [
      "tweet_text                                            1\n",
      "is_there_an_emotion_directed_at_a_brand_or_product    0\n",
      "dtype: int64\n",
      "tweet_text                                            0\n",
      "is_there_an_emotion_directed_at_a_brand_or_product    0\n",
      "dtype: int64\n"
     ]
    }
   ],
   "source": [
    "print(df.isna().sum())\n",
    "df.dropna(inplace=True)\n",
    "print(df.isna().sum())"
   ]
  },
  {
   "cell_type": "code",
   "execution_count": 16,
   "metadata": {
    "ExecuteTime": {
     "end_time": "2020-06-10T01:06:21.724504Z",
     "start_time": "2020-06-10T01:06:21.717216Z"
    }
   },
   "outputs": [
    {
     "data": {
      "text/plain": [
       "No emotion toward brand or product    5388\n",
       "Positive emotion                      2978\n",
       "Negative emotion                       570\n",
       "Name: sentiment, dtype: int64"
      ]
     },
     "execution_count": 16,
     "metadata": {},
     "output_type": "execute_result"
    }
   ],
   "source": [
    "y = df['is_there_an_emotion_directed_at_a_brand_or_product'].rename('sentiment')\n",
    "y.value_counts()"
   ]
  },
  {
   "cell_type": "code",
   "execution_count": 17,
   "metadata": {
    "ExecuteTime": {
     "end_time": "2020-06-10T01:06:21.914566Z",
     "start_time": "2020-06-10T01:06:21.903543Z"
    }
   },
   "outputs": [
    {
     "data": {
      "text/plain": [
       "No emotion toward brand or product    0.602954\n",
       "Positive emotion                      0.333259\n",
       "Negative emotion                      0.063787\n",
       "Name: sentiment, dtype: float64"
      ]
     },
     "execution_count": 17,
     "metadata": {},
     "output_type": "execute_result"
    }
   ],
   "source": [
    "y.value_counts(1)"
   ]
  },
  {
   "cell_type": "code",
   "execution_count": 18,
   "metadata": {
    "ExecuteTime": {
     "end_time": "2020-06-10T01:06:22.537107Z",
     "start_time": "2020-06-10T01:06:22.038204Z"
    }
   },
   "outputs": [],
   "source": [
    "import nltk,string"
   ]
  },
  {
   "cell_type": "code",
   "execution_count": 19,
   "metadata": {
    "ExecuteTime": {
     "end_time": "2020-06-10T01:06:22.548113Z",
     "start_time": "2020-06-10T01:06:22.538223Z"
    }
   },
   "outputs": [
    {
     "data": {
      "text/plain": [
       "['i',\n",
       " 'me',\n",
       " 'my',\n",
       " 'myself',\n",
       " 'we',\n",
       " 'our',\n",
       " 'ours',\n",
       " 'ourselves',\n",
       " 'you',\n",
       " \"you're\",\n",
       " \"you've\",\n",
       " \"you'll\",\n",
       " \"you'd\",\n",
       " 'your',\n",
       " 'yours',\n",
       " 'yourself',\n",
       " 'yourselves',\n",
       " 'he',\n",
       " 'him',\n",
       " 'his',\n",
       " 'himself',\n",
       " 'she',\n",
       " \"she's\",\n",
       " 'her',\n",
       " 'hers',\n",
       " 'herself',\n",
       " 'it',\n",
       " \"it's\",\n",
       " 'its',\n",
       " 'itself',\n",
       " 'they',\n",
       " 'them',\n",
       " 'their',\n",
       " 'theirs',\n",
       " 'themselves',\n",
       " 'what',\n",
       " 'which',\n",
       " 'who',\n",
       " 'whom',\n",
       " 'this',\n",
       " 'that',\n",
       " \"that'll\",\n",
       " 'these',\n",
       " 'those',\n",
       " 'am',\n",
       " 'is',\n",
       " 'are',\n",
       " 'was',\n",
       " 'were',\n",
       " 'be',\n",
       " 'been',\n",
       " 'being',\n",
       " 'have',\n",
       " 'has',\n",
       " 'had',\n",
       " 'having',\n",
       " 'do',\n",
       " 'does',\n",
       " 'did',\n",
       " 'doing',\n",
       " 'a',\n",
       " 'an',\n",
       " 'the',\n",
       " 'and',\n",
       " 'but',\n",
       " 'if',\n",
       " 'or',\n",
       " 'because',\n",
       " 'as',\n",
       " 'until',\n",
       " 'while',\n",
       " 'of',\n",
       " 'at',\n",
       " 'by',\n",
       " 'for',\n",
       " 'with',\n",
       " 'about',\n",
       " 'against',\n",
       " 'between',\n",
       " 'into',\n",
       " 'through',\n",
       " 'during',\n",
       " 'before',\n",
       " 'after',\n",
       " 'above',\n",
       " 'below',\n",
       " 'to',\n",
       " 'from',\n",
       " 'up',\n",
       " 'down',\n",
       " 'in',\n",
       " 'out',\n",
       " 'on',\n",
       " 'off',\n",
       " 'over',\n",
       " 'under',\n",
       " 'again',\n",
       " 'further',\n",
       " 'then',\n",
       " 'once',\n",
       " 'here',\n",
       " 'there',\n",
       " 'when',\n",
       " 'where',\n",
       " 'why',\n",
       " 'how',\n",
       " 'all',\n",
       " 'any',\n",
       " 'both',\n",
       " 'each',\n",
       " 'few',\n",
       " 'more',\n",
       " 'most',\n",
       " 'other',\n",
       " 'some',\n",
       " 'such',\n",
       " 'no',\n",
       " 'nor',\n",
       " 'not',\n",
       " 'only',\n",
       " 'own',\n",
       " 'same',\n",
       " 'so',\n",
       " 'than',\n",
       " 'too',\n",
       " 'very',\n",
       " 's',\n",
       " 't',\n",
       " 'can',\n",
       " 'will',\n",
       " 'just',\n",
       " 'don',\n",
       " \"don't\",\n",
       " 'should',\n",
       " \"should've\",\n",
       " 'now',\n",
       " 'd',\n",
       " 'll',\n",
       " 'm',\n",
       " 'o',\n",
       " 're',\n",
       " 've',\n",
       " 'y',\n",
       " 'ain',\n",
       " 'aren',\n",
       " \"aren't\",\n",
       " 'couldn',\n",
       " \"couldn't\",\n",
       " 'didn',\n",
       " \"didn't\",\n",
       " 'doesn',\n",
       " \"doesn't\",\n",
       " 'hadn',\n",
       " \"hadn't\",\n",
       " 'hasn',\n",
       " \"hasn't\",\n",
       " 'haven',\n",
       " \"haven't\",\n",
       " 'isn',\n",
       " \"isn't\",\n",
       " 'ma',\n",
       " 'mightn',\n",
       " \"mightn't\",\n",
       " 'mustn',\n",
       " \"mustn't\",\n",
       " 'needn',\n",
       " \"needn't\",\n",
       " 'shan',\n",
       " \"shan't\",\n",
       " 'shouldn',\n",
       " \"shouldn't\",\n",
       " 'wasn',\n",
       " \"wasn't\",\n",
       " 'weren',\n",
       " \"weren't\",\n",
       " 'won',\n",
       " \"won't\",\n",
       " 'wouldn',\n",
       " \"wouldn't\",\n",
       " '!',\n",
       " '\"',\n",
       " '#',\n",
       " '$',\n",
       " '%',\n",
       " '&',\n",
       " \"'\",\n",
       " '(',\n",
       " ')',\n",
       " '*',\n",
       " '+',\n",
       " ',',\n",
       " '-',\n",
       " '.',\n",
       " '/',\n",
       " ':',\n",
       " ';',\n",
       " '<',\n",
       " '=',\n",
       " '>',\n",
       " '?',\n",
       " '@',\n",
       " '[',\n",
       " '\\\\',\n",
       " ']',\n",
       " '^',\n",
       " '_',\n",
       " '`',\n",
       " '{',\n",
       " '|',\n",
       " '}',\n",
       " '~']"
      ]
     },
     "execution_count": 19,
     "metadata": {},
     "output_type": "execute_result"
    }
   ],
   "source": [
    "stopwords = nltk.corpus.stopwords.words('english')\n",
    "stopwords += string.punctuation\n",
    "stopwords"
   ]
  },
  {
   "cell_type": "code",
   "execution_count": 20,
   "metadata": {
    "ExecuteTime": {
     "end_time": "2020-06-10T01:06:22.551332Z",
     "start_time": "2020-06-10T01:06:22.549330Z"
    }
   },
   "outputs": [],
   "source": [
    "from nltk.tokenize import TweetTokenizer\n",
    "tokenizer = TweetTokenizer()\n",
    "# tokenizer.tokenize()"
   ]
  },
  {
   "cell_type": "code",
   "execution_count": 21,
   "metadata": {
    "ExecuteTime": {
     "end_time": "2020-06-10T01:06:22.557253Z",
     "start_time": "2020-06-10T01:06:22.553044Z"
    }
   },
   "outputs": [
    {
     "data": {
      "text/plain": [
       "0       .@wesley83 I have a 3G iPhone. After 3 hrs twe...\n",
       "1       @jessedee Know about @fludapp ? Awesome iPad/i...\n",
       "2       @swonderlin Can not wait for #iPad 2 also. The...\n",
       "3       @sxsw I hope this year's festival isn't as cra...\n",
       "4       @sxtxstate great stuff on Fri #SXSW: Marissa M...\n",
       "                              ...                        \n",
       "9088                        Ipad everywhere. #SXSW {link}\n",
       "9089    Wave, buzz... RT @mention We interrupt your re...\n",
       "9090    Google's Zeiger, a physician never reported po...\n",
       "9091    Some Verizon iPhone customers complained their...\n",
       "9092    Ï¡Ïàü_ÊÎÒ£Áââ_£â_ÛâRT @...\n",
       "Name: tweet_text, Length: 8936, dtype: object"
      ]
     },
     "execution_count": 21,
     "metadata": {},
     "output_type": "execute_result"
    }
   ],
   "source": [
    "df['tweet_text'] "
   ]
  },
  {
   "cell_type": "code",
   "execution_count": 22,
   "metadata": {
    "ExecuteTime": {
     "end_time": "2020-06-10T01:06:22.565178Z",
     "start_time": "2020-06-10T01:06:22.562699Z"
    }
   },
   "outputs": [],
   "source": [
    "def clean_tweet(text):\n",
    "    clean_text = tokenizer.tokenize(text)\n",
    "    stopped_text = [w.lower() for w in clean_text if w.lower() not in stopwords]\n",
    "    return stopped_text"
   ]
  },
  {
   "cell_type": "code",
   "execution_count": 23,
   "metadata": {
    "ExecuteTime": {
     "end_time": "2020-06-10T01:06:23.595112Z",
     "start_time": "2020-06-10T01:06:22.698646Z"
    }
   },
   "outputs": [
    {
     "data": {
      "text/html": [
       "<div>\n",
       "<style scoped>\n",
       "    .dataframe tbody tr th:only-of-type {\n",
       "        vertical-align: middle;\n",
       "    }\n",
       "\n",
       "    .dataframe tbody tr th {\n",
       "        vertical-align: top;\n",
       "    }\n",
       "\n",
       "    .dataframe thead th {\n",
       "        text-align: right;\n",
       "    }\n",
       "</style>\n",
       "<table border=\"1\" class=\"dataframe\">\n",
       "  <thead>\n",
       "    <tr style=\"text-align: right;\">\n",
       "      <th></th>\n",
       "      <th>tweet_text</th>\n",
       "      <th>is_there_an_emotion_directed_at_a_brand_or_product</th>\n",
       "      <th>text_stopped</th>\n",
       "    </tr>\n",
       "  </thead>\n",
       "  <tbody>\n",
       "    <tr>\n",
       "      <td>0</td>\n",
       "      <td>.@wesley83 I have a 3G iPhone. After 3 hrs twe...</td>\n",
       "      <td>Negative emotion</td>\n",
       "      <td>[@wesley83, 3g, iphone, 3, hrs, tweeting, #ris...</td>\n",
       "    </tr>\n",
       "    <tr>\n",
       "      <td>1</td>\n",
       "      <td>@jessedee Know about @fludapp ? Awesome iPad/i...</td>\n",
       "      <td>Positive emotion</td>\n",
       "      <td>[@jessedee, know, @fludapp, awesome, ipad, iph...</td>\n",
       "    </tr>\n",
       "    <tr>\n",
       "      <td>2</td>\n",
       "      <td>@swonderlin Can not wait for #iPad 2 also. The...</td>\n",
       "      <td>Positive emotion</td>\n",
       "      <td>[@swonderlin, wait, #ipad, 2, also, sale, #sxsw]</td>\n",
       "    </tr>\n",
       "    <tr>\n",
       "      <td>3</td>\n",
       "      <td>@sxsw I hope this year's festival isn't as cra...</td>\n",
       "      <td>Negative emotion</td>\n",
       "      <td>[@sxsw, hope, year's, festival, crashy, year's...</td>\n",
       "    </tr>\n",
       "    <tr>\n",
       "      <td>4</td>\n",
       "      <td>@sxtxstate great stuff on Fri #SXSW: Marissa M...</td>\n",
       "      <td>Positive emotion</td>\n",
       "      <td>[@sxtxstate, great, stuff, fri, #sxsw, marissa...</td>\n",
       "    </tr>\n",
       "    <tr>\n",
       "      <td>...</td>\n",
       "      <td>...</td>\n",
       "      <td>...</td>\n",
       "      <td>...</td>\n",
       "    </tr>\n",
       "    <tr>\n",
       "      <td>9088</td>\n",
       "      <td>Ipad everywhere. #SXSW {link}</td>\n",
       "      <td>Positive emotion</td>\n",
       "      <td>[ipad, everywhere, #sxsw, link]</td>\n",
       "    </tr>\n",
       "    <tr>\n",
       "      <td>9089</td>\n",
       "      <td>Wave, buzz... RT @mention We interrupt your re...</td>\n",
       "      <td>No emotion toward brand or product</td>\n",
       "      <td>[wave, buzz, ..., rt, @mention, interrupt, reg...</td>\n",
       "    </tr>\n",
       "    <tr>\n",
       "      <td>9090</td>\n",
       "      <td>Google's Zeiger, a physician never reported po...</td>\n",
       "      <td>No emotion toward brand or product</td>\n",
       "      <td>[google's, zeiger, physician, never, reported,...</td>\n",
       "    </tr>\n",
       "    <tr>\n",
       "      <td>9091</td>\n",
       "      <td>Some Verizon iPhone customers complained their...</td>\n",
       "      <td>No emotion toward brand or product</td>\n",
       "      <td>[verizon, iphone, customers, complained, time,...</td>\n",
       "    </tr>\n",
       "    <tr>\n",
       "      <td>9092</td>\n",
       "      <td>Ï¡Ïàü_ÊÎÒ£Áââ_£â_ÛâRT @...</td>\n",
       "      <td>No emotion toward brand or product</td>\n",
       "      <td>[, ï, ¡, , ïà, , ü_, , , ê, , , î, , ...</td>\n",
       "    </tr>\n",
       "  </tbody>\n",
       "</table>\n",
       "<p>8936 rows × 3 columns</p>\n",
       "</div>"
      ],
      "text/plain": [
       "                                             tweet_text  \\\n",
       "0     .@wesley83 I have a 3G iPhone. After 3 hrs twe...   \n",
       "1     @jessedee Know about @fludapp ? Awesome iPad/i...   \n",
       "2     @swonderlin Can not wait for #iPad 2 also. The...   \n",
       "3     @sxsw I hope this year's festival isn't as cra...   \n",
       "4     @sxtxstate great stuff on Fri #SXSW: Marissa M...   \n",
       "...                                                 ...   \n",
       "9088                      Ipad everywhere. #SXSW {link}   \n",
       "9089  Wave, buzz... RT @mention We interrupt your re...   \n",
       "9090  Google's Zeiger, a physician never reported po...   \n",
       "9091  Some Verizon iPhone customers complained their...   \n",
       "9092  Ï¡Ïàü_ÊÎÒ£Áââ_£â_ÛâRT @...   \n",
       "\n",
       "     is_there_an_emotion_directed_at_a_brand_or_product  \\\n",
       "0                                      Negative emotion   \n",
       "1                                      Positive emotion   \n",
       "2                                      Positive emotion   \n",
       "3                                      Negative emotion   \n",
       "4                                      Positive emotion   \n",
       "...                                                 ...   \n",
       "9088                                   Positive emotion   \n",
       "9089                 No emotion toward brand or product   \n",
       "9090                 No emotion toward brand or product   \n",
       "9091                 No emotion toward brand or product   \n",
       "9092                 No emotion toward brand or product   \n",
       "\n",
       "                                           text_stopped  \n",
       "0     [@wesley83, 3g, iphone, 3, hrs, tweeting, #ris...  \n",
       "1     [@jessedee, know, @fludapp, awesome, ipad, iph...  \n",
       "2      [@swonderlin, wait, #ipad, 2, also, sale, #sxsw]  \n",
       "3     [@sxsw, hope, year's, festival, crashy, year's...  \n",
       "4     [@sxtxstate, great, stuff, fri, #sxsw, marissa...  \n",
       "...                                                 ...  \n",
       "9088                    [ipad, everywhere, #sxsw, link]  \n",
       "9089  [wave, buzz, ..., rt, @mention, interrupt, reg...  \n",
       "9090  [google's, zeiger, physician, never, reported,...  \n",
       "9091  [verizon, iphone, customers, complained, time,...  \n",
       "9092  [, ï, ¡, , ïà, , ü_, , , ê, , , î, , ...  \n",
       "\n",
       "[8936 rows x 3 columns]"
      ]
     },
     "execution_count": 23,
     "metadata": {},
     "output_type": "execute_result"
    }
   ],
   "source": [
    "df['text_stopped'] = df['tweet_text'].map(clean_tweet)\n",
    "df"
   ]
  },
  {
   "cell_type": "code",
   "execution_count": 24,
   "metadata": {
    "ExecuteTime": {
     "end_time": "2020-06-10T01:06:23.600314Z",
     "start_time": "2020-06-10T01:06:23.596316Z"
    }
   },
   "outputs": [
    {
     "data": {
      "text/plain": [
       "0"
      ]
     },
     "execution_count": 24,
     "metadata": {},
     "output_type": "execute_result"
    }
   ],
   "source": [
    "df['is_there_an_emotion_directed_at_a_brand_or_product'].isna().sum()"
   ]
  },
  {
   "cell_type": "code",
   "execution_count": 25,
   "metadata": {
    "ExecuteTime": {
     "end_time": "2020-06-10T01:06:23.616375Z",
     "start_time": "2020-06-10T01:06:23.602022Z"
    }
   },
   "outputs": [
    {
     "data": {
      "text/html": [
       "<div>\n",
       "<style scoped>\n",
       "    .dataframe tbody tr th:only-of-type {\n",
       "        vertical-align: middle;\n",
       "    }\n",
       "\n",
       "    .dataframe tbody tr th {\n",
       "        vertical-align: top;\n",
       "    }\n",
       "\n",
       "    .dataframe thead th {\n",
       "        text-align: right;\n",
       "    }\n",
       "</style>\n",
       "<table border=\"1\" class=\"dataframe\">\n",
       "  <thead>\n",
       "    <tr style=\"text-align: right;\">\n",
       "      <th></th>\n",
       "      <th>tweet_text</th>\n",
       "      <th>is_there_an_emotion_directed_at_a_brand_or_product</th>\n",
       "      <th>text_stopped</th>\n",
       "      <th>target</th>\n",
       "    </tr>\n",
       "  </thead>\n",
       "  <tbody>\n",
       "    <tr>\n",
       "      <td>0</td>\n",
       "      <td>.@wesley83 I have a 3G iPhone. After 3 hrs twe...</td>\n",
       "      <td>Negative emotion</td>\n",
       "      <td>[@wesley83, 3g, iphone, 3, hrs, tweeting, #ris...</td>\n",
       "      <td>0</td>\n",
       "    </tr>\n",
       "    <tr>\n",
       "      <td>1</td>\n",
       "      <td>@jessedee Know about @fludapp ? Awesome iPad/i...</td>\n",
       "      <td>Positive emotion</td>\n",
       "      <td>[@jessedee, know, @fludapp, awesome, ipad, iph...</td>\n",
       "      <td>2</td>\n",
       "    </tr>\n",
       "    <tr>\n",
       "      <td>2</td>\n",
       "      <td>@swonderlin Can not wait for #iPad 2 also. The...</td>\n",
       "      <td>Positive emotion</td>\n",
       "      <td>[@swonderlin, wait, #ipad, 2, also, sale, #sxsw]</td>\n",
       "      <td>2</td>\n",
       "    </tr>\n",
       "    <tr>\n",
       "      <td>3</td>\n",
       "      <td>@sxsw I hope this year's festival isn't as cra...</td>\n",
       "      <td>Negative emotion</td>\n",
       "      <td>[@sxsw, hope, year's, festival, crashy, year's...</td>\n",
       "      <td>0</td>\n",
       "    </tr>\n",
       "    <tr>\n",
       "      <td>4</td>\n",
       "      <td>@sxtxstate great stuff on Fri #SXSW: Marissa M...</td>\n",
       "      <td>Positive emotion</td>\n",
       "      <td>[@sxtxstate, great, stuff, fri, #sxsw, marissa...</td>\n",
       "      <td>2</td>\n",
       "    </tr>\n",
       "    <tr>\n",
       "      <td>...</td>\n",
       "      <td>...</td>\n",
       "      <td>...</td>\n",
       "      <td>...</td>\n",
       "      <td>...</td>\n",
       "    </tr>\n",
       "    <tr>\n",
       "      <td>9088</td>\n",
       "      <td>Ipad everywhere. #SXSW {link}</td>\n",
       "      <td>Positive emotion</td>\n",
       "      <td>[ipad, everywhere, #sxsw, link]</td>\n",
       "      <td>2</td>\n",
       "    </tr>\n",
       "    <tr>\n",
       "      <td>9089</td>\n",
       "      <td>Wave, buzz... RT @mention We interrupt your re...</td>\n",
       "      <td>No emotion toward brand or product</td>\n",
       "      <td>[wave, buzz, ..., rt, @mention, interrupt, reg...</td>\n",
       "      <td>1</td>\n",
       "    </tr>\n",
       "    <tr>\n",
       "      <td>9090</td>\n",
       "      <td>Google's Zeiger, a physician never reported po...</td>\n",
       "      <td>No emotion toward brand or product</td>\n",
       "      <td>[google's, zeiger, physician, never, reported,...</td>\n",
       "      <td>1</td>\n",
       "    </tr>\n",
       "    <tr>\n",
       "      <td>9091</td>\n",
       "      <td>Some Verizon iPhone customers complained their...</td>\n",
       "      <td>No emotion toward brand or product</td>\n",
       "      <td>[verizon, iphone, customers, complained, time,...</td>\n",
       "      <td>1</td>\n",
       "    </tr>\n",
       "    <tr>\n",
       "      <td>9092</td>\n",
       "      <td>Ï¡Ïàü_ÊÎÒ£Áââ_£â_ÛâRT @...</td>\n",
       "      <td>No emotion toward brand or product</td>\n",
       "      <td>[, ï, ¡, , ïà, , ü_, , , ê, , , î, , ...</td>\n",
       "      <td>1</td>\n",
       "    </tr>\n",
       "  </tbody>\n",
       "</table>\n",
       "<p>8936 rows × 4 columns</p>\n",
       "</div>"
      ],
      "text/plain": [
       "                                             tweet_text  \\\n",
       "0     .@wesley83 I have a 3G iPhone. After 3 hrs twe...   \n",
       "1     @jessedee Know about @fludapp ? Awesome iPad/i...   \n",
       "2     @swonderlin Can not wait for #iPad 2 also. The...   \n",
       "3     @sxsw I hope this year's festival isn't as cra...   \n",
       "4     @sxtxstate great stuff on Fri #SXSW: Marissa M...   \n",
       "...                                                 ...   \n",
       "9088                      Ipad everywhere. #SXSW {link}   \n",
       "9089  Wave, buzz... RT @mention We interrupt your re...   \n",
       "9090  Google's Zeiger, a physician never reported po...   \n",
       "9091  Some Verizon iPhone customers complained their...   \n",
       "9092  Ï¡Ïàü_ÊÎÒ£Áââ_£â_ÛâRT @...   \n",
       "\n",
       "     is_there_an_emotion_directed_at_a_brand_or_product  \\\n",
       "0                                      Negative emotion   \n",
       "1                                      Positive emotion   \n",
       "2                                      Positive emotion   \n",
       "3                                      Negative emotion   \n",
       "4                                      Positive emotion   \n",
       "...                                                 ...   \n",
       "9088                                   Positive emotion   \n",
       "9089                 No emotion toward brand or product   \n",
       "9090                 No emotion toward brand or product   \n",
       "9091                 No emotion toward brand or product   \n",
       "9092                 No emotion toward brand or product   \n",
       "\n",
       "                                           text_stopped  target  \n",
       "0     [@wesley83, 3g, iphone, 3, hrs, tweeting, #ris...       0  \n",
       "1     [@jessedee, know, @fludapp, awesome, ipad, iph...       2  \n",
       "2      [@swonderlin, wait, #ipad, 2, also, sale, #sxsw]       2  \n",
       "3     [@sxsw, hope, year's, festival, crashy, year's...       0  \n",
       "4     [@sxtxstate, great, stuff, fri, #sxsw, marissa...       2  \n",
       "...                                                 ...     ...  \n",
       "9088                    [ipad, everywhere, #sxsw, link]       2  \n",
       "9089  [wave, buzz, ..., rt, @mention, interrupt, reg...       1  \n",
       "9090  [google's, zeiger, physician, never, reported,...       1  \n",
       "9091  [verizon, iphone, customers, complained, time,...       1  \n",
       "9092  [, ï, ¡, , ïà, , ü_, , , ê, , , î, , ...       1  \n",
       "\n",
       "[8936 rows x 4 columns]"
      ]
     },
     "execution_count": 25,
     "metadata": {},
     "output_type": "execute_result"
    }
   ],
   "source": [
    "from sklearn.preprocessing import LabelEncoder,OrdinalEncoder\n",
    "encoder = LabelEncoder()\n",
    "# encoder = OrdinalEncoder()\n",
    "df['target'] = encoder.fit_transform(df['is_there_an_emotion_directed_at_a_brand_or_product'])\n",
    "df"
   ]
  },
  {
   "cell_type": "code",
   "execution_count": 26,
   "metadata": {
    "ExecuteTime": {
     "end_time": "2020-06-10T01:06:23.623573Z",
     "start_time": "2020-06-10T01:06:23.617603Z"
    }
   },
   "outputs": [
    {
     "data": {
      "text/plain": [
       "0    .@wesley83 I have a 3G iPhone. After 3 hrs twe...\n",
       "1    @jessedee Know about @fludapp ? Awesome iPad/i...\n",
       "2    @swonderlin Can not wait for #iPad 2 also. The...\n",
       "3    @sxsw I hope this year's festival isn't as cra...\n",
       "4    @sxtxstate great stuff on Fri #SXSW: Marissa M...\n",
       "Name: tweet_text, dtype: object"
      ]
     },
     "metadata": {},
     "output_type": "display_data"
    },
    {
     "data": {
      "text/plain": [
       "0    0\n",
       "1    2\n",
       "2    2\n",
       "3    0\n",
       "4    2\n",
       "Name: target, dtype: int64"
      ]
     },
     "metadata": {},
     "output_type": "display_data"
    }
   ],
   "source": [
    "X = df['tweet_text'].copy()\n",
    "y = df['target'].copy()\n",
    "display(X.head(),y.head())"
   ]
  },
  {
   "cell_type": "code",
   "execution_count": 27,
   "metadata": {
    "ExecuteTime": {
     "end_time": "2020-06-10T01:06:23.629861Z",
     "start_time": "2020-06-10T01:06:23.624751Z"
    }
   },
   "outputs": [
    {
     "data": {
      "text/plain": [
       "1    0.602954\n",
       "2    0.333259\n",
       "0    0.063787\n",
       "Name: target, dtype: float64"
      ]
     },
     "execution_count": 27,
     "metadata": {},
     "output_type": "execute_result"
    }
   ],
   "source": [
    "y.value_counts(normalize=True)"
   ]
  },
  {
   "cell_type": "code",
   "execution_count": 28,
   "metadata": {
    "ExecuteTime": {
     "end_time": "2020-06-10T01:06:23.642049Z",
     "start_time": "2020-06-10T01:06:23.631095Z"
    }
   },
   "outputs": [],
   "source": [
    "from sklearn.model_selection import train_test_split\n",
    "X_tr,X_te,y_tr,y_te = train_test_split(X,y,stratify=y,random_state=42)"
   ]
  },
  {
   "cell_type": "code",
   "execution_count": 29,
   "metadata": {
    "ExecuteTime": {
     "end_time": "2020-06-10T01:06:23.647542Z",
     "start_time": "2020-06-10T01:06:23.643333Z"
    }
   },
   "outputs": [
    {
     "data": {
      "text/plain": [
       "2660    If you are heading to #sxsw make sure you have...\n",
       "3157           Showing off Uzu iPad app. #tapworthy #sxsw\n",
       "8020    Chris Messina from Google thinks a scope searc...\n",
       "8693    Catching up with @mention in our hotel room af...\n",
       "6573    RT @mention RT @mention It's not a rumor: Appl...\n",
       "                              ...                        \n",
       "506     Hey #SXSW folks please keep us posted on Googl...\n",
       "8627    I need a Twitter app recommendation for my new...\n",
       "6797    RT @mention Thrilled to have former Chief Tale...\n",
       "9001    Apparently mobile #sxsw GO app is not compatib...\n",
       "6166    So @mention is back from #sxsw and he's brough...\n",
       "Name: tweet_text, Length: 6702, dtype: object"
      ]
     },
     "execution_count": 29,
     "metadata": {},
     "output_type": "execute_result"
    }
   ],
   "source": [
    "X_tr"
   ]
  },
  {
   "cell_type": "code",
   "execution_count": 30,
   "metadata": {
    "ExecuteTime": {
     "end_time": "2020-06-10T01:06:23.719932Z",
     "start_time": "2020-06-10T01:06:23.718032Z"
    }
   },
   "outputs": [],
   "source": [
    "# from sklearn.datasets import fetch_20newsgroups\n",
    "# categories = ['alt.atheism', 'soc.religion.christian','comp.graphics', 'sci.med']\n",
    "# twenty_train = fetch_20newsgroups(subset='train', categories=categories, shuffle=True, random_state=42)\n",
    "# twenty_train['data'][0]"
   ]
  },
  {
   "cell_type": "code",
   "execution_count": 31,
   "metadata": {
    "ExecuteTime": {
     "end_time": "2020-06-10T01:06:23.902530Z",
     "start_time": "2020-06-10T01:06:23.900276Z"
    }
   },
   "outputs": [],
   "source": [
    "# from sklearn.feature_extraction.text import CountVectorizer,TfidfTransformer,TfidfVectorizer\n",
    "# from sklearn.naive_bayes import MultinomialNB\n",
    "# from sklearn.linear_model import SGDClassifier\n",
    "# from sklearn.pipeline import Pipeline\n",
    "# from sklearn.ensemble import RandomForestClassifier\n",
    "# from sklearn import metrics\n",
    "\n",
    "# # tf_transformer = TfidfTransformer(use_idf=True)\n",
    "# # tf_transformer.fit_transform()"
   ]
  },
  {
   "cell_type": "code",
   "execution_count": 32,
   "metadata": {
    "ExecuteTime": {
     "end_time": "2020-06-10T01:06:24.022355Z",
     "start_time": "2020-06-10T01:06:24.020088Z"
    }
   },
   "outputs": [],
   "source": [
    "# pipe_forest = Pipeline([('vectorize', CountVectorizer()),\n",
    "#                 ('tfidf',TfidfTransformer()),\n",
    "#                  ('clf',RandomForestClassifier(random_state=42))])\n",
    "# pipe_bayes = Pipeline([('vectorize', CountVectorizer()),\n",
    "#                 ('tfidf',TfidfTransformer()),\n",
    "#                  ('clf',MultinomialNB())])"
   ]
  },
  {
   "cell_type": "code",
   "execution_count": 33,
   "metadata": {
    "ExecuteTime": {
     "end_time": "2020-06-10T01:06:24.323249Z",
     "start_time": "2020-06-10T01:06:24.320935Z"
    }
   },
   "outputs": [],
   "source": [
    "# pipe = Pipeline([('vectorize', CountVectorizer()),\n",
    "#                 ('tfidf',TfidfTransformer()),\n",
    "#                  ('clf',SGDClassifier(random_state=42,max_iter=5,tol=None))])\n",
    "\n",
    "\n",
    "# def fit_evaluate_pipe(pipe,X_tr,X_te,y_tr,y_te):\n",
    "#     pipe.fit(X_tr,y_tr)\n",
    "#     y_hat_te = pipe.predict(X_te)\n",
    "#     print(metrics.classification_report(y_te,y_hat_te,target_names=encoder.inverse_transform([0,1,2])))\n",
    "#     metrics.plot_confusion_matrix(pipe,X_te,y_te,cmap='Blues',normalize='true',\n",
    "#                                      display_labels=encoder.inverse_transform([0,1,2]),xticks_rotation=45)"
   ]
  },
  {
   "cell_type": "code",
   "execution_count": 34,
   "metadata": {
    "ExecuteTime": {
     "end_time": "2020-06-10T01:06:24.444536Z",
     "start_time": "2020-06-10T01:06:24.442385Z"
    }
   },
   "outputs": [],
   "source": [
    "# fit_evaluate_pipe(pipe,X_tr,X_te,y_tr,y_te)"
   ]
  },
  {
   "cell_type": "code",
   "execution_count": 35,
   "metadata": {
    "ExecuteTime": {
     "end_time": "2020-06-10T01:06:24.588852Z",
     "start_time": "2020-06-10T01:06:24.586477Z"
    }
   },
   "outputs": [],
   "source": [
    "# fit_evaluate_pipe(pipe_forest,X_tr,X_te,y_tr,y_te)"
   ]
  },
  {
   "cell_type": "code",
   "execution_count": 36,
   "metadata": {
    "ExecuteTime": {
     "end_time": "2020-06-10T01:06:25.013989Z",
     "start_time": "2020-06-10T01:06:25.011836Z"
    }
   },
   "outputs": [],
   "source": [
    "# fit_evaluate_pipe(pipe_bayes,X_tr,X_te,y_tr,y_te)"
   ]
  },
  {
   "cell_type": "code",
   "execution_count": 37,
   "metadata": {
    "ExecuteTime": {
     "end_time": "2020-06-10T01:06:25.157130Z",
     "start_time": "2020-06-10T01:06:25.155147Z"
    }
   },
   "outputs": [],
   "source": [
    "# from sklearn.utils.validation import check_is_fitted\n",
    "\n",
    "# model = pipe.named_steps['clf']\n",
    "# check_is_fitted(model)\n",
    "\n",
    "# pipe.named_steps"
   ]
  },
  {
   "cell_type": "code",
   "execution_count": 38,
   "metadata": {
    "ExecuteTime": {
     "end_time": "2020-06-10T01:06:25.300000Z",
     "start_time": "2020-06-10T01:06:25.297972Z"
    }
   },
   "outputs": [],
   "source": [
    "# from sklearn.model_selection import GridSearchCV\n",
    "\n",
    "# parameters = { 'vectorize__ngram_range': [(1, 1), (1, 2)],\n",
    "#               'tfidf__use_idf': (True, False),\n",
    "#               'clf__alpha': (1e-2, 1e-3),\n",
    "#              'clf__class_weight':['balanced',None]}\n",
    "# search = GridSearchCV(pipe,parameters,scoring='recall_weighted')\n",
    "\n",
    "# search.fit(X_tr,y_tr)\n",
    "\n",
    "# search.best_params_"
   ]
  },
  {
   "cell_type": "code",
   "execution_count": 39,
   "metadata": {
    "ExecuteTime": {
     "end_time": "2020-06-10T01:06:25.457071Z",
     "start_time": "2020-06-10T01:06:25.454445Z"
    }
   },
   "outputs": [],
   "source": [
    "# search.best_score_"
   ]
  },
  {
   "cell_type": "code",
   "execution_count": 40,
   "metadata": {
    "ExecuteTime": {
     "end_time": "2020-06-10T01:06:25.606400Z",
     "start_time": "2020-06-10T01:06:25.604109Z"
    }
   },
   "outputs": [],
   "source": [
    "# y_hat_te = search.predict(X_te)\n",
    "# y_hat_tr = search.predict(X_tr)\n",
    "\n",
    "# print(metrics.classification_report(y_te,y_hat_te))\n",
    "# metrics.plot_confusion_matrix(search,X_te,y_te,cmap='Blues',normalize='true',\n",
    "#                                  display_labels=encoder.inverse_transform([0,1,2]),xticks_rotation=45)"
   ]
  },
  {
   "cell_type": "code",
   "execution_count": 41,
   "metadata": {
    "ExecuteTime": {
     "end_time": "2020-06-10T01:06:25.752049Z",
     "start_time": "2020-06-10T01:06:25.750083Z"
    }
   },
   "outputs": [],
   "source": [
    "# print(metrics.classification_report(y_tr,y_hat_tr\n",
    "#                                    ))\n",
    "# metrics.plot_confusion_matrix(search,X_tr,y_tr,cmap='Blues',normalize='true',\n",
    "#                                  display_labels=encoder.inverse_transform([0,1,2]),xticks_rotation=45)"
   ]
  },
  {
   "cell_type": "markdown",
   "metadata": {},
   "source": [
    "# Neural Networks"
   ]
  },
  {
   "cell_type": "code",
   "execution_count": 42,
   "metadata": {
    "ExecuteTime": {
     "end_time": "2020-06-10T01:06:26.046712Z",
     "start_time": "2020-06-10T01:06:26.039517Z"
    }
   },
   "outputs": [
    {
     "data": {
      "text/plain": [
       "0    .@wesley83 I have a 3G iPhone. After 3 hrs twe...\n",
       "1    @jessedee Know about @fludapp ? Awesome iPad/i...\n",
       "2    @swonderlin Can not wait for #iPad 2 also. The...\n",
       "3    @sxsw I hope this year's festival isn't as cra...\n",
       "4    @sxtxstate great stuff on Fri #SXSW: Marissa M...\n",
       "Name: tweet_text, dtype: object"
      ]
     },
     "metadata": {},
     "output_type": "display_data"
    },
    {
     "data": {
      "text/plain": [
       "0    0\n",
       "1    2\n",
       "2    2\n",
       "3    0\n",
       "4    2\n",
       "Name: target, dtype: int64"
      ]
     },
     "metadata": {},
     "output_type": "display_data"
    }
   ],
   "source": [
    "X = df['tweet_text'].copy()\n",
    "y = df['target'].copy()\n",
    "display(X.head(),y.head())"
   ]
  },
  {
   "cell_type": "code",
   "execution_count": null,
   "metadata": {},
   "outputs": [],
   "source": []
  },
  {
   "cell_type": "code",
   "execution_count": 43,
   "metadata": {
    "ExecuteTime": {
     "end_time": "2020-06-10T01:06:32.312944Z",
     "start_time": "2020-06-10T01:06:26.354051Z"
    }
   },
   "outputs": [
    {
     "name": "stderr",
     "output_type": "stream",
     "text": [
      "Using TensorFlow backend.\n"
     ]
    },
    {
     "data": {
      "text/plain": [
       "array([[1., 0., 0.],\n",
       "       [0., 0., 1.],\n",
       "       [0., 0., 1.],\n",
       "       ...,\n",
       "       [0., 1., 0.],\n",
       "       [0., 1., 0.],\n",
       "       [0., 1., 0.]], dtype=float32)"
      ]
     },
     "execution_count": 43,
     "metadata": {},
     "output_type": "execute_result"
    }
   ],
   "source": [
    "from keras.utils import to_categorical\n",
    "y_ohe = to_categorical(y)\n",
    "y_ohe"
   ]
  },
  {
   "cell_type": "code",
   "execution_count": 44,
   "metadata": {
    "ExecuteTime": {
     "end_time": "2020-06-10T01:06:32.363201Z",
     "start_time": "2020-06-10T01:06:32.313994Z"
    }
   },
   "outputs": [],
   "source": [
    "from sklearn.model_selection import train_test_split\n",
    "X_tr,X_te,y_tr,y_te = train_test_split(X,y_ohe,stratify=y_ohe,random_state=42)"
   ]
  },
  {
   "cell_type": "code",
   "execution_count": 45,
   "metadata": {
    "ExecuteTime": {
     "end_time": "2020-06-10T01:06:32.368593Z",
     "start_time": "2020-06-10T01:06:32.364977Z"
    }
   },
   "outputs": [],
   "source": [
    "from keras.preprocessing.text import Tokenizer\n",
    "NUM_WORDS = 10000\n",
    "tokenizer =Tokenizer(num_words=NUM_WORDS)\n",
    "# tokenizer"
   ]
  },
  {
   "cell_type": "code",
   "execution_count": 46,
   "metadata": {
    "ExecuteTime": {
     "end_time": "2020-06-10T01:06:32.509663Z",
     "start_time": "2020-06-10T01:06:32.370845Z"
    }
   },
   "outputs": [
    {
     "data": {
      "text/plain": [
       "8863"
      ]
     },
     "execution_count": 46,
     "metadata": {},
     "output_type": "execute_result"
    }
   ],
   "source": [
    "tokenizer.fit_on_texts(X_tr)\n",
    "word_index = tokenizer.word_index\n",
    "len(word_index)"
   ]
  },
  {
   "cell_type": "code",
   "execution_count": null,
   "metadata": {},
   "outputs": [],
   "source": []
  },
  {
   "cell_type": "code",
   "execution_count": 47,
   "metadata": {
    "ExecuteTime": {
     "end_time": "2020-06-10T01:06:32.607255Z",
     "start_time": "2020-06-10T01:06:32.510798Z"
    }
   },
   "outputs": [
    {
     "data": {
      "text/plain": [
       "list"
      ]
     },
     "execution_count": 47,
     "metadata": {},
     "output_type": "execute_result"
    }
   ],
   "source": [
    "## X_tr to sequences\n",
    "from keras.preprocessing.sequence import pad_sequences\n",
    "X_tr_seq = tokenizer.texts_to_sequences(X_tr)\n",
    "type(X_tr_seq)"
   ]
  },
  {
   "cell_type": "code",
   "execution_count": 48,
   "metadata": {
    "ExecuteTime": {
     "end_time": "2020-06-10T01:06:32.612137Z",
     "start_time": "2020-06-10T01:06:32.608450Z"
    }
   },
   "outputs": [
    {
     "data": {
      "text/plain": [
       "[7,\n",
       " 2,\n",
       " 417,\n",
       " 100,\n",
       " 236,\n",
       " 204,\n",
       " 1017,\n",
       " 320,\n",
       " 105,\n",
       " 269,\n",
       " 7,\n",
       " 2,\n",
       " 12,\n",
       " 79,\n",
       " 11,\n",
       " 36,\n",
       " 21,\n",
       " 19,\n",
       " 6,\n",
       " 1,\n",
       " 4]"
      ]
     },
     "execution_count": 48,
     "metadata": {},
     "output_type": "execute_result"
    }
   ],
   "source": [
    "X_tr_seq[0]"
   ]
  },
  {
   "cell_type": "code",
   "execution_count": 49,
   "metadata": {
    "ExecuteTime": {
     "end_time": "2020-06-10T01:06:32.622427Z",
     "start_time": "2020-06-10T01:06:32.613111Z"
    }
   },
   "outputs": [
    {
     "data": {
      "text/plain": [
       "[21,\n",
       " 29,\n",
       " 16,\n",
       " 18,\n",
       " 18,\n",
       " 7,\n",
       " 16,\n",
       " 16,\n",
       " 24,\n",
       " 19,\n",
       " 21,\n",
       " 13,\n",
       " 16,\n",
       " 13,\n",
       " 17,\n",
       " 14,\n",
       " 15,\n",
       " 13,\n",
       " 21,\n",
       " 24,\n",
       " 19,\n",
       " 18,\n",
       " 18,\n",
       " 24,\n",
       " 25,\n",
       " 20,\n",
       " 26,\n",
       " 21,\n",
       " 13,\n",
       " 18,\n",
       " 18,\n",
       " 21,\n",
       " 12,\n",
       " 26,\n",
       " 25,\n",
       " 18,\n",
       " 18,\n",
       " 10,\n",
       " 19,\n",
       " 26,\n",
       " 25,\n",
       " 25,\n",
       " 10,\n",
       " 16,\n",
       " 21,\n",
       " 19,\n",
       " 23,\n",
       " 13,\n",
       " 14,\n",
       " 19,\n",
       " 18,\n",
       " 18,\n",
       " 12,\n",
       " 28,\n",
       " 20,\n",
       " 23,\n",
       " 20,\n",
       " 18,\n",
       " 12,\n",
       " 22,\n",
       " 15,\n",
       " 19,\n",
       " 21,\n",
       " 23,\n",
       " 12,\n",
       " 21,\n",
       " 16,\n",
       " 15,\n",
       " 24,\n",
       " 24,\n",
       " 29,\n",
       " 9,\n",
       " 26,\n",
       " 20,\n",
       " 18,\n",
       " 24,\n",
       " 10,\n",
       " 8,\n",
       " 20,\n",
       " 14,\n",
       " 17,\n",
       " 13,\n",
       " 28,\n",
       " 23,\n",
       " 20,\n",
       " 14,\n",
       " 23,\n",
       " 16,\n",
       " 18,\n",
       " 28,\n",
       " 24,\n",
       " 11,\n",
       " 21,\n",
       " 17,\n",
       " 20,\n",
       " 27,\n",
       " 21,\n",
       " 19,\n",
       " 22,\n",
       " 21,\n",
       " 12,\n",
       " 16,\n",
       " 18,\n",
       " 17,\n",
       " 21,\n",
       " 11,\n",
       " 21,\n",
       " 16,\n",
       " 15,\n",
       " 9,\n",
       " 23,\n",
       " 22,\n",
       " 16,\n",
       " 9,\n",
       " 28,\n",
       " 16,\n",
       " 23,\n",
       " 25,\n",
       " 10,\n",
       " 25,\n",
       " 20,\n",
       " 12,\n",
       " 21,\n",
       " 16,\n",
       " 15,\n",
       " 19,\n",
       " 16,\n",
       " 20,\n",
       " 8,\n",
       " 13,\n",
       " 22,\n",
       " 15,\n",
       " 22,\n",
       " 14,\n",
       " 21,\n",
       " 23,\n",
       " 15,\n",
       " 28,\n",
       " 16,\n",
       " 12,\n",
       " 19,\n",
       " 18,\n",
       " 20,\n",
       " 13,\n",
       " 21,\n",
       " 22,\n",
       " 20,\n",
       " 10,\n",
       " 17,\n",
       " 12,\n",
       " 16,\n",
       " 10,\n",
       " 18,\n",
       " 19,\n",
       " 17,\n",
       " 18,\n",
       " 25,\n",
       " 19,\n",
       " 23,\n",
       " 23,\n",
       " 25,\n",
       " 16,\n",
       " 19,\n",
       " 24,\n",
       " 16,\n",
       " 12,\n",
       " 20,\n",
       " 23,\n",
       " 16,\n",
       " 18,\n",
       " 13,\n",
       " 10,\n",
       " 20,\n",
       " 19,\n",
       " 21,\n",
       " 12,\n",
       " 24,\n",
       " 23,\n",
       " 12,\n",
       " 18,\n",
       " 22,\n",
       " 22,\n",
       " 22,\n",
       " 22,\n",
       " 19,\n",
       " 16,\n",
       " 18,\n",
       " 20,\n",
       " 17,\n",
       " 21,\n",
       " 26,\n",
       " 19,\n",
       " 18,\n",
       " 22,\n",
       " 22,\n",
       " 23,\n",
       " 8,\n",
       " 20,\n",
       " 13,\n",
       " 21,\n",
       " 15,\n",
       " 16,\n",
       " 19,\n",
       " 12,\n",
       " 17,\n",
       " 16,\n",
       " 22,\n",
       " 11,\n",
       " 14,\n",
       " 18,\n",
       " 21,\n",
       " 23,\n",
       " 18,\n",
       " 15,\n",
       " 15,\n",
       " 13,\n",
       " 16,\n",
       " 30,\n",
       " 13,\n",
       " 20,\n",
       " 20,\n",
       " 10,\n",
       " 14,\n",
       " 18,\n",
       " 21,\n",
       " 23,\n",
       " 20,\n",
       " 16,\n",
       " 18,\n",
       " 13,\n",
       " 10,\n",
       " 15,\n",
       " 14,\n",
       " 15,\n",
       " 9,\n",
       " 15,\n",
       " 19,\n",
       " 26,\n",
       " 25,\n",
       " 20,\n",
       " 9,\n",
       " 21,\n",
       " 24,\n",
       " 22,\n",
       " 10,\n",
       " 13,\n",
       " 16,\n",
       " 30,\n",
       " 15,\n",
       " 18,\n",
       " 13,\n",
       " 18,\n",
       " 14,\n",
       " 25,\n",
       " 20,\n",
       " 19,\n",
       " 11,\n",
       " 10,\n",
       " 20,\n",
       " 14,\n",
       " 14,\n",
       " 18,\n",
       " 19,\n",
       " 21,\n",
       " 17,\n",
       " 20,\n",
       " 11,\n",
       " 18,\n",
       " 10,\n",
       " 15,\n",
       " 24,\n",
       " 22,\n",
       " 17,\n",
       " 19,\n",
       " 20,\n",
       " 20,\n",
       " 15,\n",
       " 23,\n",
       " 26,\n",
       " 11,\n",
       " 9,\n",
       " 12,\n",
       " 11,\n",
       " 23,\n",
       " 18,\n",
       " 28,\n",
       " 23,\n",
       " 16,\n",
       " 23,\n",
       " 14,\n",
       " 12,\n",
       " 18,\n",
       " 23,\n",
       " 21,\n",
       " 17,\n",
       " 16,\n",
       " 23,\n",
       " 17,\n",
       " 19,\n",
       " 18,\n",
       " 16,\n",
       " 21,\n",
       " 11,\n",
       " 14,\n",
       " 16,\n",
       " 16,\n",
       " 23,\n",
       " 10,\n",
       " 16,\n",
       " 11,\n",
       " 16,\n",
       " 21,\n",
       " 24,\n",
       " 17,\n",
       " 28,\n",
       " 16,\n",
       " 23,\n",
       " 28,\n",
       " 26,\n",
       " 21,\n",
       " 14,\n",
       " 19,\n",
       " 25,\n",
       " 14,\n",
       " 22,\n",
       " 25,\n",
       " 19,\n",
       " 22,\n",
       " 24,\n",
       " 21,\n",
       " 20,\n",
       " 16,\n",
       " 24,\n",
       " 20,\n",
       " 24,\n",
       " 18,\n",
       " 13,\n",
       " 18,\n",
       " 26,\n",
       " 15,\n",
       " 16,\n",
       " 11,\n",
       " 17,\n",
       " 20,\n",
       " 12,\n",
       " 20,\n",
       " 9,\n",
       " 21,\n",
       " 16,\n",
       " 19,\n",
       " 23,\n",
       " 21,\n",
       " 19,\n",
       " 8,\n",
       " 18,\n",
       " 22,\n",
       " 15,\n",
       " 21,\n",
       " 15,\n",
       " 13,\n",
       " 17,\n",
       " 17,\n",
       " 24,\n",
       " 19,\n",
       " 23,\n",
       " 21,\n",
       " 21,\n",
       " 11,\n",
       " 19,\n",
       " 18,\n",
       " 27,\n",
       " 16,\n",
       " 19,\n",
       " 19,\n",
       " 13,\n",
       " 11,\n",
       " 24,\n",
       " 17,\n",
       " 26,\n",
       " 16,\n",
       " 8,\n",
       " 14,\n",
       " 18,\n",
       " 10,\n",
       " 19,\n",
       " 18,\n",
       " 13,\n",
       " 12,\n",
       " 20,\n",
       " 14,\n",
       " 14,\n",
       " 17,\n",
       " 22,\n",
       " 23,\n",
       " 18,\n",
       " 19,\n",
       " 17,\n",
       " 24,\n",
       " 19,\n",
       " 21,\n",
       " 25,\n",
       " 22,\n",
       " 16,\n",
       " 25,\n",
       " 17,\n",
       " 27,\n",
       " 10,\n",
       " 26,\n",
       " 22,\n",
       " 18,\n",
       " 27,\n",
       " 25,\n",
       " 20,\n",
       " 22,\n",
       " 26,\n",
       " 25,\n",
       " 15,\n",
       " 22,\n",
       " 8,\n",
       " 13,\n",
       " 25,\n",
       " 22,\n",
       " 14,\n",
       " 24,\n",
       " 27,\n",
       " 22,\n",
       " 27,\n",
       " 26,\n",
       " 8,\n",
       " 20,\n",
       " 12,\n",
       " 22,\n",
       " 13,\n",
       " 25,\n",
       " 21,\n",
       " 26,\n",
       " 20,\n",
       " 8,\n",
       " 13,\n",
       " 15,\n",
       " 15,\n",
       " 20,\n",
       " 16,\n",
       " 21,\n",
       " 19,\n",
       " 17,\n",
       " 8,\n",
       " 22,\n",
       " 14,\n",
       " 12,\n",
       " 9,\n",
       " 22,\n",
       " 22,\n",
       " 22,\n",
       " 10,\n",
       " 18,\n",
       " 16,\n",
       " 23,\n",
       " 19,\n",
       " 24,\n",
       " 19,\n",
       " 21,\n",
       " 24,\n",
       " 20,\n",
       " 9,\n",
       " 13,\n",
       " 9,\n",
       " 20,\n",
       " 22,\n",
       " 26,\n",
       " 23,\n",
       " 17,\n",
       " 21,\n",
       " 28,\n",
       " 19,\n",
       " 25,\n",
       " 17,\n",
       " 9,\n",
       " 16,\n",
       " 11,\n",
       " 22,\n",
       " 19,\n",
       " 23,\n",
       " 23,\n",
       " 18,\n",
       " 18,\n",
       " 19,\n",
       " 14,\n",
       " 17,\n",
       " 16,\n",
       " 17,\n",
       " 12,\n",
       " 14,\n",
       " 14,\n",
       " 21,\n",
       " 17,\n",
       " 20,\n",
       " 18,\n",
       " 9,\n",
       " 19,\n",
       " 23,\n",
       " 15,\n",
       " 12,\n",
       " 20,\n",
       " 23,\n",
       " 21,\n",
       " 17,\n",
       " 14,\n",
       " 14,\n",
       " 28,\n",
       " 24,\n",
       " 11,\n",
       " 26,\n",
       " 24,\n",
       " 16,\n",
       " 25,\n",
       " 13,\n",
       " 20,\n",
       " 27,\n",
       " 18,\n",
       " 16,\n",
       " 22,\n",
       " 26,\n",
       " 10,\n",
       " 9,\n",
       " 16,\n",
       " 14,\n",
       " 15,\n",
       " 9,\n",
       " 17,\n",
       " 13,\n",
       " 18,\n",
       " 17,\n",
       " 7,\n",
       " 9,\n",
       " 19,\n",
       " 14,\n",
       " 24,\n",
       " 8,\n",
       " 13,\n",
       " 21,\n",
       " 14,\n",
       " 25,\n",
       " 22,\n",
       " 9,\n",
       " 15,\n",
       " 15,\n",
       " 13,\n",
       " 19,\n",
       " 17,\n",
       " 21,\n",
       " 12,\n",
       " 15,\n",
       " 18,\n",
       " 12,\n",
       " 5,\n",
       " 10,\n",
       " 15,\n",
       " 15,\n",
       " 10,\n",
       " 12,\n",
       " 18,\n",
       " 16,\n",
       " 19,\n",
       " 10,\n",
       " 18,\n",
       " 20,\n",
       " 29,\n",
       " 20,\n",
       " 14,\n",
       " 18,\n",
       " 21,\n",
       " 17,\n",
       " 25,\n",
       " 8,\n",
       " 17,\n",
       " 14,\n",
       " 14,\n",
       " 22,\n",
       " 23,\n",
       " 19,\n",
       " 25,\n",
       " 12,\n",
       " 16,\n",
       " 10,\n",
       " 21,\n",
       " 20,\n",
       " 24,\n",
       " 17,\n",
       " 12,\n",
       " 17,\n",
       " 14,\n",
       " 19,\n",
       " 18,\n",
       " 15,\n",
       " 12,\n",
       " 11,\n",
       " 20,\n",
       " 14,\n",
       " 9,\n",
       " 16,\n",
       " 20,\n",
       " 14,\n",
       " 8,\n",
       " 11,\n",
       " 18,\n",
       " 15,\n",
       " 20,\n",
       " 17,\n",
       " 24,\n",
       " 16,\n",
       " 15,\n",
       " 26,\n",
       " 15,\n",
       " 21,\n",
       " 7,\n",
       " 18,\n",
       " 25,\n",
       " 16,\n",
       " 19,\n",
       " 22,\n",
       " 16,\n",
       " 10,\n",
       " 9,\n",
       " 16,\n",
       " 21,\n",
       " 12,\n",
       " 16,\n",
       " 19,\n",
       " 10,\n",
       " 11,\n",
       " 14,\n",
       " 10,\n",
       " 15,\n",
       " 21,\n",
       " 14,\n",
       " 21,\n",
       " 10,\n",
       " 23,\n",
       " 20,\n",
       " 21,\n",
       " 24,\n",
       " 16,\n",
       " 20,\n",
       " 17,\n",
       " 17,\n",
       " 16,\n",
       " 18,\n",
       " 24,\n",
       " 25,\n",
       " 23,\n",
       " 24,\n",
       " 19,\n",
       " 17,\n",
       " 28,\n",
       " 15,\n",
       " 22,\n",
       " 17,\n",
       " 23,\n",
       " 12,\n",
       " 21,\n",
       " 23,\n",
       " 21,\n",
       " 9,\n",
       " 15,\n",
       " 24,\n",
       " 18,\n",
       " 28,\n",
       " 16,\n",
       " 20,\n",
       " 17,\n",
       " 14,\n",
       " 11,\n",
       " 19,\n",
       " 22,\n",
       " 14,\n",
       " 16,\n",
       " 20,\n",
       " 15,\n",
       " 18,\n",
       " 11,\n",
       " 12,\n",
       " 10,\n",
       " 21,\n",
       " 17,\n",
       " 11,\n",
       " 17,\n",
       " 9,\n",
       " 15,\n",
       " 22,\n",
       " 18,\n",
       " 21,\n",
       " 22,\n",
       " 15,\n",
       " 11,\n",
       " 16,\n",
       " 18,\n",
       " 22,\n",
       " 18,\n",
       " 18,\n",
       " 9,\n",
       " 20,\n",
       " 17,\n",
       " 19,\n",
       " 18,\n",
       " 12,\n",
       " 13,\n",
       " 21,\n",
       " 18,\n",
       " 16,\n",
       " 8,\n",
       " 6,\n",
       " 17,\n",
       " 15,\n",
       " 6,\n",
       " 21,\n",
       " 23,\n",
       " 27,\n",
       " 16,\n",
       " 28,\n",
       " 15,\n",
       " 23,\n",
       " 9,\n",
       " 24,\n",
       " 25,\n",
       " 10,\n",
       " 27,\n",
       " 16,\n",
       " 17,\n",
       " 20,\n",
       " 17,\n",
       " 15,\n",
       " 23,\n",
       " 16,\n",
       " 14,\n",
       " 12,\n",
       " 18,\n",
       " 17,\n",
       " 29,\n",
       " 21,\n",
       " 20,\n",
       " 20,\n",
       " 8,\n",
       " 13,\n",
       " 20,\n",
       " 13,\n",
       " 13,\n",
       " 18,\n",
       " 22,\n",
       " 22,\n",
       " 16,\n",
       " 17,\n",
       " 16,\n",
       " 9,\n",
       " 18,\n",
       " 23,\n",
       " 20,\n",
       " 25,\n",
       " 22,\n",
       " 14,\n",
       " 17,\n",
       " 14,\n",
       " 14,\n",
       " 15,\n",
       " 24,\n",
       " 14,\n",
       " 18,\n",
       " 16,\n",
       " 12,\n",
       " 18,\n",
       " 22,\n",
       " 9,\n",
       " 20,\n",
       " 8,\n",
       " 21,\n",
       " 7,\n",
       " 18,\n",
       " 16,\n",
       " 24,\n",
       " 24,\n",
       " 17,\n",
       " 20,\n",
       " 23,\n",
       " 8,\n",
       " 15,\n",
       " 14,\n",
       " 26,\n",
       " 11,\n",
       " 17,\n",
       " 17,\n",
       " 27,\n",
       " 19,\n",
       " 8,\n",
       " 17,\n",
       " 23,\n",
       " 23,\n",
       " 12,\n",
       " 19,\n",
       " 23,\n",
       " 16,\n",
       " 26,\n",
       " 17,\n",
       " 15,\n",
       " 23,\n",
       " 12,\n",
       " 19,\n",
       " 13,\n",
       " 12,\n",
       " 20,\n",
       " 25,\n",
       " 14,\n",
       " 14,\n",
       " 19,\n",
       " 22,\n",
       " 20,\n",
       " 16,\n",
       " 20,\n",
       " 19,\n",
       " 16,\n",
       " 26,\n",
       " 10,\n",
       " 24,\n",
       " 17,\n",
       " 13,\n",
       " 27,\n",
       " 12,\n",
       " 11,\n",
       " 13,\n",
       " 9,\n",
       " 16,\n",
       " 19,\n",
       " 17,\n",
       " 13,\n",
       " 10,\n",
       " 18,\n",
       " 14,\n",
       " 9,\n",
       " 14,\n",
       " 23,\n",
       " 18,\n",
       " 24,\n",
       " 25,\n",
       " 17,\n",
       " 15,\n",
       " 25,\n",
       " 16,\n",
       " 20,\n",
       " 22,\n",
       " 17,\n",
       " 26,\n",
       " 19,\n",
       " 21,\n",
       " 16,\n",
       " 14,\n",
       " 11,\n",
       " 22,\n",
       " 24,\n",
       " 23,\n",
       " 16,\n",
       " 20,\n",
       " 15,\n",
       " 23,\n",
       " 25,\n",
       " 18,\n",
       " 27,\n",
       " 20,\n",
       " 6,\n",
       " 13,\n",
       " 19,\n",
       " 14,\n",
       " 20,\n",
       " 19,\n",
       " 19,\n",
       " 19,\n",
       " 23,\n",
       " 21,\n",
       " 15,\n",
       " 24,\n",
       " 24,\n",
       " 18,\n",
       " 20,\n",
       " 21,\n",
       " 6,\n",
       " 26,\n",
       " 9,\n",
       " 21,\n",
       " 19,\n",
       " 17,\n",
       " 20,\n",
       " 25,\n",
       " 20,\n",
       " 26,\n",
       " 13,\n",
       " 17,\n",
       " 16,\n",
       " 11,\n",
       " 24,\n",
       " 8,\n",
       " 15,\n",
       " 20,\n",
       " 22,\n",
       " 27,\n",
       " 14,\n",
       " 17,\n",
       " 16,\n",
       " 10,\n",
       " 9,\n",
       " 17,\n",
       " 17,\n",
       " 27,\n",
       " 16,\n",
       " 18,\n",
       " 14,\n",
       " 26,\n",
       " 18,\n",
       " 27,\n",
       " 16,\n",
       " 16,\n",
       " 23,\n",
       " 19,\n",
       " 16,\n",
       " 14,\n",
       " 25,\n",
       " 15,\n",
       " 10,\n",
       " 15,\n",
       " 19,\n",
       " 13,\n",
       " 18,\n",
       " 22,\n",
       " 8,\n",
       " 15,\n",
       " 13,\n",
       " 17,\n",
       " 22,\n",
       " 19,\n",
       " 10,\n",
       " 15,\n",
       " 12,\n",
       " 13,\n",
       " 16,\n",
       " 24,\n",
       " 8,\n",
       " 23,\n",
       " 16,\n",
       " 14,\n",
       " 18,\n",
       " 20,\n",
       " 20,\n",
       " 17,\n",
       " 21,\n",
       " 27,\n",
       " 19,\n",
       " 18,\n",
       " 11,\n",
       " 22,\n",
       " 26,\n",
       " 19,\n",
       " 14,\n",
       " 17,\n",
       " 17,\n",
       " 24,\n",
       " 19,\n",
       " 18,\n",
       " 27,\n",
       " 27,\n",
       " 10,\n",
       " 28,\n",
       " 28,\n",
       " 23,\n",
       " 18,\n",
       " 24,\n",
       " 17,\n",
       " 26,\n",
       " 12,\n",
       " 25,\n",
       " 12,\n",
       " 19,\n",
       " 17,\n",
       " 22,\n",
       " 18,\n",
       " 19,\n",
       " 20,\n",
       " 16,\n",
       " 18,\n",
       " 15,\n",
       " 18,\n",
       " 22,\n",
       " 13,\n",
       " 14,\n",
       " 16,\n",
       " 15,\n",
       " 22,\n",
       " 24,\n",
       " 24,\n",
       " 18,\n",
       " 23,\n",
       " 22,\n",
       " 16,\n",
       " 26,\n",
       " ...]"
      ]
     },
     "execution_count": 49,
     "metadata": {},
     "output_type": "execute_result"
    }
   ],
   "source": [
    "list(map(len, X_tr_seq))"
   ]
  },
  {
   "cell_type": "code",
   "execution_count": 50,
   "metadata": {
    "ExecuteTime": {
     "end_time": "2020-06-10T01:06:32.627194Z",
     "start_time": "2020-06-10T01:06:32.624274Z"
    }
   },
   "outputs": [
    {
     "data": {
      "text/plain": [
       "100"
      ]
     },
     "execution_count": 50,
     "metadata": {},
     "output_type": "execute_result"
    }
   ],
   "source": [
    "## max seq length\n",
    "MAX_SEQUENCE=100#max(list(map(lambda x: len(x),X_tr_seq)))\n",
    "MAX_SEQUENCE"
   ]
  },
  {
   "cell_type": "code",
   "execution_count": 51,
   "metadata": {
    "ExecuteTime": {
     "end_time": "2020-06-10T01:06:32.660352Z",
     "start_time": "2020-06-10T01:06:32.628403Z"
    }
   },
   "outputs": [
    {
     "data": {
      "text/plain": [
       "array([   0,    0,    0,    0,    0,    0,    0,    0,    0,    0,    0,\n",
       "          0,    0,    0,    0,    0,    0,    0,    0,    0,    0,    0,\n",
       "          0,    0,    0,    0,    0,    0,    0,    0,    0,    0,    0,\n",
       "          0,    0,    0,    0,    0,    0,    0,    0,    0,    0,    0,\n",
       "          0,    0,    0,    0,    0,    0,    0,    0,    0,    0,    0,\n",
       "          0,    0,    0,    0,    0,    0,    0,    0,    0,    0,    0,\n",
       "          0,    0,    0,    0,    0,    0,    0,    0,    0,    0,    0,\n",
       "          0,    0,    7,    2,  417,  100,  236,  204, 1017,  320,  105,\n",
       "        269,    7,    2,   12,   79,   11,   36,   21,   19,    6,    1,\n",
       "          4], dtype=int32)"
      ]
     },
     "execution_count": 51,
     "metadata": {},
     "output_type": "execute_result"
    }
   ],
   "source": [
    "SEQUENCE_LENGTH= MAX_SEQUENCE\n",
    "X_tr_seq = pad_sequences(X_tr_seq,MAX_SEQUENCE)\n",
    "X_tr_seq[0]"
   ]
  },
  {
   "cell_type": "code",
   "execution_count": 52,
   "metadata": {
    "ExecuteTime": {
     "end_time": "2020-06-10T01:06:32.710259Z",
     "start_time": "2020-06-10T01:06:32.661917Z"
    }
   },
   "outputs": [
    {
     "data": {
      "text/plain": [
       "array([   0,    0,    0,    0,    0,    0,    0,    0,    0,    0,    0,\n",
       "          0,    0,    0,    0,    0,    0,    0,    0,    0,    0,    0,\n",
       "          0,    0,    0,    0,    0,    0,    0,    0,    0,    0,    0,\n",
       "          0,    0,    0,    0,    0,    0,    0,    0,    0,    0,    0,\n",
       "          0,    0,    0,    0,    0,    0,    0,    0,    0,    0,    0,\n",
       "          0,    0,    0,    0,    0,    0,    0,    0,    0,    0,    0,\n",
       "          0,    0,    0,    0,    0,    0,    0,    0,    0,    0,    0,\n",
       "          0,    0,    0,    0,    0,    0,    0,   14,  776,    7,    2,\n",
       "          1,    8,   19,  357,   45,   14,  619,  796, 1146,  496,  110,\n",
       "        293], dtype=int32)"
      ]
     },
     "execution_count": 52,
     "metadata": {},
     "output_type": "execute_result"
    }
   ],
   "source": [
    "X_te_seq = tokenizer.texts_to_sequences(X_te)\n",
    "X_te_seq = pad_sequences(X_te_seq,MAX_SEQUENCE)\n",
    "\n",
    "X_te_seq[0]"
   ]
  },
  {
   "cell_type": "code",
   "execution_count": 53,
   "metadata": {
    "ExecuteTime": {
     "end_time": "2020-06-10T01:06:32.713646Z",
     "start_time": "2020-06-10T01:06:32.711620Z"
    }
   },
   "outputs": [],
   "source": [
    "from keras.models import Sequential\n",
    "from keras.layers import Embedding,Dense,Flatten"
   ]
  },
  {
   "cell_type": "code",
   "execution_count": 54,
   "metadata": {
    "ExecuteTime": {
     "end_time": "2020-06-10T01:06:32.717426Z",
     "start_time": "2020-06-10T01:06:32.715346Z"
    }
   },
   "outputs": [],
   "source": [
    "VOCAB_LEN = len(word_index)+1\n",
    "SEQUENCE_LENGTH = MAX_SEQUENCE"
   ]
  },
  {
   "cell_type": "code",
   "execution_count": 55,
   "metadata": {
    "ExecuteTime": {
     "end_time": "2020-06-10T01:06:32.721912Z",
     "start_time": "2020-06-10T01:06:32.718879Z"
    }
   },
   "outputs": [
    {
     "data": {
      "text/plain": [
       "100"
      ]
     },
     "execution_count": 55,
     "metadata": {},
     "output_type": "execute_result"
    }
   ],
   "source": [
    "BATCH_SIZE = 64\n",
    "SEQUENCE_LENGTH"
   ]
  },
  {
   "cell_type": "code",
   "execution_count": 56,
   "metadata": {
    "ExecuteTime": {
     "end_time": "2020-06-10T01:06:32.726063Z",
     "start_time": "2020-06-10T01:06:32.722894Z"
    }
   },
   "outputs": [
    {
     "data": {
      "text/plain": [
       "3"
      ]
     },
     "execution_count": 56,
     "metadata": {},
     "output_type": "execute_result"
    }
   ],
   "source": [
    "y_tr.shape[1]"
   ]
  },
  {
   "cell_type": "code",
   "execution_count": 57,
   "metadata": {
    "ExecuteTime": {
     "end_time": "2020-06-10T01:06:32.731359Z",
     "start_time": "2020-06-10T01:06:32.727249Z"
    }
   },
   "outputs": [
    {
     "data": {
      "text/plain": [
       "'Models/checkpoints/weights.{epoch:02d}-{val_accuracy:.2f}.hdf5'"
      ]
     },
     "execution_count": 57,
     "metadata": {},
     "output_type": "execute_result"
    }
   ],
   "source": [
    "from keras import callbacks\n",
    "import os \n",
    "checkpoint_folder = 'Models/checkpoints/'\n",
    "checkpoint_filename = \"weights.{epoch:02d}-{val_accuracy:.2f}.hdf5\"\n",
    "checkpoint_path = checkpoint_folder+checkpoint_filename\n",
    "os.makedirs(checkpoint_folder,exist_ok=True)\n",
    "checkpoint_path"
   ]
  },
  {
   "cell_type": "code",
   "execution_count": 58,
   "metadata": {
    "ExecuteTime": {
     "end_time": "2020-06-10T01:06:32.735431Z",
     "start_time": "2020-06-10T01:06:32.732529Z"
    }
   },
   "outputs": [],
   "source": [
    "checkpoint = callbacks.ModelCheckpoint(checkpoint_path,verbose=1,monitor='val_accuracy',\n",
    "                                       save_best_only=True,save_weights_only=True)\n",
    "earlystop = callbacks.EarlyStopping(monitor='val_accuracy',patience=2)\n",
    "callbacks_list= [checkpoint,earlystop]"
   ]
  },
  {
   "cell_type": "code",
   "execution_count": 59,
   "metadata": {
    "ExecuteTime": {
     "end_time": "2020-06-10T01:06:33.054986Z",
     "start_time": "2020-06-10T01:06:32.736776Z"
    }
   },
   "outputs": [
    {
     "name": "stdout",
     "output_type": "stream",
     "text": [
      "Model: \"sequential_1\"\n",
      "_________________________________________________________________\n",
      "Layer (type)                 Output Shape              Param #   \n",
      "=================================================================\n",
      "embedding_1 (Embedding)      (None, 100, 128)          1280000   \n",
      "_________________________________________________________________\n",
      "bidirectional_1 (Bidirection (None, 100, 50)           23100     \n",
      "_________________________________________________________________\n",
      "global_max_pooling1d_1 (Glob (None, 50)                0         \n",
      "_________________________________________________________________\n",
      "dropout_1 (Dropout)          (None, 50)                0         \n",
      "_________________________________________________________________\n",
      "dense_1 (Dense)              (None, 50)                2550      \n",
      "_________________________________________________________________\n",
      "dropout_2 (Dropout)          (None, 50)                0         \n",
      "_________________________________________________________________\n",
      "dense_2 (Dense)              (None, 3)                 153       \n",
      "=================================================================\n",
      "Total params: 1,305,803\n",
      "Trainable params: 1,305,803\n",
      "Non-trainable params: 0\n",
      "_________________________________________________________________\n"
     ]
    }
   ],
   "source": [
    "from keras.layers import Embedding,LSTM,GRU,GlobalMaxPool1D,Dropout,Dense,Bidirectional\n",
    "\n",
    "model = Sequential()\n",
    "embedding_size = 128\n",
    "model.add(Embedding(NUM_WORDS, embedding_size, input_length=SEQUENCE_LENGTH))\n",
    "\n",
    "model.add(Bidirectional(GRU(25, return_sequences=True)))\n",
    "model.add(GlobalMaxPool1D())\n",
    "model.add(Dropout(0.5))\n",
    "model.add(Dense(50, activation='relu'))\n",
    "model.add(Dropout(0.5))\n",
    "model.add(Dense(3, activation='softmax'))\n",
    "\n",
    "model.compile(loss='categorical_crossentropy', \n",
    "              optimizer='adam', \n",
    "              metrics=['accuracy'])\n",
    "model.summary()"
   ]
  },
  {
   "cell_type": "code",
   "execution_count": 60,
   "metadata": {
    "ExecuteTime": {
     "end_time": "2020-06-10T01:06:33.058773Z",
     "start_time": "2020-06-10T01:06:33.056262Z"
    }
   },
   "outputs": [],
   "source": [
    "from keras.wrappers.scikit_learn import KerasClassifier\n"
   ]
  },
  {
   "cell_type": "code",
   "execution_count": 61,
   "metadata": {
    "ExecuteTime": {
     "end_time": "2020-06-10T01:07:26.189199Z",
     "start_time": "2020-06-10T01:06:33.060266Z"
    }
   },
   "outputs": [
    {
     "name": "stderr",
     "output_type": "stream",
     "text": [
      "/opt/anaconda3/envs/learn-env/lib/python3.6/site-packages/tensorflow/python/framework/indexed_slices.py:434: UserWarning:\n",
      "\n",
      "Converting sparse IndexedSlices to a dense Tensor of unknown shape. This may consume a large amount of memory.\n",
      "\n"
     ]
    },
    {
     "name": "stdout",
     "output_type": "stream",
     "text": [
      "Train on 6031 samples, validate on 671 samples\n",
      "Epoch 1/3\n",
      "6031/6031 [==============================] - 18s 3ms/step - loss: 0.8864 - accuracy: 0.5851 - val_loss: 0.8172 - val_accuracy: 0.6095\n",
      "Epoch 2/3\n",
      "6031/6031 [==============================] - 17s 3ms/step - loss: 0.7748 - accuracy: 0.6516 - val_loss: 0.7471 - val_accuracy: 0.6557\n",
      "Epoch 3/3\n",
      "6031/6031 [==============================] - 17s 3ms/step - loss: 0.6503 - accuracy: 0.7332 - val_loss: 0.7681 - val_accuracy: 0.6468\n"
     ]
    }
   ],
   "source": [
    "history = model.fit(X_tr_seq, y_tr, epochs=3, batch_size=32, validation_split=0.1)"
   ]
  },
  {
   "cell_type": "code",
   "execution_count": 62,
   "metadata": {
    "ExecuteTime": {
     "end_time": "2020-06-10T01:07:26.593790Z",
     "start_time": "2020-06-10T01:07:26.190639Z"
    }
   },
   "outputs": [
    {
     "data": {
      "text/plain": [
       "<matplotlib.axes._subplots.AxesSubplot at 0x1c4ab27cc0>"
      ]
     },
     "execution_count": 62,
     "metadata": {},
     "output_type": "execute_result"
    },
    {
     "data": {
      "image/png": "[encoded data removed]",
      "text/plain": [
       "<Figure size 432x288 with 1 Axes>"
      ]
     },
     "metadata": {
      "needs_background": "light"
     },
     "output_type": "display_data"
    },
    {
     "data": {
      "image/png": "[encoded data removed]",
      "text/plain": [
       "<Figure size 432x288 with 1 Axes>"
      ]
     },
     "metadata": {
      "needs_background": "light"
     },
     "output_type": "display_data"
    }
   ],
   "source": [
    "history_df = pd.DataFrame(history.history)\n",
    "history_df[['accuracy','val_accuracy']].plot()\n",
    "history_df[['loss','val_loss']].plot()"
   ]
  },
  {
   "cell_type": "code",
   "execution_count": 63,
   "metadata": {
    "ExecuteTime": {
     "end_time": "2020-06-10T01:07:27.530985Z",
     "start_time": "2020-06-10T01:07:26.595349Z"
    }
   },
   "outputs": [
    {
     "data": {
      "text/plain": [
       "array([0.07311306, 0.59702826, 0.32985857], dtype=float32)"
      ]
     },
     "execution_count": 63,
     "metadata": {},
     "output_type": "execute_result"
    }
   ],
   "source": [
    "y_hat_te = model.predict(X_te_seq)\n",
    "y_hat_te[0]"
   ]
  },
  {
   "cell_type": "code",
   "execution_count": 76,
   "metadata": {
    "ExecuteTime": {
     "end_time": "2020-06-10T01:12:05.822992Z",
     "start_time": "2020-06-10T01:12:05.809345Z"
    }
   },
   "outputs": [],
   "source": [
    "\n",
    "def plot_confusion_matrix(conf_matrix, classes = None, normalize=True,\n",
    "                          title='Confusion Matrix', cmap=\"Blues\",\n",
    "                          print_raw_matrix=False,\n",
    "                          fig_size=(4,4)):\n",
    "    \"\"\"Check if Normalization Option is Set to True. \n",
    "    If so, normalize the raw confusion matrix before visualizing\n",
    "    #Other code should be equivalent to your previous function.\n",
    "    Note: Taken from bs_ds and modified\n",
    "    - Can pass a tuple of (y_true,y_pred) instead of conf matrix.\n",
    "    \"\"\"\n",
    "    import itertools\n",
    "    import numpy as np\n",
    "    import matplotlib.pyplot as plt\n",
    "    import sklearn.metrics as metrics\n",
    "    \n",
    "    ## make confusion matrix if given tuple of y_true,y_pred\n",
    "    if isinstance(conf_matrix, tuple):\n",
    "        y_true = conf_matrix[0].copy()\n",
    "        y_pred = conf_matrix[1].copy()\n",
    "        \n",
    "        if y_true.ndim>1:\n",
    "            y_true = y_true.argmax(axis=1)\n",
    "        if y_pred.ndim>1:\n",
    "            y_pred = y_pred.argmax(axis=1)\n",
    "        cm = metrics.confusion_matrix(y_true,y_pred)\n",
    "    else:\n",
    "        cm = conf_matrix\n",
    "        \n",
    "    ## Generate integer labels for classes\n",
    "    if classes is None:\n",
    "        classes = list(range(len(cm)))  \n",
    "        \n",
    "    ## Normalize data\n",
    "    if normalize:\n",
    "        cm = cm.astype('float') / cm.sum(axis=1)[:, np.newaxis]\n",
    "        fmt='.2f'\n",
    "        thresh=0.5\n",
    "    else:\n",
    "        fmt= 'd'\n",
    "        thresh=cm.max()/2\n",
    "        \n",
    "        \n",
    "    fontDict = {\n",
    "        'title':{\n",
    "            'fontsize':16,\n",
    "            'fontweight':'semibold',\n",
    "            'ha':'center',\n",
    "            },\n",
    "        'xlabel':{\n",
    "            'fontsize':14,\n",
    "            'fontweight':'normal',\n",
    "            },\n",
    "        'ylabel':{\n",
    "            'fontsize':14,\n",
    "            'fontweight':'normal',\n",
    "            },\n",
    "        'xtick_labels':{\n",
    "            'fontsize':10,\n",
    "            'fontweight':'normal',\n",
    "    #             'rotation':45,\n",
    "            'ha':'right',\n",
    "            },\n",
    "        'ytick_labels':{\n",
    "            'fontsize':10,\n",
    "            'fontweight':'normal',\n",
    "            'rotation':0,\n",
    "            'ha':'right',\n",
    "            },\n",
    "        'data_labels':{\n",
    "            'ha':'center',\n",
    "            'fontweight':'semibold',\n",
    "\n",
    "        }\n",
    "    }\n",
    "\n",
    "    # Create plot\n",
    "    fig,ax = plt.subplots(figsize=fig_size)\n",
    "\n",
    "    plt.imshow(cm, interpolation='nearest', cmap=cmap)\n",
    "    plt.title(title,**fontDict['title'])\n",
    "    plt.colorbar()\n",
    "\n",
    "    tick_marks = classes#np.arange(len(classes))\n",
    "\n",
    "\n",
    "    plt.xticks(tick_marks, classes, **fontDict['xtick_labels'])\n",
    "    plt.yticks(tick_marks, classes,**fontDict['ytick_labels'])\n",
    "\n",
    "    # Determine threshold for b/w text\n",
    "    thresh = cm.max() / 2.\n",
    "\n",
    "    # fig,ax = plt.subplots()\n",
    "    for i, j in itertools.product(range(cm.shape[0]), range(cm.shape[1])):\n",
    "        plt.text(j, i, format(cm[i, j], fmt),\n",
    "                 color='black' if cm[i,j]<thresh else \"white\",#'darkgray',\n",
    "                        **fontDict['data_labels']) #color=\"white\" if cm[i, j] > thresh else \"black\"\n",
    "\n",
    "    plt.tight_layout()\n",
    "    plt.ylabel('True label',**fontDict['ylabel'])\n",
    "    plt.xlabel('Predicted label',**fontDict['xlabel'])\n",
    "\n",
    "    if print_raw_matrix:\n",
    "        print_title = 'Raw Confusion Matrix Counts:'\n",
    "        print('\\n',print_title)\n",
    "        print(conf_matrix)\n",
    "\n",
    "\n",
    "    fig = plt.gcf()\n",
    "    return fig\n"
   ]
  },
  {
   "cell_type": "code",
   "execution_count": 77,
   "metadata": {
    "ExecuteTime": {
     "end_time": "2020-06-10T01:12:05.955694Z",
     "start_time": "2020-06-10T01:12:05.952068Z"
    }
   },
   "outputs": [
    {
     "data": {
      "text/plain": [
       "array([[0., 1., 0.],\n",
       "       [0., 0., 1.],\n",
       "       [0., 1., 0.],\n",
       "       ...,\n",
       "       [0., 1., 0.],\n",
       "       [0., 1., 0.],\n",
       "       [0., 1., 0.]], dtype=float32)"
      ]
     },
     "execution_count": 77,
     "metadata": {},
     "output_type": "execute_result"
    }
   ],
   "source": [
    "y_te"
   ]
  },
  {
   "cell_type": "code",
   "execution_count": 78,
   "metadata": {
    "ExecuteTime": {
     "end_time": "2020-06-10T01:12:06.104002Z",
     "start_time": "2020-06-10T01:12:06.095376Z"
    }
   },
   "outputs": [
    {
     "name": "stdout",
     "output_type": "stream",
     "text": [
      "              precision    recall  f1-score   support\n",
      "\n",
      "           0       0.75      0.02      0.04       142\n",
      "           1       0.74      0.81      0.77      1347\n",
      "           2       0.56      0.57      0.56       745\n",
      "\n",
      "    accuracy                           0.68      2234\n",
      "   macro avg       0.68      0.47      0.46      2234\n",
      "weighted avg       0.68      0.68      0.66      2234\n",
      "\n"
     ]
    }
   ],
   "source": [
    "from sklearn import metrics\n",
    "print(metrics.classification_report(y_te.argmax(axis=1),y_hat_te.argmax(axis=1)))"
   ]
  },
  {
   "cell_type": "code",
   "execution_count": 79,
   "metadata": {
    "ExecuteTime": {
     "end_time": "2020-06-10T01:12:06.191841Z",
     "start_time": "2020-06-10T01:12:06.187575Z"
    }
   },
   "outputs": [
    {
     "data": {
      "text/plain": [
       "array([[0.07311306, 0.59702826, 0.32985857],\n",
       "       [0.08107234, 0.2064287 , 0.71249896],\n",
       "       [0.06607819, 0.57791615, 0.35600567],\n",
       "       ...,\n",
       "       [0.0081293 , 0.91323465, 0.07863597],\n",
       "       [0.00188054, 0.9745709 , 0.02354861],\n",
       "       [0.02217011, 0.87170315, 0.10612674]], dtype=float32)"
      ]
     },
     "execution_count": 79,
     "metadata": {},
     "output_type": "execute_result"
    }
   ],
   "source": [
    "y_hat_te"
   ]
  },
  {
   "cell_type": "code",
   "execution_count": 80,
   "metadata": {
    "ExecuteTime": {
     "end_time": "2020-06-10T01:12:06.545388Z",
     "start_time": "2020-06-10T01:12:06.334045Z"
    }
   },
   "outputs": [
    {
     "data": {
      "image/png": "[encoded data removed]",
      "text/plain": [
       "<Figure size 288x288 with 2 Axes>"
      ]
     },
     "metadata": {
      "needs_background": "light"
     },
     "output_type": "display_data"
    }
   ],
   "source": [
    "plot_confusion_matrix((y_te,y_hat_te));"
   ]
  },
  {
   "cell_type": "code",
   "execution_count": 81,
   "metadata": {
    "ExecuteTime": {
     "end_time": "2020-06-10T01:12:06.551017Z",
     "start_time": "2020-06-10T01:12:06.546816Z"
    }
   },
   "outputs": [
    {
     "name": "stdout",
     "output_type": "stream",
     "text": [
      "(2234, 3)\n"
     ]
    },
    {
     "data": {
      "text/plain": [
       "array([[0.07311306, 0.59702826, 0.32985857],\n",
       "       [0.08107234, 0.2064287 , 0.71249896],\n",
       "       [0.06607819, 0.57791615, 0.35600567],\n",
       "       [0.00196028, 0.9544457 , 0.04359404],\n",
       "       [0.09439602, 0.34685785, 0.55874616]], dtype=float32)"
      ]
     },
     "execution_count": 81,
     "metadata": {},
     "output_type": "execute_result"
    }
   ],
   "source": [
    "print(y_hat_te.shape)\n",
    "y_hat_te[:5]"
   ]
  },
  {
   "cell_type": "code",
   "execution_count": 82,
   "metadata": {
    "ExecuteTime": {
     "end_time": "2020-06-10T01:12:06.607083Z",
     "start_time": "2020-06-10T01:12:06.603494Z"
    }
   },
   "outputs": [
    {
     "data": {
      "text/plain": [
       "array([1, 2, 1, 1, 2])"
      ]
     },
     "execution_count": 82,
     "metadata": {},
     "output_type": "execute_result"
    }
   ],
   "source": [
    "y_hat_te.argmax(axis=1)[:5]"
   ]
  },
  {
   "cell_type": "code",
   "execution_count": null,
   "metadata": {},
   "outputs": [],
   "source": []
  },
  {
   "cell_type": "code",
   "execution_count": null,
   "metadata": {},
   "outputs": [],
   "source": []
  },
  {
   "cell_type": "code",
   "execution_count": null,
   "metadata": {
    "ExecuteTime": {
     "end_time": "2020-06-09T23:48:57.610771Z",
     "start_time": "2020-06-09T23:48:57.605472Z"
    }
   },
   "outputs": [],
   "source": [
    "y_te[0]"
   ]
  },
  {
   "cell_type": "code",
   "execution_count": null,
   "metadata": {
    "ExecuteTime": {
     "end_time": "2020-06-09T23:48:58.095133Z",
     "start_time": "2020-06-09T23:48:58.090274Z"
    }
   },
   "outputs": [],
   "source": [
    "y_te.argmax(axis=1)"
   ]
  },
  {
   "cell_type": "code",
   "execution_count": null,
   "metadata": {
    "ExecuteTime": {
     "end_time": "2020-06-09T23:48:58.646421Z",
     "start_time": "2020-06-09T23:48:58.641759Z"
    }
   },
   "outputs": [],
   "source": [
    "y_hat_te.argmax(axis=1)"
   ]
  },
  {
   "cell_type": "code",
   "execution_count": null,
   "metadata": {
    "ExecuteTime": {
     "end_time": "2020-06-09T23:48:59.644105Z",
     "start_time": "2020-06-09T23:48:59.640350Z"
    }
   },
   "outputs": [],
   "source": [
    "y_te[0]"
   ]
  },
  {
   "cell_type": "code",
   "execution_count": null,
   "metadata": {
    "ExecuteTime": {
     "end_time": "2020-06-09T23:48:59.927973Z",
     "start_time": "2020-06-09T23:48:59.923540Z"
    }
   },
   "outputs": [],
   "source": [
    "X_te_seq[0].shape"
   ]
  },
  {
   "cell_type": "code",
   "execution_count": null,
   "metadata": {
    "ExecuteTime": {
     "end_time": "2020-06-09T23:49:00.658593Z",
     "start_time": "2020-06-09T23:49:00.654790Z"
    }
   },
   "outputs": [],
   "source": [
    "tokenizer.sequences_to_texts([X_te_seq[0]])"
   ]
  },
  {
   "cell_type": "code",
   "execution_count": null,
   "metadata": {
    "ExecuteTime": {
     "end_time": "2020-06-09T23:49:02.098312Z",
     "start_time": "2020-06-09T23:49:02.094737Z"
    }
   },
   "outputs": [],
   "source": [
    "ex = X_te_seq[0]\n",
    "ex"
   ]
  },
  {
   "cell_type": "code",
   "execution_count": null,
   "metadata": {
    "ExecuteTime": {
     "end_time": "2020-06-09T23:49:02.451111Z",
     "start_time": "2020-06-09T23:49:02.447296Z"
    }
   },
   "outputs": [],
   "source": [
    "X_te.iloc[0]"
   ]
  },
  {
   "cell_type": "code",
   "execution_count": null,
   "metadata": {
    "ExecuteTime": {
     "end_time": "2020-06-05T02:04:01.316198Z",
     "start_time": "2020-06-05T02:04:01.311293Z"
    }
   },
   "outputs": [],
   "source": [
    "missed_rows = y_te.argmax(axis=1) != y_hat_te.argmax(axis=1)\n",
    "missed_labels = y_te[missed_rows]\n",
    "missed_texts = X_te_seq[missed_rows]\n",
    "missed_texts"
   ]
  },
  {
   "cell_type": "code",
   "execution_count": null,
   "metadata": {
    "ExecuteTime": {
     "end_time": "2020-06-05T02:05:48.976257Z",
     "start_time": "2020-06-05T02:05:48.901722Z"
    }
   },
   "outputs": [],
   "source": [
    "i=0\n",
    "txt = missed_texts[i]\n",
    "lbl = missed_labels[i]\n",
    "print(i)\n",
    "print(txt)\n",
    "tokenizer.sequences_to_texts(missed_texts)"
   ]
  },
  {
   "cell_type": "code",
   "execution_count": null,
   "metadata": {},
   "outputs": [],
   "source": []
  }
 ],
 "metadata": {
  "kernelspec": {
   "display_name": "learn-env",
   "language": "python",
   "name": "learn-env"
  },
  "language_info": {
   "codemirror_mode": {
    "name": "ipython",
    "version": 3
   },
   "file_extension": ".py",
   "mimetype": "text/x-python",
   "name": "python",
   "nbconvert_exporter": "python",
   "pygments_lexer": "ipython3",
   "version": "3.6.9"
  },
  "toc": {
   "base_numbering": 1,
   "nav_menu": {},
   "number_sections": true,
   "sideBar": true,
   "skip_h1_title": false,
   "title_cell": "Table of Contents",
   "title_sidebar": "Contents",
   "toc_cell": false,
   "toc_position": {},
   "toc_section_display": true,
   "toc_window_display": false
  }
 },
 "nbformat": 4,
 "nbformat_minor": 2
}
