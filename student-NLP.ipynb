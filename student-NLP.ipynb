{
 "cells": [
  {
   "cell_type": "markdown",
   "metadata": {},
   "source": [
    "# Mod 4 Project Office Hours "
   ]
  },
  {
   "cell_type": "markdown",
   "metadata": {},
   "source": [
    "- 06/09/20"
   ]
  },
  {
   "cell_type": "markdown",
   "metadata": {},
   "source": [
    "## Questions"
   ]
  },
  {
   "cell_type": "markdown",
   "metadata": {},
   "source": [
    "- Explaining what words were important for a Neural Network\n",
    "    - Look into classification from Lime, Yellowbrick, Eli5, \n",
    "    \n",
    "- EDA/Visuals:\n",
    "    - Word clouds - https://www.datacamp.com/community/tutorials/wordcloud-python\n",
    "    - Bigrams - Looking for mutual information pmi.\n",
    "    - Sentiment Analysis with Vader from NLTK\n",
    "    - [Scattertext](https://github.com/JasonKessler/scattertext)\n",
    "    \n",
    "- Overlapping Multi-Class Classification Task (multi y-columns)\n",
    "    - Loop through the columns in the training and test data to pull out each one and then run separate sklearn classification_report/confusion matrices\n",
    "    - Since predictions form ANNs are probabilities, you will need to round each column to 0 or 1 before running through sklearn"
   ]
  },
  {
   "cell_type": "markdown",
   "metadata": {},
   "source": [
    "## Data "
   ]
  },
  {
   "cell_type": "code",
   "execution_count": 1,
   "metadata": {
    "ExecuteTime": {
     "end_time": "2020-06-29T19:10:07.742115Z",
     "start_time": "2020-06-29T19:10:07.738762Z"
    }
   },
   "outputs": [],
   "source": [
    "# !pip install -U seaborn"
   ]
  },
  {
   "cell_type": "code",
   "execution_count": 2,
   "metadata": {
    "ExecuteTime": {
     "end_time": "2020-06-29T19:10:16.943995Z",
     "start_time": "2020-06-29T19:10:07.744944Z"
    }
   },
   "outputs": [
    {
     "name": "stdout",
     "output_type": "stream",
     "text": [
      "fsds_1007219  v0.7.22 loaded.  Read the docs: https://fsds.readthedocs.io/en/latest/ \n"
     ]
    },
    {
     "data": {
      "text/html": [
       "<style  type=\"text/css\" >\n",
       "</style><table id=\"T_2a138dd4_ba3c_11ea_a278_4865ee12e626\" ><caption>Loaded Packages and Handles</caption><thead>    <tr>        <th class=\"col_heading level0 col0\" >Handle</th>        <th class=\"col_heading level0 col1\" >Package</th>        <th class=\"col_heading level0 col2\" >Description</th>    </tr></thead><tbody>\n",
       "                <tr>\n",
       "                                <td id=\"T_2a138dd4_ba3c_11ea_a278_4865ee12e626row0_col0\" class=\"data row0 col0\" >dp</td>\n",
       "                        <td id=\"T_2a138dd4_ba3c_11ea_a278_4865ee12e626row0_col1\" class=\"data row0 col1\" >IPython.display</td>\n",
       "                        <td id=\"T_2a138dd4_ba3c_11ea_a278_4865ee12e626row0_col2\" class=\"data row0 col2\" >Display modules with helpful display and clearing commands.</td>\n",
       "            </tr>\n",
       "            <tr>\n",
       "                                <td id=\"T_2a138dd4_ba3c_11ea_a278_4865ee12e626row1_col0\" class=\"data row1 col0\" >fs</td>\n",
       "                        <td id=\"T_2a138dd4_ba3c_11ea_a278_4865ee12e626row1_col1\" class=\"data row1 col1\" >fsds_100719</td>\n",
       "                        <td id=\"T_2a138dd4_ba3c_11ea_a278_4865ee12e626row1_col2\" class=\"data row1 col2\" >Custom data science bootcamp student package</td>\n",
       "            </tr>\n",
       "            <tr>\n",
       "                                <td id=\"T_2a138dd4_ba3c_11ea_a278_4865ee12e626row2_col0\" class=\"data row2 col0\" >mpl</td>\n",
       "                        <td id=\"T_2a138dd4_ba3c_11ea_a278_4865ee12e626row2_col1\" class=\"data row2 col1\" >matplotlib</td>\n",
       "                        <td id=\"T_2a138dd4_ba3c_11ea_a278_4865ee12e626row2_col2\" class=\"data row2 col2\" >Matplotlib's base OOP module with formatting artists</td>\n",
       "            </tr>\n",
       "            <tr>\n",
       "                                <td id=\"T_2a138dd4_ba3c_11ea_a278_4865ee12e626row3_col0\" class=\"data row3 col0\" >plt</td>\n",
       "                        <td id=\"T_2a138dd4_ba3c_11ea_a278_4865ee12e626row3_col1\" class=\"data row3 col1\" >matplotlib.pyplot</td>\n",
       "                        <td id=\"T_2a138dd4_ba3c_11ea_a278_4865ee12e626row3_col2\" class=\"data row3 col2\" >Matplotlib's matlab-like plotting module</td>\n",
       "            </tr>\n",
       "            <tr>\n",
       "                                <td id=\"T_2a138dd4_ba3c_11ea_a278_4865ee12e626row4_col0\" class=\"data row4 col0\" >np</td>\n",
       "                        <td id=\"T_2a138dd4_ba3c_11ea_a278_4865ee12e626row4_col1\" class=\"data row4 col1\" >numpy</td>\n",
       "                        <td id=\"T_2a138dd4_ba3c_11ea_a278_4865ee12e626row4_col2\" class=\"data row4 col2\" >scientific computing with Python</td>\n",
       "            </tr>\n",
       "            <tr>\n",
       "                                <td id=\"T_2a138dd4_ba3c_11ea_a278_4865ee12e626row5_col0\" class=\"data row5 col0\" >pd</td>\n",
       "                        <td id=\"T_2a138dd4_ba3c_11ea_a278_4865ee12e626row5_col1\" class=\"data row5 col1\" >pandas</td>\n",
       "                        <td id=\"T_2a138dd4_ba3c_11ea_a278_4865ee12e626row5_col2\" class=\"data row5 col2\" >High performance data structures and tools</td>\n",
       "            </tr>\n",
       "            <tr>\n",
       "                                <td id=\"T_2a138dd4_ba3c_11ea_a278_4865ee12e626row6_col0\" class=\"data row6 col0\" >sns</td>\n",
       "                        <td id=\"T_2a138dd4_ba3c_11ea_a278_4865ee12e626row6_col1\" class=\"data row6 col1\" >seaborn</td>\n",
       "                        <td id=\"T_2a138dd4_ba3c_11ea_a278_4865ee12e626row6_col2\" class=\"data row6 col2\" >High-level data visualization library based on matplotlib</td>\n",
       "            </tr>\n",
       "    </tbody></table>"
      ],
      "text/plain": [
       "<pandas.io.formats.style.Styler at 0x1127c6710>"
      ]
     },
     "metadata": {},
     "output_type": "display_data"
    },
    {
     "data": {
      "text/html": [
       "        <script type=\"text/javascript\">\n",
       "        window.PlotlyConfig = {MathJaxConfig: 'local'};\n",
       "        if (window.MathJax) {MathJax.Hub.Config({SVG: {font: \"STIX-Web\"}});}\n",
       "        if (typeof require !== 'undefined') {\n",
       "        require.undef(\"plotly\");\n",
       "        requirejs.config({\n",
       "            paths: {\n",
       "                'plotly': ['https://cdn.plot.ly/plotly-latest.min']\n",
       "            }\n",
       "        });\n",
       "        require(['plotly'], function(Plotly) {\n",
       "            window._Plotly = Plotly;\n",
       "        });\n",
       "        }\n",
       "        </script>\n",
       "        "
      ]
     },
     "metadata": {},
     "output_type": "display_data"
    },
    {
     "name": "stdout",
     "output_type": "stream",
     "text": [
      "[i] Pandas .iplot() method activated.\n"
     ]
    }
   ],
   "source": [
    "!pip install -U fsds_100719\n",
    "from fsds_100719.imports import *"
   ]
  },
  {
   "cell_type": "code",
   "execution_count": 3,
   "metadata": {
    "ExecuteTime": {
     "end_time": "2020-06-29T19:10:16.948051Z",
     "start_time": "2020-06-29T19:10:16.945805Z"
    }
   },
   "outputs": [],
   "source": [
    "# %conda uninstall matplotlib"
   ]
  },
  {
   "cell_type": "code",
   "execution_count": 4,
   "metadata": {
    "ExecuteTime": {
     "end_time": "2020-06-29T19:10:16.953793Z",
     "start_time": "2020-06-29T19:10:16.950725Z"
    }
   },
   "outputs": [],
   "source": [
    "# %conda install -c conda-forge matplotlib\n"
   ]
  },
  {
   "cell_type": "code",
   "execution_count": 5,
   "metadata": {
    "ExecuteTime": {
     "end_time": "2020-06-29T19:10:16.958064Z",
     "start_time": "2020-06-29T19:10:16.955047Z"
    }
   },
   "outputs": [
    {
     "data": {
      "text/plain": [
       "'3.2.1'"
      ]
     },
     "execution_count": 5,
     "metadata": {},
     "output_type": "execute_result"
    }
   ],
   "source": [
    "mpl.__version__"
   ]
  },
  {
   "cell_type": "code",
   "execution_count": 6,
   "metadata": {
    "ExecuteTime": {
     "end_time": "2020-06-29T19:10:16.961482Z",
     "start_time": "2020-06-29T19:10:16.959324Z"
    }
   },
   "outputs": [],
   "source": [
    "import matplotlib"
   ]
  },
  {
   "cell_type": "code",
   "execution_count": 7,
   "metadata": {
    "ExecuteTime": {
     "end_time": "2020-06-29T19:10:16.966008Z",
     "start_time": "2020-06-29T19:10:16.962678Z"
    }
   },
   "outputs": [
    {
     "data": {
      "text/plain": [
       "'3.2.1'"
      ]
     },
     "execution_count": 7,
     "metadata": {},
     "output_type": "execute_result"
    }
   ],
   "source": [
    "matplotlib.__version__"
   ]
  },
  {
   "cell_type": "code",
   "execution_count": 8,
   "metadata": {
    "ExecuteTime": {
     "end_time": "2020-06-29T19:10:17.092265Z",
     "start_time": "2020-06-29T19:10:16.967498Z"
    }
   },
   "outputs": [
    {
     "name": "stdout",
     "output_type": "stream",
     "text": [
      "Python 3.6.9 :: Anaconda, Inc.\r\n"
     ]
    }
   ],
   "source": [
    "!python --version"
   ]
  },
  {
   "cell_type": "code",
   "execution_count": 9,
   "metadata": {
    "ExecuteTime": {
     "end_time": "2020-06-29T19:10:17.099332Z",
     "start_time": "2020-06-29T19:10:17.095156Z"
    }
   },
   "outputs": [
    {
     "data": {
      "text/plain": [
       "'/Users/jamesirving/.matplotlib'"
      ]
     },
     "execution_count": 9,
     "metadata": {},
     "output_type": "execute_result"
    }
   ],
   "source": [
    "# import matplotlib as mpl\n",
    "matplotlib.get_configdir()"
   ]
  },
  {
   "cell_type": "code",
   "execution_count": 10,
   "metadata": {
    "ExecuteTime": {
     "end_time": "2020-06-29T19:10:17.104674Z",
     "start_time": "2020-06-29T19:10:17.100960Z"
    }
   },
   "outputs": [
    {
     "data": {
      "text/plain": [
       "'/opt/anaconda3/envs/learn-env/lib/python3.6/site-packages/matplotlib/__init__.py'"
      ]
     },
     "execution_count": 10,
     "metadata": {},
     "output_type": "execute_result"
    }
   ],
   "source": [
    "matplotlib.__file__"
   ]
  },
  {
   "cell_type": "code",
   "execution_count": 11,
   "metadata": {
    "ExecuteTime": {
     "end_time": "2020-06-29T19:10:17.108821Z",
     "start_time": "2020-06-29T19:10:17.106021Z"
    }
   },
   "outputs": [],
   "source": [
    "import os,shutil,glob\n",
    "# search_dir=\"/Users/jamesirving/Downloads/\""
   ]
  },
  {
   "cell_type": "code",
   "execution_count": 12,
   "metadata": {
    "ExecuteTime": {
     "end_time": "2020-06-29T19:10:17.113626Z",
     "start_time": "2020-06-29T19:10:17.111034Z"
    },
    "scrolled": true
   },
   "outputs": [],
   "source": [
    "# with open('README.md') as f:\n",
    "#     dp.display(dp.Markdown(f.read()))"
   ]
  },
  {
   "cell_type": "markdown",
   "metadata": {},
   "source": [
    "<div style=\"display:block;border-left: 3px solid black;padding:2em;\">  Build a model that can rate the sentiment of a Tweet based on its content.\n",
    "\n",
    "</div>"
   ]
  },
  {
   "cell_type": "code",
   "execution_count": 13,
   "metadata": {
    "ExecuteTime": {
     "end_time": "2020-06-29T19:10:17.119353Z",
     "start_time": "2020-06-29T19:10:17.115704Z"
    }
   },
   "outputs": [],
   "source": [
    "# os.listdir(search_dir)"
   ]
  },
  {
   "cell_type": "code",
   "execution_count": 14,
   "metadata": {
    "ExecuteTime": {
     "end_time": "2020-06-29T19:10:17.122901Z",
     "start_time": "2020-06-29T19:10:17.120971Z"
    }
   },
   "outputs": [],
   "source": [
    "# files = list(filter(os.path.isfile, glob.glob(search_dir + \"*\")))\n",
    "# files.sort(key=lambda x: os.path.getmtime(x))\n"
   ]
  },
  {
   "cell_type": "code",
   "execution_count": 15,
   "metadata": {
    "ExecuteTime": {
     "end_time": "2020-06-29T19:10:17.128307Z",
     "start_time": "2020-06-29T19:10:17.124181Z"
    }
   },
   "outputs": [
    {
     "data": {
      "text/plain": [
       "['student-NLP.ipynb',\n",
       " 'judge-1377884607_tweet_product_company.csv',\n",
       " 'time-series',\n",
       " 'LICENSE.md',\n",
       " 'student-recommendation.ipynb',\n",
       " 'images',\n",
       " 'ml-latest-small',\n",
       " '2.0',\n",
       " 'Models',\n",
       " 'student-pneumonia.ipynb',\n",
       " 'README.md',\n",
       " '.gitignore',\n",
       " 'CONTRIBUTING.md',\n",
       " '.ipynb_checkpoints',\n",
       " '.learn',\n",
       " '.git',\n",
       " 'your-original-env.txt']"
      ]
     },
     "execution_count": 15,
     "metadata": {},
     "output_type": "execute_result"
    }
   ],
   "source": [
    "os.listdir()"
   ]
  },
  {
   "cell_type": "code",
   "execution_count": 16,
   "metadata": {
    "ExecuteTime": {
     "end_time": "2020-06-29T19:10:17.173452Z",
     "start_time": "2020-06-29T19:10:17.129867Z"
    }
   },
   "outputs": [
    {
     "data": {
      "text/html": [
       "<div>\n",
       "<style scoped>\n",
       "    .dataframe tbody tr th:only-of-type {\n",
       "        vertical-align: middle;\n",
       "    }\n",
       "\n",
       "    .dataframe tbody tr th {\n",
       "        vertical-align: top;\n",
       "    }\n",
       "\n",
       "    .dataframe thead th {\n",
       "        text-align: right;\n",
       "    }\n",
       "</style>\n",
       "<table border=\"1\" class=\"dataframe\">\n",
       "  <thead>\n",
       "    <tr style=\"text-align: right;\">\n",
       "      <th></th>\n",
       "      <th>tweet_text</th>\n",
       "      <th>emotion_in_tweet_is_directed_at</th>\n",
       "      <th>is_there_an_emotion_directed_at_a_brand_or_product</th>\n",
       "    </tr>\n",
       "  </thead>\n",
       "  <tbody>\n",
       "    <tr>\n",
       "      <td>0</td>\n",
       "      <td>.@wesley83 I have a 3G iPhone. After 3 hrs twe...</td>\n",
       "      <td>iPhone</td>\n",
       "      <td>Negative emotion</td>\n",
       "    </tr>\n",
       "    <tr>\n",
       "      <td>1</td>\n",
       "      <td>@jessedee Know about @fludapp ? Awesome iPad/i...</td>\n",
       "      <td>iPad or iPhone App</td>\n",
       "      <td>Positive emotion</td>\n",
       "    </tr>\n",
       "    <tr>\n",
       "      <td>2</td>\n",
       "      <td>@swonderlin Can not wait for #iPad 2 also. The...</td>\n",
       "      <td>iPad</td>\n",
       "      <td>Positive emotion</td>\n",
       "    </tr>\n",
       "    <tr>\n",
       "      <td>3</td>\n",
       "      <td>@sxsw I hope this year's festival isn't as cra...</td>\n",
       "      <td>iPad or iPhone App</td>\n",
       "      <td>Negative emotion</td>\n",
       "    </tr>\n",
       "    <tr>\n",
       "      <td>4</td>\n",
       "      <td>@sxtxstate great stuff on Fri #SXSW: Marissa M...</td>\n",
       "      <td>Google</td>\n",
       "      <td>Positive emotion</td>\n",
       "    </tr>\n",
       "  </tbody>\n",
       "</table>\n",
       "</div>"
      ],
      "text/plain": [
       "                                          tweet_text  \\\n",
       "0  .@wesley83 I have a 3G iPhone. After 3 hrs twe...   \n",
       "1  @jessedee Know about @fludapp ? Awesome iPad/i...   \n",
       "2  @swonderlin Can not wait for #iPad 2 also. The...   \n",
       "3  @sxsw I hope this year's festival isn't as cra...   \n",
       "4  @sxtxstate great stuff on Fri #SXSW: Marissa M...   \n",
       "\n",
       "  emotion_in_tweet_is_directed_at  \\\n",
       "0                          iPhone   \n",
       "1              iPad or iPhone App   \n",
       "2                            iPad   \n",
       "3              iPad or iPhone App   \n",
       "4                          Google   \n",
       "\n",
       "  is_there_an_emotion_directed_at_a_brand_or_product  \n",
       "0                                   Negative emotion  \n",
       "1                                   Positive emotion  \n",
       "2                                   Positive emotion  \n",
       "3                                   Negative emotion  \n",
       "4                                   Positive emotion  "
      ]
     },
     "execution_count": 16,
     "metadata": {},
     "output_type": "execute_result"
    }
   ],
   "source": [
    "df = pd.read_csv('judge-1377884607_tweet_product_company.csv',encoding='latin-1')\n",
    "df.head()"
   ]
  },
  {
   "cell_type": "code",
   "execution_count": 17,
   "metadata": {
    "ExecuteTime": {
     "end_time": "2020-06-29T19:10:24.096665Z",
     "start_time": "2020-06-29T19:10:24.088944Z"
    }
   },
   "outputs": [
    {
     "data": {
      "text/plain": [
       "iPad                               946\n",
       "Apple                              661\n",
       "iPad or iPhone App                 470\n",
       "Google                             430\n",
       "iPhone                             297\n",
       "Other Google product or service    293\n",
       "Android App                         81\n",
       "Android                             78\n",
       "Other Apple product or service      35\n",
       "Name: emotion_in_tweet_is_directed_at, dtype: int64"
      ]
     },
     "execution_count": 17,
     "metadata": {},
     "output_type": "execute_result"
    }
   ],
   "source": [
    "df['emotion_in_tweet_is_directed_at'].value_counts()"
   ]
  },
  {
   "cell_type": "code",
   "execution_count": 18,
   "metadata": {
    "ExecuteTime": {
     "end_time": "2020-06-29T20:04:26.984399Z",
     "start_time": "2020-06-29T20:04:26.980599Z"
    }
   },
   "outputs": [
    {
     "data": {
      "text/plain": [
       "array([['.@wesley83 I have a 3G iPhone. After 3 hrs tweeting at #RISE_Austin, it was dead!  I need to upgrade. Plugin stations at #SXSW.',\n",
       "        'iPhone', 'Negative emotion'],\n",
       "       [\"@jessedee Know about @fludapp ? Awesome iPad/iPhone app that you'll likely appreciate for its design. Also, they're giving free Ts at #SXSW\",\n",
       "        'iPad or iPhone App', 'Positive emotion'],\n",
       "       ['@swonderlin Can not wait for #iPad 2 also. They should sale them down at #SXSW.',\n",
       "        'iPad', 'Positive emotion'],\n",
       "       ...,\n",
       "       [\"Google's Zeiger, a physician never reported potential AE. Yet FDA relies on physicians. &quot;We're operating w/out data.&quot; #sxsw #health2dev\",\n",
       "        nan, 'No emotion toward brand or product'],\n",
       "       ['Some Verizon iPhone customers complained their time fell back an hour this weekend.  Of course they were the New Yorkers who attended #SXSW.',\n",
       "        nan, 'No emotion toward brand or product'],\n",
       "       ['\\x8cÏ¡\\x8eÏà\\x8aü_\\x8b\\x81Ê\\x8b\\x81Î\\x8b\\x81Ò\\x8b\\x81£\\x8b\\x81Á\\x8bââ\\x8b\\x81_\\x8b\\x81£\\x8b\\x81\\x8f\\x8bâ_\\x8bÛâRT @mention Google Tests \\x89ÛÏCheck-in Offers\\x89Û\\x9d At #SXSW {link}',\n",
       "        nan, 'No emotion toward brand or product']], dtype=object)"
      ]
     },
     "execution_count": 18,
     "metadata": {},
     "output_type": "execute_result"
    }
   ],
   "source": [
    "df.values"
   ]
  },
  {
   "cell_type": "code",
   "execution_count": 17,
   "metadata": {
    "ExecuteTime": {
     "end_time": "2020-06-23T20:00:16.359583Z",
     "start_time": "2020-06-23T20:00:16.354039Z"
    }
   },
   "outputs": [
    {
     "data": {
      "text/plain": [
       "tweet_text                                               1\n",
       "emotion_in_tweet_is_directed_at                       5802\n",
       "is_there_an_emotion_directed_at_a_brand_or_product       0\n",
       "dtype: int64"
      ]
     },
     "execution_count": 17,
     "metadata": {},
     "output_type": "execute_result"
    }
   ],
   "source": [
    "df.isna().sum()"
   ]
  },
  {
   "cell_type": "code",
   "execution_count": 18,
   "metadata": {
    "ExecuteTime": {
     "end_time": "2020-06-23T20:00:16.367129Z",
     "start_time": "2020-06-23T20:00:16.360825Z"
    }
   },
   "outputs": [
    {
     "data": {
      "text/plain": [
       "No emotion toward brand or product    5389\n",
       "Positive emotion                      2978\n",
       "Negative emotion                       570\n",
       "I can't tell                           156\n",
       "Name: is_there_an_emotion_directed_at_a_brand_or_product, dtype: int64"
      ]
     },
     "execution_count": 18,
     "metadata": {},
     "output_type": "execute_result"
    }
   ],
   "source": [
    "df['is_there_an_emotion_directed_at_a_brand_or_product'].value_counts()"
   ]
  },
  {
   "cell_type": "code",
   "execution_count": 19,
   "metadata": {
    "ExecuteTime": {
     "end_time": "2020-06-23T20:00:16.379480Z",
     "start_time": "2020-06-23T20:00:16.368565Z"
    }
   },
   "outputs": [
    {
     "data": {
      "text/html": [
       "<div>\n",
       "<style scoped>\n",
       "    .dataframe tbody tr th:only-of-type {\n",
       "        vertical-align: middle;\n",
       "    }\n",
       "\n",
       "    .dataframe tbody tr th {\n",
       "        vertical-align: top;\n",
       "    }\n",
       "\n",
       "    .dataframe thead th {\n",
       "        text-align: right;\n",
       "    }\n",
       "</style>\n",
       "<table border=\"1\" class=\"dataframe\">\n",
       "  <thead>\n",
       "    <tr style=\"text-align: right;\">\n",
       "      <th></th>\n",
       "      <th>tweet_text</th>\n",
       "      <th>is_there_an_emotion_directed_at_a_brand_or_product</th>\n",
       "    </tr>\n",
       "  </thead>\n",
       "  <tbody>\n",
       "    <tr>\n",
       "      <td>0</td>\n",
       "      <td>.@wesley83 I have a 3G iPhone. After 3 hrs twe...</td>\n",
       "      <td>Negative emotion</td>\n",
       "    </tr>\n",
       "    <tr>\n",
       "      <td>1</td>\n",
       "      <td>@jessedee Know about @fludapp ? Awesome iPad/i...</td>\n",
       "      <td>Positive emotion</td>\n",
       "    </tr>\n",
       "    <tr>\n",
       "      <td>2</td>\n",
       "      <td>@swonderlin Can not wait for #iPad 2 also. The...</td>\n",
       "      <td>Positive emotion</td>\n",
       "    </tr>\n",
       "    <tr>\n",
       "      <td>3</td>\n",
       "      <td>@sxsw I hope this year's festival isn't as cra...</td>\n",
       "      <td>Negative emotion</td>\n",
       "    </tr>\n",
       "    <tr>\n",
       "      <td>4</td>\n",
       "      <td>@sxtxstate great stuff on Fri #SXSW: Marissa M...</td>\n",
       "      <td>Positive emotion</td>\n",
       "    </tr>\n",
       "  </tbody>\n",
       "</table>\n",
       "</div>"
      ],
      "text/plain": [
       "                                          tweet_text  \\\n",
       "0  .@wesley83 I have a 3G iPhone. After 3 hrs twe...   \n",
       "1  @jessedee Know about @fludapp ? Awesome iPad/i...   \n",
       "2  @swonderlin Can not wait for #iPad 2 also. The...   \n",
       "3  @sxsw I hope this year's festival isn't as cra...   \n",
       "4  @sxtxstate great stuff on Fri #SXSW: Marissa M...   \n",
       "\n",
       "  is_there_an_emotion_directed_at_a_brand_or_product  \n",
       "0                                   Negative emotion  \n",
       "1                                   Positive emotion  \n",
       "2                                   Positive emotion  \n",
       "3                                   Negative emotion  \n",
       "4                                   Positive emotion  "
      ]
     },
     "execution_count": 19,
     "metadata": {},
     "output_type": "execute_result"
    }
   ],
   "source": [
    "df = df[~(df['is_there_an_emotion_directed_at_a_brand_or_product']==\"I can't tell\")]\n",
    "df = df.drop(columns=['emotion_in_tweet_is_directed_at'])\n",
    "df.head()"
   ]
  },
  {
   "cell_type": "code",
   "execution_count": 20,
   "metadata": {
    "ExecuteTime": {
     "end_time": "2020-06-23T20:00:16.390034Z",
     "start_time": "2020-06-23T20:00:16.380542Z"
    }
   },
   "outputs": [
    {
     "name": "stdout",
     "output_type": "stream",
     "text": [
      "tweet_text                                            1\n",
      "is_there_an_emotion_directed_at_a_brand_or_product    0\n",
      "dtype: int64\n",
      "tweet_text                                            0\n",
      "is_there_an_emotion_directed_at_a_brand_or_product    0\n",
      "dtype: int64\n"
     ]
    }
   ],
   "source": [
    "print(df.isna().sum())\n",
    "df.dropna(inplace=True)\n",
    "print(df.isna().sum())"
   ]
  },
  {
   "cell_type": "code",
   "execution_count": 21,
   "metadata": {
    "ExecuteTime": {
     "end_time": "2020-06-23T20:00:16.397242Z",
     "start_time": "2020-06-23T20:00:16.391270Z"
    }
   },
   "outputs": [
    {
     "data": {
      "text/plain": [
       "No emotion toward brand or product    5388\n",
       "Positive emotion                      2978\n",
       "Negative emotion                       570\n",
       "Name: sentiment, dtype: int64"
      ]
     },
     "execution_count": 21,
     "metadata": {},
     "output_type": "execute_result"
    }
   ],
   "source": [
    "y = df['is_there_an_emotion_directed_at_a_brand_or_product'].rename('sentiment')\n",
    "y.value_counts()"
   ]
  },
  {
   "cell_type": "code",
   "execution_count": 22,
   "metadata": {
    "ExecuteTime": {
     "end_time": "2020-06-23T20:00:16.408425Z",
     "start_time": "2020-06-23T20:00:16.398678Z"
    }
   },
   "outputs": [
    {
     "data": {
      "text/plain": [
       "No emotion toward brand or product    0.602954\n",
       "Positive emotion                      0.333259\n",
       "Negative emotion                      0.063787\n",
       "Name: sentiment, dtype: float64"
      ]
     },
     "execution_count": 22,
     "metadata": {},
     "output_type": "execute_result"
    }
   ],
   "source": [
    "y.value_counts(1)"
   ]
  },
  {
   "cell_type": "code",
   "execution_count": 23,
   "metadata": {
    "ExecuteTime": {
     "end_time": "2020-06-23T20:00:17.085608Z",
     "start_time": "2020-06-23T20:00:16.409536Z"
    }
   },
   "outputs": [],
   "source": [
    "import nltk,string"
   ]
  },
  {
   "cell_type": "code",
   "execution_count": 24,
   "metadata": {
    "ExecuteTime": {
     "end_time": "2020-06-23T20:00:17.102368Z",
     "start_time": "2020-06-23T20:00:17.089831Z"
    }
   },
   "outputs": [
    {
     "data": {
      "text/plain": [
       "['i',\n",
       " 'me',\n",
       " 'my',\n",
       " 'myself',\n",
       " 'we',\n",
       " 'our',\n",
       " 'ours',\n",
       " 'ourselves',\n",
       " 'you',\n",
       " \"you're\",\n",
       " \"you've\",\n",
       " \"you'll\",\n",
       " \"you'd\",\n",
       " 'your',\n",
       " 'yours',\n",
       " 'yourself',\n",
       " 'yourselves',\n",
       " 'he',\n",
       " 'him',\n",
       " 'his',\n",
       " 'himself',\n",
       " 'she',\n",
       " \"she's\",\n",
       " 'her',\n",
       " 'hers',\n",
       " 'herself',\n",
       " 'it',\n",
       " \"it's\",\n",
       " 'its',\n",
       " 'itself',\n",
       " 'they',\n",
       " 'them',\n",
       " 'their',\n",
       " 'theirs',\n",
       " 'themselves',\n",
       " 'what',\n",
       " 'which',\n",
       " 'who',\n",
       " 'whom',\n",
       " 'this',\n",
       " 'that',\n",
       " \"that'll\",\n",
       " 'these',\n",
       " 'those',\n",
       " 'am',\n",
       " 'is',\n",
       " 'are',\n",
       " 'was',\n",
       " 'were',\n",
       " 'be',\n",
       " 'been',\n",
       " 'being',\n",
       " 'have',\n",
       " 'has',\n",
       " 'had',\n",
       " 'having',\n",
       " 'do',\n",
       " 'does',\n",
       " 'did',\n",
       " 'doing',\n",
       " 'a',\n",
       " 'an',\n",
       " 'the',\n",
       " 'and',\n",
       " 'but',\n",
       " 'if',\n",
       " 'or',\n",
       " 'because',\n",
       " 'as',\n",
       " 'until',\n",
       " 'while',\n",
       " 'of',\n",
       " 'at',\n",
       " 'by',\n",
       " 'for',\n",
       " 'with',\n",
       " 'about',\n",
       " 'against',\n",
       " 'between',\n",
       " 'into',\n",
       " 'through',\n",
       " 'during',\n",
       " 'before',\n",
       " 'after',\n",
       " 'above',\n",
       " 'below',\n",
       " 'to',\n",
       " 'from',\n",
       " 'up',\n",
       " 'down',\n",
       " 'in',\n",
       " 'out',\n",
       " 'on',\n",
       " 'off',\n",
       " 'over',\n",
       " 'under',\n",
       " 'again',\n",
       " 'further',\n",
       " 'then',\n",
       " 'once',\n",
       " 'here',\n",
       " 'there',\n",
       " 'when',\n",
       " 'where',\n",
       " 'why',\n",
       " 'how',\n",
       " 'all',\n",
       " 'any',\n",
       " 'both',\n",
       " 'each',\n",
       " 'few',\n",
       " 'more',\n",
       " 'most',\n",
       " 'other',\n",
       " 'some',\n",
       " 'such',\n",
       " 'no',\n",
       " 'nor',\n",
       " 'not',\n",
       " 'only',\n",
       " 'own',\n",
       " 'same',\n",
       " 'so',\n",
       " 'than',\n",
       " 'too',\n",
       " 'very',\n",
       " 's',\n",
       " 't',\n",
       " 'can',\n",
       " 'will',\n",
       " 'just',\n",
       " 'don',\n",
       " \"don't\",\n",
       " 'should',\n",
       " \"should've\",\n",
       " 'now',\n",
       " 'd',\n",
       " 'll',\n",
       " 'm',\n",
       " 'o',\n",
       " 're',\n",
       " 've',\n",
       " 'y',\n",
       " 'ain',\n",
       " 'aren',\n",
       " \"aren't\",\n",
       " 'couldn',\n",
       " \"couldn't\",\n",
       " 'didn',\n",
       " \"didn't\",\n",
       " 'doesn',\n",
       " \"doesn't\",\n",
       " 'hadn',\n",
       " \"hadn't\",\n",
       " 'hasn',\n",
       " \"hasn't\",\n",
       " 'haven',\n",
       " \"haven't\",\n",
       " 'isn',\n",
       " \"isn't\",\n",
       " 'ma',\n",
       " 'mightn',\n",
       " \"mightn't\",\n",
       " 'mustn',\n",
       " \"mustn't\",\n",
       " 'needn',\n",
       " \"needn't\",\n",
       " 'shan',\n",
       " \"shan't\",\n",
       " 'shouldn',\n",
       " \"shouldn't\",\n",
       " 'wasn',\n",
       " \"wasn't\",\n",
       " 'weren',\n",
       " \"weren't\",\n",
       " 'won',\n",
       " \"won't\",\n",
       " 'wouldn',\n",
       " \"wouldn't\",\n",
       " '!',\n",
       " '\"',\n",
       " '#',\n",
       " '$',\n",
       " '%',\n",
       " '&',\n",
       " \"'\",\n",
       " '(',\n",
       " ')',\n",
       " '*',\n",
       " '+',\n",
       " ',',\n",
       " '-',\n",
       " '.',\n",
       " '/',\n",
       " ':',\n",
       " ';',\n",
       " '<',\n",
       " '=',\n",
       " '>',\n",
       " '?',\n",
       " '@',\n",
       " '[',\n",
       " '\\\\',\n",
       " ']',\n",
       " '^',\n",
       " '_',\n",
       " '`',\n",
       " '{',\n",
       " '|',\n",
       " '}',\n",
       " '~']"
      ]
     },
     "execution_count": 24,
     "metadata": {},
     "output_type": "execute_result"
    }
   ],
   "source": [
    "stopwords = nltk.corpus.stopwords.words('english')\n",
    "stopwords += string.punctuation\n",
    "stopwords"
   ]
  },
  {
   "cell_type": "code",
   "execution_count": 25,
   "metadata": {
    "ExecuteTime": {
     "end_time": "2020-06-23T20:00:17.107407Z",
     "start_time": "2020-06-23T20:00:17.104926Z"
    }
   },
   "outputs": [],
   "source": [
    "from nltk.tokenize import TweetTokenizer\n",
    "tokenizer = TweetTokenizer()\n",
    "# tokenizer.tokenize()"
   ]
  },
  {
   "cell_type": "code",
   "execution_count": 26,
   "metadata": {
    "ExecuteTime": {
     "end_time": "2020-06-23T20:00:17.113746Z",
     "start_time": "2020-06-23T20:00:17.109023Z"
    }
   },
   "outputs": [
    {
     "data": {
      "text/plain": [
       "0       .@wesley83 I have a 3G iPhone. After 3 hrs twe...\n",
       "1       @jessedee Know about @fludapp ? Awesome iPad/i...\n",
       "2       @swonderlin Can not wait for #iPad 2 also. The...\n",
       "3       @sxsw I hope this year's festival isn't as cra...\n",
       "4       @sxtxstate great stuff on Fri #SXSW: Marissa M...\n",
       "                              ...                        \n",
       "9088                        Ipad everywhere. #SXSW {link}\n",
       "9089    Wave, buzz... RT @mention We interrupt your re...\n",
       "9090    Google's Zeiger, a physician never reported po...\n",
       "9091    Some Verizon iPhone customers complained their...\n",
       "9092    Ï¡Ïàü_ÊÎÒ£Áââ_£â_ÛâRT @...\n",
       "Name: tweet_text, Length: 8936, dtype: object"
      ]
     },
     "execution_count": 26,
     "metadata": {},
     "output_type": "execute_result"
    }
   ],
   "source": [
    "df['tweet_text'] "
   ]
  },
  {
   "cell_type": "code",
   "execution_count": 27,
   "metadata": {
    "ExecuteTime": {
     "end_time": "2020-06-23T20:00:17.118520Z",
     "start_time": "2020-06-23T20:00:17.115172Z"
    }
   },
   "outputs": [],
   "source": [
    "def clean_tweet(text):\n",
    "    clean_text = tokenizer.tokenize(text)\n",
    "    stopped_text = [w.lower() for w in clean_text if w.lower() not in stopwords]\n",
    "    return stopped_text"
   ]
  },
  {
   "cell_type": "code",
   "execution_count": 28,
   "metadata": {
    "ExecuteTime": {
     "end_time": "2020-06-23T20:00:18.161362Z",
     "start_time": "2020-06-23T20:00:17.119916Z"
    }
   },
   "outputs": [
    {
     "data": {
      "text/html": [
       "<div>\n",
       "<style scoped>\n",
       "    .dataframe tbody tr th:only-of-type {\n",
       "        vertical-align: middle;\n",
       "    }\n",
       "\n",
       "    .dataframe tbody tr th {\n",
       "        vertical-align: top;\n",
       "    }\n",
       "\n",
       "    .dataframe thead th {\n",
       "        text-align: right;\n",
       "    }\n",
       "</style>\n",
       "<table border=\"1\" class=\"dataframe\">\n",
       "  <thead>\n",
       "    <tr style=\"text-align: right;\">\n",
       "      <th></th>\n",
       "      <th>tweet_text</th>\n",
       "      <th>is_there_an_emotion_directed_at_a_brand_or_product</th>\n",
       "      <th>text_stopped</th>\n",
       "    </tr>\n",
       "  </thead>\n",
       "  <tbody>\n",
       "    <tr>\n",
       "      <td>0</td>\n",
       "      <td>.@wesley83 I have a 3G iPhone. After 3 hrs twe...</td>\n",
       "      <td>Negative emotion</td>\n",
       "      <td>[@wesley83, 3g, iphone, 3, hrs, tweeting, #ris...</td>\n",
       "    </tr>\n",
       "    <tr>\n",
       "      <td>1</td>\n",
       "      <td>@jessedee Know about @fludapp ? Awesome iPad/i...</td>\n",
       "      <td>Positive emotion</td>\n",
       "      <td>[@jessedee, know, @fludapp, awesome, ipad, iph...</td>\n",
       "    </tr>\n",
       "    <tr>\n",
       "      <td>2</td>\n",
       "      <td>@swonderlin Can not wait for #iPad 2 also. The...</td>\n",
       "      <td>Positive emotion</td>\n",
       "      <td>[@swonderlin, wait, #ipad, 2, also, sale, #sxsw]</td>\n",
       "    </tr>\n",
       "    <tr>\n",
       "      <td>3</td>\n",
       "      <td>@sxsw I hope this year's festival isn't as cra...</td>\n",
       "      <td>Negative emotion</td>\n",
       "      <td>[@sxsw, hope, year's, festival, crashy, year's...</td>\n",
       "    </tr>\n",
       "    <tr>\n",
       "      <td>4</td>\n",
       "      <td>@sxtxstate great stuff on Fri #SXSW: Marissa M...</td>\n",
       "      <td>Positive emotion</td>\n",
       "      <td>[@sxtxstate, great, stuff, fri, #sxsw, marissa...</td>\n",
       "    </tr>\n",
       "    <tr>\n",
       "      <td>...</td>\n",
       "      <td>...</td>\n",
       "      <td>...</td>\n",
       "      <td>...</td>\n",
       "    </tr>\n",
       "    <tr>\n",
       "      <td>9088</td>\n",
       "      <td>Ipad everywhere. #SXSW {link}</td>\n",
       "      <td>Positive emotion</td>\n",
       "      <td>[ipad, everywhere, #sxsw, link]</td>\n",
       "    </tr>\n",
       "    <tr>\n",
       "      <td>9089</td>\n",
       "      <td>Wave, buzz... RT @mention We interrupt your re...</td>\n",
       "      <td>No emotion toward brand or product</td>\n",
       "      <td>[wave, buzz, ..., rt, @mention, interrupt, reg...</td>\n",
       "    </tr>\n",
       "    <tr>\n",
       "      <td>9090</td>\n",
       "      <td>Google's Zeiger, a physician never reported po...</td>\n",
       "      <td>No emotion toward brand or product</td>\n",
       "      <td>[google's, zeiger, physician, never, reported,...</td>\n",
       "    </tr>\n",
       "    <tr>\n",
       "      <td>9091</td>\n",
       "      <td>Some Verizon iPhone customers complained their...</td>\n",
       "      <td>No emotion toward brand or product</td>\n",
       "      <td>[verizon, iphone, customers, complained, time,...</td>\n",
       "    </tr>\n",
       "    <tr>\n",
       "      <td>9092</td>\n",
       "      <td>Ï¡Ïàü_ÊÎÒ£Áââ_£â_ÛâRT @...</td>\n",
       "      <td>No emotion toward brand or product</td>\n",
       "      <td>[, ï, ¡, , ïà, , ü_, , , ê, , , î, , ...</td>\n",
       "    </tr>\n",
       "  </tbody>\n",
       "</table>\n",
       "<p>8936 rows × 3 columns</p>\n",
       "</div>"
      ],
      "text/plain": [
       "                                             tweet_text  \\\n",
       "0     .@wesley83 I have a 3G iPhone. After 3 hrs twe...   \n",
       "1     @jessedee Know about @fludapp ? Awesome iPad/i...   \n",
       "2     @swonderlin Can not wait for #iPad 2 also. The...   \n",
       "3     @sxsw I hope this year's festival isn't as cra...   \n",
       "4     @sxtxstate great stuff on Fri #SXSW: Marissa M...   \n",
       "...                                                 ...   \n",
       "9088                      Ipad everywhere. #SXSW {link}   \n",
       "9089  Wave, buzz... RT @mention We interrupt your re...   \n",
       "9090  Google's Zeiger, a physician never reported po...   \n",
       "9091  Some Verizon iPhone customers complained their...   \n",
       "9092  Ï¡Ïàü_ÊÎÒ£Áââ_£â_ÛâRT @...   \n",
       "\n",
       "     is_there_an_emotion_directed_at_a_brand_or_product  \\\n",
       "0                                      Negative emotion   \n",
       "1                                      Positive emotion   \n",
       "2                                      Positive emotion   \n",
       "3                                      Negative emotion   \n",
       "4                                      Positive emotion   \n",
       "...                                                 ...   \n",
       "9088                                   Positive emotion   \n",
       "9089                 No emotion toward brand or product   \n",
       "9090                 No emotion toward brand or product   \n",
       "9091                 No emotion toward brand or product   \n",
       "9092                 No emotion toward brand or product   \n",
       "\n",
       "                                           text_stopped  \n",
       "0     [@wesley83, 3g, iphone, 3, hrs, tweeting, #ris...  \n",
       "1     [@jessedee, know, @fludapp, awesome, ipad, iph...  \n",
       "2      [@swonderlin, wait, #ipad, 2, also, sale, #sxsw]  \n",
       "3     [@sxsw, hope, year's, festival, crashy, year's...  \n",
       "4     [@sxtxstate, great, stuff, fri, #sxsw, marissa...  \n",
       "...                                                 ...  \n",
       "9088                    [ipad, everywhere, #sxsw, link]  \n",
       "9089  [wave, buzz, ..., rt, @mention, interrupt, reg...  \n",
       "9090  [google's, zeiger, physician, never, reported,...  \n",
       "9091  [verizon, iphone, customers, complained, time,...  \n",
       "9092  [, ï, ¡, , ïà, , ü_, , , ê, , , î, , ...  \n",
       "\n",
       "[8936 rows x 3 columns]"
      ]
     },
     "execution_count": 28,
     "metadata": {},
     "output_type": "execute_result"
    }
   ],
   "source": [
    "df['text_stopped'] = df['tweet_text'].map(clean_tweet)\n",
    "df"
   ]
  },
  {
   "cell_type": "code",
   "execution_count": 29,
   "metadata": {
    "ExecuteTime": {
     "end_time": "2020-06-23T20:00:18.167902Z",
     "start_time": "2020-06-23T20:00:18.162955Z"
    }
   },
   "outputs": [
    {
     "data": {
      "text/plain": [
       "0"
      ]
     },
     "execution_count": 29,
     "metadata": {},
     "output_type": "execute_result"
    }
   ],
   "source": [
    "df['is_there_an_emotion_directed_at_a_brand_or_product'].isna().sum()"
   ]
  },
  {
   "cell_type": "code",
   "execution_count": 30,
   "metadata": {
    "ExecuteTime": {
     "end_time": "2020-06-23T20:00:18.187183Z",
     "start_time": "2020-06-23T20:00:18.169260Z"
    }
   },
   "outputs": [
    {
     "data": {
      "text/html": [
       "<div>\n",
       "<style scoped>\n",
       "    .dataframe tbody tr th:only-of-type {\n",
       "        vertical-align: middle;\n",
       "    }\n",
       "\n",
       "    .dataframe tbody tr th {\n",
       "        vertical-align: top;\n",
       "    }\n",
       "\n",
       "    .dataframe thead th {\n",
       "        text-align: right;\n",
       "    }\n",
       "</style>\n",
       "<table border=\"1\" class=\"dataframe\">\n",
       "  <thead>\n",
       "    <tr style=\"text-align: right;\">\n",
       "      <th></th>\n",
       "      <th>tweet_text</th>\n",
       "      <th>is_there_an_emotion_directed_at_a_brand_or_product</th>\n",
       "      <th>text_stopped</th>\n",
       "      <th>target</th>\n",
       "    </tr>\n",
       "  </thead>\n",
       "  <tbody>\n",
       "    <tr>\n",
       "      <td>0</td>\n",
       "      <td>.@wesley83 I have a 3G iPhone. After 3 hrs twe...</td>\n",
       "      <td>Negative emotion</td>\n",
       "      <td>[@wesley83, 3g, iphone, 3, hrs, tweeting, #ris...</td>\n",
       "      <td>0</td>\n",
       "    </tr>\n",
       "    <tr>\n",
       "      <td>1</td>\n",
       "      <td>@jessedee Know about @fludapp ? Awesome iPad/i...</td>\n",
       "      <td>Positive emotion</td>\n",
       "      <td>[@jessedee, know, @fludapp, awesome, ipad, iph...</td>\n",
       "      <td>2</td>\n",
       "    </tr>\n",
       "    <tr>\n",
       "      <td>2</td>\n",
       "      <td>@swonderlin Can not wait for #iPad 2 also. The...</td>\n",
       "      <td>Positive emotion</td>\n",
       "      <td>[@swonderlin, wait, #ipad, 2, also, sale, #sxsw]</td>\n",
       "      <td>2</td>\n",
       "    </tr>\n",
       "    <tr>\n",
       "      <td>3</td>\n",
       "      <td>@sxsw I hope this year's festival isn't as cra...</td>\n",
       "      <td>Negative emotion</td>\n",
       "      <td>[@sxsw, hope, year's, festival, crashy, year's...</td>\n",
       "      <td>0</td>\n",
       "    </tr>\n",
       "    <tr>\n",
       "      <td>4</td>\n",
       "      <td>@sxtxstate great stuff on Fri #SXSW: Marissa M...</td>\n",
       "      <td>Positive emotion</td>\n",
       "      <td>[@sxtxstate, great, stuff, fri, #sxsw, marissa...</td>\n",
       "      <td>2</td>\n",
       "    </tr>\n",
       "    <tr>\n",
       "      <td>...</td>\n",
       "      <td>...</td>\n",
       "      <td>...</td>\n",
       "      <td>...</td>\n",
       "      <td>...</td>\n",
       "    </tr>\n",
       "    <tr>\n",
       "      <td>9088</td>\n",
       "      <td>Ipad everywhere. #SXSW {link}</td>\n",
       "      <td>Positive emotion</td>\n",
       "      <td>[ipad, everywhere, #sxsw, link]</td>\n",
       "      <td>2</td>\n",
       "    </tr>\n",
       "    <tr>\n",
       "      <td>9089</td>\n",
       "      <td>Wave, buzz... RT @mention We interrupt your re...</td>\n",
       "      <td>No emotion toward brand or product</td>\n",
       "      <td>[wave, buzz, ..., rt, @mention, interrupt, reg...</td>\n",
       "      <td>1</td>\n",
       "    </tr>\n",
       "    <tr>\n",
       "      <td>9090</td>\n",
       "      <td>Google's Zeiger, a physician never reported po...</td>\n",
       "      <td>No emotion toward brand or product</td>\n",
       "      <td>[google's, zeiger, physician, never, reported,...</td>\n",
       "      <td>1</td>\n",
       "    </tr>\n",
       "    <tr>\n",
       "      <td>9091</td>\n",
       "      <td>Some Verizon iPhone customers complained their...</td>\n",
       "      <td>No emotion toward brand or product</td>\n",
       "      <td>[verizon, iphone, customers, complained, time,...</td>\n",
       "      <td>1</td>\n",
       "    </tr>\n",
       "    <tr>\n",
       "      <td>9092</td>\n",
       "      <td>Ï¡Ïàü_ÊÎÒ£Áââ_£â_ÛâRT @...</td>\n",
       "      <td>No emotion toward brand or product</td>\n",
       "      <td>[, ï, ¡, , ïà, , ü_, , , ê, , , î, , ...</td>\n",
       "      <td>1</td>\n",
       "    </tr>\n",
       "  </tbody>\n",
       "</table>\n",
       "<p>8936 rows × 4 columns</p>\n",
       "</div>"
      ],
      "text/plain": [
       "                                             tweet_text  \\\n",
       "0     .@wesley83 I have a 3G iPhone. After 3 hrs twe...   \n",
       "1     @jessedee Know about @fludapp ? Awesome iPad/i...   \n",
       "2     @swonderlin Can not wait for #iPad 2 also. The...   \n",
       "3     @sxsw I hope this year's festival isn't as cra...   \n",
       "4     @sxtxstate great stuff on Fri #SXSW: Marissa M...   \n",
       "...                                                 ...   \n",
       "9088                      Ipad everywhere. #SXSW {link}   \n",
       "9089  Wave, buzz... RT @mention We interrupt your re...   \n",
       "9090  Google's Zeiger, a physician never reported po...   \n",
       "9091  Some Verizon iPhone customers complained their...   \n",
       "9092  Ï¡Ïàü_ÊÎÒ£Áââ_£â_ÛâRT @...   \n",
       "\n",
       "     is_there_an_emotion_directed_at_a_brand_or_product  \\\n",
       "0                                      Negative emotion   \n",
       "1                                      Positive emotion   \n",
       "2                                      Positive emotion   \n",
       "3                                      Negative emotion   \n",
       "4                                      Positive emotion   \n",
       "...                                                 ...   \n",
       "9088                                   Positive emotion   \n",
       "9089                 No emotion toward brand or product   \n",
       "9090                 No emotion toward brand or product   \n",
       "9091                 No emotion toward brand or product   \n",
       "9092                 No emotion toward brand or product   \n",
       "\n",
       "                                           text_stopped  target  \n",
       "0     [@wesley83, 3g, iphone, 3, hrs, tweeting, #ris...       0  \n",
       "1     [@jessedee, know, @fludapp, awesome, ipad, iph...       2  \n",
       "2      [@swonderlin, wait, #ipad, 2, also, sale, #sxsw]       2  \n",
       "3     [@sxsw, hope, year's, festival, crashy, year's...       0  \n",
       "4     [@sxtxstate, great, stuff, fri, #sxsw, marissa...       2  \n",
       "...                                                 ...     ...  \n",
       "9088                    [ipad, everywhere, #sxsw, link]       2  \n",
       "9089  [wave, buzz, ..., rt, @mention, interrupt, reg...       1  \n",
       "9090  [google's, zeiger, physician, never, reported,...       1  \n",
       "9091  [verizon, iphone, customers, complained, time,...       1  \n",
       "9092  [, ï, ¡, , ïà, , ü_, , , ê, , , î, , ...       1  \n",
       "\n",
       "[8936 rows x 4 columns]"
      ]
     },
     "execution_count": 30,
     "metadata": {},
     "output_type": "execute_result"
    }
   ],
   "source": [
    "from sklearn.preprocessing import LabelEncoder,OrdinalEncoder\n",
    "encoder = LabelEncoder()\n",
    "# encoder = OrdinalEncoder()\n",
    "df['target'] = encoder.fit_transform(df['is_there_an_emotion_directed_at_a_brand_or_product'])\n",
    "df"
   ]
  },
  {
   "cell_type": "code",
   "execution_count": 31,
   "metadata": {
    "ExecuteTime": {
     "end_time": "2020-06-23T20:00:18.197615Z",
     "start_time": "2020-06-23T20:00:18.188697Z"
    }
   },
   "outputs": [
    {
     "data": {
      "text/plain": [
       "0    .@wesley83 I have a 3G iPhone. After 3 hrs twe...\n",
       "1    @jessedee Know about @fludapp ? Awesome iPad/i...\n",
       "2    @swonderlin Can not wait for #iPad 2 also. The...\n",
       "3    @sxsw I hope this year's festival isn't as cra...\n",
       "4    @sxtxstate great stuff on Fri #SXSW: Marissa M...\n",
       "Name: tweet_text, dtype: object"
      ]
     },
     "metadata": {},
     "output_type": "display_data"
    },
    {
     "data": {
      "text/plain": [
       "0    0\n",
       "1    2\n",
       "2    2\n",
       "3    0\n",
       "4    2\n",
       "Name: target, dtype: int64"
      ]
     },
     "metadata": {},
     "output_type": "display_data"
    }
   ],
   "source": [
    "X = df['tweet_text'].copy()\n",
    "y = df['target'].copy()\n",
    "display(X.head(),y.head())"
   ]
  },
  {
   "cell_type": "code",
   "execution_count": 32,
   "metadata": {
    "ExecuteTime": {
     "end_time": "2020-06-23T20:00:18.205174Z",
     "start_time": "2020-06-23T20:00:18.198960Z"
    }
   },
   "outputs": [
    {
     "data": {
      "text/plain": [
       "1    0.602954\n",
       "2    0.333259\n",
       "0    0.063787\n",
       "Name: target, dtype: float64"
      ]
     },
     "execution_count": 32,
     "metadata": {},
     "output_type": "execute_result"
    }
   ],
   "source": [
    "y.value_counts(normalize=True)"
   ]
  },
  {
   "cell_type": "code",
   "execution_count": 33,
   "metadata": {
    "ExecuteTime": {
     "end_time": "2020-06-23T20:00:18.219389Z",
     "start_time": "2020-06-23T20:00:18.206651Z"
    }
   },
   "outputs": [],
   "source": [
    "from sklearn.model_selection import train_test_split\n",
    "X_tr,X_te,y_tr,y_te = train_test_split(X,y,stratify=y,random_state=42)"
   ]
  },
  {
   "cell_type": "code",
   "execution_count": 34,
   "metadata": {
    "ExecuteTime": {
     "end_time": "2020-06-23T20:00:18.225582Z",
     "start_time": "2020-06-23T20:00:18.220822Z"
    }
   },
   "outputs": [
    {
     "data": {
      "text/plain": [
       "2660    If you are heading to #sxsw make sure you have...\n",
       "3157           Showing off Uzu iPad app. #tapworthy #sxsw\n",
       "8020    Chris Messina from Google thinks a scope searc...\n",
       "8693    Catching up with @mention in our hotel room af...\n",
       "6573    RT @mention RT @mention It's not a rumor: Appl...\n",
       "                              ...                        \n",
       "506     Hey #SXSW folks please keep us posted on Googl...\n",
       "8627    I need a Twitter app recommendation for my new...\n",
       "6797    RT @mention Thrilled to have former Chief Tale...\n",
       "9001    Apparently mobile #sxsw GO app is not compatib...\n",
       "6166    So @mention is back from #sxsw and he's brough...\n",
       "Name: tweet_text, Length: 6702, dtype: object"
      ]
     },
     "execution_count": 34,
     "metadata": {},
     "output_type": "execute_result"
    }
   ],
   "source": [
    "X_tr"
   ]
  },
  {
   "cell_type": "code",
   "execution_count": 35,
   "metadata": {
    "ExecuteTime": {
     "end_time": "2020-06-23T20:00:18.230059Z",
     "start_time": "2020-06-23T20:00:18.227507Z"
    }
   },
   "outputs": [],
   "source": [
    "# from sklearn.datasets import fetch_20newsgroups\n",
    "# categories = ['alt.atheism', 'soc.religion.christian','comp.graphics', 'sci.med']\n",
    "# twenty_train = fetch_20newsgroups(subset='train', categories=categories, shuffle=True, random_state=42)\n",
    "# twenty_train['data'][0]"
   ]
  },
  {
   "cell_type": "code",
   "execution_count": 36,
   "metadata": {
    "ExecuteTime": {
     "end_time": "2020-06-23T20:00:18.234610Z",
     "start_time": "2020-06-23T20:00:18.232170Z"
    }
   },
   "outputs": [],
   "source": [
    "# from sklearn.feature_extraction.text import CountVectorizer,TfidfTransformer,TfidfVectorizer\n",
    "# from sklearn.naive_bayes import MultinomialNB\n",
    "# from sklearn.linear_model import SGDClassifier\n",
    "# from sklearn.pipeline import Pipeline\n",
    "# from sklearn.ensemble import RandomForestClassifier\n",
    "# from sklearn import metrics\n",
    "\n",
    "# # tf_transformer = TfidfTransformer(use_idf=True)\n",
    "# # tf_transformer.fit_transform()"
   ]
  },
  {
   "cell_type": "code",
   "execution_count": 37,
   "metadata": {
    "ExecuteTime": {
     "end_time": "2020-06-23T20:00:18.238664Z",
     "start_time": "2020-06-23T20:00:18.236440Z"
    }
   },
   "outputs": [],
   "source": [
    "# pipe_forest = Pipeline([('vectorize', CountVectorizer()),\n",
    "#                 ('tfidf',TfidfTransformer()),\n",
    "#                  ('clf',RandomForestClassifier(random_state=42))])\n",
    "# pipe_bayes = Pipeline([('vectorize', CountVectorizer()),\n",
    "#                 ('tfidf',TfidfTransformer()),\n",
    "#                  ('clf',MultinomialNB())])"
   ]
  },
  {
   "cell_type": "code",
   "execution_count": 38,
   "metadata": {
    "ExecuteTime": {
     "end_time": "2020-06-23T20:00:18.242367Z",
     "start_time": "2020-06-23T20:00:18.240149Z"
    }
   },
   "outputs": [],
   "source": [
    "# pipe = Pipeline([('vectorize', CountVectorizer()),\n",
    "#                 ('tfidf',TfidfTransformer()),\n",
    "#                  ('clf',SGDClassifier(random_state=42,max_iter=5,tol=None))])\n",
    "\n",
    "\n",
    "# def fit_evaluate_pipe(pipe,X_tr,X_te,y_tr,y_te):\n",
    "#     pipe.fit(X_tr,y_tr)\n",
    "#     y_hat_te = pipe.predict(X_te)\n",
    "#     print(metrics.classification_report(y_te,y_hat_te,target_names=encoder.inverse_transform([0,1,2])))\n",
    "#     metrics.plot_confusion_matrix(pipe,X_te,y_te,cmap='Blues',normalize='true',\n",
    "#                                      display_labels=encoder.inverse_transform([0,1,2]),xticks_rotation=45)"
   ]
  },
  {
   "cell_type": "code",
   "execution_count": 39,
   "metadata": {
    "ExecuteTime": {
     "end_time": "2020-06-23T20:00:18.246152Z",
     "start_time": "2020-06-23T20:00:18.243702Z"
    }
   },
   "outputs": [],
   "source": [
    "# fit_evaluate_pipe(pipe,X_tr,X_te,y_tr,y_te)"
   ]
  },
  {
   "cell_type": "code",
   "execution_count": 40,
   "metadata": {
    "ExecuteTime": {
     "end_time": "2020-06-23T20:00:18.249928Z",
     "start_time": "2020-06-23T20:00:18.247725Z"
    }
   },
   "outputs": [],
   "source": [
    "# fit_evaluate_pipe(pipe_forest,X_tr,X_te,y_tr,y_te)"
   ]
  },
  {
   "cell_type": "code",
   "execution_count": 41,
   "metadata": {
    "ExecuteTime": {
     "end_time": "2020-06-23T20:00:18.254194Z",
     "start_time": "2020-06-23T20:00:18.251905Z"
    }
   },
   "outputs": [],
   "source": [
    "# fit_evaluate_pipe(pipe_bayes,X_tr,X_te,y_tr,y_te)"
   ]
  },
  {
   "cell_type": "code",
   "execution_count": 42,
   "metadata": {
    "ExecuteTime": {
     "end_time": "2020-06-23T20:00:18.258020Z",
     "start_time": "2020-06-23T20:00:18.255813Z"
    }
   },
   "outputs": [],
   "source": [
    "# from sklearn.utils.validation import check_is_fitted\n",
    "\n",
    "# model = pipe.named_steps['clf']\n",
    "# check_is_fitted(model)\n",
    "\n",
    "# pipe.named_steps"
   ]
  },
  {
   "cell_type": "code",
   "execution_count": 43,
   "metadata": {
    "ExecuteTime": {
     "end_time": "2020-06-23T20:00:18.261576Z",
     "start_time": "2020-06-23T20:00:18.259445Z"
    }
   },
   "outputs": [],
   "source": [
    "# from sklearn.model_selection import GridSearchCV\n",
    "\n",
    "# parameters = { 'vectorize__ngram_range': [(1, 1), (1, 2)],\n",
    "#               'tfidf__use_idf': (True, False),\n",
    "#               'clf__alpha': (1e-2, 1e-3),\n",
    "#              'clf__class_weight':['balanced',None]}\n",
    "# search = GridSearchCV(pipe,parameters,scoring='recall_weighted')\n",
    "\n",
    "# search.fit(X_tr,y_tr)\n",
    "\n",
    "# search.best_params_"
   ]
  },
  {
   "cell_type": "code",
   "execution_count": 44,
   "metadata": {
    "ExecuteTime": {
     "end_time": "2020-06-23T20:00:18.265411Z",
     "start_time": "2020-06-23T20:00:18.263157Z"
    }
   },
   "outputs": [],
   "source": [
    "# search.best_score_"
   ]
  },
  {
   "cell_type": "code",
   "execution_count": 45,
   "metadata": {
    "ExecuteTime": {
     "end_time": "2020-06-23T20:00:18.270173Z",
     "start_time": "2020-06-23T20:00:18.266784Z"
    }
   },
   "outputs": [],
   "source": [
    "# y_hat_te = search.predict(X_te)\n",
    "# y_hat_tr = search.predict(X_tr)\n",
    "\n",
    "# print(metrics.classification_report(y_te,y_hat_te))\n",
    "# metrics.plot_confusion_matrix(search,X_te,y_te,cmap='Blues',normalize='true',\n",
    "#                                  display_labels=encoder.inverse_transform([0,1,2]),xticks_rotation=45)"
   ]
  },
  {
   "cell_type": "code",
   "execution_count": 46,
   "metadata": {
    "ExecuteTime": {
     "end_time": "2020-06-23T20:00:18.274565Z",
     "start_time": "2020-06-23T20:00:18.272322Z"
    }
   },
   "outputs": [],
   "source": [
    "# print(metrics.classification_report(y_tr,y_hat_tr\n",
    "#                                    ))\n",
    "# metrics.plot_confusion_matrix(search,X_tr,y_tr,cmap='Blues',normalize='true',\n",
    "#                                  display_labels=encoder.inverse_transform([0,1,2]),xticks_rotation=45)"
   ]
  },
  {
   "cell_type": "markdown",
   "metadata": {},
   "source": [
    "# Neural Networks"
   ]
  },
  {
   "cell_type": "code",
   "execution_count": 47,
   "metadata": {
    "ExecuteTime": {
     "end_time": "2020-06-23T20:00:18.287704Z",
     "start_time": "2020-06-23T20:00:18.276851Z"
    }
   },
   "outputs": [
    {
     "data": {
      "text/plain": [
       "0    .@wesley83 I have a 3G iPhone. After 3 hrs twe...\n",
       "1    @jessedee Know about @fludapp ? Awesome iPad/i...\n",
       "2    @swonderlin Can not wait for #iPad 2 also. The...\n",
       "3    @sxsw I hope this year's festival isn't as cra...\n",
       "4    @sxtxstate great stuff on Fri #SXSW: Marissa M...\n",
       "Name: tweet_text, dtype: object"
      ]
     },
     "metadata": {},
     "output_type": "display_data"
    },
    {
     "data": {
      "text/plain": [
       "0    0\n",
       "1    2\n",
       "2    2\n",
       "3    0\n",
       "4    2\n",
       "Name: target, dtype: int64"
      ]
     },
     "metadata": {},
     "output_type": "display_data"
    }
   ],
   "source": [
    "X = df['tweet_text'].copy()\n",
    "y = df['target'].copy()\n",
    "display(X.head(),y.head())"
   ]
  },
  {
   "cell_type": "code",
   "execution_count": null,
   "metadata": {},
   "outputs": [],
   "source": []
  },
  {
   "cell_type": "code",
   "execution_count": 48,
   "metadata": {
    "ExecuteTime": {
     "end_time": "2020-06-23T20:00:25.378989Z",
     "start_time": "2020-06-23T20:00:18.289654Z"
    }
   },
   "outputs": [
    {
     "name": "stderr",
     "output_type": "stream",
     "text": [
      "Using TensorFlow backend.\n"
     ]
    },
    {
     "data": {
      "text/plain": [
       "array([[1., 0., 0.],\n",
       "       [0., 0., 1.],\n",
       "       [0., 0., 1.],\n",
       "       ...,\n",
       "       [0., 1., 0.],\n",
       "       [0., 1., 0.],\n",
       "       [0., 1., 0.]], dtype=float32)"
      ]
     },
     "execution_count": 48,
     "metadata": {},
     "output_type": "execute_result"
    }
   ],
   "source": [
    "from keras.utils import to_categorical\n",
    "y_ohe = to_categorical(y)\n",
    "y_ohe"
   ]
  },
  {
   "cell_type": "code",
   "execution_count": 49,
   "metadata": {
    "ExecuteTime": {
     "end_time": "2020-06-23T20:00:25.435518Z",
     "start_time": "2020-06-23T20:00:25.380164Z"
    }
   },
   "outputs": [],
   "source": [
    "from sklearn.model_selection import train_test_split\n",
    "X_tr,X_te,y_tr,y_te = train_test_split(X,y_ohe,stratify=y_ohe,random_state=42)"
   ]
  },
  {
   "cell_type": "code",
   "execution_count": 50,
   "metadata": {
    "ExecuteTime": {
     "end_time": "2020-06-23T20:00:25.439423Z",
     "start_time": "2020-06-23T20:00:25.436815Z"
    }
   },
   "outputs": [],
   "source": [
    "from keras.preprocessing.text import Tokenizer\n",
    "NUM_WORDS = 10000\n",
    "tokenizer =Tokenizer(num_words=NUM_WORDS)\n",
    "# tokenizer"
   ]
  },
  {
   "cell_type": "code",
   "execution_count": 51,
   "metadata": {
    "ExecuteTime": {
     "end_time": "2020-06-23T20:00:25.590376Z",
     "start_time": "2020-06-23T20:00:25.441042Z"
    }
   },
   "outputs": [
    {
     "data": {
      "text/plain": [
       "8863"
      ]
     },
     "execution_count": 51,
     "metadata": {},
     "output_type": "execute_result"
    }
   ],
   "source": [
    "tokenizer.fit_on_texts(X_tr)\n",
    "word_index = tokenizer.word_index\n",
    "len(word_index)"
   ]
  },
  {
   "cell_type": "code",
   "execution_count": null,
   "metadata": {},
   "outputs": [],
   "source": []
  },
  {
   "cell_type": "code",
   "execution_count": 52,
   "metadata": {
    "ExecuteTime": {
     "end_time": "2020-06-23T20:00:25.697075Z",
     "start_time": "2020-06-23T20:00:25.591666Z"
    }
   },
   "outputs": [
    {
     "data": {
      "text/plain": [
       "list"
      ]
     },
     "execution_count": 52,
     "metadata": {},
     "output_type": "execute_result"
    }
   ],
   "source": [
    "## X_tr to sequences\n",
    "from keras.preprocessing.sequence import pad_sequences\n",
    "X_tr_seq = tokenizer.texts_to_sequences(X_tr)\n",
    "type(X_tr_seq)"
   ]
  },
  {
   "cell_type": "code",
   "execution_count": 53,
   "metadata": {
    "ExecuteTime": {
     "end_time": "2020-06-23T20:00:25.702777Z",
     "start_time": "2020-06-23T20:00:25.698114Z"
    }
   },
   "outputs": [
    {
     "data": {
      "text/plain": [
       "[7,\n",
       " 2,\n",
       " 417,\n",
       " 100,\n",
       " 236,\n",
       " 204,\n",
       " 1017,\n",
       " 320,\n",
       " 105,\n",
       " 269,\n",
       " 7,\n",
       " 2,\n",
       " 12,\n",
       " 79,\n",
       " 11,\n",
       " 36,\n",
       " 21,\n",
       " 19,\n",
       " 6,\n",
       " 1,\n",
       " 4]"
      ]
     },
     "execution_count": 53,
     "metadata": {},
     "output_type": "execute_result"
    }
   ],
   "source": [
    "X_tr_seq[0]"
   ]
  },
  {
   "cell_type": "code",
   "execution_count": 54,
   "metadata": {
    "ExecuteTime": {
     "end_time": "2020-06-23T20:00:25.714743Z",
     "start_time": "2020-06-23T20:00:25.704060Z"
    }
   },
   "outputs": [
    {
     "data": {
      "text/plain": [
       "[21,\n",
       " 29,\n",
       " 16,\n",
       " 18,\n",
       " 18,\n",
       " 7,\n",
       " 16,\n",
       " 16,\n",
       " 24,\n",
       " 19,\n",
       " 21,\n",
       " 13,\n",
       " 16,\n",
       " 13,\n",
       " 17,\n",
       " 14,\n",
       " 15,\n",
       " 13,\n",
       " 21,\n",
       " 24,\n",
       " 19,\n",
       " 18,\n",
       " 18,\n",
       " 24,\n",
       " 25,\n",
       " 20,\n",
       " 26,\n",
       " 21,\n",
       " 13,\n",
       " 18,\n",
       " 18,\n",
       " 21,\n",
       " 12,\n",
       " 26,\n",
       " 25,\n",
       " 18,\n",
       " 18,\n",
       " 10,\n",
       " 19,\n",
       " 26,\n",
       " 25,\n",
       " 25,\n",
       " 10,\n",
       " 16,\n",
       " 21,\n",
       " 19,\n",
       " 23,\n",
       " 13,\n",
       " 14,\n",
       " 19,\n",
       " 18,\n",
       " 18,\n",
       " 12,\n",
       " 28,\n",
       " 20,\n",
       " 23,\n",
       " 20,\n",
       " 18,\n",
       " 12,\n",
       " 22,\n",
       " 15,\n",
       " 19,\n",
       " 21,\n",
       " 23,\n",
       " 12,\n",
       " 21,\n",
       " 16,\n",
       " 15,\n",
       " 24,\n",
       " 24,\n",
       " 29,\n",
       " 9,\n",
       " 26,\n",
       " 20,\n",
       " 18,\n",
       " 24,\n",
       " 10,\n",
       " 8,\n",
       " 20,\n",
       " 14,\n",
       " 17,\n",
       " 13,\n",
       " 28,\n",
       " 23,\n",
       " 20,\n",
       " 14,\n",
       " 23,\n",
       " 16,\n",
       " 18,\n",
       " 28,\n",
       " 24,\n",
       " 11,\n",
       " 21,\n",
       " 17,\n",
       " 20,\n",
       " 27,\n",
       " 21,\n",
       " 19,\n",
       " 22,\n",
       " 21,\n",
       " 12,\n",
       " 16,\n",
       " 18,\n",
       " 17,\n",
       " 21,\n",
       " 11,\n",
       " 21,\n",
       " 16,\n",
       " 15,\n",
       " 9,\n",
       " 23,\n",
       " 22,\n",
       " 16,\n",
       " 9,\n",
       " 28,\n",
       " 16,\n",
       " 23,\n",
       " 25,\n",
       " 10,\n",
       " 25,\n",
       " 20,\n",
       " 12,\n",
       " 21,\n",
       " 16,\n",
       " 15,\n",
       " 19,\n",
       " 16,\n",
       " 20,\n",
       " 8,\n",
       " 13,\n",
       " 22,\n",
       " 15,\n",
       " 22,\n",
       " 14,\n",
       " 21,\n",
       " 23,\n",
       " 15,\n",
       " 28,\n",
       " 16,\n",
       " 12,\n",
       " 19,\n",
       " 18,\n",
       " 20,\n",
       " 13,\n",
       " 21,\n",
       " 22,\n",
       " 20,\n",
       " 10,\n",
       " 17,\n",
       " 12,\n",
       " 16,\n",
       " 10,\n",
       " 18,\n",
       " 19,\n",
       " 17,\n",
       " 18,\n",
       " 25,\n",
       " 19,\n",
       " 23,\n",
       " 23,\n",
       " 25,\n",
       " 16,\n",
       " 19,\n",
       " 24,\n",
       " 16,\n",
       " 12,\n",
       " 20,\n",
       " 23,\n",
       " 16,\n",
       " 18,\n",
       " 13,\n",
       " 10,\n",
       " 20,\n",
       " 19,\n",
       " 21,\n",
       " 12,\n",
       " 24,\n",
       " 23,\n",
       " 12,\n",
       " 18,\n",
       " 22,\n",
       " 22,\n",
       " 22,\n",
       " 22,\n",
       " 19,\n",
       " 16,\n",
       " 18,\n",
       " 20,\n",
       " 17,\n",
       " 21,\n",
       " 26,\n",
       " 19,\n",
       " 18,\n",
       " 22,\n",
       " 22,\n",
       " 23,\n",
       " 8,\n",
       " 20,\n",
       " 13,\n",
       " 21,\n",
       " 15,\n",
       " 16,\n",
       " 19,\n",
       " 12,\n",
       " 17,\n",
       " 16,\n",
       " 22,\n",
       " 11,\n",
       " 14,\n",
       " 18,\n",
       " 21,\n",
       " 23,\n",
       " 18,\n",
       " 15,\n",
       " 15,\n",
       " 13,\n",
       " 16,\n",
       " 30,\n",
       " 13,\n",
       " 20,\n",
       " 20,\n",
       " 10,\n",
       " 14,\n",
       " 18,\n",
       " 21,\n",
       " 23,\n",
       " 20,\n",
       " 16,\n",
       " 18,\n",
       " 13,\n",
       " 10,\n",
       " 15,\n",
       " 14,\n",
       " 15,\n",
       " 9,\n",
       " 15,\n",
       " 19,\n",
       " 26,\n",
       " 25,\n",
       " 20,\n",
       " 9,\n",
       " 21,\n",
       " 24,\n",
       " 22,\n",
       " 10,\n",
       " 13,\n",
       " 16,\n",
       " 30,\n",
       " 15,\n",
       " 18,\n",
       " 13,\n",
       " 18,\n",
       " 14,\n",
       " 25,\n",
       " 20,\n",
       " 19,\n",
       " 11,\n",
       " 10,\n",
       " 20,\n",
       " 14,\n",
       " 14,\n",
       " 18,\n",
       " 19,\n",
       " 21,\n",
       " 17,\n",
       " 20,\n",
       " 11,\n",
       " 18,\n",
       " 10,\n",
       " 15,\n",
       " 24,\n",
       " 22,\n",
       " 17,\n",
       " 19,\n",
       " 20,\n",
       " 20,\n",
       " 15,\n",
       " 23,\n",
       " 26,\n",
       " 11,\n",
       " 9,\n",
       " 12,\n",
       " 11,\n",
       " 23,\n",
       " 18,\n",
       " 28,\n",
       " 23,\n",
       " 16,\n",
       " 23,\n",
       " 14,\n",
       " 12,\n",
       " 18,\n",
       " 23,\n",
       " 21,\n",
       " 17,\n",
       " 16,\n",
       " 23,\n",
       " 17,\n",
       " 19,\n",
       " 18,\n",
       " 16,\n",
       " 21,\n",
       " 11,\n",
       " 14,\n",
       " 16,\n",
       " 16,\n",
       " 23,\n",
       " 10,\n",
       " 16,\n",
       " 11,\n",
       " 16,\n",
       " 21,\n",
       " 24,\n",
       " 17,\n",
       " 28,\n",
       " 16,\n",
       " 23,\n",
       " 28,\n",
       " 26,\n",
       " 21,\n",
       " 14,\n",
       " 19,\n",
       " 25,\n",
       " 14,\n",
       " 22,\n",
       " 25,\n",
       " 19,\n",
       " 22,\n",
       " 24,\n",
       " 21,\n",
       " 20,\n",
       " 16,\n",
       " 24,\n",
       " 20,\n",
       " 24,\n",
       " 18,\n",
       " 13,\n",
       " 18,\n",
       " 26,\n",
       " 15,\n",
       " 16,\n",
       " 11,\n",
       " 17,\n",
       " 20,\n",
       " 12,\n",
       " 20,\n",
       " 9,\n",
       " 21,\n",
       " 16,\n",
       " 19,\n",
       " 23,\n",
       " 21,\n",
       " 19,\n",
       " 8,\n",
       " 18,\n",
       " 22,\n",
       " 15,\n",
       " 21,\n",
       " 15,\n",
       " 13,\n",
       " 17,\n",
       " 17,\n",
       " 24,\n",
       " 19,\n",
       " 23,\n",
       " 21,\n",
       " 21,\n",
       " 11,\n",
       " 19,\n",
       " 18,\n",
       " 27,\n",
       " 16,\n",
       " 19,\n",
       " 19,\n",
       " 13,\n",
       " 11,\n",
       " 24,\n",
       " 17,\n",
       " 26,\n",
       " 16,\n",
       " 8,\n",
       " 14,\n",
       " 18,\n",
       " 10,\n",
       " 19,\n",
       " 18,\n",
       " 13,\n",
       " 12,\n",
       " 20,\n",
       " 14,\n",
       " 14,\n",
       " 17,\n",
       " 22,\n",
       " 23,\n",
       " 18,\n",
       " 19,\n",
       " 17,\n",
       " 24,\n",
       " 19,\n",
       " 21,\n",
       " 25,\n",
       " 22,\n",
       " 16,\n",
       " 25,\n",
       " 17,\n",
       " 27,\n",
       " 10,\n",
       " 26,\n",
       " 22,\n",
       " 18,\n",
       " 27,\n",
       " 25,\n",
       " 20,\n",
       " 22,\n",
       " 26,\n",
       " 25,\n",
       " 15,\n",
       " 22,\n",
       " 8,\n",
       " 13,\n",
       " 25,\n",
       " 22,\n",
       " 14,\n",
       " 24,\n",
       " 27,\n",
       " 22,\n",
       " 27,\n",
       " 26,\n",
       " 8,\n",
       " 20,\n",
       " 12,\n",
       " 22,\n",
       " 13,\n",
       " 25,\n",
       " 21,\n",
       " 26,\n",
       " 20,\n",
       " 8,\n",
       " 13,\n",
       " 15,\n",
       " 15,\n",
       " 20,\n",
       " 16,\n",
       " 21,\n",
       " 19,\n",
       " 17,\n",
       " 8,\n",
       " 22,\n",
       " 14,\n",
       " 12,\n",
       " 9,\n",
       " 22,\n",
       " 22,\n",
       " 22,\n",
       " 10,\n",
       " 18,\n",
       " 16,\n",
       " 23,\n",
       " 19,\n",
       " 24,\n",
       " 19,\n",
       " 21,\n",
       " 24,\n",
       " 20,\n",
       " 9,\n",
       " 13,\n",
       " 9,\n",
       " 20,\n",
       " 22,\n",
       " 26,\n",
       " 23,\n",
       " 17,\n",
       " 21,\n",
       " 28,\n",
       " 19,\n",
       " 25,\n",
       " 17,\n",
       " 9,\n",
       " 16,\n",
       " 11,\n",
       " 22,\n",
       " 19,\n",
       " 23,\n",
       " 23,\n",
       " 18,\n",
       " 18,\n",
       " 19,\n",
       " 14,\n",
       " 17,\n",
       " 16,\n",
       " 17,\n",
       " 12,\n",
       " 14,\n",
       " 14,\n",
       " 21,\n",
       " 17,\n",
       " 20,\n",
       " 18,\n",
       " 9,\n",
       " 19,\n",
       " 23,\n",
       " 15,\n",
       " 12,\n",
       " 20,\n",
       " 23,\n",
       " 21,\n",
       " 17,\n",
       " 14,\n",
       " 14,\n",
       " 28,\n",
       " 24,\n",
       " 11,\n",
       " 26,\n",
       " 24,\n",
       " 16,\n",
       " 25,\n",
       " 13,\n",
       " 20,\n",
       " 27,\n",
       " 18,\n",
       " 16,\n",
       " 22,\n",
       " 26,\n",
       " 10,\n",
       " 9,\n",
       " 16,\n",
       " 14,\n",
       " 15,\n",
       " 9,\n",
       " 17,\n",
       " 13,\n",
       " 18,\n",
       " 17,\n",
       " 7,\n",
       " 9,\n",
       " 19,\n",
       " 14,\n",
       " 24,\n",
       " 8,\n",
       " 13,\n",
       " 21,\n",
       " 14,\n",
       " 25,\n",
       " 22,\n",
       " 9,\n",
       " 15,\n",
       " 15,\n",
       " 13,\n",
       " 19,\n",
       " 17,\n",
       " 21,\n",
       " 12,\n",
       " 15,\n",
       " 18,\n",
       " 12,\n",
       " 5,\n",
       " 10,\n",
       " 15,\n",
       " 15,\n",
       " 10,\n",
       " 12,\n",
       " 18,\n",
       " 16,\n",
       " 19,\n",
       " 10,\n",
       " 18,\n",
       " 20,\n",
       " 29,\n",
       " 20,\n",
       " 14,\n",
       " 18,\n",
       " 21,\n",
       " 17,\n",
       " 25,\n",
       " 8,\n",
       " 17,\n",
       " 14,\n",
       " 14,\n",
       " 22,\n",
       " 23,\n",
       " 19,\n",
       " 25,\n",
       " 12,\n",
       " 16,\n",
       " 10,\n",
       " 21,\n",
       " 20,\n",
       " 24,\n",
       " 17,\n",
       " 12,\n",
       " 17,\n",
       " 14,\n",
       " 19,\n",
       " 18,\n",
       " 15,\n",
       " 12,\n",
       " 11,\n",
       " 20,\n",
       " 14,\n",
       " 9,\n",
       " 16,\n",
       " 20,\n",
       " 14,\n",
       " 8,\n",
       " 11,\n",
       " 18,\n",
       " 15,\n",
       " 20,\n",
       " 17,\n",
       " 24,\n",
       " 16,\n",
       " 15,\n",
       " 26,\n",
       " 15,\n",
       " 21,\n",
       " 7,\n",
       " 18,\n",
       " 25,\n",
       " 16,\n",
       " 19,\n",
       " 22,\n",
       " 16,\n",
       " 10,\n",
       " 9,\n",
       " 16,\n",
       " 21,\n",
       " 12,\n",
       " 16,\n",
       " 19,\n",
       " 10,\n",
       " 11,\n",
       " 14,\n",
       " 10,\n",
       " 15,\n",
       " 21,\n",
       " 14,\n",
       " 21,\n",
       " 10,\n",
       " 23,\n",
       " 20,\n",
       " 21,\n",
       " 24,\n",
       " 16,\n",
       " 20,\n",
       " 17,\n",
       " 17,\n",
       " 16,\n",
       " 18,\n",
       " 24,\n",
       " 25,\n",
       " 23,\n",
       " 24,\n",
       " 19,\n",
       " 17,\n",
       " 28,\n",
       " 15,\n",
       " 22,\n",
       " 17,\n",
       " 23,\n",
       " 12,\n",
       " 21,\n",
       " 23,\n",
       " 21,\n",
       " 9,\n",
       " 15,\n",
       " 24,\n",
       " 18,\n",
       " 28,\n",
       " 16,\n",
       " 20,\n",
       " 17,\n",
       " 14,\n",
       " 11,\n",
       " 19,\n",
       " 22,\n",
       " 14,\n",
       " 16,\n",
       " 20,\n",
       " 15,\n",
       " 18,\n",
       " 11,\n",
       " 12,\n",
       " 10,\n",
       " 21,\n",
       " 17,\n",
       " 11,\n",
       " 17,\n",
       " 9,\n",
       " 15,\n",
       " 22,\n",
       " 18,\n",
       " 21,\n",
       " 22,\n",
       " 15,\n",
       " 11,\n",
       " 16,\n",
       " 18,\n",
       " 22,\n",
       " 18,\n",
       " 18,\n",
       " 9,\n",
       " 20,\n",
       " 17,\n",
       " 19,\n",
       " 18,\n",
       " 12,\n",
       " 13,\n",
       " 21,\n",
       " 18,\n",
       " 16,\n",
       " 8,\n",
       " 6,\n",
       " 17,\n",
       " 15,\n",
       " 6,\n",
       " 21,\n",
       " 23,\n",
       " 27,\n",
       " 16,\n",
       " 28,\n",
       " 15,\n",
       " 23,\n",
       " 9,\n",
       " 24,\n",
       " 25,\n",
       " 10,\n",
       " 27,\n",
       " 16,\n",
       " 17,\n",
       " 20,\n",
       " 17,\n",
       " 15,\n",
       " 23,\n",
       " 16,\n",
       " 14,\n",
       " 12,\n",
       " 18,\n",
       " 17,\n",
       " 29,\n",
       " 21,\n",
       " 20,\n",
       " 20,\n",
       " 8,\n",
       " 13,\n",
       " 20,\n",
       " 13,\n",
       " 13,\n",
       " 18,\n",
       " 22,\n",
       " 22,\n",
       " 16,\n",
       " 17,\n",
       " 16,\n",
       " 9,\n",
       " 18,\n",
       " 23,\n",
       " 20,\n",
       " 25,\n",
       " 22,\n",
       " 14,\n",
       " 17,\n",
       " 14,\n",
       " 14,\n",
       " 15,\n",
       " 24,\n",
       " 14,\n",
       " 18,\n",
       " 16,\n",
       " 12,\n",
       " 18,\n",
       " 22,\n",
       " 9,\n",
       " 20,\n",
       " 8,\n",
       " 21,\n",
       " 7,\n",
       " 18,\n",
       " 16,\n",
       " 24,\n",
       " 24,\n",
       " 17,\n",
       " 20,\n",
       " 23,\n",
       " 8,\n",
       " 15,\n",
       " 14,\n",
       " 26,\n",
       " 11,\n",
       " 17,\n",
       " 17,\n",
       " 27,\n",
       " 19,\n",
       " 8,\n",
       " 17,\n",
       " 23,\n",
       " 23,\n",
       " 12,\n",
       " 19,\n",
       " 23,\n",
       " 16,\n",
       " 26,\n",
       " 17,\n",
       " 15,\n",
       " 23,\n",
       " 12,\n",
       " 19,\n",
       " 13,\n",
       " 12,\n",
       " 20,\n",
       " 25,\n",
       " 14,\n",
       " 14,\n",
       " 19,\n",
       " 22,\n",
       " 20,\n",
       " 16,\n",
       " 20,\n",
       " 19,\n",
       " 16,\n",
       " 26,\n",
       " 10,\n",
       " 24,\n",
       " 17,\n",
       " 13,\n",
       " 27,\n",
       " 12,\n",
       " 11,\n",
       " 13,\n",
       " 9,\n",
       " 16,\n",
       " 19,\n",
       " 17,\n",
       " 13,\n",
       " 10,\n",
       " 18,\n",
       " 14,\n",
       " 9,\n",
       " 14,\n",
       " 23,\n",
       " 18,\n",
       " 24,\n",
       " 25,\n",
       " 17,\n",
       " 15,\n",
       " 25,\n",
       " 16,\n",
       " 20,\n",
       " 22,\n",
       " 17,\n",
       " 26,\n",
       " 19,\n",
       " 21,\n",
       " 16,\n",
       " 14,\n",
       " 11,\n",
       " 22,\n",
       " 24,\n",
       " 23,\n",
       " 16,\n",
       " 20,\n",
       " 15,\n",
       " 23,\n",
       " 25,\n",
       " 18,\n",
       " 27,\n",
       " 20,\n",
       " 6,\n",
       " 13,\n",
       " 19,\n",
       " 14,\n",
       " 20,\n",
       " 19,\n",
       " 19,\n",
       " 19,\n",
       " 23,\n",
       " 21,\n",
       " 15,\n",
       " 24,\n",
       " 24,\n",
       " 18,\n",
       " 20,\n",
       " 21,\n",
       " 6,\n",
       " 26,\n",
       " 9,\n",
       " 21,\n",
       " 19,\n",
       " 17,\n",
       " 20,\n",
       " 25,\n",
       " 20,\n",
       " 26,\n",
       " 13,\n",
       " 17,\n",
       " 16,\n",
       " 11,\n",
       " 24,\n",
       " 8,\n",
       " 15,\n",
       " 20,\n",
       " 22,\n",
       " 27,\n",
       " 14,\n",
       " 17,\n",
       " 16,\n",
       " 10,\n",
       " 9,\n",
       " 17,\n",
       " 17,\n",
       " 27,\n",
       " 16,\n",
       " 18,\n",
       " 14,\n",
       " 26,\n",
       " 18,\n",
       " 27,\n",
       " 16,\n",
       " 16,\n",
       " 23,\n",
       " 19,\n",
       " 16,\n",
       " 14,\n",
       " 25,\n",
       " 15,\n",
       " 10,\n",
       " 15,\n",
       " 19,\n",
       " 13,\n",
       " 18,\n",
       " 22,\n",
       " 8,\n",
       " 15,\n",
       " 13,\n",
       " 17,\n",
       " 22,\n",
       " 19,\n",
       " 10,\n",
       " 15,\n",
       " 12,\n",
       " 13,\n",
       " 16,\n",
       " 24,\n",
       " 8,\n",
       " 23,\n",
       " 16,\n",
       " 14,\n",
       " 18,\n",
       " 20,\n",
       " 20,\n",
       " 17,\n",
       " 21,\n",
       " 27,\n",
       " 19,\n",
       " 18,\n",
       " 11,\n",
       " 22,\n",
       " 26,\n",
       " 19,\n",
       " 14,\n",
       " 17,\n",
       " 17,\n",
       " 24,\n",
       " 19,\n",
       " 18,\n",
       " 27,\n",
       " 27,\n",
       " 10,\n",
       " 28,\n",
       " 28,\n",
       " 23,\n",
       " 18,\n",
       " 24,\n",
       " 17,\n",
       " 26,\n",
       " 12,\n",
       " 25,\n",
       " 12,\n",
       " 19,\n",
       " 17,\n",
       " 22,\n",
       " 18,\n",
       " 19,\n",
       " 20,\n",
       " 16,\n",
       " 18,\n",
       " 15,\n",
       " 18,\n",
       " 22,\n",
       " 13,\n",
       " 14,\n",
       " 16,\n",
       " 15,\n",
       " 22,\n",
       " 24,\n",
       " 24,\n",
       " 18,\n",
       " 23,\n",
       " 22,\n",
       " 16,\n",
       " 26,\n",
       " ...]"
      ]
     },
     "execution_count": 54,
     "metadata": {},
     "output_type": "execute_result"
    }
   ],
   "source": [
    "list(map(len, X_tr_seq))"
   ]
  },
  {
   "cell_type": "code",
   "execution_count": 55,
   "metadata": {
    "ExecuteTime": {
     "end_time": "2020-06-23T20:00:25.719798Z",
     "start_time": "2020-06-23T20:00:25.715965Z"
    }
   },
   "outputs": [
    {
     "data": {
      "text/plain": [
       "100"
      ]
     },
     "execution_count": 55,
     "metadata": {},
     "output_type": "execute_result"
    }
   ],
   "source": [
    "## max seq length\n",
    "MAX_SEQUENCE=100#max(list(map(lambda x: len(x),X_tr_seq)))\n",
    "MAX_SEQUENCE"
   ]
  },
  {
   "cell_type": "code",
   "execution_count": 56,
   "metadata": {
    "ExecuteTime": {
     "end_time": "2020-06-23T20:00:25.764241Z",
     "start_time": "2020-06-23T20:00:25.721169Z"
    }
   },
   "outputs": [
    {
     "data": {
      "text/plain": [
       "array([   0,    0,    0,    0,    0,    0,    0,    0,    0,    0,    0,\n",
       "          0,    0,    0,    0,    0,    0,    0,    0,    0,    0,    0,\n",
       "          0,    0,    0,    0,    0,    0,    0,    0,    0,    0,    0,\n",
       "          0,    0,    0,    0,    0,    0,    0,    0,    0,    0,    0,\n",
       "          0,    0,    0,    0,    0,    0,    0,    0,    0,    0,    0,\n",
       "          0,    0,    0,    0,    0,    0,    0,    0,    0,    0,    0,\n",
       "          0,    0,    0,    0,    0,    0,    0,    0,    0,    0,    0,\n",
       "          0,    0,    7,    2,  417,  100,  236,  204, 1017,  320,  105,\n",
       "        269,    7,    2,   12,   79,   11,   36,   21,   19,    6,    1,\n",
       "          4], dtype=int32)"
      ]
     },
     "execution_count": 56,
     "metadata": {},
     "output_type": "execute_result"
    }
   ],
   "source": [
    "SEQUENCE_LENGTH= MAX_SEQUENCE\n",
    "X_tr_seq = pad_sequences(X_tr_seq,MAX_SEQUENCE)\n",
    "X_tr_seq[0]"
   ]
  },
  {
   "cell_type": "code",
   "execution_count": 57,
   "metadata": {
    "ExecuteTime": {
     "end_time": "2020-06-23T20:00:25.817965Z",
     "start_time": "2020-06-23T20:00:25.765866Z"
    }
   },
   "outputs": [
    {
     "data": {
      "text/plain": [
       "array([   0,    0,    0,    0,    0,    0,    0,    0,    0,    0,    0,\n",
       "          0,    0,    0,    0,    0,    0,    0,    0,    0,    0,    0,\n",
       "          0,    0,    0,    0,    0,    0,    0,    0,    0,    0,    0,\n",
       "          0,    0,    0,    0,    0,    0,    0,    0,    0,    0,    0,\n",
       "          0,    0,    0,    0,    0,    0,    0,    0,    0,    0,    0,\n",
       "          0,    0,    0,    0,    0,    0,    0,    0,    0,    0,    0,\n",
       "          0,    0,    0,    0,    0,    0,    0,    0,    0,    0,    0,\n",
       "          0,    0,    0,    0,    0,    0,    0,   14,  776,    7,    2,\n",
       "          1,    8,   19,  357,   45,   14,  619,  796, 1146,  496,  110,\n",
       "        293], dtype=int32)"
      ]
     },
     "execution_count": 57,
     "metadata": {},
     "output_type": "execute_result"
    }
   ],
   "source": [
    "X_te_seq = tokenizer.texts_to_sequences(X_te)\n",
    "X_te_seq = pad_sequences(X_te_seq,MAX_SEQUENCE)\n",
    "\n",
    "X_te_seq[0]"
   ]
  },
  {
   "cell_type": "code",
   "execution_count": 58,
   "metadata": {
    "ExecuteTime": {
     "end_time": "2020-06-23T20:00:25.821488Z",
     "start_time": "2020-06-23T20:00:25.819321Z"
    }
   },
   "outputs": [],
   "source": [
    "from keras.models import Sequential\n",
    "from keras.layers import Embedding,Dense,Flatten"
   ]
  },
  {
   "cell_type": "code",
   "execution_count": 59,
   "metadata": {
    "ExecuteTime": {
     "end_time": "2020-06-23T20:00:25.825433Z",
     "start_time": "2020-06-23T20:00:25.822884Z"
    }
   },
   "outputs": [],
   "source": [
    "VOCAB_LEN = len(word_index)+1\n",
    "SEQUENCE_LENGTH = MAX_SEQUENCE"
   ]
  },
  {
   "cell_type": "code",
   "execution_count": 60,
   "metadata": {
    "ExecuteTime": {
     "end_time": "2020-06-23T20:00:25.832101Z",
     "start_time": "2020-06-23T20:00:25.827151Z"
    }
   },
   "outputs": [
    {
     "data": {
      "text/plain": [
       "100"
      ]
     },
     "execution_count": 60,
     "metadata": {},
     "output_type": "execute_result"
    }
   ],
   "source": [
    "BATCH_SIZE = 64\n",
    "SEQUENCE_LENGTH"
   ]
  },
  {
   "cell_type": "code",
   "execution_count": 61,
   "metadata": {
    "ExecuteTime": {
     "end_time": "2020-06-23T20:00:25.837190Z",
     "start_time": "2020-06-23T20:00:25.833772Z"
    }
   },
   "outputs": [
    {
     "data": {
      "text/plain": [
       "3"
      ]
     },
     "execution_count": 61,
     "metadata": {},
     "output_type": "execute_result"
    }
   ],
   "source": [
    "y_tr.shape[1]"
   ]
  },
  {
   "cell_type": "code",
   "execution_count": 62,
   "metadata": {
    "ExecuteTime": {
     "end_time": "2020-06-23T20:00:25.842883Z",
     "start_time": "2020-06-23T20:00:25.838501Z"
    }
   },
   "outputs": [
    {
     "data": {
      "text/plain": [
       "'Models/checkpoints/weights.{epoch:02d}-{val_accuracy:.2f}.hdf5'"
      ]
     },
     "execution_count": 62,
     "metadata": {},
     "output_type": "execute_result"
    }
   ],
   "source": [
    "from keras import callbacks\n",
    "import os \n",
    "checkpoint_folder = 'Models/checkpoints/'\n",
    "checkpoint_filename = \"weights.{epoch:02d}-{val_accuracy:.2f}.hdf5\"\n",
    "checkpoint_path = checkpoint_folder+checkpoint_filename\n",
    "os.makedirs(checkpoint_folder,exist_ok=True)\n",
    "checkpoint_path"
   ]
  },
  {
   "cell_type": "code",
   "execution_count": 63,
   "metadata": {
    "ExecuteTime": {
     "end_time": "2020-06-23T20:00:25.847381Z",
     "start_time": "2020-06-23T20:00:25.844120Z"
    }
   },
   "outputs": [],
   "source": [
    "checkpoint = callbacks.ModelCheckpoint(checkpoint_path,verbose=1,monitor='val_accuracy',\n",
    "                                       save_best_only=True,save_weights_only=True)\n",
    "earlystop = callbacks.EarlyStopping(monitor='val_accuracy',patience=2)\n",
    "callbacks_list= [checkpoint,earlystop]"
   ]
  },
  {
   "cell_type": "code",
   "execution_count": 64,
   "metadata": {
    "ExecuteTime": {
     "end_time": "2020-06-23T20:00:26.215782Z",
     "start_time": "2020-06-23T20:00:25.848947Z"
    }
   },
   "outputs": [
    {
     "name": "stdout",
     "output_type": "stream",
     "text": [
      "Model: \"sequential_1\"\n",
      "_________________________________________________________________\n",
      "Layer (type)                 Output Shape              Param #   \n",
      "=================================================================\n",
      "embedding_1 (Embedding)      (None, 100, 128)          1280000   \n",
      "_________________________________________________________________\n",
      "bidirectional_1 (Bidirection (None, 100, 50)           23100     \n",
      "_________________________________________________________________\n",
      "global_max_pooling1d_1 (Glob (None, 50)                0         \n",
      "_________________________________________________________________\n",
      "dropout_1 (Dropout)          (None, 50)                0         \n",
      "_________________________________________________________________\n",
      "dense_1 (Dense)              (None, 50)                2550      \n",
      "_________________________________________________________________\n",
      "dropout_2 (Dropout)          (None, 50)                0         \n",
      "_________________________________________________________________\n",
      "dense_2 (Dense)              (None, 3)                 153       \n",
      "=================================================================\n",
      "Total params: 1,305,803\n",
      "Trainable params: 1,305,803\n",
      "Non-trainable params: 0\n",
      "_________________________________________________________________\n"
     ]
    }
   ],
   "source": [
    "from keras.layers import Embedding,LSTM,GRU,GlobalMaxPool1D,Dropout,Dense,Bidirectional\n",
    "\n",
    "model = Sequential()\n",
    "embedding_size = 128\n",
    "model.add(Embedding(NUM_WORDS, embedding_size, input_length=SEQUENCE_LENGTH))\n",
    "\n",
    "model.add(Bidirectional(GRU(25, return_sequences=True)))\n",
    "model.add(GlobalMaxPool1D())\n",
    "model.add(Dropout(0.5))\n",
    "model.add(Dense(50, activation='relu'))\n",
    "model.add(Dropout(0.5))\n",
    "model.add(Dense(3, activation='softmax'))\n",
    "\n",
    "model.compile(loss='categorical_crossentropy', \n",
    "              optimizer='adam', \n",
    "              metrics=['accuracy'])\n",
    "model.summary()"
   ]
  },
  {
   "cell_type": "code",
   "execution_count": 65,
   "metadata": {
    "ExecuteTime": {
     "end_time": "2020-06-23T20:00:26.219291Z",
     "start_time": "2020-06-23T20:00:26.217055Z"
    }
   },
   "outputs": [],
   "source": [
    "from keras.wrappers.scikit_learn import KerasClassifier\n"
   ]
  },
  {
   "cell_type": "code",
   "execution_count": 66,
   "metadata": {
    "ExecuteTime": {
     "end_time": "2020-06-23T20:01:19.318092Z",
     "start_time": "2020-06-23T20:00:26.220455Z"
    }
   },
   "outputs": [
    {
     "name": "stderr",
     "output_type": "stream",
     "text": [
      "/opt/anaconda3/envs/learn-env/lib/python3.6/site-packages/tensorflow/python/framework/indexed_slices.py:434: UserWarning:\n",
      "\n",
      "Converting sparse IndexedSlices to a dense Tensor of unknown shape. This may consume a large amount of memory.\n",
      "\n"
     ]
    },
    {
     "name": "stdout",
     "output_type": "stream",
     "text": [
      "Train on 6031 samples, validate on 671 samples\n",
      "Epoch 1/3\n",
      "6031/6031 [==============================] - 18s 3ms/step - loss: 0.8877 - accuracy: 0.5820 - val_loss: 0.8025 - val_accuracy: 0.6066\n",
      "Epoch 2/3\n",
      "6031/6031 [==============================] - 17s 3ms/step - loss: 0.7653 - accuracy: 0.6520 - val_loss: 0.7443 - val_accuracy: 0.6736\n",
      "Epoch 3/3\n",
      "6031/6031 [==============================] - 17s 3ms/step - loss: 0.6171 - accuracy: 0.7402 - val_loss: 0.7662 - val_accuracy: 0.6751\n"
     ]
    }
   ],
   "source": [
    "history = model.fit(X_tr_seq, y_tr, epochs=3, batch_size=32, validation_split=0.1)"
   ]
  },
  {
   "cell_type": "code",
   "execution_count": 67,
   "metadata": {
    "ExecuteTime": {
     "end_time": "2020-06-23T20:01:19.721963Z",
     "start_time": "2020-06-23T20:01:19.319344Z"
    }
   },
   "outputs": [
    {
     "data": {
      "text/plain": [
       "<matplotlib.axes._subplots.AxesSubplot at 0x15178164e0>"
      ]
     },
     "execution_count": 67,
     "metadata": {},
     "output_type": "execute_result"
    },
    {
     "data": {
      "image/png": "[encoded data removed]",
      "text/plain": [
       "<Figure size 432x288 with 1 Axes>"
      ]
     },
     "metadata": {
      "needs_background": "light"
     },
     "output_type": "display_data"
    },
    {
     "data": {
      "image/png": "[encoded data removed]",
      "text/plain": [
       "<Figure size 432x288 with 1 Axes>"
      ]
     },
     "metadata": {
      "needs_background": "light"
     },
     "output_type": "display_data"
    }
   ],
   "source": [
    "history_df = pd.DataFrame(history.history)\n",
    "history_df[['accuracy','val_accuracy']].plot()\n",
    "history_df[['loss','val_loss']].plot()"
   ]
  },
  {
   "cell_type": "code",
   "execution_count": 68,
   "metadata": {
    "ExecuteTime": {
     "end_time": "2020-06-23T20:01:20.611729Z",
     "start_time": "2020-06-23T20:01:19.722993Z"
    }
   },
   "outputs": [
    {
     "data": {
      "text/plain": [
       "array([0.12388333, 0.5101563 , 0.36596036], dtype=float32)"
      ]
     },
     "execution_count": 68,
     "metadata": {},
     "output_type": "execute_result"
    }
   ],
   "source": [
    "y_hat_te = model.predict(X_te_seq)\n",
    "y_hat_te[0]"
   ]
  },
  {
   "cell_type": "code",
   "execution_count": 69,
   "metadata": {
    "ExecuteTime": {
     "end_time": "2020-06-23T20:01:20.631247Z",
     "start_time": "2020-06-23T20:01:20.616411Z"
    }
   },
   "outputs": [],
   "source": [
    "\n",
    "def plot_confusion_matrix(conf_matrix, classes = None, normalize=True,\n",
    "                          title='Confusion Matrix', cmap=\"Blues\",\n",
    "                          print_raw_matrix=False,\n",
    "                          fig_size=(4,4)):\n",
    "    \"\"\"Check if Normalization Option is Set to True. \n",
    "    If so, normalize the raw confusion matrix before visualizing\n",
    "    #Other code should be equivalent to your previous function.\n",
    "    Note: Taken from bs_ds and modified\n",
    "    - Can pass a tuple of (y_true,y_pred) instead of conf matrix.\n",
    "    \"\"\"\n",
    "    import itertools\n",
    "    import numpy as np\n",
    "    import matplotlib.pyplot as plt\n",
    "    import sklearn.metrics as metrics\n",
    "    \n",
    "    ## make confusion matrix if given tuple of y_true,y_pred\n",
    "    if isinstance(conf_matrix, tuple):\n",
    "        y_true = conf_matrix[0].copy()\n",
    "        y_pred = conf_matrix[1].copy()\n",
    "        \n",
    "        if y_true.ndim>1:\n",
    "            y_true = y_true.argmax(axis=1)\n",
    "        if y_pred.ndim>1:\n",
    "            y_pred = y_pred.argmax(axis=1)\n",
    "        cm = metrics.confusion_matrix(y_true,y_pred)\n",
    "    else:\n",
    "        cm = conf_matrix\n",
    "        \n",
    "    ## Generate integer labels for classes\n",
    "    if classes is None:\n",
    "        classes = list(range(len(cm)))  \n",
    "        \n",
    "    ## Normalize data\n",
    "    if normalize:\n",
    "        cm = cm.astype('float') / cm.sum(axis=1)[:, np.newaxis]\n",
    "        fmt='.2f'\n",
    "        thresh=0.5\n",
    "    else:\n",
    "        fmt= 'd'\n",
    "        thresh=cm.max()/2\n",
    "        \n",
    "        \n",
    "    fontDict = {\n",
    "        'title':{\n",
    "            'fontsize':16,\n",
    "            'fontweight':'semibold',\n",
    "            'ha':'center',\n",
    "            },\n",
    "        'xlabel':{\n",
    "            'fontsize':14,\n",
    "            'fontweight':'normal',\n",
    "            },\n",
    "        'ylabel':{\n",
    "            'fontsize':14,\n",
    "            'fontweight':'normal',\n",
    "            },\n",
    "        'xtick_labels':{\n",
    "            'fontsize':10,\n",
    "            'fontweight':'normal',\n",
    "    #             'rotation':45,\n",
    "            'ha':'right',\n",
    "            },\n",
    "        'ytick_labels':{\n",
    "            'fontsize':10,\n",
    "            'fontweight':'normal',\n",
    "            'rotation':0,\n",
    "            'ha':'right',\n",
    "            },\n",
    "        'data_labels':{\n",
    "            'ha':'center',\n",
    "            'fontweight':'semibold',\n",
    "\n",
    "        }\n",
    "    }\n",
    "\n",
    "    # Create plot\n",
    "    fig,ax = plt.subplots(figsize=fig_size)\n",
    "\n",
    "    plt.imshow(cm, interpolation='nearest', cmap=cmap)\n",
    "    plt.title(title,**fontDict['title'])\n",
    "    plt.colorbar()\n",
    "\n",
    "    tick_marks = classes#np.arange(len(classes))\n",
    "\n",
    "\n",
    "    plt.xticks(tick_marks, classes, **fontDict['xtick_labels'])\n",
    "    plt.yticks(tick_marks, classes,**fontDict['ytick_labels'])\n",
    "\n",
    "    # Determine threshold for b/w text\n",
    "    thresh = cm.max() / 2.\n",
    "\n",
    "    # fig,ax = plt.subplots()\n",
    "    for i, j in itertools.product(range(cm.shape[0]), range(cm.shape[1])):\n",
    "        plt.text(j, i, format(cm[i, j], fmt),\n",
    "                 color='black' if cm[i,j]<thresh else \"white\",#'darkgray',\n",
    "                        **fontDict['data_labels']) #color=\"white\" if cm[i, j] > thresh else \"black\"\n",
    "\n",
    "    plt.tight_layout()\n",
    "    plt.ylabel('True label',**fontDict['ylabel'])\n",
    "    plt.xlabel('Predicted label',**fontDict['xlabel'])\n",
    "\n",
    "    if print_raw_matrix:\n",
    "        print_title = 'Raw Confusion Matrix Counts:'\n",
    "        print('\\n',print_title)\n",
    "        print(conf_matrix)\n",
    "\n",
    "\n",
    "    fig = plt.gcf()\n",
    "    return fig\n"
   ]
  },
  {
   "cell_type": "code",
   "execution_count": 70,
   "metadata": {
    "ExecuteTime": {
     "end_time": "2020-06-23T20:01:20.637147Z",
     "start_time": "2020-06-23T20:01:20.633164Z"
    }
   },
   "outputs": [
    {
     "data": {
      "text/plain": [
       "array([[0., 1., 0.],\n",
       "       [0., 0., 1.],\n",
       "       [0., 1., 0.],\n",
       "       ...,\n",
       "       [0., 1., 0.],\n",
       "       [0., 1., 0.],\n",
       "       [0., 1., 0.]], dtype=float32)"
      ]
     },
     "execution_count": 70,
     "metadata": {},
     "output_type": "execute_result"
    }
   ],
   "source": [
    "y_te"
   ]
  },
  {
   "cell_type": "code",
   "execution_count": 71,
   "metadata": {
    "ExecuteTime": {
     "end_time": "2020-06-23T20:01:20.648545Z",
     "start_time": "2020-06-23T20:01:20.638399Z"
    }
   },
   "outputs": [
    {
     "name": "stdout",
     "output_type": "stream",
     "text": [
      "              precision    recall  f1-score   support\n",
      "\n",
      "           0       0.94      0.11      0.19       142\n",
      "           1       0.71      0.88      0.79      1347\n",
      "           2       0.63      0.46      0.53       745\n",
      "\n",
      "    accuracy                           0.69      2234\n",
      "   macro avg       0.76      0.48      0.50      2234\n",
      "weighted avg       0.70      0.69      0.66      2234\n",
      "\n"
     ]
    }
   ],
   "source": [
    "from sklearn import metrics\n",
    "print(metrics.classification_report(y_te.argmax(axis=1),y_hat_te.argmax(axis=1)))"
   ]
  },
  {
   "cell_type": "code",
   "execution_count": 72,
   "metadata": {
    "ExecuteTime": {
     "end_time": "2020-06-23T20:01:20.654786Z",
     "start_time": "2020-06-23T20:01:20.650177Z"
    }
   },
   "outputs": [
    {
     "data": {
      "text/plain": [
       "array([[0.12388333, 0.5101563 , 0.36596036],\n",
       "       [0.04853231, 0.39572224, 0.5557455 ],\n",
       "       [0.02709775, 0.8569082 , 0.11599406],\n",
       "       ...,\n",
       "       [0.00329077, 0.9133329 , 0.08337645],\n",
       "       [0.00553809, 0.93368566, 0.0607763 ],\n",
       "       [0.01311834, 0.88161564, 0.10526601]], dtype=float32)"
      ]
     },
     "execution_count": 72,
     "metadata": {},
     "output_type": "execute_result"
    }
   ],
   "source": [
    "y_hat_te"
   ]
  },
  {
   "cell_type": "code",
   "execution_count": 73,
   "metadata": {
    "ExecuteTime": {
     "end_time": "2020-06-23T20:01:20.889815Z",
     "start_time": "2020-06-23T20:01:20.656100Z"
    }
   },
   "outputs": [
    {
     "data": {
      "image/png": "[encoded data removed]",
      "text/plain": [
       "<Figure size 288x288 with 2 Axes>"
      ]
     },
     "metadata": {
      "needs_background": "light"
     },
     "output_type": "display_data"
    }
   ],
   "source": [
    "plot_confusion_matrix((y_te,y_hat_te));"
   ]
  },
  {
   "cell_type": "code",
   "execution_count": 74,
   "metadata": {
    "ExecuteTime": {
     "end_time": "2020-06-23T20:01:20.895575Z",
     "start_time": "2020-06-23T20:01:20.891006Z"
    }
   },
   "outputs": [
    {
     "name": "stdout",
     "output_type": "stream",
     "text": [
      "(2234, 3)\n"
     ]
    },
    {
     "data": {
      "text/plain": [
       "array([[0.12388333, 0.5101563 , 0.36596036],\n",
       "       [0.04853231, 0.39572224, 0.5557455 ],\n",
       "       [0.02709775, 0.8569082 , 0.11599406],\n",
       "       [0.0027322 , 0.9602901 , 0.03697773],\n",
       "       [0.07102069, 0.47655848, 0.45242086]], dtype=float32)"
      ]
     },
     "execution_count": 74,
     "metadata": {},
     "output_type": "execute_result"
    }
   ],
   "source": [
    "print(y_hat_te.shape)\n",
    "y_hat_te[:5]"
   ]
  },
  {
   "cell_type": "code",
   "execution_count": 75,
   "metadata": {
    "ExecuteTime": {
     "end_time": "2020-06-23T20:01:20.900698Z",
     "start_time": "2020-06-23T20:01:20.896768Z"
    }
   },
   "outputs": [
    {
     "data": {
      "text/plain": [
       "array([1, 2, 1, 1, 1])"
      ]
     },
     "execution_count": 75,
     "metadata": {},
     "output_type": "execute_result"
    }
   ],
   "source": [
    "y_hat_te.argmax(axis=1)[:5]"
   ]
  },
  {
   "cell_type": "code",
   "execution_count": null,
   "metadata": {},
   "outputs": [],
   "source": []
  },
  {
   "cell_type": "code",
   "execution_count": null,
   "metadata": {},
   "outputs": [],
   "source": []
  },
  {
   "cell_type": "code",
   "execution_count": 76,
   "metadata": {
    "ExecuteTime": {
     "end_time": "2020-06-23T20:01:20.907210Z",
     "start_time": "2020-06-23T20:01:20.901848Z"
    }
   },
   "outputs": [
    {
     "data": {
      "text/plain": [
       "array([0., 1., 0.], dtype=float32)"
      ]
     },
     "execution_count": 76,
     "metadata": {},
     "output_type": "execute_result"
    }
   ],
   "source": [
    "y_te[0]"
   ]
  },
  {
   "cell_type": "code",
   "execution_count": 77,
   "metadata": {
    "ExecuteTime": {
     "end_time": "2020-06-23T20:01:20.912228Z",
     "start_time": "2020-06-23T20:01:20.908629Z"
    }
   },
   "outputs": [
    {
     "data": {
      "text/plain": [
       "array([1, 2, 1, ..., 1, 1, 1])"
      ]
     },
     "execution_count": 77,
     "metadata": {},
     "output_type": "execute_result"
    }
   ],
   "source": [
    "y_te.argmax(axis=1)"
   ]
  },
  {
   "cell_type": "code",
   "execution_count": 78,
   "metadata": {
    "ExecuteTime": {
     "end_time": "2020-06-23T20:01:20.918042Z",
     "start_time": "2020-06-23T20:01:20.913733Z"
    }
   },
   "outputs": [
    {
     "data": {
      "text/plain": [
       "array([1, 2, 1, ..., 1, 1, 1])"
      ]
     },
     "execution_count": 78,
     "metadata": {},
     "output_type": "execute_result"
    }
   ],
   "source": [
    "y_hat_te.argmax(axis=1)"
   ]
  },
  {
   "cell_type": "code",
   "execution_count": 79,
   "metadata": {
    "ExecuteTime": {
     "end_time": "2020-06-23T20:01:20.923359Z",
     "start_time": "2020-06-23T20:01:20.919910Z"
    }
   },
   "outputs": [
    {
     "data": {
      "text/plain": [
       "array([0., 1., 0.], dtype=float32)"
      ]
     },
     "execution_count": 79,
     "metadata": {},
     "output_type": "execute_result"
    }
   ],
   "source": [
    "y_te[0]"
   ]
  },
  {
   "cell_type": "code",
   "execution_count": 80,
   "metadata": {
    "ExecuteTime": {
     "end_time": "2020-06-23T20:01:20.928270Z",
     "start_time": "2020-06-23T20:01:20.924753Z"
    }
   },
   "outputs": [
    {
     "data": {
      "text/plain": [
       "(100,)"
      ]
     },
     "execution_count": 80,
     "metadata": {},
     "output_type": "execute_result"
    }
   ],
   "source": [
    "X_te_seq[0].shape"
   ]
  },
  {
   "cell_type": "code",
   "execution_count": 81,
   "metadata": {
    "ExecuteTime": {
     "end_time": "2020-06-23T20:01:20.934363Z",
     "start_time": "2020-06-23T20:01:20.929742Z"
    }
   },
   "outputs": [
    {
     "data": {
      "text/plain": [
       "['of course rt mention sxsw ipad store sold out of everything except 64gig wifi only white']"
      ]
     },
     "execution_count": 81,
     "metadata": {},
     "output_type": "execute_result"
    }
   ],
   "source": [
    "tokenizer.sequences_to_texts([X_te_seq[0]])"
   ]
  },
  {
   "cell_type": "code",
   "execution_count": 82,
   "metadata": {
    "ExecuteTime": {
     "end_time": "2020-06-23T20:01:20.939839Z",
     "start_time": "2020-06-23T20:01:20.935823Z"
    }
   },
   "outputs": [
    {
     "data": {
      "text/plain": [
       "array([   0,    0,    0,    0,    0,    0,    0,    0,    0,    0,    0,\n",
       "          0,    0,    0,    0,    0,    0,    0,    0,    0,    0,    0,\n",
       "          0,    0,    0,    0,    0,    0,    0,    0,    0,    0,    0,\n",
       "          0,    0,    0,    0,    0,    0,    0,    0,    0,    0,    0,\n",
       "          0,    0,    0,    0,    0,    0,    0,    0,    0,    0,    0,\n",
       "          0,    0,    0,    0,    0,    0,    0,    0,    0,    0,    0,\n",
       "          0,    0,    0,    0,    0,    0,    0,    0,    0,    0,    0,\n",
       "          0,    0,    0,    0,    0,    0,    0,   14,  776,    7,    2,\n",
       "          1,    8,   19,  357,   45,   14,  619,  796, 1146,  496,  110,\n",
       "        293], dtype=int32)"
      ]
     },
     "execution_count": 82,
     "metadata": {},
     "output_type": "execute_result"
    }
   ],
   "source": [
    "ex = X_te_seq[0]\n",
    "ex"
   ]
  },
  {
   "cell_type": "code",
   "execution_count": 83,
   "metadata": {
    "ExecuteTime": {
     "end_time": "2020-06-23T20:01:20.946160Z",
     "start_time": "2020-06-23T20:01:20.941361Z"
    }
   },
   "outputs": [
    {
     "data": {
      "text/plain": [
       "'Of course! RT @mention #sxsw ipad store sold out of everything except 64gig wifi only white'"
      ]
     },
     "execution_count": 83,
     "metadata": {},
     "output_type": "execute_result"
    }
   ],
   "source": [
    "X_te.iloc[0]"
   ]
  },
  {
   "cell_type": "code",
   "execution_count": 84,
   "metadata": {
    "ExecuteTime": {
     "end_time": "2020-06-23T20:01:20.955333Z",
     "start_time": "2020-06-23T20:01:20.948202Z"
    }
   },
   "outputs": [
    {
     "data": {
      "text/plain": [
       "array([[  0,   0,   0, ...,  38,   4,   1],\n",
       "       [  0,   0,   0, ..., 558,   4,   1],\n",
       "       [  0,   0,   0, ...,  15, 604,  15],\n",
       "       ...,\n",
       "       [  0,   0,   0, ...,  18, 520, 273],\n",
       "       [  0,   0,   0, ..., 126,   6,   1],\n",
       "       [  0,   0,   0, ...,  43,  10,  15]], dtype=int32)"
      ]
     },
     "execution_count": 84,
     "metadata": {},
     "output_type": "execute_result"
    }
   ],
   "source": [
    "missed_rows = y_te.argmax(axis=1) != y_hat_te.argmax(axis=1)\n",
    "missed_labels = y_te[missed_rows]\n",
    "missed_texts = X_te_seq[missed_rows]\n",
    "missed_texts"
   ]
  },
  {
   "cell_type": "code",
   "execution_count": 85,
   "metadata": {
    "ExecuteTime": {
     "end_time": "2020-06-23T20:01:21.040643Z",
     "start_time": "2020-06-23T20:01:20.956758Z"
    }
   },
   "outputs": [
    {
     "name": "stdout",
     "output_type": "stream",
     "text": [
      "0\n",
      "[  0   0   0   0   0   0   0   0   0   0   0   0   0   0   0   0   0   0\n",
      "   0   0   0   0   0   0   0   0   0   0   0   0   0   0   0   0   0   0\n",
      "   0   0   0   0   0   0   0   0   0   0   0   0   0   0   0   0   0   0\n",
      "   0   0   0   0   0   0   0   0   0   0   0   0   0   0   0   0   0   0\n",
      "   0   0   0   0   0   0   0   0   0   0 341 184 268   7   2  10   5  34\n",
      "  69  24  33  49  61  35  83  38   4   1]\n"
     ]
    },
    {
     "data": {
      "text/plain": [
       "['looks very interesting rt mention google to launch major new social network called circles possibly today link sxsw',\n",
       " 'rt mention apple to open pop up shop at sxsw report link sxsw',\n",
       " 'rt mention yes the rumors are true come play with mention on ipad at our booth at sxsw exhibit hall 3 ipad ipad2 under the giant quot o quot',\n",
       " 'mention it is a good question amp for most brands the answer is probably no except apple of course maybe netflix too sxsw',\n",
       " \"the quiet before the storm at sxsw looking forward to seeing google's marissa mayer\",\n",
       " 'sxsw 2011 the google and bing smackdown in all its bloody banality link via mention mention',\n",
       " \"google has quot got a lot better quot at protecting users' privacy with location based tools over past 12 months says mayer sxsw\",\n",
       " 'is the 100 the great of the ipad u tell me link sxswi sxsw',\n",
       " 'technology apple opening pop up store in austin for sxsw geekfest apple our brian lam and the thousands link tech',\n",
       " 'aron pilhofer from the new york times just endorsed html over ipad at the newsapps sxsw and asked us not to tweet what he actually said',\n",
       " 'rt mention google to launch major new social network called circles possibly today link sxswi sxsw gt sounds fabulous',\n",
       " 'rt mention apple has opened a pop up store in austin so that the nerds in town for sxsw can get their new ipads link',\n",
       " 'rt mention not a rumor apple is opening up a temporary store in downtown austin for sxsw and the ipad 2 launch link',\n",
       " 'watch this mention sxsw ecademy mention link gt gt fascinating amp so true about maps saving lots of it',\n",
       " 'rt mention hm do we need another 1 rt mention google to launch major new social network called circles possibly today link sxsw',\n",
       " 'whoa line at the pop up apple store in downtown austin ipad midnight madness sxsw link',\n",
       " \"my first computer as a kid was an atari my kids first computer will be an ipad what will they be able to do that i couldn't sxsw\",\n",
       " \"so went to the apple store as friends at sxsw have new ipad's so got something to cheer myself up link\",\n",
       " 'hobo with a shotgun video game coming to ipad iphone users yes please link sxsw',\n",
       " \"childish was at the house too but he was eating so we didn't bother him looked good too location link sxsw\",\n",
       " \"rt mention as the search from sxsw via twitter does not work check out google's real time search at least you get some results sxsw\",\n",
       " 'mention for iphone amp mac now both have where you can block sxsw amp sxswi i\\x89ûªm about to do it wait',\n",
       " \"waiting for mention and a appearance at the sxsw apple store c'mon d\",\n",
       " 'rt mention rumor of google launching their new social network called circles today at sxswi sxsw link',\n",
       " \"we can't wait to give an ipad to someone at sxsw want in just head to www pep jobs upc to enter must be present to win\",\n",
       " 'rt mention rt mention quot google before you tweet quot is the new quot think before you speak quot mark belinsky 911tweets panel at sxsw',\n",
       " \"rt mention can't wait to see the internet in austin on friday when everyone stops all normal activity to order an ipad 2 sxsw\",\n",
       " 'apple sets up temporary austin store to serve the hordes of ipad 2 purchasers at sxsw link',\n",
       " 'rt mention cunning apple keeping the ipad2 popup store open late next to sxsw parties for impulsive cont link',\n",
       " \"i'm the new mention 3 for ios iphone get it amp install it just in time for what ever it is your doing 4sq sxsw\",\n",
       " \"interesting quot mention quot google looks for technical solutions which why they're not great mention community because its a human solution sxsw\\x89û\\x9d\",\n",
       " \"mint com of for iphone app didn't have to worry about learning diff phone versions sxsw gsdm sxswmobileapps\",\n",
       " \"i just had to read tv recaps online to keep up with my shows i have posts in google reader i'm completely sxsw\",\n",
       " 'or all the above rt mention setting up temp store at sxsw 2 sell ipad2 crazy brilliant link sxswi',\n",
       " 'rt mention rt mention forward to delicious t mobile 4g here in austin while iphone users struggle to do anything sxsw',\n",
       " 'rt mention at sxsw presentation mention demonstrates how you can pause a video on new video player and pick up in same spot on ipad app tveverywhere',\n",
       " 'rt mention the sxsw iphone app is mocking me like i have the money to be there come on',\n",
       " \"rt mention another great panel at 5 pm at the hilton austin's own mention left brain search google right brain search x sxsw\",\n",
       " 'rt mention google latina and see what you find porn this is the first impression that people get about us latism sxsw sxswlatam latinasintech\\x89û\\x9d',\n",
       " 'big night come party down with mention and google tonight at sxsw link bands food art interactive maps cc mention',\n",
       " 'rt mention announcing sxsw quotables a crowd feed of the hottest quotes from sxsw sign up to win an ipad 2 link ipad2',\n",
       " 'rt mention zazzle is officially at sxsw come by the mention grille mention us with zazzlsxsw and you\\x89ûªll get to make your own iphone case',\n",
       " 'rt mention ipad design tip if it looks like a physical object ppl will interact with it like it\\x89ûªs one quot sxsw tapworthy gsdm',\n",
       " 'do it rt mention come party w google tonight at sxsw link bands food art ice cream nifty interactive maps',\n",
       " 'rt mention tomlinson of tx observer says apple subscription data holding is biggest impediment to success newsapps sxsw',\n",
       " \"rt mention if you're in a room full of people w good wi fi at sxsw run frostwire on your android link share pics apps vids w others\",\n",
       " 'apple to open a pop up store at sxsw so wannabe hipsters can feel at home being near their fav store link',\n",
       " 'hey people down here at sxsw and we are about to launch mention follow for all the details and a chance for a free ipad 2',\n",
       " 'the are it at the aclu google party sxsw',\n",
       " 'rt mention surprise apple has opened a pop up store in austin so that the nerds in town for sxsw can get their new ipads link cnet',\n",
       " 'fuck the iphone rt mention new ubersocial for iphone now in the app store includes uberguide to sxsw link',\n",
       " 'rt mention australian business amp not for profits may be interested in these seo insights from google amp bing at sxsw link digibiz',\n",
       " 'rt mention time to wakeuplaughing mention for iphone is on the appstore es sxsw',\n",
       " 'mention iphone clearly happily sxsw',\n",
       " 'rt mention sxsw guy in front of me at this panel has an ipad in an etch a sketch case device of wonder iusxsw',\n",
       " 'this will be fun to watch rt mention apple opening pop up store in austin for sxsw link sxsw',\n",
       " \"hopefully the best thing that comes from sxsw isn't the fact people flew to austin to pick up an ipad\",\n",
       " 'yes the rumors are true come play with mention on ipad at our booth at sxsw exhibit hall 3 ipad ipad2 under the giant quot o quot',\n",
       " 'sxsw crowd swarms for ipad 2 launch link via mention',\n",
       " 'i feel like a badass mention gave me a free drink sxsw',\n",
       " \"rt mention last month it was discovr for ipad at this time it's discovr for iphone at sxsw the app store link\",\n",
       " 'security scan link itunes ipad2 sxsw',\n",
       " 'first talk of the day ipad design headaches sxsw',\n",
       " 'mention and mention open up a 64gb 3g ipad 2 unboxing and first look mention ipad2 ipad apple link via mention sxsw',\n",
       " 'security guard enjoying the ipad2 at the apple store in austin sxsw ipad2 link',\n",
       " 'mention sxsw free on itunes link',\n",
       " 'technews apple saves sxsw set to open pop up store link tech news apple sxsw tech',\n",
       " 'rt mention sxsw mention das verpixelungsrecht\\x89ûóthe right for your house to be pixelated in google street view\\x89ûó is a theft from the public',\n",
       " 'rt mention flipboard is developing an iphone version not android says mention sxsw',\n",
       " \"rt mention this mention article about sxsw is so good i'm linking to it on an iphone on a train link\",\n",
       " \"apps khoi vinh instead of focusing on reader exp they're delivering same content 3 ways sxsw link\",\n",
       " 'rt mention speaks truth watched apple staff at the temp sxsw store just high five entire long line and facepalmed ugh',\n",
       " 'pubcamp kirkus sxsw download qrank on your ipad iphone before you come to pubcamp sxsw 2011 prizes',\n",
       " 'fear not sxsw ers rt mention confirmed apple store 2 week popup in austin for sxsw link',\n",
       " 'ipad2 in hand thanks to the popup apple store at sxsw first impression i may have a has some thru at the bottom',\n",
       " 'good morning from sxsw who is standing in line for the ipad 2 today i still have my ipad 1 for sale 64gb wifi only fb',\n",
       " \"things ppl say about to mention make me laugh you want free turn by turn gps but wait don't take pics of the sidewalk cmon sxsw\",\n",
       " 'marissa mayer of google speaking at sxsw mobile phone usage of google maps surpassed online use in the past couple months',\n",
       " 'survive sxsw with mention live music app for iphone and android link',\n",
       " 'rt mention 4g will do for connectivity what the iphone did for smart phones joe berry sxsw connectedcar',\n",
       " 'cover time sxsw mention apple store sxsw w 9 others link',\n",
       " 'mention do i get points if i collect all colors of glow in the dark google sxsw',\n",
       " 'my iphone is why are there so many british sounding people in texas sxsw',\n",
       " 'rt mention apple selling ipad 2 at sxsw california is great at building cult followings link',\n",
       " 'marissa mayer check ins are fun but what do you get from them thats why google is testing loyalty offers watch out foursquare sxsw',\n",
       " 'just saw google speak creating search engines tht can pictures is here sxsw',\n",
       " 'surprise apple has opened a pop up store in austin so that the nerds in town for sxsw can get their new ipads http link',\n",
       " \"ok i have seen two impressive lines since i'm at sxsw the one at the apple store yesterday amp the mention party now cc mention\",\n",
       " 'apple is driving the quot consumerization quot of it sxsw',\n",
       " 'a smart entrepreneur would set up an on line shop to help sell off all those ipad1 units at sxsw link',\n",
       " 'playing on ipad at microsoft booth while talks with about and device connectivity sxsw',\n",
       " 'rt mention rt mention giving away an ipad at sxsw for all you mappers out there entry is amazingly easy here are details link',\n",
       " 'sxsw waze link is duking it out with google re personalized mapping experience friendly quot panel crashing quot',\n",
       " 'first day the exhibit hall is open at sxsw stop by the emc booth to enter to win an ipad 2 mention mention',\n",
       " \"we just launched spin's ipad app at sxsw tons of music photos videos and more whatcha think link\",\n",
       " 'two year old shows us use ipad sxsw',\n",
       " 'future of retail party goods up front biz inventory in the back ala apple sxsw',\n",
       " 'mention new ipad apps for speech therapy and communication are showcased mention sxsw conference link sxswi assistivetech',\n",
       " 'android dev meetup was mostly ppl looking for devs good to learn if you already sxsw mccannsxsw',\n",
       " 'apple store peeps come running high all in line open any for all us sxsw ipad2 link',\n",
       " 'so for people back home seems that sxsw is putting together a pop up apple store for people to get the ipad2 today',\n",
       " 'sxsw foursquare updates its platform with new link android free iphone sxsw',\n",
       " 'josh williams mention said success was a wakeup call about games quot what can we build now quot iphone was were things were going sxsw',\n",
       " 'i really could use one of those tiny macbook airs did i read that apple set up a temporary store at sxsw where is it sxsw',\n",
       " 'so mention just arrived its iphone breaking time cc mention and mention sxsw',\n",
       " 'fun to meet the mention folks at sxsw couch this app made the ipad link',\n",
       " 'oh no rt mention confirmed new ipad 3 coming this link apple iphone ipad sxsw',\n",
       " 'grab mention for betainvites sxsw mention new android camera raises 1 1m from valley players bit ly ea1zgd via mention',\n",
       " 'better get in line now rt mention apple is opening up a temp store in downtown austin for sxsw amp ipad 2 launch link',\n",
       " 'yay rt mention apple is opening up a temp store in austin for sxsw link via mention ipad2\\x89û\\x9d',\n",
       " 'google is announcing a social network quot circles quot via sxsw tweets interesting will cause buzz jokes but this is interesting',\n",
       " 'rt mention mention retiring from wine library tv moving onto daily grape get the app on yr iphone thankyouecon sxsw',\n",
       " 'day 2 late night parties packed 9 30 session on designing for the ipad swoon sxsw fb',\n",
       " 'sxsw news google to launch major new social network called circles possibly today link',\n",
       " \"at the apple store with mention he's buying an ipad i guess this is what geeks do when they're drunk hahaha sxsw\",\n",
       " 'mayer i think about simplicity a lot at google in developing products sxsw jr',\n",
       " \"rt mention rt mention it's not a rumor apple is opening up a temporary store in downtown austin for sxsw ipad2 launch link\",\n",
       " 'if you prefer your news on iphone ipad or droid mention has apps for that mention mention amp mention all on mobile apps now sxsw',\n",
       " 'mention was too by the iphone app developers meetup that we had to leave sxsw',\n",
       " \"rt mention it's a lonely job protecting the ipad 2 but someones gotta do it link sxsw\",\n",
       " 'rt mention couple of new blogs random tips on awesome iphone app dev link and the politics behind html5 link sxsw',\n",
       " 'woohoo rt mention details for the ipad 2 giveaway coming tonight rt this sxsw sxswi',\n",
       " 'link did you hear apple\\x89ûªs opening a temporary store just for sxsw via mention',\n",
       " 'mention friend told me you were talking about smart at sxsw check out bit ly we will be at google i o with',\n",
       " 'google to launch social network today at sxsw called circles link',\n",
       " 'nice austin apple pop up shop in time for sxsw rt mention the i p a d s have arrived sxsw link',\n",
       " \"mention lol here at sxsw apple have a pop up store ipad 2's are flying off the it's a hipster\",\n",
       " \"so the ipad will be available while i'm in austin for sxsw this is major\",\n",
       " 'sxsw crowd swarms for ipad 2 launch mention link',\n",
       " 'rt mention the next fin serv battle is vs apple goog mobile operators they have consumer loyalty and tons of cash vs banks bankinnovate sxsw',\n",
       " 'mention launching gowalla 3 for droid at sxsw should push 4square and groupon link',\n",
       " 'rt mention google hotpot rate restaurants and get personalized recos on where to eat um think foursquare yelp etc have this covered already sxsw',\n",
       " 'kicking off w mention talking ipad design headaches sxsw',\n",
       " \"wish i was with mention listening to google's marissa mayer discuss new products including google hotpot watch out yelp sxsw\",\n",
       " \"it's not a rumor apple is opening up a pop up store in downtown austin for sxsw amp ipad 2 launch via mention link\",\n",
       " 'good q \\x89ûï mention to those that purchased ipad 2 at sxsw i see more ppl buying white one why nice frame for presentations reading \\x89û\\x9d',\n",
       " 'rt mention scenes from the austin sxsw ipad 2 pop up shop here they are arriving link sxsw cnnmoneysxsw',\n",
       " 'quot tattoo for an ipad quot on the what can it mean sxsw',\n",
       " 'awesome iphones etc on at amp t and wifi frozen at sxsw but on my android works like a charm',\n",
       " 'sxsw q how does google h264 from lt video gt but including flash browserwars',\n",
       " 'over 100 in line at apple pop up store everyone waiting for ipads first guy arrived at 6 30am 36 degrees then badges everywhere sxsw',\n",
       " 'marissa mayer quot our focus is on location based services quot demoed hotpot google maps vector maps augmented reality sxsw webvisions',\n",
       " \"it's crazy how much is documented in google doodles sxsw\",\n",
       " 'ready for sxsw here are some iphone apps 2 make ur blogging easier link sxsw sxswi',\n",
       " 'rt mention the ipad 2 is the also a large digital camera sxsw link',\n",
       " 'google analytics can track offsite links as virtual page views using javascript sxsw mitharvard',\n",
       " \"i will be in austin this weekend mention sxsw supporting smarty ears' launch of new ipad apps for speech therapy link sxswh sxsh\",\n",
       " 'rt mention late night security guard at sxsw popup apple store link',\n",
       " 'fear not now extended through wed gt rt mention rt mention last day for apple popup is sunday 3 13 sxsw appleatxdt',\n",
       " 'mention well i did hear that someone was gonna setup a pop up apple store during sxsw oh wait that about the fruit',\n",
       " 'wordpress 12 of websites from sxsw talk from founder wow the other spam bots google',\n",
       " 'need a few android loving volunteers from 10 3 at sxsw',\n",
       " 'rt mention i feel like my iphone always on always doing something running out of battery fast sxsw',\n",
       " \"took an ipad from work for sxsw now i have to figure out what i'm gonna need on it while i'm there\",\n",
       " 'rt mention going to sxsw the new iphone guide to austin by mention is free march 9 15 hard to beat free lp',\n",
       " 'rt mention apple saves sxsw set to open pop up store link',\n",
       " \"rt mention sxsw geogames android if you geo games tweet us we'd love to talk free beer or coffee for a couple minutes of your time\",\n",
       " \"i think sxsw has taken it itself to make it clear to me that a gen 1 iphone ain't gonna cut it anymore\",\n",
       " 'why yes the google party does have glowing sxsw link',\n",
       " \"my verizon iphone is kicking at sxsw how's your at amp t phone doing d sxsw link\",\n",
       " 'google to launch major new social network called circles google circles sxsw link',\n",
       " 'rt mention i cant wait to give the samsung people a demo of my horrible terrible google nexus s phone at sxsw',\n",
       " \"i'd love it if google said quot why do you want to know quot sxsw\",\n",
       " \"woah expect google circles today at sxsw during google's league of extraordinary hackers events today big\",\n",
       " 'sxsw link is the google doc to get all the relevant links from this panel',\n",
       " 'mention our social calendar app just out with some special sxsw functionality for iphone and android d link',\n",
       " \"so mention claims android phones were everywhere at last year's sxsw dude the ios to android ratio is like 15 to 1 iphone 4 is everywhere\",\n",
       " 'looking forward to the day when mention and mention release native android 3 0 tablet clients google latitude sucks sxsw',\n",
       " \"i wouldn't think of watching a big game or event without twitter and my ipad anymore sxsw\",\n",
       " 'feeling so coming out of sxsw that i just apple the social network',\n",
       " 'congrats radical media google arcade fire for sxsw best in show wilderness downtown',\n",
       " 'mention mention mention hmmm how fast can apple build a new store in time for sxsw link',\n",
       " 'it his iphone which he uses for changing visuals rt mention googledoodle sxsw fun panel intrigued by powerglove',\n",
       " 'rt mention great for meetings haha hollergram link sxsw',\n",
       " \"sxsw crowd in austin swarms for ipad 2 launch link via mention sadly i wasn't one of them via mention\",\n",
       " \"i was finally to google sxsw why can't people tweet with better like on\",\n",
       " 'mention hey eric it was at a pop up apple store here at sxsw nice long line of tech savvy folks ready to spend hard earned',\n",
       " 'mike tyson launched iphone game mention sxsw link tech news link',\n",
       " \"rt mention rt it's not a rumor apple is opening up a temporary store in downtown austin for sxsw and the ipad 2 launch link\",\n",
       " 'pic 41 shades of blue google test sxsw metricsdrivendesign link',\n",
       " 'rt mention texas observer tomlinson says they would double revenue per issue with ipad subscriptions newsapps sxsw',\n",
       " 'rt mention google set to launch new social network circles today at sxsw',\n",
       " 'photo saving up for an ipad 2 sxsw style taken with instagram link',\n",
       " \"my iphone says it can't connect to the internet even though sxsw wifi works great on my computer any suggestions\",\n",
       " 'hollrback is being released at sxsw iphone users can grab the app at hollrback com mention',\n",
       " \"it me how many people don't the flap in on their apple ipad case sxsw\",\n",
       " \"what's behind android's race to no 1 link smartphones technology mobile sxsw sxswi\",\n",
       " 'rt mention quot multiple approaches to monetization quot re iphone game dev quot but ads would our product quot ok good luck with that sxsw',\n",
       " 'mention good job mention sxsw went home amp watched season 1 of the d sucks that your tweet abt the iphone is a top tweet lol',\n",
       " 'google latitude to make a big push at sxsw will they this year link',\n",
       " 'sxsw i tweeted too fast it appears google may do a preview today of circles their new social',\n",
       " 'rt mention marissa mayer google will connect the digital amp physical worlds through mobile link sxsw',\n",
       " 'sxsw ze frank i missed the childhood walk project with google street view revelations link',\n",
       " 'two ipad at sxsw vast majority of people using them seen lots of 2s today looks nice',\n",
       " \"after you get your food don't forget to snap a photo to win a macbook air ipad 2 or apple tv sxsw\",\n",
       " \"sxsw twit free idea a with a pocket for an ipad facing out so you look like a i'm old\",\n",
       " \"mention go quot mention i'll be at the austin convention center today w my mention fam showing my new iphone game sxsw quot\",\n",
       " 'join actsofsharing com tonight the person with the most friends in their city by end of sxsw wins an ipad 2',\n",
       " 'iphone i know this sxsw week will be tough on your already battery but so help me if you keep my words',\n",
       " 'apple pop up store line is ridic sxsw link',\n",
       " 'okay no google circles debuting at sxsw today',\n",
       " 'impressed with mention from google relevant amp fun sxsw mention austin convention center link',\n",
       " 'rt mention the line at the popup apple store is phenomenal sxsw apple ipad2 link',\n",
       " 'google plans to bring quot the power of here quot to life in the future by linking the digital and the physical worlds link sxsw',\n",
       " 'oh apple store you look so at home here in downtown austin sxsw sxtxstate mention apple store sxsw link photo',\n",
       " 'when the google bing session was full so far sxsw',\n",
       " 'google fusion tables made day foursquare visualization possible sxsw pr',\n",
       " 'the apple store in austin and 100 people taking a pic of it ipad2 sxsw link',\n",
       " 'sxsw tradeshow floor engage w our multi touch interactive wall take part in an augmented reality in 3d and enter to win an ipad',\n",
       " \"rt mention to the dude propping his ipad on the urinal your time isn't that valuable sxsw\",\n",
       " \"don't by an ipad 2 for the facing camera here is what you get link sxsw\",\n",
       " 'to kick off sxswi mention is giving away an ipad 2 just visit the fb page to enter link sxsw',\n",
       " '\\x89ûï mention google to launch major new social network called circles possibly today link sxsw\\x89û\\x9d mention bigger than gaga',\n",
       " 'just passed the apple store on 6th easily 150 folks in line sxsw link',\n",
       " 'free itunes album sxsw featured artists grab it if you missed it link',\n",
       " 'brilliant win win austin sxsw and ipad2 link',\n",
       " 'rt mention thank you to mention for letting me test drive a car to the apple store now lets hope that they can fix my phone sxsw',\n",
       " \"line for ipads at sxsw doesn't look too bad i waited 6 5 hours for an iphone 4\",\n",
       " 'got it rt mention new ubersocial for iphone now in the app store includes uberguide to sxsw cont link',\n",
       " \"can't wait to see mention on friday at the sxsw morning after party link\",\n",
       " 'sxsw people there is no app on the ipad so stop asking sxsw',\n",
       " \"apple to open pop up shop at sxsw link lt cool concept but i wouldn't spend my sxsw waiting for the ipad2\",\n",
       " 'the big takeaway from sxsw interactive i need an iphone',\n",
       " 'google photo booth mention at the six lounge check it sxsw link',\n",
       " 'interesting rt mention google analytics can track offsite links as virtual views using sxsw mitharvard',\n",
       " \"it's day at the google booth at sxsw\",\n",
       " 'i asked one of the booth people if apple paid every single booth here to show their product on ipad2s she said no sxsw',\n",
       " 'now i feel better 106 1st day mention sxsw ipad store sold out of everything except 64gig wifi only white',\n",
       " \"at a party being by google and the aclu don't tell my dad sxsw mention maggie mae's w others link\",\n",
       " 'download daily grape a new app from mention for the iphone you can take him with you to the wine shop sxsw',\n",
       " 'learning how to get personalized recommendations using google hotpot link sxsw',\n",
       " 'what a great blog on the latest news of sxsw like the opening of an apple store link sxsw2011 mention',\n",
       " 'rt mention lax security had a few questions about my packed entirely with energy drinks and apple wires sxsw',\n",
       " 'mention feature mention for the iphone we will be all over sxsw this week',\n",
       " 'false alarm but could google be rt mention google to launch major new social network called circles link sxsw',\n",
       " \"mention who said you won't be able to get the ipad 2 at sxsw apple is opening a pop up store in austin for sxsw link\",\n",
       " \"tablets like the ipad and xoom where touch a mouse click keyboard input means we're not there yet sxsw gswsxsw futureoftouch\",\n",
       " 'apple built an experience ecosystem with the ipod the mp3 player is just an app sxsw',\n",
       " \"if u have a iphone you don't need a use etc to share sxsw shareable\",\n",
       " 'sxsw vegan guide google map austin tx link based on the lazy info link',\n",
       " \"rt mention we're experimenting and tinkering again like in the nineties quot best viewed on ipad is the new best viewed on internet explorer 6 quot sxsw\",\n",
       " \"it's a lonely job protecting the ipad 2 but someones gotta do it link sxsw\",\n",
       " \"android may be market share but you'd never know it at sxsw apparently our industry movers and shakers are apple\",\n",
       " 'guy kawasaki quot i believe in god because there is no other explanation for the survival of apple over the years quot lol sxsw',\n",
       " 'austin is getting full and sxsw is underway i can tell because my iphone is an brick crowded',\n",
       " 'ready to learn quot designing ipad interfaces new navigation schemas quot sxsw uxdes',\n",
       " 'within a month of having ipad 9 year old had and games sxsw poursite',\n",
       " \"rt mention google circles will be toast if it can't convince facebook users to start an account or interface with fb sxsw\",\n",
       " \"i actually have no idea what sxsw is i could google it but i'm fine not knowing\",\n",
       " 'rt mention rt mention mention to launch major new social network called circles possibly today link sxsw smm gt gt really google now',\n",
       " 'ahhh rt mention mention mention according to mention google has confirmed it is not launching at sxsw if at all',\n",
       " \"mention what's going on at sxsw today share photos video with ireport link or through cnn iphone app\",\n",
       " 'sxsw health2dev zeiger quot health is moving so much slower than we could be quot google',\n",
       " 'quot sxsw privacybootcamp for startups with mention mention mention and mention sounds like a fight waiting to happen can we add',\n",
       " \"good to meet and see all mention don't forget mindjet giving away an ipad for best map of sxswi details link\",\n",
       " 'rt mention new ubersocial for iphone now in the app store includes uberguide to sxsw sponsored by mashable link',\n",
       " \"rt mention rt mention i'll be at the austin convention center today w my mention fam showing my new iphone game sxsw\",\n",
       " \"i won an ipad at sxsw nah i'm lying i bought this shit myself link\",\n",
       " 'ipad design tip if it looks like a physical object ppl will interact with it like it\\x89ûªs one quot sxsw tapworthy',\n",
       " 'rt mention sxsw beyondwc analytics 101 google analytics is a standard to use',\n",
       " 'photo by far the best sxsw accessory is an ipad followed closely by a link',\n",
       " \"found the app my iphone's geolocation amp not releasing when in background need a mention batterykiller sxsw\",\n",
       " 'google to launch major new social network called circles link sxsw via mention',\n",
       " 'free sxsw sampler on itunes link freemusic',\n",
       " 'technology apple saves sxsw set to open pop up store despite having two other austin texas locations link tech',\n",
       " 'excellent presentation by mention on quot the ipad market is your site quot sxsw poursite accessibility',\n",
       " 'tomorrow i go back to the apple store sigh sxsw',\n",
       " 'free itunes sxsw link takes you to mention itunes store link',\n",
       " \"phone on the way out battery wise and i believe this week is the only week i'd be comfortable typing on an ipad on sixth st sxsw\",\n",
       " 'rt mention rt mention sxsw google to launch major new social network called circles possibly today by mention link',\n",
       " \"my pen just ran out of maybe it's a sign to go buy an ipad sxsw mention\",\n",
       " \"iphone battery doesn't last long under sxsw usage\",\n",
       " \"mention google i'm in middle of sxsw craziness and everything is busy\",\n",
       " 'use google or fb as entry point fb too personal try or google reader to draw people in sxsw',\n",
       " 'mention i thought that was the point of having an ipad carrying it around at sxsw',\n",
       " '2 hour wait at the makeshift apple store for ipad 2 fail sxsw',\n",
       " 'iphone app finally sxsw link music app sxsw',\n",
       " 'google web fonts pretty sxsw tradeshow link',\n",
       " 'google to expensive mobile data plans are killing the of contextual discovery sxsw pnid',\n",
       " 'mention founder new iphone to be out in summer sxsw',\n",
       " \"the on ipad are going to they're still impossible to download 20 and up downloads sxsw\",\n",
       " 'rt mention mention has their google analytics up 58 967 visits ipad and iphone are ranked in top 5 ways people access it newsapps sxsw',\n",
       " 'mention the apple popup waiting for ipad2 action sxsw',\n",
       " 'ly is launching soon and celebrating by giving away an apple tv each day sxsw launch link via mention',\n",
       " 'kind of funny sad that the ipad release line was longer than any party lines i saw at sxsw last night',\n",
       " 'fresh google circles not launched at sxsw link',\n",
       " 'so twitter for iphone anyway to remove burn hashtags eg sxsw v v bored already already',\n",
       " \"less than half an hour and we'll tell you how to win an ipad 2 rt this now sxsw sxswi\",\n",
       " 'both microsoft and google are us off too link mention a wannabe logo sxsw link',\n",
       " 'my at amp t iphone user friends keep borrowing my verizon iphone to their sxsw schedules their networks are ridiculously slow',\n",
       " 'rt mention mention putting a gun to mention head give me your iphone sxsw link',\n",
       " 'they took away the lego but replaced it with a recharging station sxsw and i might check for an iphone crap samsung android',\n",
       " 'idea is to combine google analytics with other tools so you know your website or program is doing something sxsw bavcid',\n",
       " \"don't miss mention presentation in at 2 pm filmaster mobile for iphone is to be officially launched sxsw\",\n",
       " 'anyone else headed to austin for sxsw for the popup store launch by apple of the ipad2 this friday gonna miss mention this year',\n",
       " \"setting up for the google gsdm sxsw party it's going to be a ma zing check out events at sxsurrogates com and come on out\",\n",
       " 'lonelyplanet austin iphone app is a free gps aware map of the city without the need for 3g or wifi sxsw',\n",
       " 'mention getting his new ipad at the sxsw flash apple store link',\n",
       " 'i wish i were at sxsw i wish i had an ipad 2 there i said it',\n",
       " 'brilliant i hope they have plenty of ipads rt mention apple to open pop up shop at sxsw report link sxsw',\n",
       " \"rt mention i know it's sxsw because my iphone has started lying to me about its signal strength\",\n",
       " \"rt mention and we're live come get your android and check us out link sxsw android\",\n",
       " 'rt mention sxsw i need the best android dev here html5 js issue need solving quickly handsome reward and love for grabs',\n",
       " 'is it just me or has the mention client for android gotten really sxsw to blame',\n",
       " \"rt mention i'll be at the austin convention center today w my mention fam showing my new iphone game sxsw\",\n",
       " 'i meant i also wish i at sxsw stupid iphone',\n",
       " 'rt mention going to sxsw the new iphone guide to austin by mention is free march 9 15 hard to beat free lp mobile',\n",
       " 'rt mention danfung dennis will be demoing the immersive video rig and ipad platform used in to hell amp back again at our sxsw party',\n",
       " '40 of google maps usage is mobile now has 150 million mobile users sxsw via mention',\n",
       " 'ipad lounge at mention free daily for sxsw free coffee ipad art recharge refresh åç austin details link',\n",
       " \"with my iphone's battery life already down to 11 at 3 30 pm while my blackberry is going strong sxsw\",\n",
       " 'link rt mention quot google before you tweet quot is the new quot think before you speak quot mark belinsky 911tweets panel at sxsw',\n",
       " 'yay rt mention hoot new blog post hootsuite mobile for sxsw updates for iphone blackberry amp android link',\n",
       " \"mention have y'all seen this temp apple store going up downtown for sxsw would y'all stream from there instead link\",\n",
       " \"the world's largest ipad sxsw link\",\n",
       " \"why does all the android here in austin are when i'm at work well at least there is the ps meetup sxsw\",\n",
       " 'who uses google tv in this room nobody raises a hand in a packed room at the socialviewing session at sxsw',\n",
       " 'iphone too old for sxsw schedule app oh',\n",
       " 'rt mention finally fed up with angrybirds julian screamed quot i got your no fly zone right here pigfucker quot and threw his ipad at some kid sxsw',\n",
       " 'what happened to the taxi magic iphone app now all i can do is call the via it sxsw',\n",
       " 'google via mention denies it will be launching circles at sxsw hope it better than wave and buzz when it comes',\n",
       " 'mention no worries man just glad i got to run into ya in the ipad line sxsw',\n",
       " \"rt mention the future is about networks not just data that's why google may not win long term sxsw web3 saatchiny\",\n",
       " 'rt mention poor austin rt mention ipad 2 launch coincides with fri afternoon of sxsw apple store employees in austin may begin weeping now',\n",
       " 'rt mention innovation in banking is coming from mobile the innovators are apple google and verizon sxsw bankinnovation',\n",
       " 'justmet mention who worked for apple for 25 years sxsw',\n",
       " \"mention quot omg i'm gonna miss 2 panels at sxsw standing in line for and 1 panel playing with my new ipad but it'll be worth it quot\",\n",
       " 'hey iphone users if you have both instagram and hipstamatic which do you enjoy using more sxsw week is sure making things interesting',\n",
       " 'woohoo \\x89ûï mention standing in line for the 6th time ipad2 apple sxsw',\n",
       " 'got my ipad 2 and gave to red cross for japan what a first day at sxsw',\n",
       " \"rt mention sweet apple's opening a pop up shop in the scarbrough building on congress for the ipad 2 link via mention sxsw\",\n",
       " 'rt mention new ubersocial for iphone out includes uberguide to sxsw sponsored by mashable link lt v nicely done',\n",
       " 'lucky \\x89ûï mention rt mention scored a mophie juice pack at the tradeshow sxsw double your iphone battery \\x89û\\x9d',\n",
       " \"of course apple built a temp store in austin it's texas they understand the concept of sxsw\",\n",
       " 'right next to the google building sxsw mention hyatt place \\x89ûó link',\n",
       " \"down the street mention is navigating via google i'm tweeting and random guy is welcome to sxsw\",\n",
       " 'it is never more than at sxsw how nice it would be if apple made stuff w batteries gsdm',\n",
       " 'google guy at sxsw talk is explaining how he made realistic twitter bots as an experiment gee thanks for doing that',\n",
       " 'fast fun amp future mention of google presenting at sxsw on search local and mobile',\n",
       " 'lax security had a few questions about my packed entirely with energy drinks and apple wires sxsw',\n",
       " 'panel just got my head out of my ipad by saying quot link out loud newsapps sxsw',\n",
       " 'so grateful my is mostly full of and for events other than ipad 2 and sxsw',\n",
       " 'rt mention quot so if you google quot refrigerator magnet game quot everyone at the sxsw keynote stops listening and does it',\n",
       " 'anybody get their ipad 2 from the downtown apple pop up store yet any sxsw',\n",
       " 'brilliant use case sxsw quot mention service is great get mention for android or iphone and add the sxsw user amp ask away quot',\n",
       " \"every person i see with a ipad looks crazy looks like they have a 80's cell phone in their hand sxsw\",\n",
       " 'need a workspace book it from your iphone link mention app sxsw virtualoffice',\n",
       " 'google vs bing on bettersearch bing has a shot at success w structured search potentially higher margin cpa model vs google sxsw',\n",
       " 'great presentation touching stories designing digital magazines for the ipad link sxsw',\n",
       " 'learning about the future of search from mention amp mention social and awesome sxsw',\n",
       " 'pedicab iphone charger would be epic win sxsw',\n",
       " 'horrible memories of the apple beach coming back at the talk sxsw',\n",
       " 'really digging austin especially the east side stopped by mention for an apple the size of my head and some great buzz sxsw',\n",
       " 'google to launch major new social network called circles possibly today link sxsw this will surely be a to fb',\n",
       " 'this double buzzing issue with iphone ios 4 3 is getting annoying in other news an iphone may fly across the room at sxsw',\n",
       " 'flipboard is developing an iphone version not android says mention sxsw',\n",
       " 'iphone android party with mention and mention sxsw',\n",
       " 'ipad 2 queue is epic sxsw link',\n",
       " 'people in this apple store do not great sxsw',\n",
       " 'rt mention join actsofsharing com tonight the person with the most friends in their city by end of sxsw wins an ipad 2',\n",
       " 'twitter you have failed me for the last time force iphone sxsw',\n",
       " 'you gdgtaustin attendees are fun happy sxsw stop by on your way out last chance to win an ipad 2',\n",
       " 'if there was ever any doubt on the influence of apple on the innovation community just have a look a sxsw ipads and everywhere',\n",
       " \"rt mention epic there's just one guy waiting in line for the ipad 2 in austin at sxsw link sxsw ipad ipad2\",\n",
       " 'rt mention marissa mayer google will connect the digital amp physical worlds through mobile link sxsw',\n",
       " \"google two factor is awesome when you're using public computers just used it at sxsw link\",\n",
       " 'rt mention behind on 100s of emails give them all 1 line iphone composed replies sxsw protip',\n",
       " \"rt mention update recco link which sxsw panels parties are def good times follow friends who've been there b4 if you're a newbie\",\n",
       " 'hooray more long lines rt mention apple is opening temporary store in downtown austin for sxsw amp the ipad 2 launch link',\n",
       " \"google maps has 150 million mobile users that's what marissa mayer claims at sxsw link\",\n",
       " 'you must have this app for your ipad if you are going to sxsw link hollergram',\n",
       " \"with moves like this it's no wonder apple stays on top link sxsw\",\n",
       " 'driving around austin on google street view scoping out locations from my desk sxsw',\n",
       " \"packed house for google bing q amp a on search rankings oh quot i'm hope it's a quot sxsw qagb\",\n",
       " 'there are lots of other google helping japan and many other global issues rt mention rt mention wtf is up w people at sxsw',\n",
       " 'rt facebook hit an adoption point chance of success quot mention google 2 launch new social network called sxsw',\n",
       " \"unexpected of up at to make sxsw flight being up to order ipad 2 right as it's released\",\n",
       " \"you know it's bad with you have to un rsvp just to see use your calendar iphone sxsw\",\n",
       " \"about to start google doodles burning man to pac man and beyond let's if i get new ideas for sxsw\",\n",
       " \"i would love to meet u rt mention i'll be at the austin convention center today w my mention fam showing my new iphone game sxsw\",\n",
       " \"google using starry night to demo their streetview like art project it's like they're inside my brain sxsw\",\n",
       " 'innovation in banking is coming from mobile the innovators are apple google and verizon sxsw bankinnovation',\n",
       " 'still feeling and blue terminal was like managed to buy apple for 5 too notwinning sxsw',\n",
       " 'mention i heard you got the first ipad 2 at mention 10 austin sxsw link',\n",
       " \"rt mention the ironic tee has been by the ipad 2 as the hipster geek start up fashion at this year's sxsw\",\n",
       " \"apple knows what game they're in at sxsw bring the ipad2 to the people link\",\n",
       " 'rt mention someone at sxsw needs to host a race between the sms apps for iphone pink slips or probably something much cooler th',\n",
       " \"rt mention rt mention sound of my voice was shot exploiting apple amp best buy's 14 day return policy on imacs brilliant sxsw\",\n",
       " \"mention bad apple shows up late the process ideas leaves early can even be quot i'm too creative quot or busy gamestorming sxsw\",\n",
       " \"hasn't heard google plans to launch a in may quot circles quot they have learned a lot in 5 years lots has changed via sxsw\",\n",
       " 'mention i want that ipad case sxswbuffalo sxsw',\n",
       " \"15 minutes left in line for the ipad at sxsw think i'm gonna my asleep\",\n",
       " 'rt mention google to launch major new social network called circles possibly today at sxsw link',\n",
       " 'our friends at mention finally quot put out quot for android get their app amp get your disc on during sxsw',\n",
       " 'so mention just spilled the beans next platform for flipboard is the iphone team started working on it sxflip sxsw sxswi',\n",
       " 'related if u have verizon u will do better sxsw issue my blackberry always tweeted when my iphone wjchat',\n",
       " \"sxsw day 5 at the apple store and there's still a line and growing link\",\n",
       " 'dude i may actually buy an ipad 2 tomorrow apple will have a temporary store in downtown austin for sxsw link',\n",
       " 'save me some cash techcrunch giveaway an ipad techcrunch link via mention winning ipad2 sxsw apple',\n",
       " 'planning to wait for the ipad2 at the sxsw apple store get infektd might be players in the crowd link',\n",
       " \"mention mention apple's gotta take advantage of all the hipsters that head out to sxsw somehow\",\n",
       " 'rt mention note to self of tweeting on an white ipad 2 expect to be mention sxsw',\n",
       " \"never thought i'd be sitting on the floor of the austin convention center but that's the best place to plug in my iphone charger sxsw\",\n",
       " 'the iphone app has been released in time for sxsw no waiting in line for bar 96 bands if you have the app link',\n",
       " 'google is the way you information goggles is the best example of that sxsw marissameyer',\n",
       " 'quot google before you tweet is the new think before you speak quot belinsky of digital democracy sxsw via mention',\n",
       " 'liking the apple pop up store at sixth street and congress avenue mention sxsw',\n",
       " 'nyt wsj at sxsw ask is there a future for branded native news apps on the ipad link no there is not',\n",
       " \"lol i don't see a single pc user around macbooks and ipads web devs are definitely apple folks sxsw apple\",\n",
       " 'going to the urinal while holding ur ipad and tweeting about it is tough sxsw',\n",
       " 'days closer to becoming an owner of an ipad 2 so so so so stoked only thing getting me through and not being at sxsw',\n",
       " 'rt mention apple fans it looks like there will be a 3rd apple store opening up in austin for sxsw if those are full u can go2 1 of 4 in san antonio',\n",
       " 'sxsw 41 shades of blue test mention link',\n",
       " 'lol rt mention the google party line starts behind me ha the germ has put her towel down early sxsw',\n",
       " 'yes rt mention haha the mention drinking game drink every time says game layer or google sxsw cc mention',\n",
       " 'a guy come to ipad2 line and ask where from what we feel about ipad2 have o good discussion about apple crazyco sxsw',\n",
       " 'mention rt mention apple is opening up a temporary store in downtown austin for sxsw and the ipad 2 launch link',\n",
       " 'pretty excited for my iphone to stop working sxsw at amp t',\n",
       " \"that's who i saw that was driving me nuts thank you google sxsw\",\n",
       " 'google crisis response has a site up w good info on japanese earthquake tsunami link sxsw sxswi',\n",
       " 'rt rt mention the ipad 2 takes over sxsw video link rt mention the ip link vegas news',\n",
       " 'in line for the ipad2 why not apple hype team just made the high five run by sxsw',\n",
       " 'no more stumbling around lost at sxsw stay in contact with your group with the mention iphone application link',\n",
       " \"re group chat apps for sxsw now been told to d l two more apps not yet avail on android this point i'll need phone just for apps\",\n",
       " 'before it even begins apple wins sxsw over the past week been a major dilemma link',\n",
       " 'google maps 5 0 guys this will be huge google and marissa mayer sxsw',\n",
       " 'rt mention mention one of the must have apps to survive sxsw link join our during sxswi',\n",
       " \"i never realized how by iphone battery was until sxsw i'm charging every few hours\",\n",
       " 'thanks pepsi max and smart water in line at apple pop up store sxsw',\n",
       " 'rt mention arduino android flaming skulls link the refrigerator speaks salon k 3 30pm mention mention sxsw smartthings',\n",
       " 'so mention just saved my iphone thanks guys sxsw',\n",
       " 'i picked up a white ipad2 today at the apple store sxsw',\n",
       " \"i fully that every geek douche will be toting an ipad 2 at sxsw these people are also why it's not worth going\",\n",
       " 'hey pick me up one too will ya rt mention omg still in line for the new ipad n dieing of hunger sxsw who else is in line',\n",
       " 'the ipad 2 launch is really at south by in austin that is so \\x89ûó sxsw mac ipad mention',\n",
       " 'posted up at the house intimate stranger on the stage they got a restaurant crowd sitting down to deal sxsw link',\n",
       " 'is a bit disappointed that the two ipad talks had so many examples sxsw',\n",
       " '\\x89ûï mention is walking around sxsw while staring down at my iphone 4 just like everyone else \\x89û\\x9d ummmm ditto that',\n",
       " 'party with dj do playing with red bull bpm on ipad sxsw courtyard mention link',\n",
       " 'have you ever seen someone pay to have a guy wait in line for them for an apple device yeah i just did that lame sxsw',\n",
       " 'rt mention almost every quot how do you quot is answered w google docs in this session sxsw looseorganizations',\n",
       " 'nice mention sxsw highlights thus far made friends w ux developer singularity blows my mind google owns it',\n",
       " 'the google name was built on stuff out there and trying it with users to see what works marissagoogle sxsw',\n",
       " 'note to self of tweeting on an white ipad 2 expect to be mention sxsw',\n",
       " 'haha the mention drinking game gt quot drink every time says game layer or google quot sxsw cc mention mention',\n",
       " 'bad news is it 1 000 rt mention has an iphone app called sxsw',\n",
       " \"cool apple sets up 5 000 sq ft temporary store at sxsw to sell ipad 2's link\",\n",
       " \"omg sign me up until when rt mention we're officially at sxsw come by the mention grill amp you\\x89ûªll get to make your own iphone case\",\n",
       " 'giving away an ipad 2 at this panel wish me luck sxsw',\n",
       " 'rt mention new mike tyson game coming to the iphone link iphone sxsw videogames tyson art cartoon',\n",
       " '\\x89ûï mention the ipad 2 takes over sxsw video link via',\n",
       " \"new game for the iphone this one can't be as good as the original mike punchout link sxsw\",\n",
       " 'apple pop up store in austin for sxsw link by mention via mention lt lt brilliant popupstore',\n",
       " 'left brain search google right brain search x best session today covering semantic web and recommendations sxsw link',\n",
       " \"hmm can't get twitter searches to update in hootsuite or tweetdeck on ipad sxsw\",\n",
       " \"fest tip don't be an iphone douche put away your phone and talk to your fellow festgoers in lines etc all good people who love film sxsw\",\n",
       " 'check out mention mention amp mention in line for their ipad 2 in austin power to them sxswi sxsw link',\n",
       " \"rt mention best thing i've heard this weekend at sxsw quot i gave my ipad 2 money to japan relief i don't need an ipad 2 quot lt amen gt\",\n",
       " 'heading to austin for sxsw the mention austin guide for iphone is free for a limited time link lp travel',\n",
       " \"rt mention rt mention heard about apple's pop up store in downtown austin pics are already on gowalla link sxsw pop pop\",\n",
       " \"to all the ladies holding up their ipad 2's at free sxsw shows to take photos while free beer cc mention\",\n",
       " 'rt mention false alarm google circles not coming now and probably not ever link so much for reports that it would unveil at sxsw',\n",
       " 'rt mention want to win a free ipad 2 are you at or attending sxsw details are here link',\n",
       " '1 lots of fun rt mention mention hollergram app is killing it at sxsw link',\n",
       " 'lovin apple amp ipad2 apple austin sxsw',\n",
       " 'waiting for google to launch their secret new social network called circles today at sxsw gt gt any new updates',\n",
       " 'just downloaded the app in preparation for sxsw you need to check it out link app events networking',\n",
       " 'rt mention smartphone breakdown at sxsw unofficial 98 5 iphones 1 android 03 blackberry windows other',\n",
       " 'eating a the size of half an ipad gotta love americans for their sense of measure sxsw',\n",
       " 'queue at apple pop up store at sxsw still long',\n",
       " \"rt mention i don't know why you would do original content only for anything in today's world and the ipad 2 is better barry diller sxsw\",\n",
       " 'win an ipad 2 at sxsw via mention sxsw link',\n",
       " \"hey mention twitter needs a way for us in disaster to filter out things like sxsw and ipad too because right now we really don't care\",\n",
       " 'franken takes a shot at apple app process cc mention sxsw calls audience quot job creators quot',\n",
       " \"of ipad2's waiting to be bought at sxsw i got mine no at all apple this perfectly link\",\n",
       " 'google party is at gsd amp m google map it sxsw badge gets u in free food drinks music big place no line great party come',\n",
       " \"i think i'm getting ready to order an ipad 2 with the i would have had to spend to attend sxsw\",\n",
       " 'for the love of god i need a macbook pro charger the apple store on congress is closed where in austin can i get one sxsw',\n",
       " \"mention thanks we've updated our story link sxsw google\",\n",
       " \"this iphone sxsw app would b pretty awesome if it didn't every during extended browsing\",\n",
       " 'find where mention is playing at sxsw on the eventseekr app for android we got u link',\n",
       " 'now that is customer service \\x89ûó quot apple opens temporary store near sxsw quot link',\n",
       " \"i don't know why you would do original content only for anything in today's world and the ipad 2 is better barry diller sxsw\",\n",
       " 'rt mention qrafter is better than all paid or free qr code apps because it can not only scan vcards it can also download them qrcode iphone sxsw',\n",
       " \"so here's the latest game i worked on for iphone ipod link hobo with a shotgun made w mention sxsw mention\",\n",
       " \"nothing says douche cake like walking around with a ipad like it's an iphone sxsw\",\n",
       " 'could a game improve ecodriving habits rt mention \\x89ûï35 million miles a day are driven while being google maps navigation assisted quot sxsw',\n",
       " 'never seen so many heads turn at one point someone from apple asks a question to reid sxsw',\n",
       " 'rt mention forward to delicious t mobile 4g here in austin while iphone users struggle to do anything sxsw',\n",
       " 'localmind sounds awesome location based q amp a could be useful link iphone sxsw',\n",
       " 'going to sxsw the new iphone guide to austin by mention is free march 9 15 hard to beat free lp',\n",
       " \"rt mention we're co hosting a meetup w mention mention mention at etsy austin space on 6th 6 google schwag come sxsw\",\n",
       " \"it's too tempting walking by apple store austin that's selling ipad2 sxsw\",\n",
       " \"awesome rt mention best thing i've heard this wknd sxsw quot i gave my ipad 2 money to japan relief don't need an ipad 2 quot mention\",\n",
       " 'saw hashable pushed out an update to its iphone app looks ready to use as the biz card solution for sxsw',\n",
       " 'tech lightbox photos wants to be your new android camera app sxsw although android adoption is link technology',\n",
       " 'several years too late i think the trend of social apps is over mention sxsw google circles conversation mention',\n",
       " \"mention love what y'all do at sxsw how come i'm getting login error almost every time i open my app on iphone\",\n",
       " \"i wonder if there's anyone here who's an ipad 2 supposedly there's an apple store somewhere on sxsw\",\n",
       " \"sxsw five in iphone social apps while standing at a bar yet having a great time i wouldn't believe it if i lived it\",\n",
       " 'makeshift sxsw apple store is in a gym link',\n",
       " \"line around the corner for ipad2 at sxsw i say wait on it i've already got two cameras on my iphone sorry apple\",\n",
       " 'google doodles aim to bring people together socially promote communal experience sxsw googledoodles',\n",
       " 'to see what google has in store for sxsw today',\n",
       " 'touchingstories giving us the background to starting great to hear after on ipad and or tablet sxsw',\n",
       " \"the line for the apple popup store at sxsw stretches around the block guess i won't be getting the ipad2 today\",\n",
       " 'i just noticed dst is coming this weekend how many iphone users will be an hour late at sxsw come sunday morning sxsw iphone',\n",
       " 'at sxsw tapworthy ipad design headaches avoiding the of the new design challenges',\n",
       " 'rt mention best swag ever thanks mention my charging iphone thanks you too sxsw link',\n",
       " 'mention looks like you could get your ipad2 here link apple sxsw',\n",
       " \"i want one it's not a rumor apple is opening up a temporary store in downtown austin for sxsw and the ipad 2 launch link\",\n",
       " 'already seeing ipad 2s all over the place at sxsw',\n",
       " 'sxsw a crowd than rt mention hey marissa mayer please tell us something new not about products google launched months ago',\n",
       " 'first person to stop by our booth at sxsw amp show me their ipad 2 running one if our apps wins a free snakeheead tee shirt sxsw',\n",
       " 'rt mention strange how little japan news penetrates sxsw bubble only bar tvs on cnn suggest anything more important than ipad 2 is going on fb',\n",
       " 'ipad 2 giveaway in full force person with most friends in his her city by end of sxsw wins hint a strong email list works well sxswi',\n",
       " \"enjoying the resurgence \\x89ûï mention i'll be at the austin convention center today w my mention fam showing my new iphone game sxsw\\x89û\\x9d\",\n",
       " 'rt mention temporary sxsw apple store apple being sneaky as usual link',\n",
       " \"day 1 and my charger kicked the where the heck is the apple store that's within walking sxsw\",\n",
       " 'i just found bbq sauce on my ipad tech and texas really do come together here sxsw',\n",
       " 'technews ipad 2 gets temporary apple store for sxsw link tech news apple apple store ipad 2 sxsw tech',\n",
       " 'the pressure ahem excuse to buy rt mention ipad 2 is the must have gadget at sxsw link via mention',\n",
       " \"to the dude propping his ipad on the urinal your time isn't that valuable sxsw\",\n",
       " 'rt mention learnt from mention that there are more google searches for jesus than star wars but not by much sxsw allhat',\n",
       " 'rt mention ipad2 unboxing outside the sxsw apple store link',\n",
       " 'dl the calyp app to get into calyp casa at sxsw the free mobile app is available in itunes app store amp android market see u there',\n",
       " 'at sxsw apple schools the marketing experts sxsw cnet blogs link',\n",
       " 'is starting to think my blackberry is more like the of phones damn u iphone sxsw i just wanted',\n",
       " 'if there was a popup store in austin that sold nothing but iphone battery extenders it would make so much money sxsw',\n",
       " 's for intimate stranger has in the most painful places to get on respect location link sxsw',\n",
       " 'mention mention mention thanks for making great products great for making sxsw party podcasts link',\n",
       " 'is that like google rt mention giggle someone checked into me today on gowalla sxsw sxswi',\n",
       " 'rt mention looking for a cool new iphone twitter app to track the action at sxsw this week check out link',\n",
       " 'share share and share some more posterous joins the sxsw pile on with posterous events for iphone link socmedia',\n",
       " 'awesome iphone charging at the lounge sxsw link',\n",
       " 'rt mention good news austin eats bbq for iphone is now available link itunes austin bbq sxsw sxswi',\n",
       " \"rt mention it's official people using the ipad 2 to take photos just look weird sxsw\",\n",
       " 'if you thought people spent a lot of time staring at their iphone last year at sxsw just wait',\n",
       " \"my verizon iphone is kicking at sxsw how's your at amp t phone doing d sxsw\",\n",
       " 'rt mention at sxsw presentation mention demonstrates how you can pause a video on new video player and pick up in same spot on ipad app',\n",
       " 'more than 35 million miles per day are driving with google maps navigation sxsw',\n",
       " 'marissa mayer from mention quot mobile is a cursor quot sxsw demo of next gen google maps is really impressive btw',\n",
       " \"which smartphone rules sxsw definitely the iphone 4 96 of apple smartphone i've eyeballed are the ip4\",\n",
       " 'rt mention checkins are fun but we need to extend beyond just being fun and make checkins useful sxsw google',\n",
       " \"line for apple's ipad 2 popup store is already wrapping around the block sxsw link\",\n",
       " 'google dev at the panel that android now has a screen reader that works with native ui web views and the browser sxsw',\n",
       " 'the google map app saves my life on a regular basis rt mention maps has 150 million users 40 of users are mobile sxsw',\n",
       " 'mention mention mention mention paper phones means an ipad will likely be useless at sxsw as well fail',\n",
       " 'is going over notes for his sxsw speech ipad 2 vs android vs world he got an ipad days ago but feels like an already',\n",
       " 'block party ballroom f sxsw just went to google thing last session but only because first choice was full',\n",
       " 'i just loaded up the groupme app for the iphone load me up sxsw brethren link',\n",
       " 'navigating a crowded party sucks but its way worse when everyone walks around with their face in their iphone sxsw',\n",
       " 'rt mention rt mention so mention just spilled the beans next platform 4 flipboard is the iphone workin on it sxflip sxsw sxswi',\n",
       " 'have yet to see someone with a pc dell or otherwise at sxsw all apple macbook pro or ipads sxsw',\n",
       " \"ha seems like it gt \\x89ûï mention the only news at sxswi was apple's temporary ipad store sxsw wth \\x89û\\x9d\",\n",
       " 'rt mention it is ridiculous to see someone taking a photo during a session with their ipad cannot wait to see concert use sxsw silly',\n",
       " 'learning about all the latest food related apps half the people in this rm make apps sxsw gsdm check out coming soon iphone',\n",
       " \"sxsw movie stars and directors are all well and fine but the guy who's really attracting a crowd is the one showing off his ipad 2\",\n",
       " 'apple google at amp t have a of cash brand loyalty mobile and will make mobile payments easy bankinnovation sxsw',\n",
       " 'guy gets with company logo to win an ipad link sxsw',\n",
       " 'this is a winning picture android google sxsw link',\n",
       " 'at the google hacker party at sxsw good times with cle startupbus',\n",
       " 'rt mention deliciously ironic google privacy party made whole by quot banking cartel military scientific dictatorship takeover quot cab rant sxsw',\n",
       " \"those aren't apples rt mention woke up sandwiched between my iphone and ipad i forgot how much sxsw was like geek spring break\",\n",
       " 'quot google before you tweet quot is the new quot think before you speak quot mark belinsky 911tweets panel at sxsw sxswi',\n",
       " 'mention god i sure hope so content and bing copy of google sxsw qagb',\n",
       " 'quot google has too many products and needs to condense them quot sxsw fyi they have nine mobile products',\n",
       " 'mention did you see that apple is opening up a temporary store at sxsw for the ipad 2 launch maybe we can transfer',\n",
       " 'rt mention ipad design headaches with josh clark tapworthy sxsw link',\n",
       " \"mention talking about link google's effort to allow users to have open systems bettercloud sxsw\",\n",
       " 'why is groupme not available in canada for iphone users sxsw would love to check it out',\n",
       " 'rt mention at sxsw apple schools the marketing experts cnet link',\n",
       " 'now there are 150 million mobile google maps users mention sxsw',\n",
       " 'take that sxsw rt mention major south director gets 130 000 to make a movie entirely with his iphone link',\n",
       " \"sxsw begins w an add panel amp i've used my ipad iphone and bb multiple times in the last\",\n",
       " 'trying to the power of power needs on iphone vs ipad at sxsw this 3g ipad sucks it out quick might have go airplane mode',\n",
       " 'link mention chatting it up via iphone hilarious sxsw',\n",
       " 'win an ipad at sxsw via mention sxsw link',\n",
       " \"my biggest with sxsw so far is no one looks where they're going because to iphone\",\n",
       " 'sxsw day 1 as expected everyone is to their iphone ipad myself included',\n",
       " 'rt mention geeking out on youtube apis sxsw mention google teaching theatre link',\n",
       " 'great ui demo of mention on mention link xoom sxsw android tech tablet',\n",
       " \"ok i'm interested rt mention google to launch major new social network called circles possibly today link sxsw\",\n",
       " 'sxsw if my flight leaves at 6 45 am and the clocks go ahead at 2 and my iphone alarm will not go off what time do i miss my flight',\n",
       " 'my ipad auto name from the first four sxsw',\n",
       " 'rt mention mention not only at cedar street courtyard but also at apple store sxsw link from a small fan',\n",
       " 'has put together a guide to sxsw at link the latest update to their iphone app is going to be sick',\n",
       " 'i would give my apple stock to be more like mention link sxsw',\n",
       " 'google maps has 150 million users 40 percent of google maps users are mobile sxsw',\n",
       " 'new post ipad 2 launches to huge lines at apple pop up shop in austin link sxsw sxswi',\n",
       " \"woot \\x89ûï mention it's not a rumor apple is opening a temporary store in downtown austin for sxsw and the ipad 2 launch link\",\n",
       " 'never seen so many apple products in my life sxsw',\n",
       " 'sxsw evaporation mention mention business model is the platform iphone app makes tools link',\n",
       " \"steve jobs doesn't position the iphone as a device made in china where are high he sells dreams kawasaki thisisdare sxsw\",\n",
       " \"rt mention google to launch a social network circles at sxsw link who's excited\",\n",
       " 'apple to have pop up store in austin smart link sxsw',\n",
       " 'mention google circles will be as the next facebook and then be completely forgotten about by the end of next week sxsw',\n",
       " \"google continues to innovate i don't think we can what the future will be like sxsw\",\n",
       " \"apple gets to the core of sxsw with it's pop up shops events link\",\n",
       " 'there are so many ppl w apple products at sxsw i think my head is about to this message brought to you via iphone',\n",
       " \"anyone know where i'll be able to find a video of marissa mayer's sxsw presentation google\",\n",
       " \"my row this morning two people hand writing notes one person on a blackberry and me on a pc proof apple isn't a monopoly at sxsw\",\n",
       " 'sxsw q android webkit safari webkit mention we want to be browserwars',\n",
       " \"looking at the line for the pop up sxsw apple store i can't think of a single object i want that much\",\n",
       " \"it's madness already downtown and it's only the 1st day of sxsw apple popup store seems to be doing biz\",\n",
       " 'rt mention sxsw news apple is getting into the music business new device called an quot ipod quot like a disc player without the',\n",
       " 'a really great review of the ipad 2 and ipad 1 by mention at sxsw gt link',\n",
       " 'massive sxsw fail to run out of ipad2 mention should have had a full parked out front justsayin link',\n",
       " 'i fear no iphone att 3gs network during sxsw amp',\n",
       " 'apple has two austin stores but until this week no downtown presence that changes with an sxsw popup store link mention',\n",
       " 'link via mention pretty neat i must say does it work on my android we shall see sxsw party free',\n",
       " 'mention not my choice believe me out three apple in the process all better now and on the ground at sxsw',\n",
       " \"and i'm also gonna google sxsw so i will finally know what that means been seeing it pass by on twitter enough times now gotta find out\",\n",
       " 'day one of sxsw coming to a close lots of good stuff looking fwd to tomorrow coolest so far google location map plans and features',\n",
       " 'rt mention details for the ipad 2 giveaway coming tonight rt this sxsw sxswi',\n",
       " 'just saw my first ipad 2 user tell because he has the white one sxsw apple',\n",
       " '40 of google map usage is mobile sxsw',\n",
       " 'rt mention rt mention apple is opening a pop up store in austin for sxsw link exactly what i wanted',\n",
       " 'rt mention download mention new austin iphone app for free during sxsw link thanks for the tip mention sxsw',\n",
       " 'rt mention rt mention google to launch major new social network called circles possibly today link sxsw',\n",
       " 'rt mention apple built an experience ecosystem with the ipod the mp3 player is just an app sxsw',\n",
       " 'rt mention stop by and let us make you a custom iphone case zazzlesxsw sxsw sxswi link link',\n",
       " 'dear sxsw please look up from your fucking iphone when walking the thanks hipsters hilarious',\n",
       " 'google possibly launching a social media service again sxsw link',\n",
       " 'rt mention rt mention mayer i think about simplicity a lot at google in developing products sxsw jr',\n",
       " 'huge line at the apple store in austin sxsw crowd over each other to get the new ipad',\n",
       " \"mention peter cashmore on the ipad 2 it's only a minor improvement not worth it unless you have money to burn sxsw\",\n",
       " 'only on android available genius lookalike no music listening sxsw',\n",
       " \"srsly \\x89ûï mention it's not a rumor apple is up a temporary store in downtown austin for sxsw and the ipad 2 launch link\",\n",
       " \"the ironic tee has been by the ipad 2 as the hipster geek start up fashion at this year's sxsw\",\n",
       " \"rt mention heard about apple's pop up store in downtown austin pics are already on gowalla link sxsw ipad2\",\n",
       " \"i didn't go to sxsw because i'm still using an iphone 3g\",\n",
       " \"mention they're they just spent all their money on sxsw passes who can afford google tv\",\n",
       " \"can't wait to see the internet in austin on friday when everyone stops all normal activity to order an ipad 2 sxsw\",\n",
       " \"dang it i've touched an ipad 2 i want sigh sxsw\",\n",
       " 'mention re quot lack of sxsw quot unless you count google circles googlecircles',\n",
       " 'foodspotting iphone app a success at sxsw finding food you crave for link',\n",
       " 'dear mention please tell us soon about google circles as unveiled at sxsw thanks',\n",
       " 'google maps mobile route around traffic feature fuel and time spent in traffic link sxsw',\n",
       " 'random news tech exclusive shot of sxsw popup apple store link ff',\n",
       " \"rt mention media circus guy walks out of apple's popup store at sxsw with 1st ipad2 now link\",\n",
       " \"sxsw android users we're proud of you\",\n",
       " 'mention one of the must have apps to survive sxsw link join our during sxswi',\n",
       " 'any google analytics and experts at sxsw would love some insight on ad management dm me hisxsw',\n",
       " 'searching for the temporary apple store at sxsw',\n",
       " 'so mention vs mention vs mention at sxsw things are heating up quot google offers check in rewards amp titles quot link lbs',\n",
       " 'rt mention ipad hipster austincrowd sxsw link',\n",
       " 'did anyone see visit the temporary apple store at sxsw',\n",
       " 'i composed a tweet so and about ipad users that my phone crashed and all my apps sxsw',\n",
       " 'rt mention sxsw 2011 the google and bing smackdown in all its bloody banality guardian link via mention',\n",
       " \"the apple sxsw store still has ipad 2's and short lines\",\n",
       " \"per this rumor google may preview its big social strategy at an '80s themed costume party at sxsw yep link link\",\n",
       " 'circles set to fail for being too by june rt mention google set to launch new social network circles today at sxsw',\n",
       " \"rt mention per this rumor google may preview its big social strategy at '80s themed costume party at sxsw yep link cnet\",\n",
       " \"this is one of the three best apps we've seen at sxsw link\",\n",
       " 'quot the default of users is more leisurely and quot mention ipad sxsw',\n",
       " 'just met at the android meetup sxsw big android fan link',\n",
       " 'just walked past the supposed apple sxsw temp store downstairs mention and the apple cult was outside taking photos on iphones',\n",
       " 'mention link you get the sxsw app yet android version has the schedule',\n",
       " 'yup rt mention i woke up before my iphone finished recharging that means i got enough sleep last night right sxsw',\n",
       " 'yes i hate the fanboys still valid tho to those that waited for the ipad2 instead of enjoying sxsw link via mention',\n",
       " 'new blog post ipad2 giveaway link sxsw',\n",
       " 'wew rt mention new ubersocial for iphone now in the app store includes uberguide to sxsw sponsored by cont link',\n",
       " 'ios app approval the dev flow android has been the platform to fine tune and experiment sxsw',\n",
       " \"rt mention rt mention best thing i've heard this weekend at sxsw quot i gave my ipad 2 money to japan relief i don't need an ipad\",\n",
       " 'rt mention heading to austin for sxsw the mention austin guide for iphone is free for a limited time link',\n",
       " 'excited to meet the mention at sxsw so i can show them my sprint galaxy s still running android 2 1 fail',\n",
       " 'diller says google tv quot might be run over by the and the xbox which are essentially ready today quot sxsw diller',\n",
       " \"rt mention quot google looks for technical solutions which why they're not great at community because it's a human solution quot sxsw\",\n",
       " \"rt mention found the app my iphone's geolocation amp not releasing when in background need a mention batterykiller sxsw\",\n",
       " 'thanks for the free drinks google sxsw mention speakeasy w others link',\n",
       " \"so who's gonna be getting an ipad2 from the apple store today bet the que is getting bigger sxsw ipad2 bet mention will\",\n",
       " 'rt mention line is wrapping around the block for an ipad 2 again for a second day at sxsw link',\n",
       " 'mention google was advertising the check in thing at aus sxsw link',\n",
       " 'ipad 2 contest in full swing great seeing so many of you on actsofsharing com still plenty of time to join the fun sxsw',\n",
       " 'cnnmoney got a craving sxsw minds created an app for that foodspotting link iphone apps',\n",
       " 'any of my friends at sxsw willing to pick me up an ipad will pay a premium dm me sxsw link',\n",
       " \"watching an 8 year old report on sxsw via his iphone shows that technology isn't going anywhere until the robots that is\",\n",
       " 'my sxsw google calendar is getting a little out of control',\n",
       " 'just used the ipad to help some find their hotel in austin sxsw winning',\n",
       " \"mention should if you didn't get ipad 1 shouldn't ipad2 3g 64gb cover 100 macbook air sxsw\",\n",
       " 'mention is about to talk about the mistakes he made building netflix for the iphone sxsw netflixiphone',\n",
       " \"i connected my keyboard to my iphone hello fast blogging while i'm at sxsw\",\n",
       " 'stop on our most excellent meat adventure city market in good but no link sxsw',\n",
       " 'def could use an ipad for sxsw today tweeting via iphone pretty much',\n",
       " 'has an ipad 2 apple for the popup shop at sxsw',\n",
       " 'sxsw la rt mention quot the revolution will be by google quot']"
      ]
     },
     "execution_count": 85,
     "metadata": {},
     "output_type": "execute_result"
    }
   ],
   "source": [
    "i=0\n",
    "txt = missed_texts[i]\n",
    "lbl = missed_labels[i]\n",
    "print(i)\n",
    "print(txt)\n",
    "tokenizer.sequences_to_texts(missed_texts)"
   ]
  },
  {
   "cell_type": "code",
   "execution_count": null,
   "metadata": {},
   "outputs": [],
   "source": []
  }
 ],
 "metadata": {
  "kernelspec": {
   "display_name": "learn-env",
   "language": "python",
   "name": "learn-env"
  },
  "language_info": {
   "codemirror_mode": {
    "name": "ipython",
    "version": 3
   },
   "file_extension": ".py",
   "mimetype": "text/x-python",
   "name": "python",
   "nbconvert_exporter": "python",
   "pygments_lexer": "ipython3",
   "version": "3.6.9"
  },
  "toc": {
   "base_numbering": 1,
   "nav_menu": {},
   "number_sections": true,
   "sideBar": true,
   "skip_h1_title": false,
   "title_cell": "Table of Contents",
   "title_sidebar": "Contents",
   "toc_cell": false,
   "toc_position": {},
   "toc_section_display": true,
   "toc_window_display": true
  }
 },
 "nbformat": 4,
 "nbformat_minor": 2
}
