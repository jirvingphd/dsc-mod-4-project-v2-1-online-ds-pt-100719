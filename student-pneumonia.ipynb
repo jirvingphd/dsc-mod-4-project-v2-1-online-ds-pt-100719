{
 "cells": [
  {
   "cell_type": "markdown",
   "metadata": {},
   "source": [
    "# MOVED TO COLAB \n",
    "https://drive.google.com/file/d/1M_02PYapCenZfKKA4Hm95W6J9UsBRSUm/view?usp=sharing"
   ]
  },
  {
   "cell_type": "code",
   "execution_count": 1,
   "metadata": {
    "ExecuteTime": {
     "end_time": "2020-06-13T00:53:53.811307Z",
     "start_time": "2020-06-13T00:53:53.387310Z"
    }
   },
   "outputs": [],
   "source": [
    "import numpy as np\n",
    "np.random.seed(321)"
   ]
  },
  {
   "cell_type": "code",
   "execution_count": 2,
   "metadata": {
    "ExecuteTime": {
     "end_time": "2020-06-13T00:54:01.946799Z",
     "start_time": "2020-06-13T00:53:54.023698Z"
    }
   },
   "outputs": [
    {
     "name": "stderr",
     "output_type": "stream",
     "text": [
      "\n",
      "Bad key \"text.kerning_factor\" on line 4 in\n",
      "/anaconda3/envs/learn-env/lib/python3.6/site-packages/matplotlib/mpl-data/stylelib/_classic_test_patch.mplstyle.\n",
      "You probably need to get an updated matplotlibrc file from\n",
      "https://github.com/matplotlib/matplotlib/blob/v3.1.3/matplotlibrc.template\n",
      "or from the matplotlib source distribution\n",
      "/anaconda3/envs/learn-env/lib/python3.6/site-packages/statsmodels/tools/_testing.py:19: FutureWarning: pandas.util.testing is deprecated. Use the functions in the public API at pandas.testing instead.\n",
      "  import pandas.util.testing as tm\n"
     ]
    },
    {
     "name": "stdout",
     "output_type": "stream",
     "text": [
      "fsds v0.2.13 loaded.  Read the docs: https://fs-ds.readthedocs.io/en/latest/ \n"
     ]
    },
    {
     "data": {
      "text/html": [
       "<style  type=\"text/css\" >\n",
       "</style><table id=\"T_5f5b767a_ad10_11ea_a8a6_acde48001122\" ><caption>Loaded Packages and Handles</caption><thead>    <tr>        <th class=\"col_heading level0 col0\" >Handle</th>        <th class=\"col_heading level0 col1\" >Package</th>        <th class=\"col_heading level0 col2\" >Description</th>    </tr></thead><tbody>\n",
       "                <tr>\n",
       "                                <td id=\"T_5f5b767a_ad10_11ea_a8a6_acde48001122row0_col0\" class=\"data row0 col0\" >dp</td>\n",
       "                        <td id=\"T_5f5b767a_ad10_11ea_a8a6_acde48001122row0_col1\" class=\"data row0 col1\" >IPython.display</td>\n",
       "                        <td id=\"T_5f5b767a_ad10_11ea_a8a6_acde48001122row0_col2\" class=\"data row0 col2\" >Display modules with helpful display and clearing commands.</td>\n",
       "            </tr>\n",
       "            <tr>\n",
       "                                <td id=\"T_5f5b767a_ad10_11ea_a8a6_acde48001122row1_col0\" class=\"data row1 col0\" >fs</td>\n",
       "                        <td id=\"T_5f5b767a_ad10_11ea_a8a6_acde48001122row1_col1\" class=\"data row1 col1\" >fsds</td>\n",
       "                        <td id=\"T_5f5b767a_ad10_11ea_a8a6_acde48001122row1_col2\" class=\"data row1 col2\" >Custom data science bootcamp student package</td>\n",
       "            </tr>\n",
       "            <tr>\n",
       "                                <td id=\"T_5f5b767a_ad10_11ea_a8a6_acde48001122row2_col0\" class=\"data row2 col0\" >mpl</td>\n",
       "                        <td id=\"T_5f5b767a_ad10_11ea_a8a6_acde48001122row2_col1\" class=\"data row2 col1\" >matplotlib</td>\n",
       "                        <td id=\"T_5f5b767a_ad10_11ea_a8a6_acde48001122row2_col2\" class=\"data row2 col2\" >Matplotlib's base OOP module with formatting artists</td>\n",
       "            </tr>\n",
       "            <tr>\n",
       "                                <td id=\"T_5f5b767a_ad10_11ea_a8a6_acde48001122row3_col0\" class=\"data row3 col0\" >plt</td>\n",
       "                        <td id=\"T_5f5b767a_ad10_11ea_a8a6_acde48001122row3_col1\" class=\"data row3 col1\" >matplotlib.pyplot</td>\n",
       "                        <td id=\"T_5f5b767a_ad10_11ea_a8a6_acde48001122row3_col2\" class=\"data row3 col2\" >Matplotlib's matlab-like plotting module</td>\n",
       "            </tr>\n",
       "            <tr>\n",
       "                                <td id=\"T_5f5b767a_ad10_11ea_a8a6_acde48001122row4_col0\" class=\"data row4 col0\" >np</td>\n",
       "                        <td id=\"T_5f5b767a_ad10_11ea_a8a6_acde48001122row4_col1\" class=\"data row4 col1\" >numpy</td>\n",
       "                        <td id=\"T_5f5b767a_ad10_11ea_a8a6_acde48001122row4_col2\" class=\"data row4 col2\" >scientific computing with Python</td>\n",
       "            </tr>\n",
       "            <tr>\n",
       "                                <td id=\"T_5f5b767a_ad10_11ea_a8a6_acde48001122row5_col0\" class=\"data row5 col0\" >pd</td>\n",
       "                        <td id=\"T_5f5b767a_ad10_11ea_a8a6_acde48001122row5_col1\" class=\"data row5 col1\" >pandas</td>\n",
       "                        <td id=\"T_5f5b767a_ad10_11ea_a8a6_acde48001122row5_col2\" class=\"data row5 col2\" >High performance data structures and tools</td>\n",
       "            </tr>\n",
       "            <tr>\n",
       "                                <td id=\"T_5f5b767a_ad10_11ea_a8a6_acde48001122row6_col0\" class=\"data row6 col0\" >sns</td>\n",
       "                        <td id=\"T_5f5b767a_ad10_11ea_a8a6_acde48001122row6_col1\" class=\"data row6 col1\" >seaborn</td>\n",
       "                        <td id=\"T_5f5b767a_ad10_11ea_a8a6_acde48001122row6_col2\" class=\"data row6 col2\" >High-level data visualization library based on matplotlib</td>\n",
       "            </tr>\n",
       "    </tbody></table>"
      ],
      "text/plain": [
       "<pandas.io.formats.style.Styler at 0x1036e4ba8>"
      ]
     },
     "metadata": {},
     "output_type": "display_data"
    }
   ],
   "source": [
    "!pip install -U fsds\n",
    "from fsds.imports import *"
   ]
  },
  {
   "cell_type": "code",
   "execution_count": 3,
   "metadata": {
    "ExecuteTime": {
     "end_time": "2020-06-13T00:54:01.954281Z",
     "start_time": "2020-06-13T00:54:01.950979Z"
    }
   },
   "outputs": [],
   "source": [
    "# env_filepath='your-original-env.txt'\n",
    "# print(f'Your original env is being saved as {env_filepath}')\n",
    "# %conda list --explicit > your-original-env.txt\n",
    "\n",
    "# with open(env_filepath) as f:\n",
    "#     print(f.read()[:250]+'\\n'+'...')"
   ]
  },
  {
   "cell_type": "code",
   "execution_count": 4,
   "metadata": {
    "ExecuteTime": {
     "end_time": "2020-06-13T00:54:05.101296Z",
     "start_time": "2020-06-13T00:54:01.959531Z"
    }
   },
   "outputs": [
    {
     "name": "stdout",
     "output_type": "stream",
     "text": [
      "tqdm v=4.46.1\n",
      "tensorflow v=2.2.0\n",
      "keras v=2.3.1\n",
      "pip v=20.1.1\n"
     ]
    },
    {
     "name": "stderr",
     "output_type": "stream",
     "text": [
      "Using TensorFlow backend.\n"
     ]
    },
    {
     "data": {
      "text/plain": [
       "[None, None, None, None]"
      ]
     },
     "execution_count": 4,
     "metadata": {},
     "output_type": "execute_result"
    }
   ],
   "source": [
    "import tqdm, tensorflow, keras, pip\n",
    "[print(f\"{mod.__name__} v={mod.__version__}\") for mod in [tqdm,tensorflow,keras,pip]]"
   ]
  },
  {
   "cell_type": "code",
   "execution_count": 5,
   "metadata": {
    "ExecuteTime": {
     "end_time": "2020-06-13T00:54:27.844050Z",
     "start_time": "2020-06-13T00:54:05.105478Z"
    }
   },
   "outputs": [
    {
     "name": "stdout",
     "output_type": "stream",
     "text": [
      "Requirement already up-to-date: pip in /anaconda3/envs/learn-env/lib/python3.6/site-packages (20.1.1)\n",
      "Requirement already up-to-date: tqdm in /anaconda3/envs/learn-env/lib/python3.6/site-packages (4.46.1)\n",
      "Requirement already up-to-date: tensorflow in /anaconda3/envs/learn-env/lib/python3.6/site-packages (2.2.0)\n",
      "Requirement already satisfied, skipping upgrade: h5py<2.11.0,>=2.10.0 in /anaconda3/envs/learn-env/lib/python3.6/site-packages (from tensorflow) (2.10.0)\n",
      "Requirement already satisfied, skipping upgrade: six>=1.12.0 in /anaconda3/envs/learn-env/lib/python3.6/site-packages (from tensorflow) (1.12.0)\n",
      "Requirement already satisfied, skipping upgrade: astunparse==1.6.3 in /anaconda3/envs/learn-env/lib/python3.6/site-packages (from tensorflow) (1.6.3)\n",
      "Requirement already satisfied, skipping upgrade: opt-einsum>=2.3.2 in /anaconda3/envs/learn-env/lib/python3.6/site-packages (from tensorflow) (3.2.1)\n",
      "Requirement already satisfied, skipping upgrade: termcolor>=1.1.0 in /anaconda3/envs/learn-env/lib/python3.6/site-packages (from tensorflow) (1.1.0)\n",
      "Requirement already satisfied, skipping upgrade: wheel>=0.26; python_version >= \"3\" in /anaconda3/envs/learn-env/lib/python3.6/site-packages (from tensorflow) (0.33.6)\n",
      "Requirement already satisfied, skipping upgrade: tensorboard<2.3.0,>=2.2.0 in /anaconda3/envs/learn-env/lib/python3.6/site-packages (from tensorflow) (2.2.2)\n",
      "Requirement already satisfied, skipping upgrade: absl-py>=0.7.0 in /anaconda3/envs/learn-env/lib/python3.6/site-packages (from tensorflow) (0.9.0)\n",
      "Requirement already satisfied, skipping upgrade: google-pasta>=0.1.8 in /anaconda3/envs/learn-env/lib/python3.6/site-packages (from tensorflow) (0.2.0)\n",
      "Requirement already satisfied, skipping upgrade: wrapt>=1.11.1 in /anaconda3/envs/learn-env/lib/python3.6/site-packages (from tensorflow) (1.11.2)\n",
      "Requirement already satisfied, skipping upgrade: grpcio>=1.8.6 in /anaconda3/envs/learn-env/lib/python3.6/site-packages (from tensorflow) (1.16.1)\n",
      "Requirement already satisfied, skipping upgrade: gast==0.3.3 in /anaconda3/envs/learn-env/lib/python3.6/site-packages (from tensorflow) (0.3.3)\n",
      "Requirement already satisfied, skipping upgrade: numpy<2.0,>=1.16.0 in /anaconda3/envs/learn-env/lib/python3.6/site-packages (from tensorflow) (1.18.1)\n",
      "Requirement already satisfied, skipping upgrade: scipy==1.4.1; python_version >= \"3\" in /anaconda3/envs/learn-env/lib/python3.6/site-packages (from tensorflow) (1.4.1)\n",
      "Requirement already satisfied, skipping upgrade: tensorflow-estimator<2.3.0,>=2.2.0 in /anaconda3/envs/learn-env/lib/python3.6/site-packages (from tensorflow) (2.2.0)\n",
      "Requirement already satisfied, skipping upgrade: protobuf>=3.8.0 in /anaconda3/envs/learn-env/lib/python3.6/site-packages (from tensorflow) (3.11.4)\n",
      "Requirement already satisfied, skipping upgrade: keras-preprocessing>=1.1.0 in /anaconda3/envs/learn-env/lib/python3.6/site-packages (from tensorflow) (1.1.0)\n",
      "Requirement already satisfied, skipping upgrade: google-auth<2,>=1.6.3 in /anaconda3/envs/learn-env/lib/python3.6/site-packages (from tensorboard<2.3.0,>=2.2.0->tensorflow) (1.17.1)\n",
      "Requirement already satisfied, skipping upgrade: google-auth-oauthlib<0.5,>=0.4.1 in /anaconda3/envs/learn-env/lib/python3.6/site-packages (from tensorboard<2.3.0,>=2.2.0->tensorflow) (0.4.1)\n",
      "Requirement already satisfied, skipping upgrade: werkzeug>=0.11.15 in /anaconda3/envs/learn-env/lib/python3.6/site-packages (from tensorboard<2.3.0,>=2.2.0->tensorflow) (1.0.1)\n",
      "Requirement already satisfied, skipping upgrade: markdown>=2.6.8 in /anaconda3/envs/learn-env/lib/python3.6/site-packages (from tensorboard<2.3.0,>=2.2.0->tensorflow) (3.1.1)\n",
      "Requirement already satisfied, skipping upgrade: requests<3,>=2.21.0 in /anaconda3/envs/learn-env/lib/python3.6/site-packages (from tensorboard<2.3.0,>=2.2.0->tensorflow) (2.22.0)\n",
      "Requirement already satisfied, skipping upgrade: tensorboard-plugin-wit>=1.6.0 in /anaconda3/envs/learn-env/lib/python3.6/site-packages (from tensorboard<2.3.0,>=2.2.0->tensorflow) (1.6.0.post3)\n",
      "Requirement already satisfied, skipping upgrade: setuptools>=41.0.0 in /Users/jamesirving/.local/lib/python3.6/site-packages (from tensorboard<2.3.0,>=2.2.0->tensorflow) (46.1.2)\n",
      "Requirement already satisfied, skipping upgrade: rsa<5,>=3.1.4; python_version >= \"3\" in /anaconda3/envs/learn-env/lib/python3.6/site-packages (from google-auth<2,>=1.6.3->tensorboard<2.3.0,>=2.2.0->tensorflow) (4.2)\n",
      "Requirement already satisfied, skipping upgrade: cachetools<5.0,>=2.0.0 in /anaconda3/envs/learn-env/lib/python3.6/site-packages (from google-auth<2,>=1.6.3->tensorboard<2.3.0,>=2.2.0->tensorflow) (4.1.0)\n",
      "Requirement already satisfied, skipping upgrade: pyasn1-modules>=0.2.1 in /anaconda3/envs/learn-env/lib/python3.6/site-packages (from google-auth<2,>=1.6.3->tensorboard<2.3.0,>=2.2.0->tensorflow) (0.2.8)\n",
      "Requirement already satisfied, skipping upgrade: requests-oauthlib>=0.7.0 in /anaconda3/envs/learn-env/lib/python3.6/site-packages (from google-auth-oauthlib<0.5,>=0.4.1->tensorboard<2.3.0,>=2.2.0->tensorflow) (1.3.0)\n",
      "Requirement already satisfied, skipping upgrade: urllib3!=1.25.0,!=1.25.1,<1.26,>=1.21.1 in /anaconda3/envs/learn-env/lib/python3.6/site-packages (from requests<3,>=2.21.0->tensorboard<2.3.0,>=2.2.0->tensorflow) (1.24.2)\n",
      "Requirement already satisfied, skipping upgrade: idna<2.9,>=2.5 in /anaconda3/envs/learn-env/lib/python3.6/site-packages (from requests<3,>=2.21.0->tensorboard<2.3.0,>=2.2.0->tensorflow) (2.8)\n",
      "Requirement already satisfied, skipping upgrade: chardet<3.1.0,>=3.0.2 in /anaconda3/envs/learn-env/lib/python3.6/site-packages (from requests<3,>=2.21.0->tensorboard<2.3.0,>=2.2.0->tensorflow) (3.0.4)\n",
      "Requirement already satisfied, skipping upgrade: certifi>=2017.4.17 in /anaconda3/envs/learn-env/lib/python3.6/site-packages (from requests<3,>=2.21.0->tensorboard<2.3.0,>=2.2.0->tensorflow) (2020.4.5.1)\n",
      "Requirement already satisfied, skipping upgrade: pyasn1>=0.1.3 in /anaconda3/envs/learn-env/lib/python3.6/site-packages (from rsa<5,>=3.1.4; python_version >= \"3\"->google-auth<2,>=1.6.3->tensorboard<2.3.0,>=2.2.0->tensorflow) (0.4.8)\n",
      "Requirement already satisfied, skipping upgrade: oauthlib>=3.0.0 in /anaconda3/envs/learn-env/lib/python3.6/site-packages (from requests-oauthlib>=0.7.0->google-auth-oauthlib<0.5,>=0.4.1->tensorboard<2.3.0,>=2.2.0->tensorflow) (3.1.0)\n",
      "Requirement already up-to-date: keras in /anaconda3/envs/learn-env/lib/python3.6/site-packages (2.3.1)\n",
      "Requirement already satisfied, skipping upgrade: pyyaml in /anaconda3/envs/learn-env/lib/python3.6/site-packages (from keras) (5.1.2)\n",
      "Requirement already satisfied, skipping upgrade: h5py in /anaconda3/envs/learn-env/lib/python3.6/site-packages (from keras) (2.10.0)\n",
      "Requirement already satisfied, skipping upgrade: six>=1.9.0 in /anaconda3/envs/learn-env/lib/python3.6/site-packages (from keras) (1.12.0)\n",
      "Requirement already satisfied, skipping upgrade: numpy>=1.9.1 in /anaconda3/envs/learn-env/lib/python3.6/site-packages (from keras) (1.18.1)\n",
      "Requirement already satisfied, skipping upgrade: keras-applications>=1.0.6 in /anaconda3/envs/learn-env/lib/python3.6/site-packages (from keras) (1.0.8)\n",
      "Requirement already satisfied, skipping upgrade: scipy>=0.14 in /anaconda3/envs/learn-env/lib/python3.6/site-packages (from keras) (1.4.1)\n",
      "Requirement already satisfied, skipping upgrade: keras-preprocessing>=1.0.5 in /anaconda3/envs/learn-env/lib/python3.6/site-packages (from keras) (1.1.0)\n"
     ]
    }
   ],
   "source": [
    "# Requires the latest pip\n",
    "!pip install --upgrade pip\n",
    "\n",
    "# Current stable release for CPU and GPU\n",
    "!pip install -U tqdm\n",
    "!pip install -U tensorflow\n",
    "!pip install -U keras\n",
    "\n",
    "\n",
    "import tqdm, tensorflow, keras, pip"
   ]
  },
  {
   "cell_type": "code",
   "execution_count": 7,
   "metadata": {
    "ExecuteTime": {
     "end_time": "2020-06-13T00:54:27.861001Z",
     "start_time": "2020-06-13T00:54:27.855561Z"
    }
   },
   "outputs": [],
   "source": [
    "from fsds.imports import *\n",
    "\n",
    "import os, glob\n",
    "data_folder = '/Users/jamesirving/Datasets/chest_xray/'"
   ]
  },
  {
   "cell_type": "code",
   "execution_count": 9,
   "metadata": {
    "ExecuteTime": {
     "end_time": "2020-06-13T00:54:27.891150Z",
     "start_time": "2020-06-13T00:54:27.880386Z"
    }
   },
   "outputs": [
    {
     "data": {
      "text/plain": [
       "['test', 'chest_xray', '__MACOSX', 'train', 'val']"
      ]
     },
     "execution_count": 9,
     "metadata": {},
     "output_type": "execute_result"
    }
   ],
   "source": [
    "os.listdir(data_folder)"
   ]
  },
  {
   "cell_type": "code",
   "execution_count": 10,
   "metadata": {
    "ExecuteTime": {
     "end_time": "2020-06-13T00:54:27.907909Z",
     "start_time": "2020-06-13T00:54:27.897389Z"
    }
   },
   "outputs": [
    {
     "data": {
      "text/plain": [
       "['/Users/jamesirving/Datasets/chest_xray/train/PNEUMONIA',\n",
       " '/Users/jamesirving/Datasets/chest_xray/train/NORMAL']"
      ]
     },
     "execution_count": 10,
     "metadata": {},
     "output_type": "execute_result"
    }
   ],
   "source": [
    "glob.glob(data_folder+\"train/*\")"
   ]
  },
  {
   "cell_type": "code",
   "execution_count": 11,
   "metadata": {
    "ExecuteTime": {
     "end_time": "2020-06-13T00:54:27.921395Z",
     "start_time": "2020-06-13T00:54:27.912476Z"
    }
   },
   "outputs": [
    {
     "name": "stdout",
     "output_type": "stream",
     "text": [
      "2.2.0\n"
     ]
    }
   ],
   "source": [
    "import tensorflow as tf\n",
    "print(tf.__version__)\n",
    "# import tensorflow.keras as ks\n",
    "\n",
    "from tensorflow.keras.preprocessing.image import ImageDataGenerator,img_to_array,load_img, array_to_img"
   ]
  },
  {
   "cell_type": "code",
   "execution_count": 82,
   "metadata": {
    "ExecuteTime": {
     "end_time": "2020-06-13T01:50:08.261419Z",
     "start_time": "2020-06-13T01:50:07.932035Z"
    }
   },
   "outputs": [
    {
     "name": "stdout",
     "output_type": "stream",
     "text": [
      "Found 4173 images belonging to 2 classes.\n",
      "Found 1043 images belonging to 2 classes.\n",
      "Found 624 images belonging to 2 classes.\n"
     ]
    }
   ],
   "source": [
    "IMG_SIZE=(64,64)\n",
    "BATCH_SIZE = 128\n",
    "VAL_SPLIT = 0.2\n",
    "\n",
    "\n",
    "image_generator =  ImageDataGenerator(validation_split=VAL_SPLIT,rescale=1./255)\n",
    "train_datagen =image_generator.flow_from_directory(data_folder+\"train/\",\n",
    "                                                   batch_size=BATCH_SIZE,\n",
    "                                                   target_size=IMG_SIZE,\n",
    "                                                   subset='training',seed=321\n",
    "                                                  )\n",
    "\n",
    "val_datagen = image_generator.flow_from_directory(data_folder+\"train/\",\n",
    "                                                  batch_size=BATCH_SIZE,\n",
    "                                                  target_size=IMG_SIZE,\n",
    "                                                  subset='validation',seed=321\n",
    "                                                  )\n",
    "\n",
    "test_datagen = ImageDataGenerator(rescale=1./255).flow_from_directory(data_folder+\"test/\",\n",
    "                                                                      target_size=IMG_SIZE,\n",
    "                                                                     batch_size=BATCH_SIZE,\n",
    "                                                                     seed=321)"
   ]
  },
  {
   "cell_type": "code",
   "execution_count": 83,
   "metadata": {
    "ExecuteTime": {
     "end_time": "2020-06-13T01:50:09.509755Z",
     "start_time": "2020-06-13T01:50:09.506508Z"
    }
   },
   "outputs": [
    {
     "data": {
      "text/plain": [
       "128"
      ]
     },
     "execution_count": 83,
     "metadata": {},
     "output_type": "execute_result"
    }
   ],
   "source": [
    "train_datagen.batch_size"
   ]
  },
  {
   "cell_type": "code",
   "execution_count": null,
   "metadata": {},
   "outputs": [],
   "source": []
  },
  {
   "cell_type": "code",
   "execution_count": 84,
   "metadata": {
    "ExecuteTime": {
     "end_time": "2020-06-13T01:50:11.611975Z",
     "start_time": "2020-06-13T01:50:10.320920Z"
    }
   },
   "outputs": [],
   "source": [
    "train_data,train_labels=next(train_datagen)"
   ]
  },
  {
   "cell_type": "code",
   "execution_count": 85,
   "metadata": {
    "ExecuteTime": {
     "end_time": "2020-06-13T01:50:11.616554Z",
     "start_time": "2020-06-13T01:50:11.613388Z"
    }
   },
   "outputs": [
    {
     "data": {
      "text/plain": [
       "(64, 64, 3)"
      ]
     },
     "execution_count": 85,
     "metadata": {},
     "output_type": "execute_result"
    }
   ],
   "source": [
    "train_data[0].shape"
   ]
  },
  {
   "cell_type": "code",
   "execution_count": 86,
   "metadata": {
    "ExecuteTime": {
     "end_time": "2020-06-13T01:50:11.626675Z",
     "start_time": "2020-06-13T01:50:11.618001Z"
    }
   },
   "outputs": [
    {
     "data": {
      "text/plain": [
       "['/Users/jamesirving/Datasets/chest_xray/train/NORMAL/NORMAL2-IM-0927-0001.jpeg',\n",
       " '/Users/jamesirving/Datasets/chest_xray/train/NORMAL/NORMAL2-IM-1056-0001.jpeg',\n",
       " '/Users/jamesirving/Datasets/chest_xray/train/NORMAL/IM-0427-0001.jpeg',\n",
       " '/Users/jamesirving/Datasets/chest_xray/train/NORMAL/NORMAL2-IM-1260-0001.jpeg',\n",
       " '/Users/jamesirving/Datasets/chest_xray/train/NORMAL/IM-0656-0001-0001.jpeg']"
      ]
     },
     "execution_count": 86,
     "metadata": {},
     "output_type": "execute_result"
    }
   ],
   "source": [
    "images = glob.glob(data_folder+\"train/\"+'NORMAL/*')\n",
    "images[:5]"
   ]
  },
  {
   "cell_type": "code",
   "execution_count": 87,
   "metadata": {
    "ExecuteTime": {
     "end_time": "2020-06-13T01:50:11.630112Z",
     "start_time": "2020-06-13T01:50:11.628077Z"
    }
   },
   "outputs": [],
   "source": [
    "# load_img(images[0])"
   ]
  },
  {
   "cell_type": "code",
   "execution_count": 88,
   "metadata": {
    "ExecuteTime": {
     "end_time": "2020-06-13T01:50:11.811415Z",
     "start_time": "2020-06-13T01:50:11.805105Z"
    }
   },
   "outputs": [
    {
     "data": {
      "image/png": "[encoded data removed]",
      "text/plain": [
       "<PIL.Image.Image image mode=RGB size=64x64 at 0x1462FF630>"
      ]
     },
     "execution_count": 88,
     "metadata": {},
     "output_type": "execute_result"
    }
   ],
   "source": [
    "array_to_img(train_data[0])"
   ]
  },
  {
   "cell_type": "code",
   "execution_count": 89,
   "metadata": {
    "ExecuteTime": {
     "end_time": "2020-06-13T01:50:12.267064Z",
     "start_time": "2020-06-13T01:50:12.264363Z"
    }
   },
   "outputs": [],
   "source": [
    "from tensorflow.keras.models import Sequential\n",
    "from tensorflow.keras.layers import Dense\n",
    "from tensorflow.keras import optimizers,regularizers"
   ]
  },
  {
   "cell_type": "code",
   "execution_count": 90,
   "metadata": {
    "ExecuteTime": {
     "end_time": "2020-06-13T01:50:12.588871Z",
     "start_time": "2020-06-13T01:50:12.586085Z"
    }
   },
   "outputs": [],
   "source": [
    "from tensorflow.keras import models,layers,optimizers,regularizers,activations\n",
    "from tensorflow.keras.layers import Conv2D, MaxPooling2D,Flatten,Dense,Dropout"
   ]
  },
  {
   "cell_type": "code",
   "execution_count": 91,
   "metadata": {
    "ExecuteTime": {
     "end_time": "2020-06-13T01:50:12.876309Z",
     "start_time": "2020-06-13T01:50:12.874148Z"
    }
   },
   "outputs": [],
   "source": [
    "# train_datagen.batch_size, train_datagen.image_shape, train_datagen."
   ]
  },
  {
   "cell_type": "code",
   "execution_count": 92,
   "metadata": {
    "ExecuteTime": {
     "end_time": "2020-06-13T01:50:13.165561Z",
     "start_time": "2020-06-13T01:50:13.153472Z"
    }
   },
   "outputs": [],
   "source": [
    "def evaluate_model_gen(model,test_datagen,history=None):\n",
    "    from sklearn import metrics\n",
    "    ## Get True Labels, Predictions and Convert to Classes\n",
    "    test_true = test_datagen.labels\n",
    "    test_pred = model.predict(test_datagen,\n",
    "#                               batch_size=test_datagen.batch_size,\n",
    "                              steps=test_datagen.samples//test_datagen.batch_size+1,\n",
    "                             verbose=1).argmax(axis=1)\n",
    "    \n",
    "    \n",
    "    \n",
    "    class_names = list(test_datagen.class_indices.keys())\n",
    "    \n",
    "    ## Classification Report\n",
    "    dashes='---'*20\n",
    "    print(dashes)\n",
    "    print('\\tCLASSIFICATION REPORT')\n",
    "    print(dashes)\n",
    "    print(metrics.classification_report(test_true,\n",
    "                                        test_pred,\n",
    "                                       target_names=class_names))\n",
    "    \n",
    "    print()\n",
    "    ## Confusion Matrix\n",
    "    print(dashes)\n",
    "    print(\"\\tConfusion Matrix\")\n",
    "    print(dashes)\n",
    "    display(np.round(metrics.confusion_matrix(test_true,test_pred,normalize='true'),2))\n",
    "    \n",
    "    print()\n",
    "    \n",
    "    ## Plot training history\n",
    "    try:\n",
    "        if history is None:\n",
    "            history = model.history\n",
    "            \n",
    "        plot_history(history)\n",
    "    except:\n",
    "        print('[!] No history plotted.')\n",
    "        \n",
    "        \n",
    "        \n",
    "def plot_history(history):\n",
    "    \n",
    "    ## Create history dataframe\n",
    "    history_df = pd.DataFrame(history.history)\n",
    "    history_df['Epoch'] = range(1,len(history_df)+1)\n",
    "    history_df.set_index('Epoch',inplace=True)\n",
    "    \n",
    "    # Plot Acc / Loss\n",
    "    metric_cols = set([col.replace('val_','') for col in history_df.columns])\n",
    "    \n",
    "    ## Make figure \n",
    "    fig,axes=plt.subplots(nrows=len(metric_cols),figsize=(6,8))\n",
    "    axes = axes.flatten()\n",
    "    \n",
    "    \n",
    "    plt.suptitle(f\"Model Training History\",y=1.02)\n",
    "    idx = 0\n",
    "    \n",
    "    for metric_type in metric_cols:\n",
    "        \n",
    "        plot_cols = [col for col in history_df.columns if metric_type in col]\n",
    "        ax = axes[idx]\n",
    "        \n",
    "        history_df[plot_cols].plot(ax=ax)\n",
    "        idx+=1\n",
    "\n",
    "\n",
    "    ## Create Tick Formatters/Locators\n",
    "    int_loc = mpl.ticker.MaxNLocator(integer=True)\n",
    "    fmt = mpl.ticker.ScalarFormatter()\n",
    "    \n",
    "    \n",
    "    # Update Ticks\n",
    "    [ax.set_xlim(0.5,len(history_df)+0.5) for ax in axes]\n",
    "    [ax.xaxis.set_major_locator(int_loc) for ax in axes]\n",
    "    [ax.xaxis.set_major_formatter(fmt)  for ax in axes]\n",
    "\n",
    "    plt.tight_layout()\n",
    "    return fig"
   ]
  },
  {
   "cell_type": "code",
   "execution_count": null,
   "metadata": {},
   "outputs": [],
   "source": []
  },
  {
   "cell_type": "code",
   "execution_count": 93,
   "metadata": {
    "ExecuteTime": {
     "end_time": "2020-06-13T01:50:14.122926Z",
     "start_time": "2020-06-13T01:50:14.119791Z"
    }
   },
   "outputs": [
    {
     "name": "stdout",
     "output_type": "stream",
     "text": [
      "06/12/20 - 09:50:14 PM\n"
     ]
    }
   ],
   "source": [
    "import tzlocal\n",
    "from datetime import datetime as dt\n",
    "time_format = \"%D - %I:%M:%S %p\"\n",
    "print(dt.now(tzlocal.get_localzone()).strftime(time_format))"
   ]
  },
  {
   "cell_type": "code",
   "execution_count": 94,
   "metadata": {
    "ExecuteTime": {
     "end_time": "2020-06-13T01:50:14.479205Z",
     "start_time": "2020-06-13T01:50:14.469092Z"
    }
   },
   "outputs": [],
   "source": [
    "def make_cnn(summary=True):\n",
    "    model = models.Sequential()\n",
    "    model.add(Conv2D(32, (3, 3), activation='relu',input_shape=train_datagen.image_shape))#(3, 64, 64)))\n",
    "    # model.add(activationsActivation('relu'))\n",
    "    model.add(MaxPooling2D(pool_size=(2, 2)))\n",
    "\n",
    "    model.add(Conv2D(32, (3, 3),activation='relu'))\n",
    "    model.add(MaxPooling2D(pool_size=(2, 2)))\n",
    "\n",
    "    model.add(Conv2D(64, (3, 3),activation='relu'))\n",
    "    # model.add(Activation('relu'))\n",
    "    model.add(MaxPooling2D(pool_size=(2, 2)))\n",
    "\n",
    "\n",
    "    model.add(Flatten())  # this converts our 3D feature maps to 1D feature vectors\n",
    "    model.add(Dense(64,activation='relu'))\n",
    "    # model.add(Activation('relu'))\n",
    "    model.add(Dense(32,activation='relu'))\n",
    "    model.add(Dropout(0.5))\n",
    "    model.add(Dense(2,activation='sigmoid'))\n",
    "    # model.add(Activation('sigmoid'))\n",
    "\n",
    "    model.compile(loss='binary_crossentropy',\n",
    "                  optimizer='adam',#'rmsprop',\n",
    "                  metrics=['accuracy',tf.keras.metrics.Recall()])\n",
    "    \n",
    "    if summary:\n",
    "        import tzlocal\n",
    "        from datetime import datetime as dt\n",
    "        time_format = \"%D - %I:%M:%S %p\"\n",
    "        now =dt.now(tzlocal.get_localzone()).strftime(time_format)\n",
    "        display(model.summary())\n",
    "        print(f\"\\t- Model was compiled at {now}\")\n",
    "        print()\n",
    "    return model\n",
    "\n",
    "\n",
    "def get_callbacks( checkpoint_folder = 'models/checkpoints/',prog_bar=True):\n",
    "    import os\n",
    "    os.makedirs(checkpoint_folder,exist_ok=True)\n",
    "    # import tensorflow as tf\n",
    "    from tensorflow.keras import callbacks\n",
    "    earlystop = callbacks.EarlyStopping(verbose=1,monitor='val_accuracy',min_delta=0.01, \n",
    "                                        patience=3,restore_best_weights=True)\n",
    "    checkpoint = callbacks.ModelCheckpoint(checkpoint_folder+\"weights.{epoch:02d}-{val_accuracy:.2f}.hdf5\",\n",
    "                                           verbose=0)\n",
    "\n",
    "    callback_list = [earlystop,checkpoint]\n",
    "#     if prog_bar:\n",
    "#         from tqdm.keras import TqdmCallback\n",
    "\n",
    "#         callback_list.append(TqdmCallback(verbose=2))\n",
    "\n",
    "    return callback_list"
   ]
  },
  {
   "cell_type": "code",
   "execution_count": 95,
   "metadata": {
    "ExecuteTime": {
     "end_time": "2020-06-13T01:50:14.950814Z",
     "start_time": "2020-06-13T01:50:14.947374Z"
    }
   },
   "outputs": [
    {
     "data": {
      "text/plain": [
       "5216"
      ]
     },
     "execution_count": 95,
     "metadata": {},
     "output_type": "execute_result"
    }
   ],
   "source": [
    "len(train_datagen.labels) + len(val_datagen.labels)"
   ]
  },
  {
   "cell_type": "code",
   "execution_count": 96,
   "metadata": {
    "ExecuteTime": {
     "end_time": "2020-06-13T01:50:15.451233Z",
     "start_time": "2020-06-13T01:50:15.447975Z"
    }
   },
   "outputs": [
    {
     "data": {
      "text/plain": [
       "1"
      ]
     },
     "execution_count": 96,
     "metadata": {},
     "output_type": "execute_result"
    }
   ],
   "source": [
    "train_datagen.batch_index"
   ]
  },
  {
   "cell_type": "code",
   "execution_count": 97,
   "metadata": {
    "ExecuteTime": {
     "end_time": "2020-06-13T01:50:15.734085Z",
     "start_time": "2020-06-13T01:50:15.730704Z"
    }
   },
   "outputs": [
    {
     "data": {
      "text/plain": [
       "128"
      ]
     },
     "execution_count": 97,
     "metadata": {},
     "output_type": "execute_result"
    }
   ],
   "source": [
    "len(train_data )"
   ]
  },
  {
   "cell_type": "code",
   "execution_count": 98,
   "metadata": {
    "ExecuteTime": {
     "end_time": "2020-06-13T01:50:15.993039Z",
     "start_time": "2020-06-13T01:50:15.989475Z"
    }
   },
   "outputs": [
    {
     "data": {
      "text/plain": [
       "32"
      ]
     },
     "execution_count": 98,
     "metadata": {},
     "output_type": "execute_result"
    }
   ],
   "source": [
    "steps_per_epoch = train_datagen.samples //train_datagen.batch_size\n",
    "steps_per_epoch"
   ]
  },
  {
   "cell_type": "code",
   "execution_count": 99,
   "metadata": {
    "ExecuteTime": {
     "end_time": "2020-06-13T01:58:23.371744Z",
     "start_time": "2020-06-13T01:50:16.523161Z"
    }
   },
   "outputs": [
    {
     "name": "stdout",
     "output_type": "stream",
     "text": [
      "Model: \"sequential_3\"\n",
      "_________________________________________________________________\n",
      "Layer (type)                 Output Shape              Param #   \n",
      "=================================================================\n",
      "conv2d_8 (Conv2D)            (None, 62, 62, 32)        896       \n",
      "_________________________________________________________________\n",
      "max_pooling2d_8 (MaxPooling2 (None, 31, 31, 32)        0         \n",
      "_________________________________________________________________\n",
      "conv2d_9 (Conv2D)            (None, 29, 29, 32)        9248      \n",
      "_________________________________________________________________\n",
      "max_pooling2d_9 (MaxPooling2 (None, 14, 14, 32)        0         \n",
      "_________________________________________________________________\n",
      "conv2d_10 (Conv2D)           (None, 12, 12, 64)        18496     \n",
      "_________________________________________________________________\n",
      "max_pooling2d_10 (MaxPooling (None, 6, 6, 64)          0         \n",
      "_________________________________________________________________\n",
      "flatten_3 (Flatten)          (None, 2304)              0         \n",
      "_________________________________________________________________\n",
      "dense_6 (Dense)              (None, 64)                147520    \n",
      "_________________________________________________________________\n",
      "dense_7 (Dense)              (None, 32)                2080      \n",
      "_________________________________________________________________\n",
      "dropout_3 (Dropout)          (None, 32)                0         \n",
      "_________________________________________________________________\n",
      "dense_8 (Dense)              (None, 2)                 66        \n",
      "=================================================================\n",
      "Total params: 178,306\n",
      "Trainable params: 178,306\n",
      "Non-trainable params: 0\n",
      "_________________________________________________________________\n"
     ]
    },
    {
     "data": {
      "text/plain": [
       "None"
      ]
     },
     "metadata": {},
     "output_type": "display_data"
    },
    {
     "name": "stdout",
     "output_type": "stream",
     "text": [
      "\t- Model was compiled at 06/12/20 - 09:50:16 PM\n",
      "\n",
      "Epoch 1/10\n",
      "33/33 [==============================] - 62s 2s/step - loss: 0.5726 - accuracy: 0.7359 - recall_3: 0.7031 - val_loss: 0.4767 - val_accuracy: 0.7430 - val_recall_3: 0.7430\n",
      "Epoch 2/10\n",
      "33/33 [==============================] - 60s 2s/step - loss: 0.3736 - accuracy: 0.8306 - recall_3: 0.7949 - val_loss: 0.2318 - val_accuracy: 0.8955 - val_recall_3: 0.8974\n",
      "Epoch 3/10\n",
      "33/33 [==============================] - 60s 2s/step - loss: 0.2408 - accuracy: 0.9113 - recall_3: 0.9046 - val_loss: 0.1775 - val_accuracy: 0.9262 - val_recall_3: 0.9262\n",
      "Epoch 4/10\n",
      "33/33 [==============================] - 58s 2s/step - loss: 0.1744 - accuracy: 0.9389 - recall_3: 0.9355 - val_loss: 0.1401 - val_accuracy: 0.9396 - val_recall_3: 0.9319\n",
      "Epoch 5/10\n",
      "33/33 [==============================] - 60s 2s/step - loss: 0.1569 - accuracy: 0.9456 - recall_3: 0.9437 - val_loss: 0.1114 - val_accuracy: 0.9549 - val_recall_3: 0.9559\n",
      "Epoch 6/10\n",
      "33/33 [==============================] - 61s 2s/step - loss: 0.1314 - accuracy: 0.9549 - recall_3: 0.9547 - val_loss: 0.1661 - val_accuracy: 0.9329 - val_recall_3: 0.9271\n",
      "Epoch 7/10\n",
      "33/33 [==============================] - 61s 2s/step - loss: 0.1247 - accuracy: 0.9571 - recall_3: 0.9547 - val_loss: 0.0981 - val_accuracy: 0.9645 - val_recall_3: 0.9655\n",
      "Epoch 8/10\n",
      "33/33 [==============================] - ETA: 0s - loss: 0.1114 - accuracy: 0.9648 - recall_3: 0.9648Restoring model weights from the end of the best epoch.\n",
      "33/33 [==============================] - 60s 2s/step - loss: 0.1114 - accuracy: 0.9648 - recall_3: 0.9648 - val_loss: 0.1028 - val_accuracy: 0.9607 - val_recall_3: 0.9607\n",
      "Epoch 00008: early stopping\n"
     ]
    }
   ],
   "source": [
    "## Make and fit Model\n",
    "model = make_cnn()\n",
    "\n",
    "### Had to set the steps_per_epoch, batch_size, validation_steps for proper fit\n",
    "history = model.fit(train_datagen,\n",
    "                    steps_per_epoch= train_datagen.samples//train_datagen.batch_size+1,\n",
    "                    epochs=10,verbose=1, \n",
    "                    batch_size=train_datagen.batch_size,\n",
    "                    validation_data=val_datagen,\n",
    "                    validation_steps = val_datagen.samples //val_datagen.batch_size+1,\n",
    "                    callbacks=get_callbacks())"
   ]
  },
  {
   "cell_type": "code",
   "execution_count": 100,
   "metadata": {
    "ExecuteTime": {
     "end_time": "2020-06-13T01:58:31.401138Z",
     "start_time": "2020-06-13T01:58:23.373675Z"
    }
   },
   "outputs": [
    {
     "name": "stdout",
     "output_type": "stream",
     "text": [
      "5/5 [==============================] - 5s 1s/step\n",
      "------------------------------------------------------------\n",
      "\tCLASSIFICATION REPORT\n",
      "------------------------------------------------------------\n",
      "              precision    recall  f1-score   support\n",
      "\n",
      "      NORMAL       0.46      0.14      0.22       234\n",
      "   PNEUMONIA       0.64      0.90      0.75       390\n",
      "\n",
      "    accuracy                           0.62       624\n",
      "   macro avg       0.55      0.52      0.48       624\n",
      "weighted avg       0.57      0.62      0.55       624\n",
      "\n",
      "\n",
      "------------------------------------------------------------\n",
      "\tConfusion Matrix\n",
      "------------------------------------------------------------\n"
     ]
    },
    {
     "data": {
      "text/plain": [
       "array([[0.14, 0.86],\n",
       "       [0.1 , 0.9 ]])"
      ]
     },
     "metadata": {},
     "output_type": "display_data"
    },
    {
     "name": "stdout",
     "output_type": "stream",
     "text": [
      "\n"
     ]
    },
    {
     "data": {
      "image/png": "[encoded data removed]",
      "text/plain": [
       "<Figure size 432x576 with 3 Axes>"
      ]
     },
     "metadata": {
      "needs_background": "light"
     },
     "output_type": "display_data"
    }
   ],
   "source": [
    "evaluate_model_gen(model, test_datagen,history)"
   ]
  },
  {
   "cell_type": "code",
   "execution_count": 75,
   "metadata": {
    "ExecuteTime": {
     "end_time": "2020-06-13T01:39:34.413779Z",
     "start_time": "2020-06-13T01:39:34.412074Z"
    }
   },
   "outputs": [],
   "source": [
    "# test_true = test_datagen.labels\n",
    "# test_pred = model.predict(test_datagen,\n",
    "# #                           batch_size=test_datagen.batch_size,\n",
    "#                           steps=test_datagen.samples//test_datagen.batch_size+1,\n",
    "#                          verbose=1)#.argmax(axis=1)"
   ]
  },
  {
   "cell_type": "code",
   "execution_count": 76,
   "metadata": {
    "ExecuteTime": {
     "end_time": "2020-06-13T01:39:34.418203Z",
     "start_time": "2020-06-13T01:39:34.415672Z"
    }
   },
   "outputs": [],
   "source": [
    "# test_pred.argmax(axis=1).shape, test_datagen.labels.shape"
   ]
  },
  {
   "cell_type": "code",
   "execution_count": null,
   "metadata": {},
   "outputs": [],
   "source": []
  },
  {
   "cell_type": "markdown",
   "metadata": {},
   "source": [
    "### Class Balance"
   ]
  },
  {
   "cell_type": "code",
   "execution_count": null,
   "metadata": {
    "ExecuteTime": {
     "end_time": "2020-06-13T00:53:45.755587Z",
     "start_time": "2020-06-13T00:52:57.136Z"
    }
   },
   "outputs": [],
   "source": [
    "class_names = list(test_datagen.class_indices.keys())\n",
    "class_lookup = {v:k for k,v in test_datagen.class_indices.items() }\n",
    "test_true = test_datagen.labels\n",
    "test_pred = model.predict(test_datagen).argmax(axis=1)"
   ]
  },
  {
   "cell_type": "code",
   "execution_count": null,
   "metadata": {
    "ExecuteTime": {
     "end_time": "2020-06-13T00:53:45.757860Z",
     "start_time": "2020-06-13T00:52:57.139Z"
    }
   },
   "outputs": [],
   "source": [
    "res_df =pd.DataFrame({'True':test_true,'Pred':test_pred})\n",
    "res_df = res_df.replace(class_lookup)\n",
    "\n",
    "res_df['True'].value_counts(normalize=True)"
   ]
  },
  {
   "cell_type": "code",
   "execution_count": null,
   "metadata": {
    "ExecuteTime": {
     "end_time": "2020-06-13T00:53:45.761176Z",
     "start_time": "2020-06-13T00:52:57.142Z"
    }
   },
   "outputs": [],
   "source": [
    "res_df['Pred'].value_counts(normalize=True)"
   ]
  },
  {
   "cell_type": "code",
   "execution_count": null,
   "metadata": {},
   "outputs": [],
   "source": []
  }
 ],
 "metadata": {
  "kernelspec": {
   "display_name": "Python 3.6.9 64-bit ('learn-env': conda)",
   "language": "python",
   "name": "python36964bitlearnenvconda5e778df2e0df4e31951cf19db85f0750"
  },
  "language_info": {
   "codemirror_mode": {
    "name": "ipython",
    "version": 3
   },
   "file_extension": ".py",
   "mimetype": "text/x-python",
   "name": "python",
   "nbconvert_exporter": "python",
   "pygments_lexer": "ipython3",
   "version": "3.6.9"
  },
  "toc": {
   "base_numbering": 1,
   "nav_menu": {},
   "number_sections": true,
   "sideBar": true,
   "skip_h1_title": false,
   "title_cell": "Table of Contents",
   "title_sidebar": "Contents",
   "toc_cell": false,
   "toc_position": {},
   "toc_section_display": true,
   "toc_window_display": false
  }
 },
 "nbformat": 4,
 "nbformat_minor": 2
}
