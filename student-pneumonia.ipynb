{
 "cells": [
  {
   "cell_type": "markdown",
   "metadata": {},
   "source": [
    "# MOVED TO COLAB  \n",
    "- BUT it is different since using flow and not flow from directory.\n",
    "https://drive.google.com/file/d/1M_02PYapCenZfKKA4Hm95W6J9UsBRSUm/view?usp=sharing"
   ]
  },
  {
   "cell_type": "code",
   "execution_count": 2,
   "metadata": {
    "ExecuteTime": {
     "end_time": "2020-06-26T00:24:32.626075Z",
     "start_time": "2020-06-26T00:24:30.617411Z"
    }
   },
   "outputs": [],
   "source": [
    "import numpy as np\n",
    "np.random.seed(321)"
   ]
  },
  {
   "cell_type": "code",
   "execution_count": 3,
   "metadata": {
    "ExecuteTime": {
     "end_time": "2020-06-26T00:24:41.210441Z",
     "start_time": "2020-06-26T00:24:32.627156Z"
    }
   },
   "outputs": [
    {
     "name": "stderr",
     "output_type": "stream",
     "text": [
      "\n",
      "Bad key \"text.kerning_factor\" on line 4 in\n",
      "/anaconda3/envs/learn-env/lib/python3.6/site-packages/matplotlib/mpl-data/stylelib/_classic_test_patch.mplstyle.\n",
      "You probably need to get an updated matplotlibrc file from\n",
      "https://github.com/matplotlib/matplotlib/blob/v3.1.3/matplotlibrc.template\n",
      "or from the matplotlib source distribution\n",
      "/anaconda3/envs/learn-env/lib/python3.6/site-packages/statsmodels/tools/_testing.py:19: FutureWarning: pandas.util.testing is deprecated. Use the functions in the public API at pandas.testing instead.\n",
      "  import pandas.util.testing as tm\n"
     ]
    },
    {
     "name": "stdout",
     "output_type": "stream",
     "text": [
      "fsds v0.2.15 loaded.  Read the docs: https://fs-ds.readthedocs.io/en/latest/ \n"
     ]
    },
    {
     "data": {
      "text/html": [
       "<style  type=\"text/css\" >\n",
       "</style><table id=\"T_6bff3cba_b743_11ea_bbcc_4865ee12e626\" ><caption>Loaded Packages and Handles</caption><thead>    <tr>        <th class=\"col_heading level0 col0\" >Handle</th>        <th class=\"col_heading level0 col1\" >Package</th>        <th class=\"col_heading level0 col2\" >Description</th>    </tr></thead><tbody>\n",
       "                <tr>\n",
       "                                <td id=\"T_6bff3cba_b743_11ea_bbcc_4865ee12e626row0_col0\" class=\"data row0 col0\" >dp</td>\n",
       "                        <td id=\"T_6bff3cba_b743_11ea_bbcc_4865ee12e626row0_col1\" class=\"data row0 col1\" >IPython.display</td>\n",
       "                        <td id=\"T_6bff3cba_b743_11ea_bbcc_4865ee12e626row0_col2\" class=\"data row0 col2\" >Display modules with helpful display and clearing commands.</td>\n",
       "            </tr>\n",
       "            <tr>\n",
       "                                <td id=\"T_6bff3cba_b743_11ea_bbcc_4865ee12e626row1_col0\" class=\"data row1 col0\" >fs</td>\n",
       "                        <td id=\"T_6bff3cba_b743_11ea_bbcc_4865ee12e626row1_col1\" class=\"data row1 col1\" >fsds</td>\n",
       "                        <td id=\"T_6bff3cba_b743_11ea_bbcc_4865ee12e626row1_col2\" class=\"data row1 col2\" >Custom data science bootcamp student package</td>\n",
       "            </tr>\n",
       "            <tr>\n",
       "                                <td id=\"T_6bff3cba_b743_11ea_bbcc_4865ee12e626row2_col0\" class=\"data row2 col0\" >mpl</td>\n",
       "                        <td id=\"T_6bff3cba_b743_11ea_bbcc_4865ee12e626row2_col1\" class=\"data row2 col1\" >matplotlib</td>\n",
       "                        <td id=\"T_6bff3cba_b743_11ea_bbcc_4865ee12e626row2_col2\" class=\"data row2 col2\" >Matplotlib's base OOP module with formatting artists</td>\n",
       "            </tr>\n",
       "            <tr>\n",
       "                                <td id=\"T_6bff3cba_b743_11ea_bbcc_4865ee12e626row3_col0\" class=\"data row3 col0\" >plt</td>\n",
       "                        <td id=\"T_6bff3cba_b743_11ea_bbcc_4865ee12e626row3_col1\" class=\"data row3 col1\" >matplotlib.pyplot</td>\n",
       "                        <td id=\"T_6bff3cba_b743_11ea_bbcc_4865ee12e626row3_col2\" class=\"data row3 col2\" >Matplotlib's matlab-like plotting module</td>\n",
       "            </tr>\n",
       "            <tr>\n",
       "                                <td id=\"T_6bff3cba_b743_11ea_bbcc_4865ee12e626row4_col0\" class=\"data row4 col0\" >np</td>\n",
       "                        <td id=\"T_6bff3cba_b743_11ea_bbcc_4865ee12e626row4_col1\" class=\"data row4 col1\" >numpy</td>\n",
       "                        <td id=\"T_6bff3cba_b743_11ea_bbcc_4865ee12e626row4_col2\" class=\"data row4 col2\" >scientific computing with Python</td>\n",
       "            </tr>\n",
       "            <tr>\n",
       "                                <td id=\"T_6bff3cba_b743_11ea_bbcc_4865ee12e626row5_col0\" class=\"data row5 col0\" >pd</td>\n",
       "                        <td id=\"T_6bff3cba_b743_11ea_bbcc_4865ee12e626row5_col1\" class=\"data row5 col1\" >pandas</td>\n",
       "                        <td id=\"T_6bff3cba_b743_11ea_bbcc_4865ee12e626row5_col2\" class=\"data row5 col2\" >High performance data structures and tools</td>\n",
       "            </tr>\n",
       "            <tr>\n",
       "                                <td id=\"T_6bff3cba_b743_11ea_bbcc_4865ee12e626row6_col0\" class=\"data row6 col0\" >sns</td>\n",
       "                        <td id=\"T_6bff3cba_b743_11ea_bbcc_4865ee12e626row6_col1\" class=\"data row6 col1\" >seaborn</td>\n",
       "                        <td id=\"T_6bff3cba_b743_11ea_bbcc_4865ee12e626row6_col2\" class=\"data row6 col2\" >High-level data visualization library based on matplotlib</td>\n",
       "            </tr>\n",
       "    </tbody></table>"
      ],
      "text/plain": [
       "<pandas.io.formats.style.Styler at 0x10d963dd8>"
      ]
     },
     "metadata": {},
     "output_type": "display_data"
    },
    {
     "data": {
      "text/html": [
       "        <script type=\"text/javascript\">\n",
       "        window.PlotlyConfig = {MathJaxConfig: 'local'};\n",
       "        if (window.MathJax) {MathJax.Hub.Config({SVG: {font: \"STIX-Web\"}});}\n",
       "        if (typeof require !== 'undefined') {\n",
       "        require.undef(\"plotly\");\n",
       "        requirejs.config({\n",
       "            paths: {\n",
       "                'plotly': ['https://cdn.plot.ly/plotly-latest.min']\n",
       "            }\n",
       "        });\n",
       "        require(['plotly'], function(Plotly) {\n",
       "            window._Plotly = Plotly;\n",
       "        });\n",
       "        }\n",
       "        </script>\n",
       "        "
      ]
     },
     "metadata": {},
     "output_type": "display_data"
    },
    {
     "name": "stdout",
     "output_type": "stream",
     "text": [
      "[i] Pandas .iplot() method activated.\n"
     ]
    }
   ],
   "source": [
    "!pip install -U fsds\n",
    "from fsds.imports import *"
   ]
  },
  {
   "cell_type": "code",
   "execution_count": 4,
   "metadata": {
    "ExecuteTime": {
     "end_time": "2020-06-26T00:24:41.213562Z",
     "start_time": "2020-06-26T00:24:41.211812Z"
    }
   },
   "outputs": [],
   "source": [
    "# env_filepath='your-original-env.txt'\n",
    "# print(f'Your original env is being saved as {env_filepath}')\n",
    "# %conda list --explicit > your-original-env.txt\n",
    "\n",
    "# with open(env_filepath) as f:\n",
    "#     print(f.read()[:250]+'\\n'+'...')"
   ]
  },
  {
   "cell_type": "code",
   "execution_count": 5,
   "metadata": {
    "ExecuteTime": {
     "end_time": "2020-06-26T00:24:47.390621Z",
     "start_time": "2020-06-26T00:24:41.214925Z"
    }
   },
   "outputs": [
    {
     "name": "stdout",
     "output_type": "stream",
     "text": [
      "tqdm v=4.46.1\n",
      "tensorflow v=2.2.0\n",
      "keras v=2.4.2\n",
      "pip v=20.1.1\n"
     ]
    },
    {
     "name": "stderr",
     "output_type": "stream",
     "text": [
      "Using TensorFlow backend.\n"
     ]
    },
    {
     "data": {
      "text/plain": [
       "[None, None, None, None]"
      ]
     },
     "execution_count": 5,
     "metadata": {},
     "output_type": "execute_result"
    }
   ],
   "source": [
    "import tqdm, tensorflow, keras, pip\n",
    "[print(f\"{mod.__name__} v={mod.__version__}\") for mod in [tqdm,tensorflow,keras,pip]]"
   ]
  },
  {
   "cell_type": "code",
   "execution_count": 6,
   "metadata": {
    "ExecuteTime": {
     "end_time": "2020-06-26T00:24:47.393789Z",
     "start_time": "2020-06-26T00:24:47.391621Z"
    }
   },
   "outputs": [],
   "source": [
    "# # Requires the latest pip\n",
    "# !pip install --upgrade pip\n",
    "\n",
    "# # Current stable release for CPU and GPU\n",
    "# !pip install -U tqdm\n",
    "# !pip install -U tensorflow\n",
    "# !pip install -U keras\n",
    "\n",
    "\n",
    "import tqdm, tensorflow, keras, pip"
   ]
  },
  {
   "cell_type": "code",
   "execution_count": 7,
   "metadata": {
    "ExecuteTime": {
     "end_time": "2020-06-26T00:24:47.397421Z",
     "start_time": "2020-06-26T00:24:47.395243Z"
    }
   },
   "outputs": [],
   "source": [
    "from fsds.imports import *\n",
    "\n",
    "import os, glob\n",
    "data_folder = '/Users/jamesirving/Datasets/chest_xray/'"
   ]
  },
  {
   "cell_type": "code",
   "execution_count": 8,
   "metadata": {
    "ExecuteTime": {
     "end_time": "2020-06-26T00:24:47.403147Z",
     "start_time": "2020-06-26T00:24:47.399019Z"
    }
   },
   "outputs": [
    {
     "data": {
      "text/plain": [
       "['test', 'chest_xray', '__MACOSX', 'train', 'val']"
      ]
     },
     "execution_count": 8,
     "metadata": {},
     "output_type": "execute_result"
    }
   ],
   "source": [
    "os.listdir(data_folder)"
   ]
  },
  {
   "cell_type": "code",
   "execution_count": 9,
   "metadata": {
    "ExecuteTime": {
     "end_time": "2020-06-26T00:24:47.410301Z",
     "start_time": "2020-06-26T00:24:47.405611Z"
    }
   },
   "outputs": [
    {
     "data": {
      "text/plain": [
       "['/Users/jamesirving/Datasets/chest_xray/train/PNEUMONIA',\n",
       " '/Users/jamesirving/Datasets/chest_xray/train/NORMAL']"
      ]
     },
     "execution_count": 9,
     "metadata": {},
     "output_type": "execute_result"
    }
   ],
   "source": [
    "glob.glob(data_folder+\"train/*\")"
   ]
  },
  {
   "cell_type": "code",
   "execution_count": null,
   "metadata": {},
   "outputs": [],
   "source": []
  },
  {
   "cell_type": "code",
   "execution_count": 10,
   "metadata": {
    "ExecuteTime": {
     "end_time": "2020-06-26T00:24:47.416074Z",
     "start_time": "2020-06-26T00:24:47.412720Z"
    }
   },
   "outputs": [
    {
     "name": "stdout",
     "output_type": "stream",
     "text": [
      "2.2.0\n"
     ]
    }
   ],
   "source": [
    "import tensorflow as tf\n",
    "print(tf.__version__)\n",
    "# import tensorflow.keras as ks\n",
    "\n",
    "from tensorflow.keras.preprocessing.image import ImageDataGenerator,img_to_array,load_img, array_to_img"
   ]
  },
  {
   "cell_type": "code",
   "execution_count": 65,
   "metadata": {
    "ExecuteTime": {
     "end_time": "2020-06-26T01:11:28.074275Z",
     "start_time": "2020-06-26T01:11:27.739322Z"
    }
   },
   "outputs": [
    {
     "name": "stdout",
     "output_type": "stream",
     "text": [
      "Found 4173 images belonging to 2 classes.\n",
      "Found 1043 images belonging to 2 classes.\n",
      "Found 624 images belonging to 2 classes.\n"
     ]
    }
   ],
   "source": [
    "IMG_SIZE=(64,64)\n",
    "BATCH_SIZE = 128\n",
    "VAL_SPLIT = 0.2\n",
    "\n",
    "\n",
    "image_generator =  ImageDataGenerator(validation_split=VAL_SPLIT,rescale=1./255)\n",
    "train_datagen =image_generator.flow_from_directory(data_folder+\"train/\",\n",
    "                                                   batch_size=BATCH_SIZE,\n",
    "                                                   target_size=IMG_SIZE,\n",
    "                                                   subset='training',seed=321\n",
    "                                                  )\n",
    "\n",
    "val_datagen = image_generator.flow_from_directory(data_folder+\"train/\",\n",
    "                                                  batch_size=BATCH_SIZE,\n",
    "                                                  target_size=IMG_SIZE,\n",
    "                                                  subset='validation',seed=321\n",
    "                                                  )\n",
    "\n",
    "test_datagen = ImageDataGenerator(rescale=1./255).flow_from_directory(data_folder+\"test/\",\n",
    "                                                                      target_size=IMG_SIZE,\n",
    "                                                                     batch_size=BATCH_SIZE,\n",
    "                                                                     seed=321)"
   ]
  },
  {
   "cell_type": "code",
   "execution_count": 66,
   "metadata": {
    "ExecuteTime": {
     "end_time": "2020-06-26T01:11:28.418462Z",
     "start_time": "2020-06-26T01:11:28.415059Z"
    }
   },
   "outputs": [
    {
     "data": {
      "text/plain": [
       "{'NORMAL': 0, 'PNEUMONIA': 1}"
      ]
     },
     "execution_count": 66,
     "metadata": {},
     "output_type": "execute_result"
    }
   ],
   "source": [
    "train_datagen.class_indices"
   ]
  },
  {
   "cell_type": "code",
   "execution_count": 67,
   "metadata": {
    "ExecuteTime": {
     "end_time": "2020-06-26T01:11:28.726742Z",
     "start_time": "2020-06-26T01:11:28.721231Z"
    }
   },
   "outputs": [
    {
     "data": {
      "text/plain": [
       "1    3100\n",
       "0    1073\n",
       "dtype: int64"
      ]
     },
     "execution_count": 67,
     "metadata": {},
     "output_type": "execute_result"
    }
   ],
   "source": [
    "pd.Series(train_datagen.labels).value_counts()"
   ]
  },
  {
   "cell_type": "code",
   "execution_count": 68,
   "metadata": {
    "ExecuteTime": {
     "end_time": "2020-06-26T01:11:28.870974Z",
     "start_time": "2020-06-26T01:11:28.867776Z"
    }
   },
   "outputs": [
    {
     "data": {
      "text/plain": [
       "<tensorflow.python.keras.preprocessing.image.ImageDataGenerator at 0x1546e6ef0>"
      ]
     },
     "execution_count": 68,
     "metadata": {},
     "output_type": "execute_result"
    }
   ],
   "source": [
    "image_generator"
   ]
  },
  {
   "cell_type": "code",
   "execution_count": 69,
   "metadata": {
    "ExecuteTime": {
     "end_time": "2020-06-26T01:11:29.179281Z",
     "start_time": "2020-06-26T01:11:29.175944Z"
    }
   },
   "outputs": [
    {
     "data": {
      "text/plain": [
       "128"
      ]
     },
     "execution_count": 69,
     "metadata": {},
     "output_type": "execute_result"
    }
   ],
   "source": [
    "train_datagen.batch_size"
   ]
  },
  {
   "cell_type": "code",
   "execution_count": null,
   "metadata": {},
   "outputs": [],
   "source": []
  },
  {
   "cell_type": "code",
   "execution_count": 70,
   "metadata": {
    "ExecuteTime": {
     "end_time": "2020-06-26T01:11:30.604967Z",
     "start_time": "2020-06-26T01:11:29.626293Z"
    }
   },
   "outputs": [],
   "source": [
    "train_data,train_labels=next(train_datagen)"
   ]
  },
  {
   "cell_type": "code",
   "execution_count": 71,
   "metadata": {
    "ExecuteTime": {
     "end_time": "2020-06-26T01:11:30.609337Z",
     "start_time": "2020-06-26T01:11:30.606271Z"
    }
   },
   "outputs": [
    {
     "data": {
      "text/plain": [
       "(64, 64, 3)"
      ]
     },
     "execution_count": 71,
     "metadata": {},
     "output_type": "execute_result"
    }
   ],
   "source": [
    "train_data[0].shape"
   ]
  },
  {
   "cell_type": "code",
   "execution_count": 72,
   "metadata": {
    "ExecuteTime": {
     "end_time": "2020-06-26T01:11:30.619531Z",
     "start_time": "2020-06-26T01:11:30.611276Z"
    }
   },
   "outputs": [
    {
     "data": {
      "text/plain": [
       "['/Users/jamesirving/Datasets/chest_xray/train/NORMAL/NORMAL2-IM-0927-0001.jpeg',\n",
       " '/Users/jamesirving/Datasets/chest_xray/train/NORMAL/NORMAL2-IM-1056-0001.jpeg',\n",
       " '/Users/jamesirving/Datasets/chest_xray/train/NORMAL/IM-0427-0001.jpeg',\n",
       " '/Users/jamesirving/Datasets/chest_xray/train/NORMAL/NORMAL2-IM-1260-0001.jpeg',\n",
       " '/Users/jamesirving/Datasets/chest_xray/train/NORMAL/IM-0656-0001-0001.jpeg']"
      ]
     },
     "execution_count": 72,
     "metadata": {},
     "output_type": "execute_result"
    }
   ],
   "source": [
    "images = glob.glob(data_folder+\"train/\"+'NORMAL/*')\n",
    "images[:5]"
   ]
  },
  {
   "cell_type": "code",
   "execution_count": 73,
   "metadata": {
    "ExecuteTime": {
     "end_time": "2020-06-26T01:11:30.623016Z",
     "start_time": "2020-06-26T01:11:30.620785Z"
    }
   },
   "outputs": [],
   "source": [
    "# load_img(images[0])"
   ]
  },
  {
   "cell_type": "code",
   "execution_count": 74,
   "metadata": {
    "ExecuteTime": {
     "end_time": "2020-06-26T01:11:30.629703Z",
     "start_time": "2020-06-26T01:11:30.624461Z"
    }
   },
   "outputs": [
    {
     "data": {
      "image/png": "[encoded data removed]",
      "text/plain": [
       "<PIL.Image.Image image mode=RGB size=64x64 at 0x154E85DA0>"
      ]
     },
     "execution_count": 74,
     "metadata": {},
     "output_type": "execute_result"
    }
   ],
   "source": [
    "array_to_img(train_data[0])"
   ]
  },
  {
   "cell_type": "code",
   "execution_count": 75,
   "metadata": {
    "ExecuteTime": {
     "end_time": "2020-06-26T01:11:30.633637Z",
     "start_time": "2020-06-26T01:11:30.631172Z"
    }
   },
   "outputs": [],
   "source": [
    "from tensorflow.keras.models import Sequential\n",
    "from tensorflow.keras.layers import Dense\n",
    "from tensorflow.keras import optimizers,regularizers"
   ]
  },
  {
   "cell_type": "code",
   "execution_count": 76,
   "metadata": {
    "ExecuteTime": {
     "end_time": "2020-06-26T01:11:30.835985Z",
     "start_time": "2020-06-26T01:11:30.833298Z"
    }
   },
   "outputs": [],
   "source": [
    "from tensorflow.keras import models,layers,optimizers,regularizers,activations\n",
    "from tensorflow.keras.layers import Conv2D, MaxPooling2D,Flatten,Dense,Dropout"
   ]
  },
  {
   "cell_type": "code",
   "execution_count": 77,
   "metadata": {
    "ExecuteTime": {
     "end_time": "2020-06-26T01:11:31.072945Z",
     "start_time": "2020-06-26T01:11:31.070153Z"
    }
   },
   "outputs": [],
   "source": [
    "# train_datagen.batch_size, train_datagen.image_shape, train_datagen."
   ]
  },
  {
   "cell_type": "code",
   "execution_count": 78,
   "metadata": {
    "ExecuteTime": {
     "end_time": "2020-06-26T01:11:31.341949Z",
     "start_time": "2020-06-26T01:11:31.330202Z"
    }
   },
   "outputs": [],
   "source": [
    "def evaluate_model_gen(model,test_datagen,history=None):\n",
    "    from sklearn import metrics\n",
    "    ## Get True Labels, Predictions and Convert to Classes\n",
    "    test_true = test_datagen.labels\n",
    "    test_pred = model.predict(test_datagen,\n",
    "#                               batch_size=test_datagen.batch_size,\n",
    "                              steps=test_datagen.samples//test_datagen.batch_size+1,\n",
    "                             verbose=1).argmax(axis=1)\n",
    "    \n",
    "    \n",
    "    \n",
    "    class_names = list(test_datagen.class_indices.keys())\n",
    "    \n",
    "    ## Classification Report\n",
    "    dashes='---'*20\n",
    "    print(dashes)\n",
    "    print('\\tCLASSIFICATION REPORT')\n",
    "    print(dashes)\n",
    "    print(metrics.classification_report(test_true,\n",
    "                                        test_pred,\n",
    "                                       target_names=class_names))\n",
    "    \n",
    "    print()\n",
    "    ## Confusion Matrix\n",
    "    print(dashes)\n",
    "    print(\"\\tConfusion Matrix\")\n",
    "    print(dashes)\n",
    "    display(np.round(metrics.confusion_matrix(test_true,test_pred,normalize='true'),2))\n",
    "    \n",
    "    print()\n",
    "    \n",
    "    ## Plot training history\n",
    "    try:\n",
    "        if history is None:\n",
    "            history = model.history\n",
    "            \n",
    "        plot_history(history)\n",
    "    except:\n",
    "        print('[!] No history plotted.')\n",
    "        \n",
    "        \n",
    "        \n",
    "def plot_history(history):\n",
    "    \n",
    "    ## Create history dataframe\n",
    "    history_df = pd.DataFrame(history.history)\n",
    "    history_df['Epoch'] = range(1,len(history_df)+1)\n",
    "    history_df.set_index('Epoch',inplace=True)\n",
    "    \n",
    "    # Plot Acc / Loss\n",
    "    metric_cols = set([col.replace('val_','') for col in history_df.columns])\n",
    "    \n",
    "    ## Make figure \n",
    "    fig,axes=plt.subplots(nrows=len(metric_cols),figsize=(6,8))\n",
    "    axes = axes.flatten()\n",
    "    \n",
    "    \n",
    "    plt.suptitle(f\"Model Training History\",y=1.02)\n",
    "    idx = 0\n",
    "    \n",
    "    for metric_type in metric_cols:\n",
    "        \n",
    "        plot_cols = [col for col in history_df.columns if metric_type in col]\n",
    "        ax = axes[idx]\n",
    "        \n",
    "        history_df[plot_cols].plot(ax=ax)\n",
    "        idx+=1\n",
    "\n",
    "\n",
    "    ## Create Tick Formatters/Locators\n",
    "    int_loc = mpl.ticker.MaxNLocator(integer=True)\n",
    "    fmt = mpl.ticker.ScalarFormatter()\n",
    "    \n",
    "    \n",
    "    # Update Ticks\n",
    "    [ax.set_xlim(0.5,len(history_df)+0.5) for ax in axes]\n",
    "    [ax.xaxis.set_major_locator(int_loc) for ax in axes]\n",
    "    [ax.xaxis.set_major_formatter(fmt)  for ax in axes]\n",
    "\n",
    "    plt.tight_layout()\n",
    "    return fig"
   ]
  },
  {
   "cell_type": "code",
   "execution_count": null,
   "metadata": {},
   "outputs": [],
   "source": []
  },
  {
   "cell_type": "code",
   "execution_count": 79,
   "metadata": {
    "ExecuteTime": {
     "end_time": "2020-06-26T01:11:31.884228Z",
     "start_time": "2020-06-26T01:11:31.880896Z"
    }
   },
   "outputs": [
    {
     "name": "stdout",
     "output_type": "stream",
     "text": [
      "06/25/20 - 09:11:31 PM\n"
     ]
    }
   ],
   "source": [
    "import tzlocal\n",
    "from datetime import datetime as dt\n",
    "time_format = \"%D - %I:%M:%S %p\"\n",
    "print(dt.now(tzlocal.get_localzone()).strftime(time_format))"
   ]
  },
  {
   "cell_type": "code",
   "execution_count": 104,
   "metadata": {
    "ExecuteTime": {
     "end_time": "2020-06-26T01:46:14.381981Z",
     "start_time": "2020-06-26T01:46:14.371855Z"
    }
   },
   "outputs": [],
   "source": [
    "def make_cnn(summary=True,filter_size=(3,3)):\n",
    "    model = models.Sequential()\n",
    "    model.add(Conv2D(32, filter_size, activation='relu',input_shape=train_datagen.image_shape))#(3, 64, 64)))\n",
    "    # model.add(activationsActivation('relu'))\n",
    "    model.add(MaxPooling2D(pool_size=(2, 2)))\n",
    "\n",
    "    model.add(Conv2D(32, filter_size,activation='relu'))\n",
    "    model.add(MaxPooling2D(pool_size=(2, 2)))\n",
    "\n",
    "    model.add(Conv2D(64, filter_size,activation='relu'))\n",
    "    # model.add(Activation('relu'))\n",
    "    model.add(MaxPooling2D(pool_size=(2, 2)))\n",
    "\n",
    "\n",
    "    model.add(Flatten())  # this converts our 3D feature maps to 1D feature vectors\n",
    "    model.add(Dense(64,activation='relu'))\n",
    "    # model.add(Activation('relu'))\n",
    "    model.add(Dropout(0.5))\n",
    "\n",
    "    model.add(Dense(32,activation='relu'))\n",
    "    model.add(Dense(2,activation='sigmoid'))\n",
    "    # model.add(Activation('sigmoid'))\n",
    "\n",
    "    model.compile(loss='binary_crossentropy',\n",
    "                  optimizer='rmsprop',#'adam'\n",
    "                  metrics=['accuracy',tf.keras.metrics.Recall()])\n",
    "    \n",
    "    if summary:\n",
    "        import tzlocal\n",
    "        from datetime import datetime as dt\n",
    "        time_format = \"%D - %I:%M:%S %p\"\n",
    "        now =dt.now(tzlocal.get_localzone()).strftime(time_format)\n",
    "        display(model.summary())\n",
    "        print(f\"\\t- Model was compiled at {now}\")\n",
    "        print()\n",
    "    return model\n",
    "\n",
    "\n",
    "def get_callbacks( checkpoint_folder = 'models/checkpoints/',prog_bar=True):\n",
    "    import os\n",
    "    os.makedirs(checkpoint_folder,exist_ok=True)\n",
    "    # import tensorflow as tf\n",
    "    from tensorflow.keras import callbacks\n",
    "    earlystop = callbacks.EarlyStopping(verbose=1,monitor='val_accuracy',min_delta=0.01, \n",
    "                                        patience=3,restore_best_weights=True)\n",
    "    checkpoint = callbacks.ModelCheckpoint(checkpoint_folder+\"weights.{epoch:02d}-{val_accuracy:.2f}.hdf5\",\n",
    "                                           verbose=0)\n",
    "\n",
    "    callback_list = [earlystop,checkpoint]\n",
    "#     if prog_bar:\n",
    "#         from tqdm.keras import TqdmCallback\n",
    "\n",
    "#         callback_list.append(TqdmCallback(verbose=2))\n",
    "\n",
    "    return callback_list"
   ]
  },
  {
   "cell_type": "code",
   "execution_count": 105,
   "metadata": {
    "ExecuteTime": {
     "end_time": "2020-06-26T01:46:14.922253Z",
     "start_time": "2020-06-26T01:46:14.911917Z"
    }
   },
   "outputs": [
    {
     "data": {
      "text/plain": [
       "array([[[[0.21176472, 0.21176472, 0.21176472],\n",
       "         [0.25490198, 0.25490198, 0.25490198],\n",
       "         [0.2784314 , 0.2784314 , 0.2784314 ],\n",
       "         ...,\n",
       "         [0.11764707, 0.11764707, 0.11764707],\n",
       "         [0.09803922, 0.09803922, 0.09803922],\n",
       "         [0.        , 0.        , 0.        ]],\n",
       "\n",
       "        [[0.19215688, 0.19215688, 0.19215688],\n",
       "         [0.25882354, 0.25882354, 0.25882354],\n",
       "         [0.2901961 , 0.2901961 , 0.2901961 ],\n",
       "         ...,\n",
       "         [0.12941177, 0.12941177, 0.12941177],\n",
       "         [0.08235294, 0.08235294, 0.08235294],\n",
       "         [0.        , 0.        , 0.        ]],\n",
       "\n",
       "        [[0.1764706 , 0.1764706 , 0.1764706 ],\n",
       "         [0.23529413, 0.23529413, 0.23529413],\n",
       "         [0.28235295, 0.28235295, 0.28235295],\n",
       "         ...,\n",
       "         [0.12941177, 0.12941177, 0.12941177],\n",
       "         [0.05490196, 0.05490196, 0.05490196],\n",
       "         [0.        , 0.        , 0.        ]],\n",
       "\n",
       "        ...,\n",
       "\n",
       "        [[0.        , 0.        , 0.        ],\n",
       "         [0.        , 0.        , 0.        ],\n",
       "         [0.        , 0.        , 0.        ],\n",
       "         ...,\n",
       "         [0.        , 0.        , 0.        ],\n",
       "         [0.        , 0.        , 0.        ],\n",
       "         [0.        , 0.        , 0.        ]],\n",
       "\n",
       "        [[0.        , 0.        , 0.        ],\n",
       "         [0.        , 0.        , 0.        ],\n",
       "         [0.        , 0.        , 0.        ],\n",
       "         ...,\n",
       "         [0.        , 0.        , 0.        ],\n",
       "         [0.        , 0.        , 0.        ],\n",
       "         [0.        , 0.        , 0.        ]],\n",
       "\n",
       "        [[0.        , 0.        , 0.        ],\n",
       "         [0.        , 0.        , 0.        ],\n",
       "         [0.        , 0.        , 0.        ],\n",
       "         ...,\n",
       "         [0.        , 0.        , 0.        ],\n",
       "         [0.        , 0.        , 0.        ],\n",
       "         [0.        , 0.        , 0.        ]]],\n",
       "\n",
       "\n",
       "       [[[0.        , 0.        , 0.        ],\n",
       "         [0.04313726, 0.04313726, 0.04313726],\n",
       "         [0.10980393, 0.10980393, 0.10980393],\n",
       "         ...,\n",
       "         [0.24705884, 0.24705884, 0.24705884],\n",
       "         [0.2392157 , 0.2392157 , 0.2392157 ],\n",
       "         [0.23529413, 0.23529413, 0.23529413]],\n",
       "\n",
       "        [[0.        , 0.        , 0.        ],\n",
       "         [0.01568628, 0.01568628, 0.01568628],\n",
       "         [0.07843138, 0.07843138, 0.07843138],\n",
       "         ...,\n",
       "         [0.2392157 , 0.2392157 , 0.2392157 ],\n",
       "         [0.24313727, 0.24313727, 0.24313727],\n",
       "         [0.23529413, 0.23529413, 0.23529413]],\n",
       "\n",
       "        [[0.        , 0.        , 0.        ],\n",
       "         [0.        , 0.        , 0.        ],\n",
       "         [0.07843138, 0.07843138, 0.07843138],\n",
       "         ...,\n",
       "         [0.2509804 , 0.2509804 , 0.2509804 ],\n",
       "         [0.21568629, 0.21568629, 0.21568629],\n",
       "         [0.22352943, 0.22352943, 0.22352943]],\n",
       "\n",
       "        ...,\n",
       "\n",
       "        [[0.        , 0.        , 0.        ],\n",
       "         [0.        , 0.        , 0.        ],\n",
       "         [0.        , 0.        , 0.        ],\n",
       "         ...,\n",
       "         [0.        , 0.        , 0.        ],\n",
       "         [0.        , 0.        , 0.        ],\n",
       "         [0.        , 0.        , 0.        ]],\n",
       "\n",
       "        [[0.        , 0.        , 0.        ],\n",
       "         [0.        , 0.        , 0.        ],\n",
       "         [0.        , 0.        , 0.        ],\n",
       "         ...,\n",
       "         [0.        , 0.        , 0.        ],\n",
       "         [0.        , 0.        , 0.        ],\n",
       "         [0.        , 0.        , 0.        ]],\n",
       "\n",
       "        [[0.        , 0.        , 0.        ],\n",
       "         [0.        , 0.        , 0.        ],\n",
       "         [0.        , 0.        , 0.        ],\n",
       "         ...,\n",
       "         [0.        , 0.        , 0.        ],\n",
       "         [0.        , 0.        , 0.        ],\n",
       "         [0.        , 0.        , 0.        ]]],\n",
       "\n",
       "\n",
       "       [[[0.        , 0.        , 0.        ],\n",
       "         [0.02352941, 0.02352941, 0.02352941],\n",
       "         [0.1137255 , 0.1137255 , 0.1137255 ],\n",
       "         ...,\n",
       "         [0.09019608, 0.09019608, 0.09019608],\n",
       "         [0.04705883, 0.04705883, 0.04705883],\n",
       "         [0.        , 0.        , 0.        ]],\n",
       "\n",
       "        [[0.        , 0.        , 0.        ],\n",
       "         [0.02352941, 0.02352941, 0.02352941],\n",
       "         [0.09411766, 0.09411766, 0.09411766],\n",
       "         ...,\n",
       "         [0.09803922, 0.09803922, 0.09803922],\n",
       "         [0.03137255, 0.03137255, 0.03137255],\n",
       "         [0.        , 0.        , 0.        ]],\n",
       "\n",
       "        [[0.        , 0.        , 0.        ],\n",
       "         [0.01176471, 0.01176471, 0.01176471],\n",
       "         [0.07058824, 0.07058824, 0.07058824],\n",
       "         ...,\n",
       "         [0.08627451, 0.08627451, 0.08627451],\n",
       "         [0.01176471, 0.01176471, 0.01176471],\n",
       "         [0.        , 0.        , 0.        ]],\n",
       "\n",
       "        ...,\n",
       "\n",
       "        [[0.        , 0.        , 0.        ],\n",
       "         [0.        , 0.        , 0.        ],\n",
       "         [0.        , 0.        , 0.        ],\n",
       "         ...,\n",
       "         [0.        , 0.        , 0.        ],\n",
       "         [0.        , 0.        , 0.        ],\n",
       "         [0.        , 0.        , 0.        ]],\n",
       "\n",
       "        [[0.        , 0.        , 0.        ],\n",
       "         [0.        , 0.        , 0.        ],\n",
       "         [0.        , 0.        , 0.        ],\n",
       "         ...,\n",
       "         [0.        , 0.        , 0.        ],\n",
       "         [0.        , 0.        , 0.        ],\n",
       "         [0.        , 0.        , 0.        ]],\n",
       "\n",
       "        [[0.        , 0.        , 0.        ],\n",
       "         [0.        , 0.        , 0.        ],\n",
       "         [0.        , 0.        , 0.        ],\n",
       "         ...,\n",
       "         [0.        , 0.        , 0.        ],\n",
       "         [0.        , 0.        , 0.        ],\n",
       "         [0.        , 0.        , 0.        ]]],\n",
       "\n",
       "\n",
       "       ...,\n",
       "\n",
       "\n",
       "       [[[0.41176474, 0.41176474, 0.41176474],\n",
       "         [0.62352943, 0.62352943, 0.62352943],\n",
       "         [0.5803922 , 0.5803922 , 0.5803922 ],\n",
       "         ...,\n",
       "         [0.15686275, 0.15686275, 0.15686275],\n",
       "         [0.08627451, 0.08627451, 0.08627451],\n",
       "         [0.06666667, 0.06666667, 0.06666667]],\n",
       "\n",
       "        [[0.40000004, 0.40000004, 0.40000004],\n",
       "         [0.41960788, 0.41960788, 0.41960788],\n",
       "         [0.5921569 , 0.5921569 , 0.5921569 ],\n",
       "         ...,\n",
       "         [0.12156864, 0.12156864, 0.12156864],\n",
       "         [1.        , 1.        , 1.        ],\n",
       "         [0.9490197 , 0.9490197 , 0.9490197 ]],\n",
       "\n",
       "        [[0.38431376, 0.38431376, 0.38431376],\n",
       "         [0.427451  , 0.427451  , 0.427451  ],\n",
       "         [0.56078434, 0.56078434, 0.56078434],\n",
       "         ...,\n",
       "         [0.11764707, 0.11764707, 0.11764707],\n",
       "         [0.        , 0.        , 0.        ],\n",
       "         [0.        , 0.        , 0.        ]],\n",
       "\n",
       "        ...,\n",
       "\n",
       "        [[0.        , 0.        , 0.        ],\n",
       "         [0.        , 0.        , 0.        ],\n",
       "         [0.00392157, 0.00392157, 0.00392157],\n",
       "         ...,\n",
       "         [0.        , 0.        , 0.        ],\n",
       "         [0.        , 0.        , 0.        ],\n",
       "         [0.        , 0.        , 0.        ]],\n",
       "\n",
       "        [[0.        , 0.        , 0.        ],\n",
       "         [0.        , 0.        , 0.        ],\n",
       "         [0.        , 0.        , 0.        ],\n",
       "         ...,\n",
       "         [0.        , 0.        , 0.        ],\n",
       "         [0.03921569, 0.03921569, 0.03921569],\n",
       "         [0.        , 0.        , 0.        ]],\n",
       "\n",
       "        [[0.        , 0.        , 0.        ],\n",
       "         [0.        , 0.        , 0.        ],\n",
       "         [0.        , 0.        , 0.        ],\n",
       "         ...,\n",
       "         [0.00784314, 0.00784314, 0.00784314],\n",
       "         [0.        , 0.        , 0.        ],\n",
       "         [0.        , 0.        , 0.        ]]],\n",
       "\n",
       "\n",
       "       [[[0.18823531, 0.18823531, 0.18823531],\n",
       "         [0.23137257, 0.23137257, 0.23137257],\n",
       "         [0.25882354, 0.25882354, 0.25882354],\n",
       "         ...,\n",
       "         [0.23529413, 0.23529413, 0.23529413],\n",
       "         [0.23529413, 0.23529413, 0.23529413],\n",
       "         [0.22352943, 0.22352943, 0.22352943]],\n",
       "\n",
       "        [[0.21960786, 0.21960786, 0.21960786],\n",
       "         [0.2509804 , 0.2509804 , 0.2509804 ],\n",
       "         [0.28627452, 0.28627452, 0.28627452],\n",
       "         ...,\n",
       "         [0.2509804 , 0.2509804 , 0.2509804 ],\n",
       "         [0.24313727, 0.24313727, 0.24313727],\n",
       "         [0.23137257, 0.23137257, 0.23137257]],\n",
       "\n",
       "        [[0.25490198, 0.25490198, 0.25490198],\n",
       "         [0.27058825, 0.27058825, 0.27058825],\n",
       "         [0.2901961 , 0.2901961 , 0.2901961 ],\n",
       "         ...,\n",
       "         [0.24313727, 0.24313727, 0.24313727],\n",
       "         [0.24705884, 0.24705884, 0.24705884],\n",
       "         [0.24705884, 0.24705884, 0.24705884]],\n",
       "\n",
       "        ...,\n",
       "\n",
       "        [[0.05882353, 0.05882353, 0.05882353],\n",
       "         [0.02745098, 0.02745098, 0.02745098],\n",
       "         [0.21960786, 0.21960786, 0.21960786],\n",
       "         ...,\n",
       "         [0.08627451, 0.08627451, 0.08627451],\n",
       "         [0.09019608, 0.09019608, 0.09019608],\n",
       "         [0.1254902 , 0.1254902 , 0.1254902 ]],\n",
       "\n",
       "        [[0.05490196, 0.05490196, 0.05490196],\n",
       "         [0.03529412, 0.03529412, 0.03529412],\n",
       "         [0.21568629, 0.21568629, 0.21568629],\n",
       "         ...,\n",
       "         [0.08627451, 0.08627451, 0.08627451],\n",
       "         [0.08627451, 0.08627451, 0.08627451],\n",
       "         [0.09019608, 0.09019608, 0.09019608]],\n",
       "\n",
       "        [[0.06666667, 0.06666667, 0.06666667],\n",
       "         [0.03529412, 0.03529412, 0.03529412],\n",
       "         [0.22352943, 0.22352943, 0.22352943],\n",
       "         ...,\n",
       "         [0.08627451, 0.08627451, 0.08627451],\n",
       "         [0.08627451, 0.08627451, 0.08627451],\n",
       "         [0.09019608, 0.09019608, 0.09019608]]],\n",
       "\n",
       "\n",
       "       [[[0.04705883, 0.04705883, 0.04705883],\n",
       "         [0.14901961, 0.14901961, 0.14901961],\n",
       "         [0.16862746, 0.16862746, 0.16862746],\n",
       "         ...,\n",
       "         [0.17254902, 0.17254902, 0.17254902],\n",
       "         [0.13725491, 0.13725491, 0.13725491],\n",
       "         [0.1137255 , 0.1137255 , 0.1137255 ]],\n",
       "\n",
       "        [[0.73333335, 0.73333335, 0.73333335],\n",
       "         [0.16470589, 0.16470589, 0.16470589],\n",
       "         [0.19215688, 0.19215688, 0.19215688],\n",
       "         ...,\n",
       "         [0.20784315, 0.20784315, 0.20784315],\n",
       "         [0.18431373, 0.18431373, 0.18431373],\n",
       "         [0.12941177, 0.12941177, 0.12941177]],\n",
       "\n",
       "        [[0.6627451 , 0.6627451 , 0.6627451 ],\n",
       "         [0.1764706 , 0.1764706 , 0.1764706 ],\n",
       "         [0.19215688, 0.19215688, 0.19215688],\n",
       "         ...,\n",
       "         [0.20392159, 0.20392159, 0.20392159],\n",
       "         [0.20000002, 0.20000002, 0.20000002],\n",
       "         [0.16470589, 0.16470589, 0.16470589]],\n",
       "\n",
       "        ...,\n",
       "\n",
       "        [[0.16862746, 0.16862746, 0.16862746],\n",
       "         [0.16470589, 0.16470589, 0.16470589],\n",
       "         [0.15294118, 0.15294118, 0.15294118],\n",
       "         ...,\n",
       "         [0.29803923, 0.29803923, 0.29803923],\n",
       "         [0.16078432, 0.16078432, 0.16078432],\n",
       "         [0.16470589, 0.16470589, 0.16470589]],\n",
       "\n",
       "        [[0.16862746, 0.16862746, 0.16862746],\n",
       "         [0.16470589, 0.16470589, 0.16470589],\n",
       "         [0.15686275, 0.15686275, 0.15686275],\n",
       "         ...,\n",
       "         [0.14901961, 0.14901961, 0.14901961],\n",
       "         [0.16470589, 0.16470589, 0.16470589],\n",
       "         [0.16470589, 0.16470589, 0.16470589]],\n",
       "\n",
       "        [[0.16470589, 0.16470589, 0.16470589],\n",
       "         [0.16470589, 0.16470589, 0.16470589],\n",
       "         [0.15294118, 0.15294118, 0.15294118],\n",
       "         ...,\n",
       "         [0.16078432, 0.16078432, 0.16078432],\n",
       "         [0.16078432, 0.16078432, 0.16078432],\n",
       "         [0.16862746, 0.16862746, 0.16862746]]]], dtype=float32)"
      ]
     },
     "execution_count": 105,
     "metadata": {},
     "output_type": "execute_result"
    }
   ],
   "source": [
    "train_data"
   ]
  },
  {
   "cell_type": "code",
   "execution_count": 106,
   "metadata": {
    "ExecuteTime": {
     "end_time": "2020-06-26T01:46:15.180443Z",
     "start_time": "2020-06-26T01:46:15.176915Z"
    }
   },
   "outputs": [
    {
     "data": {
      "text/plain": [
       "5216"
      ]
     },
     "execution_count": 106,
     "metadata": {},
     "output_type": "execute_result"
    }
   ],
   "source": [
    "len(train_datagen.labels) + len(val_datagen.labels)"
   ]
  },
  {
   "cell_type": "code",
   "execution_count": 107,
   "metadata": {
    "ExecuteTime": {
     "end_time": "2020-06-26T01:46:15.365393Z",
     "start_time": "2020-06-26T01:46:15.362148Z"
    }
   },
   "outputs": [
    {
     "data": {
      "text/plain": [
       "1"
      ]
     },
     "execution_count": 107,
     "metadata": {},
     "output_type": "execute_result"
    }
   ],
   "source": [
    "train_datagen.batch_index"
   ]
  },
  {
   "cell_type": "code",
   "execution_count": 108,
   "metadata": {
    "ExecuteTime": {
     "end_time": "2020-06-26T01:46:15.572942Z",
     "start_time": "2020-06-26T01:46:15.569587Z"
    }
   },
   "outputs": [
    {
     "data": {
      "text/plain": [
       "128"
      ]
     },
     "execution_count": 108,
     "metadata": {},
     "output_type": "execute_result"
    }
   ],
   "source": [
    "len(train_data )"
   ]
  },
  {
   "cell_type": "code",
   "execution_count": 109,
   "metadata": {
    "ExecuteTime": {
     "end_time": "2020-06-26T01:46:16.035167Z",
     "start_time": "2020-06-26T01:46:16.031716Z"
    }
   },
   "outputs": [
    {
     "data": {
      "text/plain": [
       "32"
      ]
     },
     "execution_count": 109,
     "metadata": {},
     "output_type": "execute_result"
    }
   ],
   "source": [
    "steps_per_epoch = train_datagen.samples //train_datagen.batch_size\n",
    "steps_per_epoch"
   ]
  },
  {
   "cell_type": "code",
   "execution_count": 110,
   "metadata": {
    "ExecuteTime": {
     "end_time": "2020-06-26T01:46:16.256452Z",
     "start_time": "2020-06-26T01:46:16.253057Z"
    }
   },
   "outputs": [
    {
     "data": {
      "text/plain": [
       "33"
      ]
     },
     "execution_count": 110,
     "metadata": {},
     "output_type": "execute_result"
    }
   ],
   "source": [
    "train_datagen.samples//train_datagen.batch_size+1"
   ]
  },
  {
   "cell_type": "code",
   "execution_count": 111,
   "metadata": {
    "ExecuteTime": {
     "end_time": "2020-06-26T01:46:16.482071Z",
     "start_time": "2020-06-26T01:46:16.478429Z"
    }
   },
   "outputs": [
    {
     "data": {
      "text/plain": [
       "9"
      ]
     },
     "execution_count": 111,
     "metadata": {},
     "output_type": "execute_result"
    }
   ],
   "source": [
    "val_datagen.samples //val_datagen.batch_size+1"
   ]
  },
  {
   "cell_type": "code",
   "execution_count": 114,
   "metadata": {
    "ExecuteTime": {
     "end_time": "2020-06-26T01:55:12.426212Z",
     "start_time": "2020-06-26T01:46:27.198298Z"
    }
   },
   "outputs": [
    {
     "name": "stdout",
     "output_type": "stream",
     "text": [
      "Model: \"sequential_5\"\n",
      "_________________________________________________________________\n",
      "Layer (type)                 Output Shape              Param #   \n",
      "=================================================================\n",
      "conv2d_15 (Conv2D)           (None, 62, 62, 32)        896       \n",
      "_________________________________________________________________\n",
      "max_pooling2d_15 (MaxPooling (None, 31, 31, 32)        0         \n",
      "_________________________________________________________________\n",
      "conv2d_16 (Conv2D)           (None, 29, 29, 32)        9248      \n",
      "_________________________________________________________________\n",
      "max_pooling2d_16 (MaxPooling (None, 14, 14, 32)        0         \n",
      "_________________________________________________________________\n",
      "conv2d_17 (Conv2D)           (None, 12, 12, 64)        18496     \n",
      "_________________________________________________________________\n",
      "max_pooling2d_17 (MaxPooling (None, 6, 6, 64)          0         \n",
      "_________________________________________________________________\n",
      "flatten_5 (Flatten)          (None, 2304)              0         \n",
      "_________________________________________________________________\n",
      "dense_15 (Dense)             (None, 64)                147520    \n",
      "_________________________________________________________________\n",
      "dropout_5 (Dropout)          (None, 64)                0         \n",
      "_________________________________________________________________\n",
      "dense_16 (Dense)             (None, 32)                2080      \n",
      "_________________________________________________________________\n",
      "dense_17 (Dense)             (None, 2)                 66        \n",
      "=================================================================\n",
      "Total params: 178,306\n",
      "Trainable params: 178,306\n",
      "Non-trainable params: 0\n",
      "_________________________________________________________________\n"
     ]
    },
    {
     "data": {
      "text/plain": [
       "None"
      ]
     },
     "metadata": {},
     "output_type": "display_data"
    },
    {
     "name": "stdout",
     "output_type": "stream",
     "text": [
      "\t- Model was compiled at 06/25/20 - 09:46:27 PM\n",
      "\n",
      "Epoch 1/10\n",
      "33/33 [==============================] - 50s 2s/step - loss: 0.5874 - accuracy: 0.7311 - recall_5: 0.7417 - val_loss: 0.4790 - val_accuracy: 0.7430 - val_recall_5: 0.7430\n",
      "Epoch 2/10\n",
      "33/33 [==============================] - 51s 2s/step - loss: 0.4241 - accuracy: 0.8097 - recall_5: 0.8145 - val_loss: 0.3086 - val_accuracy: 0.8648 - val_recall_5: 0.8523\n",
      "Epoch 3/10\n",
      "33/33 [==============================] - 51s 2s/step - loss: 0.3234 - accuracy: 0.8708 - recall_5: 0.8641 - val_loss: 0.2444 - val_accuracy: 0.9012 - val_recall_5: 0.8888\n",
      "Epoch 4/10\n",
      "33/33 [==============================] - 51s 2s/step - loss: 0.2510 - accuracy: 0.9029 - recall_5: 0.9017 - val_loss: 0.1817 - val_accuracy: 0.9252 - val_recall_5: 0.9223\n",
      "Epoch 5/10\n",
      "33/33 [==============================] - 52s 2s/step - loss: 0.2089 - accuracy: 0.9161 - recall_5: 0.9178 - val_loss: 0.1836 - val_accuracy: 0.9291 - val_recall_5: 0.9243\n",
      "Epoch 6/10\n",
      "33/33 [==============================] - 51s 2s/step - loss: 0.1827 - accuracy: 0.9355 - recall_5: 0.9343 - val_loss: 0.1439 - val_accuracy: 0.9434 - val_recall_5: 0.9396\n",
      "Epoch 7/10\n",
      "33/33 [==============================] - 51s 2s/step - loss: 0.1743 - accuracy: 0.9360 - recall_5: 0.9370 - val_loss: 0.1201 - val_accuracy: 0.9549 - val_recall_5: 0.9540\n",
      "Epoch 8/10\n",
      "33/33 [==============================] - 53s 2s/step - loss: 0.1530 - accuracy: 0.9456 - recall_5: 0.9468 - val_loss: 0.1030 - val_accuracy: 0.9521 - val_recall_5: 0.9501\n",
      "Epoch 9/10\n",
      "33/33 [==============================] - 50s 2s/step - loss: 0.1533 - accuracy: 0.9413 - recall_5: 0.9425 - val_loss: 0.1082 - val_accuracy: 0.9597 - val_recall_5: 0.9626\n",
      "Epoch 10/10\n",
      "33/33 [==============================] - ETA: 0s - loss: 0.1317 - accuracy: 0.9504 - recall_5: 0.9511Restoring model weights from the end of the best epoch.\n",
      "33/33 [==============================] - 52s 2s/step - loss: 0.1317 - accuracy: 0.9504 - recall_5: 0.9511 - val_loss: 0.2335 - val_accuracy: 0.9022 - val_recall_5: 0.9012\n",
      "Epoch 00010: early stopping\n"
     ]
    }
   ],
   "source": [
    "## Make and fit Model\n",
    "model = make_cnn()\n",
    "    \n",
    "### Had to set the steps_per_epoch, batch_size, validation_steps for proper fit\n",
    "history = model.fit(train_datagen,\n",
    "                    steps_per_epoch= train_datagen.samples//train_datagen.batch_size+1,\n",
    "                    epochs=10,verbose=1, \n",
    "                    batch_size=train_datagen.batch_size,\n",
    "                    validation_data=val_datagen,\n",
    "                    validation_steps = val_datagen.samples //val_datagen.batch_size+1,\n",
    "                    callbacks=get_callbacks(),workers=-1)"
   ]
  },
  {
   "cell_type": "code",
   "execution_count": 115,
   "metadata": {
    "ExecuteTime": {
     "end_time": "2020-06-26T01:55:18.722555Z",
     "start_time": "2020-06-26T01:55:12.427624Z"
    }
   },
   "outputs": [
    {
     "name": "stdout",
     "output_type": "stream",
     "text": [
      "5/5 [==============================] - 4s 770ms/step\n",
      "------------------------------------------------------------\n",
      "\tCLASSIFICATION REPORT\n",
      "------------------------------------------------------------\n",
      "              precision    recall  f1-score   support\n",
      "\n",
      "      NORMAL       0.42      0.13      0.20       234\n",
      "   PNEUMONIA       0.63      0.89      0.74       390\n",
      "\n",
      "    accuracy                           0.61       624\n",
      "   macro avg       0.52      0.51      0.47       624\n",
      "weighted avg       0.55      0.61      0.54       624\n",
      "\n",
      "\n",
      "------------------------------------------------------------\n",
      "\tConfusion Matrix\n",
      "------------------------------------------------------------\n"
     ]
    },
    {
     "data": {
      "text/plain": [
       "array([[0.13, 0.87],\n",
       "       [0.11, 0.89]])"
      ]
     },
     "metadata": {},
     "output_type": "display_data"
    },
    {
     "name": "stdout",
     "output_type": "stream",
     "text": [
      "\n"
     ]
    },
    {
     "data": {
      "image/png": "[encoded data removed]",
      "text/plain": [
       "<Figure size 432x576 with 3 Axes>"
      ]
     },
     "metadata": {
      "needs_background": "light"
     },
     "output_type": "display_data"
    }
   ],
   "source": [
    "evaluate_model_gen(model, test_datagen,history)"
   ]
  },
  {
   "cell_type": "code",
   "execution_count": null,
   "metadata": {
    "ExecuteTime": {
     "end_time": "2020-06-23T21:42:13.230619Z",
     "start_time": "2020-06-23T21:35:53.322Z"
    }
   },
   "outputs": [],
   "source": [
    "# test_true = test_datagen.labels\n",
    "# test_pred = model.predict(test_datagen,\n",
    "# #                           batch_size=test_datagen.batch_size,\n",
    "#                           steps=test_datagen.samples//test_datagen.batch_size+1,\n",
    "#                          verbose=1)#.argmax(axis=1)"
   ]
  },
  {
   "cell_type": "code",
   "execution_count": null,
   "metadata": {
    "ExecuteTime": {
     "end_time": "2020-06-23T21:42:13.231591Z",
     "start_time": "2020-06-23T21:35:53.327Z"
    }
   },
   "outputs": [],
   "source": [
    "# test_pred.argmax(axis=1).shape, test_datagen.labels.shape"
   ]
  },
  {
   "cell_type": "code",
   "execution_count": null,
   "metadata": {},
   "outputs": [],
   "source": []
  },
  {
   "cell_type": "markdown",
   "metadata": {},
   "source": [
    "### Class Balance"
   ]
  },
  {
   "cell_type": "code",
   "execution_count": null,
   "metadata": {
    "ExecuteTime": {
     "end_time": "2020-06-23T21:42:13.232540Z",
     "start_time": "2020-06-23T21:35:53.330Z"
    }
   },
   "outputs": [],
   "source": [
    "stop"
   ]
  },
  {
   "cell_type": "code",
   "execution_count": null,
   "metadata": {
    "ExecuteTime": {
     "end_time": "2020-06-23T21:42:13.234005Z",
     "start_time": "2020-06-23T21:35:53.332Z"
    }
   },
   "outputs": [],
   "source": [
    "class_names = list(test_datagen.class_indices.keys())\n",
    "class_lookup = {v:k for k,v in test_datagen.class_indices.items() }\n",
    "test_true = test_datagen.labels\n",
    "test_pred = model.predict(test_datagen).argmax(axis=1)"
   ]
  },
  {
   "cell_type": "code",
   "execution_count": null,
   "metadata": {
    "ExecuteTime": {
     "end_time": "2020-06-23T21:42:13.234976Z",
     "start_time": "2020-06-23T21:35:53.334Z"
    }
   },
   "outputs": [],
   "source": [
    "res_df =pd.DataFrame({'True':test_true,'Pred':test_pred})\n",
    "res_df = res_df.replace(class_lookup)\n",
    "\n",
    "res_df['True'].value_counts(normalize=True)"
   ]
  },
  {
   "cell_type": "code",
   "execution_count": null,
   "metadata": {
    "ExecuteTime": {
     "end_time": "2020-06-23T21:42:13.235714Z",
     "start_time": "2020-06-23T21:35:53.336Z"
    }
   },
   "outputs": [],
   "source": [
    "res_df['Pred'].value_counts(normalize=True)"
   ]
  },
  {
   "cell_type": "code",
   "execution_count": null,
   "metadata": {},
   "outputs": [],
   "source": []
  }
 ],
 "metadata": {
  "kernelspec": {
   "display_name": "learn-env",
   "language": "python",
   "name": "learn-env"
  },
  "language_info": {
   "codemirror_mode": {
    "name": "ipython",
    "version": 3
   },
   "file_extension": ".py",
   "mimetype": "text/x-python",
   "name": "python",
   "nbconvert_exporter": "python",
   "pygments_lexer": "ipython3",
   "version": "3.6.11"
  },
  "toc": {
   "base_numbering": 1,
   "nav_menu": {},
   "number_sections": true,
   "sideBar": true,
   "skip_h1_title": false,
   "title_cell": "Table of Contents",
   "title_sidebar": "Contents",
   "toc_cell": false,
   "toc_position": {},
   "toc_section_display": true,
   "toc_window_display": false
  }
 },
 "nbformat": 4,
 "nbformat_minor": 2
}
